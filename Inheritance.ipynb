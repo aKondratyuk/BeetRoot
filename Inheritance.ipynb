{
 "cells": [
  {
   "cell_type": "code",
   "execution_count": 113,
   "id": "eabd4d35",
   "metadata": {},
   "outputs": [],
   "source": [
    "class Shoe:\n",
    "    def __init__(self, color, brand):\n",
    "        self.color = color\n",
    "        self.brand = brand\n",
    "    \n",
    "    def wear_shoe(self):\n",
    "        print(\"I'm wearing shoe\")\n",
    "        \n",
    "    def __repr__(self):\n",
    "        return f\"\"\"Shoe(\"{self.color}\", \"{self.brand}\")\"\"\"\n",
    "    \n",
    "    def __str__(self):\n",
    "        return f\"I have {self.color} shoe of {self.brand} brand\"\n",
    "\n",
    "class Converse(Shoe):\n",
    "    def __init__(self, color, lowOrHighTop, tongueColor):\n",
    "        super().__init__(color, brand = \"Converse\")\n",
    "        self.lowOrHighTop = lowOrHighTop\n",
    "        self.tongueColor = tongueColor\n",
    "    \n",
    "    def wear_shoe(self):\n",
    "        print(f\"I'm wearing {self.brand} shoe\")\n",
    "\n",
    "class CombatBoot(Shoe):\n",
    "    def __init__(self, militaryBranch, DesetOrJungle):\n",
    "        super().__init__(color = \"Green\", brand=\"IBIS\")\n",
    "        self.militaryBranch = militaryBranch\n",
    "        self.DesetOrJungle = DesetOrJungle"
   ]
  },
  {
   "cell_type": "code",
   "execution_count": 114,
   "id": "67b0972d",
   "metadata": {},
   "outputs": [
    {
     "data": {
      "text/plain": [
       "'nike'"
      ]
     },
     "execution_count": 114,
     "metadata": {},
     "output_type": "execute_result"
    }
   ],
   "source": [
    "sh_2 = eval('Shoe(\"brown\", \"nike\")')\n",
    "sh_2.brand"
   ]
  },
  {
   "cell_type": "code",
   "execution_count": 121,
   "id": "132eb9a7",
   "metadata": {},
   "outputs": [
    {
     "data": {
      "text/plain": [
       "['__class__',\n",
       " '__delattr__',\n",
       " '__dict__',\n",
       " '__dir__',\n",
       " '__doc__',\n",
       " '__eq__',\n",
       " '__format__',\n",
       " '__ge__',\n",
       " '__getattribute__',\n",
       " '__gt__',\n",
       " '__hash__',\n",
       " '__init__',\n",
       " '__init_subclass__',\n",
       " '__le__',\n",
       " '__lt__',\n",
       " '__module__',\n",
       " '__ne__',\n",
       " '__new__',\n",
       " '__reduce__',\n",
       " '__reduce_ex__',\n",
       " '__repr__',\n",
       " '__setattr__',\n",
       " '__sizeof__',\n",
       " '__str__',\n",
       " '__subclasshook__',\n",
       " '__weakref__',\n",
       " 'wear_shoe']"
      ]
     },
     "execution_count": 121,
     "metadata": {},
     "output_type": "execute_result"
    }
   ],
   "source": [
    "dir(sh_2.__class__)"
   ]
  },
  {
   "cell_type": "code",
   "execution_count": 119,
   "id": "596dce9e",
   "metadata": {},
   "outputs": [
    {
     "data": {
      "text/plain": [
       "4"
      ]
     },
     "execution_count": 119,
     "metadata": {},
     "output_type": "execute_result"
    }
   ],
   "source": [
    "eval(\"2 + 2\") # result = 4"
   ]
  },
  {
   "cell_type": "code",
   "execution_count": 117,
   "id": "ebf769ab",
   "metadata": {},
   "outputs": [
    {
     "data": {
      "text/plain": [
       "Shoe(\"brown\", \"nike\")"
      ]
     },
     "execution_count": 117,
     "metadata": {},
     "output_type": "execute_result"
    }
   ],
   "source": [
    "eval(repr(sh_2))"
   ]
  },
  {
   "cell_type": "code",
   "execution_count": 100,
   "id": "b957fcd4",
   "metadata": {},
   "outputs": [
    {
     "name": "stdout",
     "output_type": "stream",
     "text": [
      "brown\n",
      "nike\n"
     ]
    }
   ],
   "source": [
    "sh = Shoe(\"brown\", \"nike\")\n",
    "print(sh.color)\n",
    "print(sh.brand)"
   ]
  },
  {
   "cell_type": "code",
   "execution_count": 101,
   "id": "0da6141e",
   "metadata": {},
   "outputs": [
    {
     "name": "stdout",
     "output_type": "stream",
     "text": [
      "I have brown shoe of nike brand\n"
     ]
    }
   ],
   "source": [
    "print(sh)"
   ]
  },
  {
   "cell_type": "code",
   "execution_count": 102,
   "id": "43aca167",
   "metadata": {},
   "outputs": [],
   "source": [
    "conv = Converse(color = \"red\", lowOrHighTop = \"high\", tongueColor = \"blue\")"
   ]
  },
  {
   "cell_type": "code",
   "execution_count": 103,
   "id": "bd0f4d2b",
   "metadata": {},
   "outputs": [
    {
     "name": "stdout",
     "output_type": "stream",
     "text": [
      "I'm wearing Converse shoe\n"
     ]
    }
   ],
   "source": [
    "conv.wear_shoe()"
   ]
  },
  {
   "cell_type": "code",
   "execution_count": 54,
   "id": "964bee75",
   "metadata": {},
   "outputs": [
    {
     "name": "stdout",
     "output_type": "stream",
     "text": [
      "Converse\n",
      "high\n",
      "blue\n"
     ]
    }
   ],
   "source": [
    "print(conv.brand)\n",
    "print(conv.lowOrHighTop)\n",
    "print(conv.tongueColor)"
   ]
  },
  {
   "cell_type": "code",
   "execution_count": 104,
   "id": "8a8a05ce",
   "metadata": {},
   "outputs": [
    {
     "name": "stdout",
     "output_type": "stream",
     "text": [
      "I have red shoe of Converse brand\n"
     ]
    }
   ],
   "source": [
    "print(conv)"
   ]
  },
  {
   "cell_type": "code",
   "execution_count": 97,
   "id": "71cbd7d1",
   "metadata": {},
   "outputs": [],
   "source": [
    "cmb = CombatBoot(militaryBranch = \"Hard\", DesetOrJungle = \"Jungle\")\n",
    "cmb_wk = CombatBoot(\"Hard\", \"Jungle\")"
   ]
  },
  {
   "cell_type": "code",
   "execution_count": 98,
   "id": "c3808acf",
   "metadata": {},
   "outputs": [
    {
     "name": "stdout",
     "output_type": "stream",
     "text": [
      "IBIS\n",
      "Green\n",
      "Hard\n",
      "Jungle\n",
      "I'm wearing shoe\n"
     ]
    }
   ],
   "source": [
    "print(cmb.brand)\n",
    "print(cmb.color)\n",
    "print(cmb.militaryBranch)\n",
    "print(cmb.DesetOrJungle)\n",
    "\n",
    "cmb.wear_shoe()"
   ]
  },
  {
   "cell_type": "code",
   "execution_count": 85,
   "id": "fe53f4e5",
   "metadata": {},
   "outputs": [
    {
     "name": "stdout",
     "output_type": "stream",
     "text": [
      "IBIS\n",
      "Green\n",
      "Hard\n",
      "Jungle\n"
     ]
    }
   ],
   "source": [
    "print(cmb_wk.brand)\n",
    "print(cmb_wk.color)\n",
    "print(cmb_wk.militaryBranch)\n",
    "print(cmb_wk.DesetOrJungle)"
   ]
  },
  {
   "cell_type": "code",
   "execution_count": 130,
   "id": "f5a091b4",
   "metadata": {},
   "outputs": [
    {
     "data": {
      "text/plain": [
       "[{'rank': '6', 'suit': '♣'},\n",
       " {'rank': '7', 'suit': '♣'},\n",
       " {'rank': '8', 'suit': '♣'},\n",
       " {'rank': '9', 'suit': '♣'},\n",
       " {'rank': '10', 'suit': '♣'},\n",
       " {'rank': 'Jack', 'suit': '♣'},\n",
       " {'rank': 'Queen', 'suit': '♣'},\n",
       " {'rank': 'King', 'suit': '♣'},\n",
       " {'rank': 'Ace', 'suit': '♣'},\n",
       " {'rank': '6', 'suit': '♥'},\n",
       " {'rank': '7', 'suit': '♥'},\n",
       " {'rank': '8', 'suit': '♥'},\n",
       " {'rank': '9', 'suit': '♥'},\n",
       " {'rank': '10', 'suit': '♥'},\n",
       " {'rank': 'Jack', 'suit': '♥'},\n",
       " {'rank': 'Queen', 'suit': '♥'},\n",
       " {'rank': 'King', 'suit': '♥'},\n",
       " {'rank': 'Ace', 'suit': '♥'},\n",
       " {'rank': '6', 'suit': '♠'},\n",
       " {'rank': '7', 'suit': '♠'},\n",
       " {'rank': '8', 'suit': '♠'},\n",
       " {'rank': '9', 'suit': '♠'},\n",
       " {'rank': '10', 'suit': '♠'},\n",
       " {'rank': 'Jack', 'suit': '♠'},\n",
       " {'rank': 'Queen', 'suit': '♠'},\n",
       " {'rank': 'King', 'suit': '♠'},\n",
       " {'rank': 'Ace', 'suit': '♠'},\n",
       " {'rank': '6', 'suit': '♦'},\n",
       " {'rank': '7', 'suit': '♦'},\n",
       " {'rank': '8', 'suit': '♦'},\n",
       " {'rank': '9', 'suit': '♦'},\n",
       " {'rank': '10', 'suit': '♦'},\n",
       " {'rank': 'Jack', 'suit': '♦'},\n",
       " {'rank': 'Queen', 'suit': '♦'},\n",
       " {'rank': 'King', 'suit': '♦'},\n",
       " {'rank': 'Ace', 'suit': '♦'}]"
      ]
     },
     "execution_count": 130,
     "metadata": {},
     "output_type": "execute_result"
    }
   ],
   "source": [
    "suits = (\"♣\", \"♥\", \"♠\", \"♦\")\n",
    "ranks = (\"6\", \"7\", \"8\", \"9\", \"10\", \"Jack\", \"Queen\", \"King\", \"Ace\")\n",
    "\n",
    "for suit in suits:\n",
    "    for rank in ranks:\n",
    "\n",
    "[{\"rank\": rank, \"suit\": suit} for suit in suits for rank in ranks]"
   ]
  },
  {
   "cell_type": "code",
   "execution_count": 133,
   "id": "717bb0f4",
   "metadata": {},
   "outputs": [
    {
     "name": "stdout",
     "output_type": "stream",
     "text": [
      "Current deck of cards:\n",
      "[{'rank': '6', 'suit': '♣'}, {'rank': '6', 'suit': '♥'}, {'rank': '6', 'suit': '♠'}, {'rank': '6', 'suit': '♦'}, {'rank': '7', 'suit': '♣'}, {'rank': '7', 'suit': '♥'}, {'rank': '7', 'suit': '♠'}, {'rank': '7', 'suit': '♦'}, {'rank': '8', 'suit': '♣'}, {'rank': '8', 'suit': '♥'}, {'rank': '8', 'suit': '♠'}, {'rank': '8', 'suit': '♦'}, {'rank': '9', 'suit': '♣'}, {'rank': '9', 'suit': '♥'}, {'rank': '9', 'suit': '♠'}, {'rank': '9', 'suit': '♦'}, {'rank': '10', 'suit': '♣'}, {'rank': '10', 'suit': '♥'}, {'rank': '10', 'suit': '♠'}, {'rank': '10', 'suit': '♦'}, {'rank': 'Jack', 'suit': '♣'}, {'rank': 'Jack', 'suit': '♥'}, {'rank': 'Jack', 'suit': '♠'}, {'rank': 'Jack', 'suit': '♦'}, {'rank': 'Queen', 'suit': '♣'}, {'rank': 'Queen', 'suit': '♥'}, {'rank': 'Queen', 'suit': '♠'}, {'rank': 'Queen', 'suit': '♦'}, {'rank': 'King', 'suit': '♣'}, {'rank': 'King', 'suit': '♥'}, {'rank': 'King', 'suit': '♠'}, {'rank': 'King', 'suit': '♦'}, {'rank': 'Ace', 'suit': '♣'}, {'rank': 'Ace', 'suit': '♥'}, {'rank': 'Ace', 'suit': '♠'}, {'rank': 'Ace', 'suit': '♦'}]\n",
      "6♣\n",
      "6♥\n",
      "6♠\n",
      "6♦\n",
      "7♣\n",
      "7♥\n",
      "7♠\n",
      "7♦\n",
      "8♣\n",
      "8♥\n",
      "8♠\n",
      "8♦\n",
      "9♣\n",
      "9♥\n",
      "9♠\n",
      "9♦\n",
      "10♣\n",
      "10♥\n",
      "10♠\n",
      "10♦\n",
      "Jack♣\n",
      "Jack♥\n",
      "Jack♠\n",
      "Jack♦\n",
      "Queen♣\n",
      "Queen♥\n",
      "Queen♠\n",
      "Queen♦\n",
      "King♣\n",
      "King♥\n",
      "King♠\n",
      "King♦\n",
      "Ace♣\n",
      "Ace♥\n",
      "Ace♠\n",
      "Ace♦\n",
      "\n",
      "Shuffeld deck of cards:\n",
      "[{'rank': '10', 'suit': '♠'}, {'rank': 'Queen', 'suit': '♣'}, {'rank': 'King', 'suit': '♦'}, {'rank': '7', 'suit': '♥'}, {'rank': 'Queen', 'suit': '♠'}, {'rank': '6', 'suit': '♦'}, {'rank': '8', 'suit': '♦'}, {'rank': '9', 'suit': '♦'}, {'rank': 'Queen', 'suit': '♥'}, {'rank': '6', 'suit': '♠'}, {'rank': '10', 'suit': '♦'}, {'rank': 'Ace', 'suit': '♦'}, {'rank': '8', 'suit': '♠'}, {'rank': 'Jack', 'suit': '♥'}, {'rank': 'Ace', 'suit': '♠'}, {'rank': 'Queen', 'suit': '♦'}, {'rank': '10', 'suit': '♥'}, {'rank': '7', 'suit': '♦'}, {'rank': 'King', 'suit': '♥'}, {'rank': '10', 'suit': '♣'}, {'rank': '6', 'suit': '♣'}, {'rank': 'Ace', 'suit': '♣'}, {'rank': '8', 'suit': '♣'}, {'rank': '7', 'suit': '♣'}, {'rank': '7', 'suit': '♠'}, {'rank': '9', 'suit': '♠'}, {'rank': '6', 'suit': '♥'}, {'rank': 'Jack', 'suit': '♦'}, {'rank': '9', 'suit': '♣'}, {'rank': 'Jack', 'suit': '♣'}, {'rank': 'King', 'suit': '♠'}, {'rank': '8', 'suit': '♥'}, {'rank': 'Ace', 'suit': '♥'}, {'rank': 'King', 'suit': '♣'}, {'rank': 'Jack', 'suit': '♠'}, {'rank': '9', 'suit': '♥'}]\n",
      "10♠\n",
      "Queen♣\n",
      "King♦\n",
      "7♥\n",
      "Queen♠\n",
      "6♦\n",
      "8♦\n",
      "9♦\n",
      "Queen♥\n",
      "6♠\n",
      "10♦\n",
      "Ace♦\n",
      "8♠\n",
      "Jack♥\n",
      "Ace♠\n",
      "Queen♦\n",
      "10♥\n",
      "7♦\n",
      "King♥\n",
      "10♣\n",
      "6♣\n",
      "Ace♣\n",
      "8♣\n",
      "7♣\n",
      "7♠\n",
      "9♠\n",
      "6♥\n",
      "Jack♦\n",
      "9♣\n",
      "Jack♣\n",
      "King♠\n",
      "8♥\n",
      "Ace♥\n",
      "King♣\n",
      "Jack♠\n",
      "9♥\n",
      "\n"
     ]
    }
   ],
   "source": [
    "\"\"\"\n",
    "Instructions:\n",
    "\n",
    "Fill in the methods of the Deck class to produce the same printed results\n",
    "as in the comments below. Good luck, and have fun!\n",
    "\"\"\"\n",
    "\n",
    "from __future__ import annotations\n",
    "\n",
    "import random\n",
    "\n",
    "from typing import Dict, List, Tuple\n",
    "\n",
    "\n",
    "class Deck:\n",
    "    \"\"\"\n",
    "    We want to play Durak, so create the deck and give us the cards.\n",
    "    \"\"\"\n",
    "    def __init__(self, suits: Tuple[str], ranks: Tuple[str]):\n",
    "        \"\"\"\n",
    "        Init a deck of cards.\n",
    "        \"\"\"   \n",
    "        self.cards = [{\"rank\": rank, \"suit\": suit} for rank in ranks for suit in suits]\n",
    "    \n",
    "    def shuffle(self) -> None:\n",
    "        \"\"\"\n",
    "        Randomly shuffle a deck.\n",
    "        \"\"\"\n",
    "        random.shuffle(self.cards)\n",
    "\n",
    "    def __str__(self):\n",
    "        \"\"\"\n",
    "        A string representation of the cards.\n",
    "        \"\"\"\n",
    "        \"6♣\\n7♣\\n8♣...\"\n",
    "        deck = \"\"\n",
    "        for card in self.cards:\n",
    "            drawn_card = card[\"rank\"] + card[\"suit\"]\n",
    "            deck += drawn_card + \"\\n\"\n",
    "            \n",
    "        return deck\n",
    "\n",
    "\n",
    "suits = (\"♣\", \"♥\", \"♠\", \"♦\")\n",
    "ranks = (\"6\", \"7\", \"8\", \"9\", \"10\", \"Jack\", \"Queen\", \"King\", \"Ace\")\n",
    "\n",
    "deck = Deck(suits, ranks)\n",
    "\n",
    "print(f\"Current deck of cards:\\n{deck.cards}\")\n",
    "\n",
    "# Current deck of cards:\n",
    "# [{'rank': '6', 'suit': '♣'}, {'rank': '7', 'suit': '♣'}, {'rank': '8', 'suit': '♣'}, {'rank': '9', 'suit': '♣'}, {'rank': '10', 'suit': '♣'},{'rank': 'Jack', 'suit': '♣'},\n",
    "# {'rank': 'Queen', 'suit': '♣'}, {'rank': 'King', 'suit': '♣'}, {'rank': 'Ace', 'suit': '♣'}, {'rank': '6', 'suit': '♥'},{'rank': '7', 'suit': '♥'}, {'rank': '8', 'suit': '♥'},\n",
    "# {'rank': '9', 'suit': '♥'}, {'rank': '10', 'suit': '♥'}, {'rank': 'Jack', 'suit': '♥'}, {'rank': 'Queen', 'suit': '♥'}, {'rank': 'King', 'suit': '♥'}, {'rank': 'Ace', 'suit': '♥'},\n",
    "# {'rank': '6', 'suit': '♠'}, {'rank': '7', 'suit': '♠'}, {'rank': '8', 'suit': '♠'},{'rank': '9', 'suit': '♠'}, {'rank': '10', 'suit': '♠'}, {'rank': 'Jack', 'suit': '♠'},\n",
    "# {'rank': 'Queen', 'suit': '♠'}, {'rank': 'King', 'suit': '♠'}, {'rank': 'Ace', 'suit': '♠'}, {'rank': '6', 'suit': '♦'}, {'rank': '7', 'suit': '♦'}, {'rank': '8', 'suit': '♦'},\n",
    "# {'rank': '9', 'suit': '♦'},{'rank': '10', 'suit': '♦'}, {'rank': 'Jack', 'suit': '♦'}, {'rank': 'Queen', 'suit': '♦'}, {'rank': 'King', 'suit': '♦'}, {'rank': 'Ace', 'suit': '♦'}]\n",
    "\n",
    "print(deck)\n",
    "\n",
    "# 6♣\n",
    "# 7♣\n",
    "# 8♣\n",
    "# 9♣\n",
    "# 10♣\n",
    "# Jack♣\n",
    "# Queen♣\n",
    "# King♣\n",
    "# Ace♣\n",
    "# 6♥\n",
    "# 7♥\n",
    "# 8♥\n",
    "# 9♥\n",
    "# 10♥\n",
    "# Jack♥\n",
    "# Queen♥\n",
    "# King♥\n",
    "# Ace♥\n",
    "# 6♠\n",
    "# 7♠\n",
    "# 8♠\n",
    "# 9♠\n",
    "# 10♠\n",
    "# Jack♠\n",
    "# Queen♠\n",
    "# King♠\n",
    "# Ace♠\n",
    "# 6♦\n",
    "# 7♦\n",
    "# 8♦\n",
    "# 9♦\n",
    "# 10♦\n",
    "# Jack♦\n",
    "# Queen♦\n",
    "# King♦\n",
    "# Ace♦\n",
    "\n",
    "deck.shuffle()\n",
    "\n",
    "print(f\"Shuffeld deck of cards:\\n{deck.cards}\")\n",
    "\n",
    "# Shuffeld deck of cards:\n",
    "# [{'rank': 'Queen', 'suit': '♠'}, {'rank': 'Jack', 'suit': '♠'}, {'rank': 'Jack', 'suit': '♣'}, {'rank': 'Ace', 'suit': '♥'}, {'rank': 'Ace', 'suit': '♣'}, {'rank': '7', 'suit': '♥'},\n",
    "# {'rank': '8', 'suit': '♦'}, {'rank': '7', 'suit': '♠'}, {'rank': 'Jack', 'suit': '♥'}, {'rank': '8', 'suit': '♥'}, {'rank': '6', 'suit': '♣'}, {'rank': '9', 'suit': '♣'},\n",
    "# {'rank': 'Ace', 'suit': '♦'}, {'rank': 'Queen', 'suit': '♥'}, {'rank': '7', 'suit': '♣'}, {'rank': 'King', 'suit': '♠'}, {'rank': '8', 'suit': '♣'}, {'rank': 'King', 'suit': '♥'},\n",
    "# {'rank': 'Queen', 'suit': '♣'}, {'rank': '9', 'suit': '♦'}, {'rank': '10', 'suit': '♣'}, {'rank': '6', 'suit': '♦'}, {'rank': 'Jack', 'suit': '♦'}, {'rank': 'Queen', 'suit': '♦'},\n",
    "# {'rank': '6', 'suit': '♠'}, {'rank': '10', 'suit': '♠'}, {'rank': '9', 'suit': '♠'}, {'rank': '6', 'suit': '♥'}, {'rank': '8', 'suit': '♠'}, {'rank': 'King', 'suit': '♦'},\n",
    "# {'rank': '10', 'suit': '♦'}, {'rank': '7', 'suit': '♦'}, {'rank': 'King', 'suit': '♣'}, {'rank': '9', 'suit': '♥'}, {'rank': '10', 'suit': '♥'}, {'rank': 'Ace', 'suit': '♠'}]\n",
    "\n",
    "print(deck)\n",
    "\n",
    "# Queen♠\n",
    "# Jack♠\n",
    "# Jack♣\n",
    "# Ace♥\n",
    "# Ace♣\n",
    "# 7♥\n",
    "# 8♦\n",
    "# 7♠\n",
    "# Jack♥\n",
    "# 8♥\n",
    "# 6♣\n",
    "# 9♣\n",
    "# Ace♦\n",
    "# Queen♥\n",
    "# 7♣\n",
    "# King♠\n",
    "# 8♣\n",
    "# King♥\n",
    "# Queen♣\n",
    "# 9♦\n",
    "# 10♣\n",
    "# 6♦\n",
    "# Jack♦\n",
    "# Queen♦\n",
    "# 6♠\n",
    "# 10♠\n",
    "# 9♠\n",
    "# 6♥\n",
    "# 8♠\n",
    "# King♦\n",
    "# 10♦\n",
    "# 7♦\n",
    "# King♣\n",
    "# 9♥\n",
    "# 10♥\n",
    "# Ace♠\n",
    "    \n"
   ]
  },
  {
   "cell_type": "code",
   "execution_count": 136,
   "id": "af5e9d90",
   "metadata": {},
   "outputs": [
    {
     "name": "stdout",
     "output_type": "stream",
     "text": [
      "15\n"
     ]
    }
   ],
   "source": [
    "def add_five(x): \n",
    "    return x + 5\n",
    "\n",
    "def do_twice(func): \n",
    "    def resulting_func(x): \n",
    "        result = func(x)\n",
    "        new_result = func(result) # add_five(add_five(5) -> 10) -- > 15\n",
    "        return new_result\n",
    "\n",
    "    return resulting_func\n",
    "\n",
    "\n",
    "result = do_twice(add_five) \n",
    "print(result(5)) "
   ]
  }
 ],
 "metadata": {
  "kernelspec": {
   "display_name": "Python 3 (ipykernel)",
   "language": "python",
   "name": "python3"
  },
  "language_info": {
   "codemirror_mode": {
    "name": "ipython",
    "version": 3
   },
   "file_extension": ".py",
   "mimetype": "text/x-python",
   "name": "python",
   "nbconvert_exporter": "python",
   "pygments_lexer": "ipython3",
   "version": "3.9.12"
  }
 },
 "nbformat": 4,
 "nbformat_minor": 5
}
