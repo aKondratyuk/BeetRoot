{
 "cells": [
  {
   "cell_type": "code",
   "execution_count": 217,
   "id": "eb3d0d5f",
   "metadata": {},
   "outputs": [],
   "source": [
    "import random\n",
    "\n",
    "from typing import Tuple, List"
   ]
  },
  {
   "cell_type": "code",
   "execution_count": 274,
   "id": "4811d67f",
   "metadata": {},
   "outputs": [],
   "source": [
    "class BlackJackCardCompareRule:\n",
    "    ranks = (\"6\", \"7\", \"8\", \"9\", \"10\", \"Jack\", \"Queen\", \"King\", \"Ace\")\n",
    "    ranks_weights = (6, 7, 8, 9, 10, 10, 10, 10, 11)\n",
    "    cards_weights = dict(zip(ranks, ranks_weights))\n",
    "    \n",
    "    def __eq__(self, other):\n",
    "        return (self.rank == other.rank) and (self.suit == other.suit)\n",
    "    \n",
    "    def __lt__(self, other):\n",
    "        if self.suit == other.suit:\n",
    "            cards_weights = BlackJackCardCompareRule.cards_weights\n",
    "            return cards_weights[self.rank] < cards_weights[other.rank]\n",
    "        \n",
    "        return False\n",
    "\n",
    "    def __le__(self, other):\n",
    "        if self.suit == other.suit:\n",
    "            cards_weights = BlackJackCardCompareRule.cards_weights\n",
    "            return cards_weights[self.rank] <= cards_weights[other.rank]\n",
    "        \n",
    "        return False\n",
    "    \n",
    "    def __add__(self, other):        \n",
    "        if isinstance(other, int):\n",
    "            return self.cards_weights[self.rank] + other\n",
    "            \n",
    "        return self.cards_weights[self.rank] + self.cards_weights[other.rank]\n",
    "    \n",
    "    def __radd__(self, other):\n",
    "        if isinstance(other, int):\n",
    "            return self.cards_weights[self.rank] + other\n",
    "            \n",
    "        return self.cards_weights[self.rank] + self.cards_weights[other.rank]\n",
    "        \n",
    "\n",
    "class Card(BlackJackCardCompareRule):\n",
    "    def __init__(self, rank, suit):\n",
    "        self.rank = rank\n",
    "        self.suit = suit\n",
    "    \n",
    "    def __str__(self):\n",
    "        return self.rank + self.suit\n",
    "    \n",
    "    def __repr__(self):\n",
    "        return f\"Card('{self.rank}', '{self.suit}')\"\n",
    "    \n",
    "    def __int__(self):\n",
    "        return int(self.cards_weights[self.rank])\n",
    "\n",
    "\n",
    "class Deck:\n",
    "    \"\"\"\n",
    "    We want to play BlackJack, so create the deck and give us the cards.\n",
    "    \"\"\"\n",
    "    def __init__(self, suits: Tuple[str], ranks: Tuple[str]):\n",
    "        self.cards = [Card(rank, suit) for rank in ranks for suit in suits]\n",
    "    \n",
    "    def shuffle(self) -> None:\n",
    "        \"\"\"\n",
    "        Randomly shuffle a deck.\n",
    "        \"\"\"\n",
    "        random.shuffle(self.cards)\n",
    "\n",
    "    def __str__(self):\n",
    "        \"\"\"\n",
    "        A string representation of the cards.\n",
    "        \"\"\"\n",
    "        deck = \"\"\n",
    "        for card in self.cards:\n",
    "            deck += str(card) + \"\\n\"\n",
    "            \n",
    "        return deck\n",
    "    \n",
    "    def __repr__(self):\n",
    "        return f\"{[card for card in self.cards]}\"\n",
    "    \n",
    "    \n",
    "class Hand:\n",
    "    def __init__(self, cards: List[Card]):\n",
    "        self.cards = cards\n",
    "        \n",
    "class DealerHand(Hand):\n",
    "    def __init__(self, cards):\n",
    "        super().__init__(cards)\n",
    "        \n",
    "    def shuffle_cards(self):\n",
    "        random.shuffle(self.cards)\n",
    "    \n",
    "    def draw_card(self):\n",
    "        try:\n",
    "            drawn_out_card = self.cards.pop(0)\n",
    "            return drawn_out_card\n",
    "        except IndexError:\n",
    "            return False\n",
    "        \n",
    "    \n",
    "class PlayerHand(Hand):\n",
    "    def __init__(self, cards):\n",
    "        super().__init__(cards)\n",
    "    \n",
    "    def add_drawn_out_card(self, drawn_out_card: Card):\n",
    "        self.cards.append(drawn_out_card)\n",
    "    \n",
    "    def total_points(self):\n",
    "        return sum(self.cards)"
   ]
  },
  {
   "cell_type": "code",
   "execution_count": 327,
   "id": "471ba5a5",
   "metadata": {},
   "outputs": [],
   "source": [
    "deck = Deck((\"♣\", \"♥\", \"♠\", \"♦\"), (\"6\", \"7\", \"8\", \"9\", \"10\", \"Jack\", \"Queen\", \"King\", \"Ace\"))\n",
    "deck.shuffle()\n",
    "\n",
    "dealer_hand = DealerHand(cards = deck.cards)\n",
    "player_hand = PlayerHand(cards = [])"
   ]
  },
  {
   "cell_type": "code",
   "execution_count": 332,
   "id": "f18bb051",
   "metadata": {},
   "outputs": [
    {
     "name": "stdout",
     "output_type": "stream",
     "text": [
      "34\n",
      "King♠\n",
      "33\n"
     ]
    },
    {
     "data": {
      "text/plain": [
       "[Card('Ace', '♥'), Card('King', '♠')]"
      ]
     },
     "execution_count": 332,
     "metadata": {},
     "output_type": "execute_result"
    }
   ],
   "source": [
    "print(len(dealer_hand.cards))\n",
    "drawn_card = dealer_hand.draw_card()\n",
    "print(drawn_card)\n",
    "print(len(dealer_hand.cards))\n",
    "player_hand.add_drawn_out_card(drawn_card)\n",
    "player_hand.cards"
   ]
  },
  {
   "cell_type": "code",
   "execution_count": 333,
   "id": "1e672c09",
   "metadata": {},
   "outputs": [
    {
     "data": {
      "text/plain": [
       "21"
      ]
     },
     "execution_count": 333,
     "metadata": {},
     "output_type": "execute_result"
    }
   ],
   "source": [
    "player_hand.total_points()"
   ]
  },
  {
   "cell_type": "code",
   "execution_count": 313,
   "id": "e68a7dcf",
   "metadata": {},
   "outputs": [],
   "source": [
    "# suits = (\"♣\", \"♥\", \"♠\", \"♦\")\n",
    "\n",
    "eight_clubs = Card(\"8\", \"♣\")\n",
    "jack_clubs = Card(\"Jack\", \"♣\")\n",
    "\n",
    "\n",
    "\n",
    "queen_spades = Card(\"Queen\", \"♠\")\n",
    "queen_diamonds = Card(\"Queen\", \"♦\")\n",
    "\n",
    "ace_spades = Card(\"Ace\", \"♠\")\n",
    "\n",
    "ace_hearts = Card(\"Ace\", \"♥\")"
   ]
  },
  {
   "cell_type": "code",
   "execution_count": 314,
   "id": "808792ec",
   "metadata": {},
   "outputs": [
    {
     "data": {
      "text/plain": [
       "{'6': 6,\n",
       " '7': 7,\n",
       " '8': 8,\n",
       " '9': 9,\n",
       " '10': 10,\n",
       " 'Jack': 10,\n",
       " 'Queen': 10,\n",
       " 'King': 10,\n",
       " 'Ace': 11}"
      ]
     },
     "execution_count": 314,
     "metadata": {},
     "output_type": "execute_result"
    }
   ],
   "source": [
    "eight_clubs.cards_weights"
   ]
  },
  {
   "cell_type": "code",
   "execution_count": 315,
   "id": "c60b25f7",
   "metadata": {},
   "outputs": [
    {
     "data": {
      "text/plain": [
       "True"
      ]
     },
     "execution_count": 315,
     "metadata": {},
     "output_type": "execute_result"
    }
   ],
   "source": [
    "eight_clubs < jack_clubs"
   ]
  },
  {
   "cell_type": "code",
   "execution_count": 316,
   "id": "9ba9e55d",
   "metadata": {},
   "outputs": [
    {
     "data": {
      "text/plain": [
       "False"
      ]
     },
     "execution_count": 316,
     "metadata": {},
     "output_type": "execute_result"
    }
   ],
   "source": [
    "queen_spades < queen_diamonds"
   ]
  },
  {
   "cell_type": "code",
   "execution_count": 317,
   "id": "f1307f76",
   "metadata": {},
   "outputs": [
    {
     "data": {
      "text/plain": [
       "False"
      ]
     },
     "execution_count": 317,
     "metadata": {},
     "output_type": "execute_result"
    }
   ],
   "source": [
    "ace_hearts == ace_spades"
   ]
  },
  {
   "cell_type": "code",
   "execution_count": 320,
   "id": "0cf09eac",
   "metadata": {},
   "outputs": [
    {
     "data": {
      "text/plain": [
       "30"
      ]
     },
     "execution_count": 320,
     "metadata": {},
     "output_type": "execute_result"
    }
   ],
   "source": [
    "#sum([queen_spades, queen_diamonds, queen_diamonds])\n",
    "\n",
    "queen_spades + queen_diamonds + queen_diamonds"
   ]
  },
  {
   "cell_type": "code",
   "execution_count": 319,
   "id": "253a2518",
   "metadata": {},
   "outputs": [
    {
     "data": {
      "text/plain": [
       "25"
      ]
     },
     "execution_count": 319,
     "metadata": {},
     "output_type": "execute_result"
    }
   ],
   "source": [
    "15 + queen_diamonds"
   ]
  },
  {
   "cell_type": "code",
   "execution_count": 214,
   "id": "06bfb79c",
   "metadata": {},
   "outputs": [
    {
     "data": {
      "text/plain": [
       "30"
      ]
     },
     "execution_count": 214,
     "metadata": {},
     "output_type": "execute_result"
    }
   ],
   "source": [
    "sum([int(card) for card in [queen_spades, queen_diamonds, queen_diamonds]])"
   ]
  },
  {
   "cell_type": "code",
   "execution_count": 109,
   "id": "941f42f4",
   "metadata": {},
   "outputs": [
    {
     "data": {
      "text/plain": [
       "False"
      ]
     },
     "execution_count": 109,
     "metadata": {},
     "output_type": "execute_result"
    }
   ],
   "source": [
    "queen_spades <= queen_diamonds"
   ]
  },
  {
   "cell_type": "code",
   "execution_count": null,
   "id": "b278666e",
   "metadata": {},
   "outputs": [],
   "source": [
    "\"\"\"Task 3\n",
    "\n",
    "Product Store\n",
    "\n",
    "Write a class Product that has three attributes:\n",
    "\n",
    "type\n",
    "name\n",
    "price\n",
    "Then create a class ProductStore, which will have some Products and will operate with all products in the store. All methods, in case they can’t perform its action, should raise ValueError with appropriate error information.\n",
    "\n",
    "Tips: Use aggregation/composition concepts while implementing the ProductStore class. You can also implement additional classes to operate on a certain type of product, etc.\n",
    "\n",
    "Also, the ProductStore class must have the following methods:\n",
    "\n",
    "add(product, amount) - adds a specified quantity of a single product with a predefined price premium for your store(30 percent)\n",
    "set_discount(identifier, percent, identifier_type=’name’) - adds a discount for all products specified by input identifiers (type or name). The discount must be specified in percentage\n",
    "sell_product(product_name, amount) - removes a particular amount of products from the store if available, in other case raises an error. It also increments income if the sell_product method succeeds.\n",
    "get_income() - returns amount of many earned by ProductStore instance.\n",
    "get_all_products() - returns information about all available products in the store.\n",
    "get_product_info(product_name) - returns a tuple with product name and amount of items in the store.\"\"\"\n",
    "```"
   ]
  },
  {
   "cell_type": "code",
   "execution_count": 223,
   "id": "da86bac4",
   "metadata": {},
   "outputs": [
    {
     "name": "stdout",
     "output_type": "stream",
     "text": [
      "Product store total income: 0\n",
      "Product store total income: 6.3\n",
      "\n",
      "№1\n",
      "Product name: Ramen\n",
      "Produtct type: Food\n",
      "Price: 13.0\n",
      "Discount: 15\n",
      "Amount in store: 4\n",
      "\n",
      "\n",
      "№2\n",
      "Product name: Mivina\n",
      "Produtct type: Food\n",
      "Price: 6.5\n",
      "Discount: 15\n",
      "Amount in store: 30\n",
      "\n"
     ]
    },
    {
     "data": {
      "text/plain": [
       "('Ramen', 4)"
      ]
     },
     "execution_count": 223,
     "metadata": {},
     "output_type": "execute_result"
    }
   ],
   "source": [
    "class Product:\n",
    "    def __init__(self, type_: str, name: str, price: float):\n",
    "        self.type_ = type_\n",
    "        self.name = name\n",
    "        self.price = price\n",
    "    \n",
    "    \n",
    "class ProductStore:\n",
    "    def __init__(self):\n",
    "        self.products = {}\n",
    "        self.category = {}\n",
    "        self.income = 0\n",
    "  \n",
    "    def add(self, product, amount):\n",
    "        self.products[product.name] = {\"amount\": amount, \"price\": product.price * 1.3, \"discount\": 0, \n",
    "                                       \"type\": product.type_}\n",
    "\n",
    "        if self.category.get(product.type_):\n",
    "            if product.name not in self.category[product.type_]:\n",
    "                self.category[product.type_].append(product.name)\n",
    "        else:\n",
    "            self.category[product.type_] = [product.name]\n",
    "    \n",
    "    def get_income(self):\n",
    "        '''\n",
    "        Returnsamount of money earned by ProductStore instance.\n",
    "        '''\n",
    "        print(\"Product store total income:\", round(self.income, 2))\n",
    "\n",
    "\n",
    "    def __get_income_from_sell(self, product_name, amount):\n",
    "        '''\n",
    "        Returns amount of many earned by ProductStore instance.\n",
    "        '''\n",
    "        provider_price = self.products[product_name]['price'] / 1.3\n",
    "        current_product_price = self.products[product_name]['price'] * (100 - self.products[product_name]['discount']) / 100\n",
    "        current_product_price = round(current_product_price, 2)\n",
    "        income = (current_product_price - provider_price) * amount\n",
    "        self.income += income\n",
    "        \n",
    "\n",
    "    def sell_product(self, product_name, amount):\n",
    "        if product_name in self.products:\n",
    "            store_product_amount = self.products[product_name][\"amount\"]\n",
    "            if store_product_amount >= amount:\n",
    "                self.products[product_name][\"amount\"] -= amount\n",
    "                self.__get_income_from_sell(product_name, amount)\n",
    "            else:\n",
    "                raise Exception(f\"Amount in store is {store_product_amount} and you tried to sell {amount}\")\n",
    "        else:\n",
    "            raise Exception(f\"There is no {product_name} in store\")\n",
    "    \n",
    "    def get_all_products(self):\n",
    "        for index, product_name in enumerate(self.products, start=1):\n",
    "            print(f\"\"\"\n",
    "                №{index}\n",
    "                Product name: {product_name}\n",
    "                Produtct type: {self.products[product_name][\"type\"]}\n",
    "                Price: {self.products[product_name][\"price\"]}\n",
    "                Discount: {self.products[product_name][\"discount\"]}\n",
    "                Amount in store: {self.products[product_name][\"amount\"]}\n",
    "                \"\"\".replace(\" \"*16, \"\")) # 16 - number of spaces before phrace replaced on \"\"\n",
    "    \n",
    "    def get_product_info(self, product_name):\n",
    "        if product_name in self.products:\n",
    "            amount = self.products[product_name][\"amount\"]\n",
    "            return (product_name, amount)\n",
    "        \n",
    "    def set_discount(self, identifier, percent, identifier_type=\"name\"):\n",
    "        if not 0 <= percent < 100:\n",
    "            raise Exception(f\"You cannot apply such discount: {percent}\")\n",
    "      \n",
    "        if (identifier_type == \"name\") or (identifier_type == \"category\"):\n",
    "            if identifier_type == \"name\":\n",
    "              \n",
    "                if not identifier in self.products:\n",
    "                    raise Exception(f\"No {identifier} in products\")\n",
    "              \n",
    "                self.products[identifier][\"discount\"] = percent\n",
    "                \n",
    "            else:\n",
    "              \n",
    "                if not identifier in self.category:\n",
    "                    raise Exception(f\"No {identifier} in category\")\n",
    "                    \n",
    "                product_names = self.category[identifier]\n",
    "                for product_name in product_names:\n",
    "                    self.products[product_name][\"discount\"] = percent\n",
    "                \n",
    "        else:\n",
    "            raise Exception(f\"No such identifier type: '{identifier_type}'\")\n",
    "\n",
    "s = ProductStore()\n",
    "p1 = Product('Food', 'Ramen', 10)\n",
    "p2 = Product('Food', 'Mivina', 5)\n",
    "s.add(p1, 10)\n",
    "s.add(p2, 30)\n",
    "s.get_income()\n",
    "s.set_discount(\"Food\", 15, identifier_type=\"category\")\n",
    "s.sell_product(\"Ramen\", 6)\n",
    "s.get_income()\n",
    "s.get_all_products()\n",
    "s.get_product_info(\"Ramen\")"
   ]
  },
  {
   "cell_type": "code",
   "execution_count": 71,
   "id": "d9979e5d",
   "metadata": {},
   "outputs": [
    {
     "data": {
      "text/plain": [
       "{'Food': ['Ramen', 'Mivina']}"
      ]
     },
     "execution_count": 71,
     "metadata": {},
     "output_type": "execute_result"
    }
   ],
   "source": [
    "s.category"
   ]
  },
  {
   "cell_type": "code",
   "execution_count": 72,
   "id": "a0bbd3b8",
   "metadata": {},
   "outputs": [
    {
     "data": {
      "text/plain": [
       "{'Ramen': {'amount': 4, 'price': 13.0, 'discount': 15, 'type': 'Food'},\n",
       " 'Mivina': {'amount': 30, 'price': 6.5, 'discount': 0, 'type': 'Food'}}"
      ]
     },
     "execution_count": 72,
     "metadata": {},
     "output_type": "execute_result"
    }
   ],
   "source": [
    "s.products"
   ]
  },
  {
   "cell_type": "code",
   "execution_count": 124,
   "id": "8c6cb2e5",
   "metadata": {},
   "outputs": [],
   "source": [
    "class CustomException(Exception):\n",
    "    def __init__(self, error_message):\n",
    "        self.error_message = error_message\n",
    "    \n",
    "        with open(\"logger.txt\", \"a+\") as logger:\n",
    "            logger.write(self.error_message + \"\\n\")"
   ]
  },
  {
   "cell_type": "code",
   "execution_count": 129,
   "id": "12a1f280",
   "metadata": {},
   "outputs": [],
   "source": [
    "def get_category(foo_dict: dict, key: str):\n",
    "    try:\n",
    "        return foo_dict[key]\n",
    "    except KeyError as key:\n",
    "        error_message = f\"You don't have key {key} in you dict\"\n",
    "        raise CustomException(error_message)"
   ]
  },
  {
   "cell_type": "code",
   "execution_count": 123,
   "id": "325f5be0",
   "metadata": {},
   "outputs": [
    {
     "name": "stdout",
     "output_type": "stream",
     "text": [
      "Enter digit from 0 to 9: 11\n"
     ]
    },
    {
     "ename": "CustomException",
     "evalue": "User typed wrong digit: 11!",
     "output_type": "error",
     "traceback": [
      "\u001b[0;31m---------------------------------------------------------------------------\u001b[0m",
      "\u001b[0;31mCustomException\u001b[0m                           Traceback (most recent call last)",
      "Input \u001b[0;32mIn [123]\u001b[0m, in \u001b[0;36m<cell line: 4>\u001b[0;34m()\u001b[0m\n\u001b[1;32m      2\u001b[0m digit \u001b[38;5;241m=\u001b[39m \u001b[38;5;28mint\u001b[39m(digit)\n\u001b[1;32m      4\u001b[0m \u001b[38;5;28;01mif\u001b[39;00m \u001b[38;5;129;01mnot\u001b[39;00m \u001b[38;5;241m0\u001b[39m \u001b[38;5;241m<\u001b[39m\u001b[38;5;241m=\u001b[39m digit \u001b[38;5;241m<\u001b[39m\u001b[38;5;241m=\u001b[39m \u001b[38;5;241m9\u001b[39m:\n\u001b[0;32m----> 5\u001b[0m     \u001b[38;5;28;01mraise\u001b[39;00m CustomException(\u001b[38;5;124mf\u001b[39m\u001b[38;5;124m\"\u001b[39m\u001b[38;5;124mUser typed wrong digit: \u001b[39m\u001b[38;5;132;01m{\u001b[39;00mdigit\u001b[38;5;132;01m}\u001b[39;00m\u001b[38;5;124m!\u001b[39m\u001b[38;5;124m\"\u001b[39m)\n",
      "\u001b[0;31mCustomException\u001b[0m: User typed wrong digit: 11!"
     ]
    }
   ],
   "source": [
    "digit = input(\"Enter digit from 0 to 9: \")\n",
    "digit = int(digit)\n",
    "\n",
    "if not 0 <= digit <= 9:\n",
    "    raise CustomException(f\"User typed wrong digit: {digit}!\")"
   ]
  },
  {
   "cell_type": "code",
   "execution_count": 131,
   "id": "4ff96d2f",
   "metadata": {},
   "outputs": [
    {
     "ename": "CustomException",
     "evalue": "You don't have key 'Loop' in you dict",
     "output_type": "error",
     "traceback": [
      "\u001b[0;31m---------------------------------------------------------------------------\u001b[0m",
      "\u001b[0;31mKeyError\u001b[0m                                  Traceback (most recent call last)",
      "Input \u001b[0;32mIn [129]\u001b[0m, in \u001b[0;36mget_category\u001b[0;34m(***failed resolving arguments***)\u001b[0m\n\u001b[1;32m      2\u001b[0m \u001b[38;5;28;01mtry\u001b[39;00m:\n\u001b[0;32m----> 3\u001b[0m     \u001b[38;5;28;01mreturn\u001b[39;00m \u001b[43mfoo_dict\u001b[49m\u001b[43m[\u001b[49m\u001b[43mkey\u001b[49m\u001b[43m]\u001b[49m\n\u001b[1;32m      4\u001b[0m \u001b[38;5;28;01mexcept\u001b[39;00m \u001b[38;5;167;01mKeyError\u001b[39;00m \u001b[38;5;28;01mas\u001b[39;00m key:\n",
      "\u001b[0;31mKeyError\u001b[0m: 'Loop'",
      "\nDuring handling of the above exception, another exception occurred:\n",
      "\u001b[0;31mCustomException\u001b[0m                           Traceback (most recent call last)",
      "Input \u001b[0;32mIn [131]\u001b[0m, in \u001b[0;36m<cell line: 3>\u001b[0;34m()\u001b[0m\n\u001b[1;32m      1\u001b[0m foo_dict \u001b[38;5;241m=\u001b[39m {\u001b[38;5;124m\"\u001b[39m\u001b[38;5;124mFood\u001b[39m\u001b[38;5;124m\"\u001b[39m: [\u001b[38;5;124m\"\u001b[39m\u001b[38;5;124mRastishka\u001b[39m\u001b[38;5;124m\"\u001b[39m, \u001b[38;5;124m\"\u001b[39m\u001b[38;5;124mRamen\u001b[39m\u001b[38;5;124m\"\u001b[39m], \u001b[38;5;124m\"\u001b[39m\u001b[38;5;124mMilk\u001b[39m\u001b[38;5;124m\"\u001b[39m: [\u001b[38;5;124m\"\u001b[39m\u001b[38;5;124mGalichina\u001b[39m\u001b[38;5;124m\"\u001b[39m]}\n\u001b[0;32m----> 3\u001b[0m \u001b[43mget_category\u001b[49m\u001b[43m(\u001b[49m\u001b[43mfoo_dict\u001b[49m\u001b[43m,\u001b[49m\u001b[43m \u001b[49m\u001b[38;5;124;43m\"\u001b[39;49m\u001b[38;5;124;43mLoop\u001b[39;49m\u001b[38;5;124;43m\"\u001b[39;49m\u001b[43m)\u001b[49m\n",
      "Input \u001b[0;32mIn [129]\u001b[0m, in \u001b[0;36mget_category\u001b[0;34m(***failed resolving arguments***)\u001b[0m\n\u001b[1;32m      4\u001b[0m \u001b[38;5;28;01mexcept\u001b[39;00m \u001b[38;5;167;01mKeyError\u001b[39;00m \u001b[38;5;28;01mas\u001b[39;00m key:\n\u001b[1;32m      5\u001b[0m     error_message \u001b[38;5;241m=\u001b[39m \u001b[38;5;124mf\u001b[39m\u001b[38;5;124m\"\u001b[39m\u001b[38;5;124mYou don\u001b[39m\u001b[38;5;124m'\u001b[39m\u001b[38;5;124mt have key \u001b[39m\u001b[38;5;132;01m{\u001b[39;00mkey\u001b[38;5;132;01m}\u001b[39;00m\u001b[38;5;124m in you dict\u001b[39m\u001b[38;5;124m\"\u001b[39m\n\u001b[0;32m----> 6\u001b[0m     \u001b[38;5;28;01mraise\u001b[39;00m CustomException(error_message)\n",
      "\u001b[0;31mCustomException\u001b[0m: You don't have key 'Loop' in you dict"
     ]
    }
   ],
   "source": [
    "foo_dict = {\"Food\": [\"Rastishka\", \"Ramen\"], \"Milk\": [\"Galichina\"]}\n",
    "\n",
    "get_category(foo_dict, \"Loop\")"
   ]
  },
  {
   "cell_type": "code",
   "execution_count": 94,
   "id": "f2b4b6d0",
   "metadata": {},
   "outputs": [
    {
     "ename": "AttributeError",
     "evalue": "type object 'CustomException' has no attribute 'error_message'",
     "output_type": "error",
     "traceback": [
      "\u001b[0;31m---------------------------------------------------------------------------\u001b[0m",
      "\u001b[0;31mAttributeError\u001b[0m                            Traceback (most recent call last)",
      "Input \u001b[0;32mIn [94]\u001b[0m, in \u001b[0;36m<cell line: 1>\u001b[0;34m()\u001b[0m\n\u001b[0;32m----> 1\u001b[0m \u001b[43mCustomException\u001b[49m\u001b[38;5;241;43m.\u001b[39;49m\u001b[43merror_message\u001b[49m\n",
      "\u001b[0;31mAttributeError\u001b[0m: type object 'CustomException' has no attribute 'error_message'"
     ]
    }
   ],
   "source": [
    "CustomException.error_message"
   ]
  },
  {
   "cell_type": "code",
   "execution_count": 193,
   "id": "c77dee0f",
   "metadata": {},
   "outputs": [],
   "source": [
    "class List(list):\n",
    "    def __init__(self, items: list):\n",
    "        items.insert(0, None)\n",
    "        super().__init__(items)\n",
    "        \n",
    "    def __getitem__(self, key: int) -> any:\n",
    "        return self.items[key - 1]"
   ]
  },
  {
   "cell_type": "code",
   "execution_count": 147,
   "id": "69d4373d",
   "metadata": {},
   "outputs": [
    {
     "name": "stdout",
     "output_type": "stream",
     "text": [
      "[1, 2, 3]\n"
     ]
    }
   ],
   "source": [
    "print([1, 2, 3])"
   ]
  },
  {
   "cell_type": "code",
   "execution_count": 151,
   "id": "37d6141f",
   "metadata": {},
   "outputs": [
    {
     "name": "stdout",
     "output_type": "stream",
     "text": [
      "[1,2,3]\n"
     ]
    }
   ],
   "source": [
    "print(list((1, 2, 3)))"
   ]
  },
  {
   "cell_type": "code",
   "execution_count": 204,
   "id": "13609428",
   "metadata": {},
   "outputs": [
    {
     "data": {
      "text/plain": [
       "[None, 1, 2, 3]"
      ]
     },
     "execution_count": 204,
     "metadata": {},
     "output_type": "execute_result"
    }
   ],
   "source": [
    "a"
   ]
  },
  {
   "cell_type": "code",
   "execution_count": 205,
   "id": "5fe9e584",
   "metadata": {},
   "outputs": [],
   "source": [
    "class OneList(list): \n",
    "    def __getitem__(self, index): \n",
    "        if type(index) == int and index > 0: \n",
    "            index -= 1 \n",
    "        if type(index) == slice: \n",
    "            start, stop = index.start, index.stop \n",
    "            if start and start > 0: \n",
    "                start -= 1 \n",
    "            if stop and stop > 0: \n",
    "                stop -=  1 \n",
    "            index = slice(start, stop, index.step) \n",
    "        return super().__getitem__(index) \n",
    " \n",
    "    def __setitem__(self, index, val): \n",
    "        super().__setitem__(index-1, val) "
   ]
  },
  {
   "cell_type": "code",
   "execution_count": 207,
   "id": "5ad781f4",
   "metadata": {},
   "outputs": [],
   "source": [
    "my_list = OneList([1, 2, 3])"
   ]
  },
  {
   "cell_type": "code",
   "execution_count": 211,
   "id": "70d926a2",
   "metadata": {},
   "outputs": [
    {
     "data": {
      "text/plain": [
       "3"
      ]
     },
     "execution_count": 211,
     "metadata": {},
     "output_type": "execute_result"
    }
   ],
   "source": [
    "my_list.pop(1)"
   ]
  },
  {
   "cell_type": "code",
   "execution_count": 212,
   "id": "de0bd98a",
   "metadata": {},
   "outputs": [
    {
     "data": {
      "text/plain": [
       "[2]"
      ]
     },
     "execution_count": 212,
     "metadata": {},
     "output_type": "execute_result"
    }
   ],
   "source": [
    "my_list"
   ]
  },
  {
   "cell_type": "code",
   "execution_count": 255,
   "id": "1a86aeaa",
   "metadata": {},
   "outputs": [
    {
     "name": "stdout",
     "output_type": "stream",
     "text": [
      "Creating class Student with\n"
     ]
    },
    {
     "ename": "TypeError",
     "evalue": "object.__new__() takes exactly one argument (the type to instantiate)",
     "output_type": "error",
     "traceback": [
      "\u001b[0;31m---------------------------------------------------------------------------\u001b[0m",
      "\u001b[0;31mTypeError\u001b[0m                                 Traceback (most recent call last)",
      "Input \u001b[0;32mIn [255]\u001b[0m, in \u001b[0;36m<cell line: 29>\u001b[0;34m()\u001b[0m\n\u001b[1;32m     25\u001b[0m     \u001b[38;5;28;01mpass\u001b[39;00m\n\u001b[1;32m     28\u001b[0m journal \u001b[38;5;241m=\u001b[39m Journal()\n\u001b[0;32m---> 29\u001b[0m student_john \u001b[38;5;241m=\u001b[39m \u001b[43mStudent\u001b[49m\u001b[43m(\u001b[49m\u001b[38;5;124;43m\"\u001b[39;49m\u001b[38;5;124;43mAndrii\u001b[39;49m\u001b[38;5;124;43m\"\u001b[39;49m\u001b[43m,\u001b[49m\u001b[43m \u001b[49m\u001b[38;5;124;43m\"\u001b[39;49m\u001b[38;5;124;43mSmith\u001b[39;49m\u001b[38;5;124;43m\"\u001b[39;49m\u001b[43m,\u001b[49m\u001b[43m \u001b[49m\u001b[38;5;241;43m30\u001b[39;49m\u001b[43m)\u001b[49m\n\u001b[1;32m     30\u001b[0m starosta_daniel \u001b[38;5;241m=\u001b[39m Starosta(\u001b[38;5;124m\"\u001b[39m\u001b[38;5;124mDaniel\u001b[39m\u001b[38;5;124m\"\u001b[39m, \u001b[38;5;124m\"\u001b[39m\u001b[38;5;124mSmith\u001b[39m\u001b[38;5;124m\"\u001b[39m, \u001b[38;5;241m31\u001b[39m, journal)\n",
      "Input \u001b[0;32mIn [255]\u001b[0m, in \u001b[0;36mStudent.__new__\u001b[0;34m(cls, first_name, last_name, age)\u001b[0m\n\u001b[1;32m     12\u001b[0m \u001b[38;5;28mprint\u001b[39m(\u001b[38;5;124mf\u001b[39m\u001b[38;5;124m\"\u001b[39m\u001b[38;5;124mCreating class Student with\u001b[39m\u001b[38;5;124m\"\u001b[39m)\n\u001b[1;32m     14\u001b[0m \u001b[38;5;28;01mif\u001b[39;00m \u001b[38;5;129;01mnot\u001b[39;00m \u001b[38;5;28mcls\u001b[39m\u001b[38;5;241m.\u001b[39m_instance:\n\u001b[0;32m---> 15\u001b[0m     \u001b[38;5;28mcls\u001b[39m\u001b[38;5;241m.\u001b[39m_instance \u001b[38;5;241m=\u001b[39m \u001b[38;5;28;43msuper\u001b[39;49m\u001b[43m(\u001b[49m\u001b[43mStudent\u001b[49m\u001b[43m,\u001b[49m\u001b[43m \u001b[49m\u001b[38;5;28;43mcls\u001b[39;49m\u001b[43m)\u001b[49m\u001b[38;5;241;43m.\u001b[39;49m\u001b[38;5;21;43m__new__\u001b[39;49m\u001b[43m(\u001b[49m\u001b[38;5;28;43mcls\u001b[39;49m\u001b[43m,\u001b[49m\u001b[43m \u001b[49m\u001b[43mfirst_name\u001b[49m\u001b[43m,\u001b[49m\u001b[43m \u001b[49m\u001b[43mlast_name\u001b[49m\u001b[43m,\u001b[49m\u001b[43m \u001b[49m\u001b[43mage\u001b[49m\u001b[43m)\u001b[49m\n\u001b[1;32m     16\u001b[0m \u001b[38;5;28;01mreturn\u001b[39;00m \u001b[38;5;28mcls\u001b[39m\u001b[38;5;241m.\u001b[39m_instance\n",
      "\u001b[0;31mTypeError\u001b[0m: object.__new__() takes exactly one argument (the type to instantiate)"
     ]
    }
   ],
   "source": [
    "class Student(object):\n",
    "    _instance = None\n",
    "    # Number 2\n",
    "    def __init__(self, first_name: str, last_name: str, age: int):\n",
    "        self.first_name = first_name\n",
    "        self.last_name = last_name\n",
    "        self._age = age\n",
    "        self.__sex = \"NO\"\n",
    "    \n",
    "    # Number 1\n",
    "    def __new__(cls, first_name, last_name, age):\n",
    "        print(f\"Creating class Student with\")\n",
    "        \n",
    "        if not cls._instance:\n",
    "            cls._instance = super(Student, cls).__new__(cls, first_name, last_name, age)\n",
    "        return cls._instance\n",
    "\n",
    "\n",
    "class Starosta(Student):\n",
    "    def __init__(self, first_name: str, last_name: str, age: int, journal: object):\n",
    "        super().__init__(first_name, last_name, age)\n",
    "    \n",
    "\n",
    "class Journal:\n",
    "    pass\n",
    "        \n",
    "\n",
    "journal = Journal()\n",
    "student_john = Student(\"Andrii\", \"Smith\", 30)\n",
    "starosta_daniel = Starosta(\"Daniel\", \"Smith\", 31, journal)\n",
    "\n"
   ]
  },
  {
   "cell_type": "code",
   "execution_count": 216,
   "id": "b9a41e31",
   "metadata": {},
   "outputs": [],
   "source": [
    "student_john.first_name = \"Levis\""
   ]
  },
  {
   "cell_type": "code",
   "execution_count": 221,
   "id": "58acecf0",
   "metadata": {},
   "outputs": [],
   "source": [
    "student_john._age = 30"
   ]
  },
  {
   "cell_type": "code",
   "execution_count": 222,
   "id": "08ff6c64",
   "metadata": {},
   "outputs": [
    {
     "ename": "AttributeError",
     "evalue": "'Student' object has no attribute '__sex'",
     "output_type": "error",
     "traceback": [
      "\u001b[0;31m---------------------------------------------------------------------------\u001b[0m",
      "\u001b[0;31mAttributeError\u001b[0m                            Traceback (most recent call last)",
      "Input \u001b[0;32mIn [222]\u001b[0m, in \u001b[0;36m<cell line: 1>\u001b[0;34m()\u001b[0m\n\u001b[0;32m----> 1\u001b[0m \u001b[43mstudent_john\u001b[49m\u001b[38;5;241;43m.\u001b[39;49m\u001b[43m__sex\u001b[49m\n",
      "\u001b[0;31mAttributeError\u001b[0m: 'Student' object has no attribute '__sex'"
     ]
    }
   ],
   "source": [
    "student_john.__sex"
   ]
  },
  {
   "cell_type": "code",
   "execution_count": 228,
   "id": "5a39d624",
   "metadata": {},
   "outputs": [
    {
     "data": {
      "text/plain": [
       "<__main__.Starosta at 0x7fccbf86cf40>"
      ]
     },
     "execution_count": 228,
     "metadata": {},
     "output_type": "execute_result"
    }
   ],
   "source": [
    "starosta_daniel"
   ]
  },
  {
   "cell_type": "code",
   "execution_count": 256,
   "id": "6e4e4e3d",
   "metadata": {},
   "outputs": [],
   "source": [
    "class Singleton(object):\n",
    "    _instance = None\n",
    "    \n",
    "    def __new__(cls, *args, **kwargs):\n",
    "        if not cls._instance:\n",
    "            cls._instance = object.__new__(cls, *args, **kwargs)\n",
    "        return cls._instance"
   ]
  },
  {
   "cell_type": "code",
   "execution_count": 250,
   "id": "ae674a9a",
   "metadata": {},
   "outputs": [
    {
     "data": {
      "text/plain": [
       "True"
      ]
     },
     "execution_count": 250,
     "metadata": {},
     "output_type": "execute_result"
    }
   ],
   "source": [
    "s1 = Singleton()\n",
    "s2 = Singleton()\n",
    "\n",
    "s1 is s2"
   ]
  },
  {
   "cell_type": "code",
   "execution_count": 257,
   "id": "33c874fe",
   "metadata": {},
   "outputs": [
    {
     "name": "stdout",
     "output_type": "stream",
     "text": [
      "True\n"
     ]
    }
   ],
   "source": [
    "class Apple:\n",
    "    def __init__ (self, color: str, weight: int):\n",
    "        self.color = color\n",
    "        self.weight = weight\n",
    "    \n",
    "    def __eq__(self, other):\n",
    "        return self.weight == other.weight\n",
    "\n",
    "red_apple = Apple(color = \"red\", weight = 90)\n",
    "green_apple = Apple(color = \"green\", weight = 90)\n",
    "\n",
    "print(red_apple == green_apple)"
   ]
  },
  {
   "cell_type": "code",
   "execution_count": 264,
   "id": "4ef58881",
   "metadata": {},
   "outputs": [
    {
     "name": "stdout",
     "output_type": "stream",
     "text": [
      "1 + 2 + 3 + 4 + 5 + 6 = 21\n"
     ]
    }
   ],
   "source": [
    "class Array:\n",
    "    def __init__(self, array):\n",
    "        self.array_sum = sum(array)\n",
    "        self.array = list(map(str, array))\n",
    "    \n",
    "    \n",
    "    def __str__(self) -> str:\n",
    "        return f\"{' + '.join(self.array)} = {self.array_sum}\"\n",
    "    \n",
    "    \n",
    "    \n",
    "\n",
    "array = Array([1, 2, 3, 4, 5, 6])\n",
    "print(array) # --> 1 + 2 + 3 + 4 + 5 = 15 __str__"
   ]
  },
  {
   "cell_type": "code",
   "execution_count": 266,
   "id": "b2e81778",
   "metadata": {},
   "outputs": [
    {
     "data": {
      "text/plain": [
       "1.5"
      ]
     },
     "execution_count": 266,
     "metadata": {},
     "output_type": "execute_result"
    }
   ],
   "source": [
    "class BottleOfWater:\n",
    "    def __init__(self, name, volume):\n",
    "        self.name = name\n",
    "        self.volume = volume\n",
    "    \n",
    "    def __float__(self):\n",
    "        return self.volume\n",
    "\n",
    "morshinska = BottleOfWater(\"Morshinska\", 1.5)\n",
    "float(morshinska) # ---> 1.5"
   ]
  },
  {
   "cell_type": "code",
   "execution_count": 270,
   "id": "fa7bb12b",
   "metadata": {},
   "outputs": [
    {
     "name": "stdout",
     "output_type": "stream",
     "text": [
      "White bread contains 4 slices | | | | \n"
     ]
    }
   ],
   "source": [
    "class WhiteBread:\n",
    "    def __init__(self, number_of_slices: int):\n",
    "        self.number_of_slices = number_of_slices\n",
    "        self.slice_sign = '| ' * self.number_of_slices \n",
    "#----> :(\n",
    "    def __str__(self):\n",
    "        return f'White bread contains {self.number_of_slices} slices {self.slice_sign}'\n",
    "    \n",
    "x = WhiteBread(4) # тут щось має бути \n",
    "\n",
    "print(x) "
   ]
  },
  {
   "cell_type": "code",
   "execution_count": 292,
   "id": "50008cd6",
   "metadata": {},
   "outputs": [],
   "source": [
    "from typing import Tuple\n",
    "import random\n",
    "\n",
    "class Deck:\n",
    "    \"\"\"\n",
    "    We want to play BlackJack, so create the deck and give us the cards.\n",
    "    \"\"\"\n",
    "    def __init__(self, suits: Tuple[str], ranks: Tuple[str]):\n",
    "        self.cards = [Card(rank, suit) for rank in ranks for suit in suits]\n",
    "    \n",
    "    def shuffle(self) -> None:\n",
    "        \"\"\"\n",
    "        Randomly shuffle a deck.\n",
    "        \"\"\"\n",
    "        random.shuffle(self.cards)\n",
    "\n",
    "    def __str__(self):\n",
    "        \"\"\"\n",
    "        A string representation of the cards.\n",
    "        \"\"\"\n",
    "        deck = \"\"\n",
    "        for card in self.cards:\n",
    "            deck += str(card) + \"\\n\"\n",
    "            \n",
    "        return deck\n",
    "    \n",
    "    def __repr__(self):\n",
    "        return f\"{[card for card in self.cards]}\"\n",
    "    \n",
    "    def __len__(self):\n",
    "        return len(self.cards)\n",
    "      \n",
    "\n",
    "deck = Deck((\"♣\", \"♥\", \"♠\", \"♦\"), (\"6\", \"7\", \"8\", \"9\", \"10\", \"Jack\", \"Queen\", \"King\", \"Ace\"))\n",
    "deck.shuffle()"
   ]
  },
  {
   "cell_type": "code",
   "execution_count": 293,
   "id": "8710c9ee",
   "metadata": {},
   "outputs": [
    {
     "data": {
      "text/plain": [
       "36"
      ]
     },
     "execution_count": 293,
     "metadata": {},
     "output_type": "execute_result"
    }
   ],
   "source": [
    "len(deck)"
   ]
  },
  {
   "cell_type": "code",
   "execution_count": 294,
   "id": "9931355e",
   "metadata": {},
   "outputs": [
    {
     "data": {
      "text/plain": [
       "[Card('King', '♣'), Card('6', '♥'), Card('8', '♣'), Card('Jack', '♥'), Card('Ace', '♠'), Card('9', '♣'), Card('9', '♦'), Card('7', '♦'), Card('Ace', '♥'), Card('Queen', '♣'), Card('Ace', '♣'), Card('Queen', '♥'), Card('King', '♠'), Card('Jack', '♦'), Card('King', '♦'), Card('6', '♣'), Card('7', '♥'), Card('Ace', '♦'), Card('Jack', '♣'), Card('8', '♠'), Card('Queen', '♠'), Card('10', '♠'), Card('7', '♠'), Card('9', '♠'), Card('Queen', '♦'), Card('10', '♥'), Card('9', '♥'), Card('10', '♦'), Card('6', '♠'), Card('10', '♣'), Card('8', '♦'), Card('8', '♥'), Card('King', '♥'), Card('7', '♣'), Card('Jack', '♠'), Card('6', '♦')]"
      ]
     },
     "execution_count": 294,
     "metadata": {},
     "output_type": "execute_result"
    }
   ],
   "source": [
    "deck"
   ]
  },
  {
   "cell_type": "code",
   "execution_count": null,
   "id": "58be699e",
   "metadata": {},
   "outputs": [],
   "source": []
  }
 ],
 "metadata": {
  "kernelspec": {
   "display_name": "Python 3 (ipykernel)",
   "language": "python",
   "name": "python3"
  },
  "language_info": {
   "codemirror_mode": {
    "name": "ipython",
    "version": 3
   },
   "file_extension": ".py",
   "mimetype": "text/x-python",
   "name": "python",
   "nbconvert_exporter": "python",
   "pygments_lexer": "ipython3",
   "version": "3.9.12"
  }
 },
 "nbformat": 4,
 "nbformat_minor": 5
}
