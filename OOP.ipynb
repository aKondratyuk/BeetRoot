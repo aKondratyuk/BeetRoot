{
 "cells": [
  {
   "cell_type": "code",
   "execution_count": 217,
   "id": "eb3d0d5f",
   "metadata": {},
   "outputs": [],
   "source": [
    "import random\n",
    "\n",
    "from typing import Tuple, List"
   ]
  },
  {
   "cell_type": "code",
   "execution_count": 321,
   "id": "4811d67f",
   "metadata": {},
   "outputs": [],
   "source": [
    "class BlackJackCardCompareRule:\n",
    "    ranks = (\"6\", \"7\", \"8\", \"9\", \"10\", \"Jack\", \"Queen\", \"King\", \"Ace\")\n",
    "    ranks_weights = (6, 7, 8, 9, 10, 10, 10, 10, 11)\n",
    "    cards_weights = dict(zip(ranks, ranks_weights))\n",
    "    \n",
    "    def __eq__(self, other):\n",
    "        return (self.rank == other.rank) and (self.suit == other.suit)\n",
    "    \n",
    "    def __lt__(self, other):\n",
    "        if self.suit == other.suit:\n",
    "            cards_weights = BlackJackCardCompareRule.cards_weights\n",
    "            return cards_weights[self.rank] < cards_weights[other.rank]\n",
    "        \n",
    "        return False\n",
    "\n",
    "    def __le__(self, other):\n",
    "        if self.suit == other.suit:\n",
    "            cards_weights = BlackJackCardCompareRule.cards_weights\n",
    "            return cards_weights[self.rank] <= cards_weights[other.rank]\n",
    "        \n",
    "        return False\n",
    "    \n",
    "    def __add__(self, other):        \n",
    "        if isinstance(other, int):\n",
    "            return self.cards_weights[self.rank] + other\n",
    "            \n",
    "        return self.cards_weights[self.rank] + self.cards_weights[other.rank]\n",
    "    \n",
    "    def __radd__(self, other):\n",
    "        if isinstance(other, int):\n",
    "            return self.cards_weights[self.rank] + other\n",
    "            \n",
    "        return self.cards_weights[self.rank] + self.cards_weights[other.rank]\n",
    "        \n",
    "\n",
    "class Card(BlackJackCardCompareRule):\n",
    "    def __init__(self, rank, suit):\n",
    "        self.rank = rank\n",
    "        self.suit = suit\n",
    "    \n",
    "    def __str__(self):\n",
    "        return self.rank + self.suit\n",
    "    \n",
    "    def __repr__(self):\n",
    "        return f\"Card('{self.rank}', '{self.suit}')\"\n",
    "    \n",
    "    def __int__(self):\n",
    "        return int(self.cards_weights[self.rank])\n",
    "\n",
    "\n",
    "class Deck:\n",
    "    \"\"\"\n",
    "    We want to play BlackJack, so create the deck and give us the cards.\n",
    "    \"\"\"\n",
    "    def __init__(self, suits: Tuple[str], ranks: Tuple[str]):\n",
    "        self.cards = [Card(rank, suit) for rank in ranks for suit in suits]\n",
    "    \n",
    "    def shuffle(self) -> None:\n",
    "        \"\"\"\n",
    "        Randomly shuffle a deck.\n",
    "        \"\"\"\n",
    "        random.shuffle(self.cards)\n",
    "\n",
    "    def __str__(self):\n",
    "        \"\"\"\n",
    "        A string representation of the cards.\n",
    "        \"\"\"\n",
    "        deck = \"\"\n",
    "        for card in self.cards:\n",
    "            deck += str(card) + \"\\n\"\n",
    "            \n",
    "        return deck\n",
    "    \n",
    "    def __repr__(self):\n",
    "        return f\"{[card for card in self.cards]}\"\n",
    "    \n",
    "    \n",
    "class Hand:\n",
    "    def __init__(self, cards: List[Card]):\n",
    "        self.cards = cards\n",
    "        \n",
    "class DealerHand(Hand):\n",
    "    def __init__(self, cards):\n",
    "        super().__init__(cards)\n",
    "        \n",
    "    def shuffle_cards(self):\n",
    "        random.shuffle(self.cards)\n",
    "    \n",
    "    def draw_card(self):\n",
    "        try:\n",
    "            drawn_out_card = self.cards.pop(0)\n",
    "            return drawn_out_card\n",
    "        except IndexError:\n",
    "            return False\n",
    "        \n",
    "    \n",
    "class PlayerHand(Hand):\n",
    "    def __init__(self, cards):\n",
    "        super().__init__(cards)\n",
    "    \n",
    "    def add_drawn_out_card(self, drawn_out_card: Card):\n",
    "        self.cards.append(drawn_out_card)\n",
    "    \n",
    "    def total_points(self):\n",
    "        return sum(self.cards)"
   ]
  },
  {
   "cell_type": "code",
   "execution_count": 327,
   "id": "471ba5a5",
   "metadata": {},
   "outputs": [],
   "source": [
    "deck = Deck((\"♣\", \"♥\", \"♠\", \"♦\"), (\"6\", \"7\", \"8\", \"9\", \"10\", \"Jack\", \"Queen\", \"King\", \"Ace\"))\n",
    "deck.shuffle()\n",
    "\n",
    "dealer_hand = DealerHand(cards = deck.cards)\n",
    "player_hand = PlayerHand(cards = [])"
   ]
  },
  {
   "cell_type": "code",
   "execution_count": 332,
   "id": "f18bb051",
   "metadata": {},
   "outputs": [
    {
     "name": "stdout",
     "output_type": "stream",
     "text": [
      "34\n",
      "King♠\n",
      "33\n"
     ]
    },
    {
     "data": {
      "text/plain": [
       "[Card('Ace', '♥'), Card('King', '♠')]"
      ]
     },
     "execution_count": 332,
     "metadata": {},
     "output_type": "execute_result"
    }
   ],
   "source": [
    "print(len(dealer_hand.cards))\n",
    "drawn_card = dealer_hand.draw_card()\n",
    "print(drawn_card)\n",
    "print(len(dealer_hand.cards))\n",
    "player_hand.add_drawn_out_card(drawn_card)\n",
    "player_hand.cards"
   ]
  },
  {
   "cell_type": "code",
   "execution_count": 333,
   "id": "1e672c09",
   "metadata": {},
   "outputs": [
    {
     "data": {
      "text/plain": [
       "21"
      ]
     },
     "execution_count": 333,
     "metadata": {},
     "output_type": "execute_result"
    }
   ],
   "source": [
    "player_hand.total_points()"
   ]
  },
  {
   "cell_type": "code",
   "execution_count": 313,
   "id": "e68a7dcf",
   "metadata": {},
   "outputs": [],
   "source": [
    "# suits = (\"♣\", \"♥\", \"♠\", \"♦\")\n",
    "\n",
    "eight_clubs = Card(\"8\", \"♣\")\n",
    "jack_clubs = Card(\"Jack\", \"♣\")\n",
    "\n",
    "\n",
    "\n",
    "queen_spades = Card(\"Queen\", \"♠\")\n",
    "queen_diamonds = Card(\"Queen\", \"♦\")\n",
    "\n",
    "ace_spades = Card(\"Ace\", \"♠\")\n",
    "\n",
    "ace_hearts = Card(\"Ace\", \"♥\")"
   ]
  },
  {
   "cell_type": "code",
   "execution_count": 314,
   "id": "808792ec",
   "metadata": {},
   "outputs": [
    {
     "data": {
      "text/plain": [
       "{'6': 6,\n",
       " '7': 7,\n",
       " '8': 8,\n",
       " '9': 9,\n",
       " '10': 10,\n",
       " 'Jack': 10,\n",
       " 'Queen': 10,\n",
       " 'King': 10,\n",
       " 'Ace': 11}"
      ]
     },
     "execution_count": 314,
     "metadata": {},
     "output_type": "execute_result"
    }
   ],
   "source": [
    "eight_clubs.cards_weights"
   ]
  },
  {
   "cell_type": "code",
   "execution_count": 315,
   "id": "c60b25f7",
   "metadata": {},
   "outputs": [
    {
     "data": {
      "text/plain": [
       "True"
      ]
     },
     "execution_count": 315,
     "metadata": {},
     "output_type": "execute_result"
    }
   ],
   "source": [
    "eight_clubs < jack_clubs"
   ]
  },
  {
   "cell_type": "code",
   "execution_count": 316,
   "id": "9ba9e55d",
   "metadata": {},
   "outputs": [
    {
     "data": {
      "text/plain": [
       "False"
      ]
     },
     "execution_count": 316,
     "metadata": {},
     "output_type": "execute_result"
    }
   ],
   "source": [
    "queen_spades < queen_diamonds"
   ]
  },
  {
   "cell_type": "code",
   "execution_count": 317,
   "id": "f1307f76",
   "metadata": {},
   "outputs": [
    {
     "data": {
      "text/plain": [
       "False"
      ]
     },
     "execution_count": 317,
     "metadata": {},
     "output_type": "execute_result"
    }
   ],
   "source": [
    "ace_hearts == ace_spades"
   ]
  },
  {
   "cell_type": "code",
   "execution_count": 320,
   "id": "0cf09eac",
   "metadata": {},
   "outputs": [
    {
     "data": {
      "text/plain": [
       "30"
      ]
     },
     "execution_count": 320,
     "metadata": {},
     "output_type": "execute_result"
    }
   ],
   "source": [
    "#sum([queen_spades, queen_diamonds, queen_diamonds])\n",
    "\n",
    "queen_spades + queen_diamonds + queen_diamonds"
   ]
  },
  {
   "cell_type": "code",
   "execution_count": 319,
   "id": "253a2518",
   "metadata": {},
   "outputs": [
    {
     "data": {
      "text/plain": [
       "25"
      ]
     },
     "execution_count": 319,
     "metadata": {},
     "output_type": "execute_result"
    }
   ],
   "source": [
    "15 + queen_diamonds"
   ]
  },
  {
   "cell_type": "code",
   "execution_count": 214,
   "id": "06bfb79c",
   "metadata": {},
   "outputs": [
    {
     "data": {
      "text/plain": [
       "30"
      ]
     },
     "execution_count": 214,
     "metadata": {},
     "output_type": "execute_result"
    }
   ],
   "source": [
    "sum([int(card) for card in [queen_spades, queen_diamonds, queen_diamonds]])"
   ]
  },
  {
   "cell_type": "code",
   "execution_count": 109,
   "id": "941f42f4",
   "metadata": {},
   "outputs": [
    {
     "data": {
      "text/plain": [
       "False"
      ]
     },
     "execution_count": 109,
     "metadata": {},
     "output_type": "execute_result"
    }
   ],
   "source": [
    "queen_spades <= queen_diamonds"
   ]
  },
  {
   "cell_type": "code",
   "execution_count": null,
   "id": "b278666e",
   "metadata": {},
   "outputs": [],
   "source": [
    "\"\"\"Task 3\n",
    "\n",
    "Product Store\n",
    "\n",
    "Write a class Product that has three attributes:\n",
    "\n",
    "type\n",
    "name\n",
    "price\n",
    "Then create a class ProductStore, which will have some Products and will operate with all products in the store. All methods, in case they can’t perform its action, should raise ValueError with appropriate error information.\n",
    "\n",
    "Tips: Use aggregation/composition concepts while implementing the ProductStore class. You can also implement additional classes to operate on a certain type of product, etc.\n",
    "\n",
    "Also, the ProductStore class must have the following methods:\n",
    "\n",
    "add(product, amount) - adds a specified quantity of a single product with a predefined price premium for your store(30 percent)\n",
    "set_discount(identifier, percent, identifier_type=’name’) - adds a discount for all products specified by input identifiers (type or name). The discount must be specified in percentage\n",
    "sell_product(product_name, amount) - removes a particular amount of products from the store if available, in other case raises an error. It also increments income if the sell_product method succeeds.\n",
    "get_income() - returns amount of many earned by ProductStore instance.\n",
    "get_all_products() - returns information about all available products in the store.\n",
    "get_product_info(product_name) - returns a tuple with product name and amount of items in the store.\"\"\"\n",
    "```"
   ]
  },
  {
   "cell_type": "code",
   "execution_count": 360,
   "id": "da86bac4",
   "metadata": {},
   "outputs": [],
   "source": [
    "class Product:\n",
    "    def __init__(self, type_: str, name: str, price: float):\n",
    "        self.type_ = type_\n",
    "        self.name = name\n",
    "        self.price = price\n",
    "    \n",
    "    \n",
    "class ProductStore:\n",
    "    def __init__(self):\n",
    "        self.products = {}\n",
    "        self.category = {}\n",
    "  \n",
    "    def add(self, product, amount):\n",
    "        self.products[product.name] = {\"amount\": amount, \"price\": product.price * 1.3, \"discount\": 0, \n",
    "                                       \"type\": product.type_}\n",
    "\n",
    "        if self.category.get(product.type_):\n",
    "            if product.name not in self.category[product.type_]:\n",
    "                self.category[product.type_].append(product.name)\n",
    "        else:\n",
    "            self.category[product.type_] = [product.name]\n",
    " \n",
    "s = ProductStore()\n",
    "p1 = Product('Food', 'Ramen', 10)\n",
    "p2 = Product('Food', 'Mivina', 5)\n",
    "s.add(p1, 10) # category = {\"Food\": [\"Ramen\"]}; products = {\"Ramen\": {\"amount\": 10, \"price\": 13, \"discount\": 0}}\n",
    "s.add(p2, 30) # category = {\"Food\": [\"Ramen\", \"Mivina\"]}; products = {\"Ramen\": {\"amount\": 10, \"price\": 13, \"discount\": 0}.\n",
    "\t\t\t  #\t\t\t\t\t\t\t\t\t\t\t\t\t      \"Mivina\": {\"amount\": 30, \"price\": 6.5, \"discount\": 0}}"
   ]
  },
  {
   "cell_type": "code",
   "execution_count": 358,
   "id": "d9979e5d",
   "metadata": {},
   "outputs": [
    {
     "data": {
      "text/plain": [
       "['Ramen', 'Mivina']"
      ]
     },
     "execution_count": 358,
     "metadata": {},
     "output_type": "execute_result"
    }
   ],
   "source": [
    "s.category[\"Food\"]"
   ]
  },
  {
   "cell_type": "code",
   "execution_count": 359,
   "id": "a0bbd3b8",
   "metadata": {},
   "outputs": [
    {
     "data": {
      "text/plain": [
       "{'Ramen': {'amount': 10, 'price': 13.0, 'discount': 0},\n",
       " 'Mivina': {'amount': 30, 'price': 6.5, 'discount': 0}}"
      ]
     },
     "execution_count": 359,
     "metadata": {},
     "output_type": "execute_result"
    }
   ],
   "source": [
    "s.products"
   ]
  },
  {
   "cell_type": "code",
   "execution_count": null,
   "id": "8c6cb2e5",
   "metadata": {},
   "outputs": [],
   "source": [
    "\"\"\"Task 3\n",
    "\n",
    "Product Store\n",
    "\n",
    "Write a class Product that has three attributes:\n",
    "\n",
    "type\n",
    "name\n",
    "price\n",
    "Then create a class ProductStore, which will have some Products and will operate with all products in the store. All methods, in case they can’t perform its action, should raise ValueError with appropriate error information.\n",
    "\n",
    "Tips: Use aggregation/composition concepts while implementing the ProductStore class. You can also implement additional classes to operate on a certain type of product, etc.\n",
    "\n",
    "Also, the ProductStore class must have the following methods:\n",
    "\n",
    "add(product, amount) - adds a specified quantity of a single product with a predefined price premium for your store(30 percent)\n",
    "set_discount(identifier, percent, identifier_type=’name’) - adds a discount for all products specified by input identifiers (type or name). The discount must be specified in percentage\n",
    "sell_product(product_name, amount) - removes a particular amount of products from the store if available, in other case raises an error. It also increments income if the sell_product method succeeds.\n",
    "get_income() - returns amount of many earned by ProductStore instance. # Bohdan\n",
    "get_all_products() - returns information about all available products in the store. # Olesya\n",
    "get_product_info(product_name) - returns a tuple with product name and amount of items in the store. # Yurii\n",
    "```\n",
    "class Product:\n",
    "\n",
    "    pass\n",
    "\n",
    "class ProductStore:\n",
    "\n",
    "\tpass\n",
    "\n",
    "p = Product('Sport', 'Football T-Shirt', 100)\n",
    "\n",
    "p2 = Product(Food, 'Ramen', 1.5)\n",
    "\n",
    "s = ProductStore()\n",
    "\n",
    "s.add(p, 10)\n",
    "\n",
    "s.add(p2, 300)\n",
    "\n",
    "s.sell(‘Ramen’, 10)\n",
    "\n",
    "assert s.get_product_info(‘Ramen’) == (‘Ramen’, 290)\n",
    "\n",
    "```\"\"\"\n",
    "\n",
    "\n",
    "#Danil\n",
    "class Product:\n",
    "  \"\"\"\n",
    "  Клас для створення продукта, що містить в\n",
    "  \"\"\"\n",
    "  def __init__(self, type_: str, name: str, price: float):\n",
    "    self.type_ = type_\n",
    "    self.name = name\n",
    "    self.price = price\n",
    "    \n",
    "    \n",
    "class ProductStore:\n",
    "  def __init__(self):\n",
    "    self.products = {}\n",
    "    self.category = {\"Food\": [\"Ramen\", \"Rolton\"]}\n",
    "    self.income = 0\n",
    "    self.potential_income = 0\n",
    "  \n",
    "  def add(self.product, amount):\n",
    "    self.products[product.name] = {\"amount\": amount, \"price\": product.price * 1.3, \"discount\": 0, \n",
    "                                   \"type\": product.type_}\n",
    "  \t\n",
    "    if self.category.get(product.type_):\n",
    "    \tif product.name not in self.category[product.type_]:\n",
    "        \tself.category[product.type_].append(product.name)\n",
    "        else:\n",
    "            self.category[product.type_] = [product.name]\n",
    "\n",
    "    \n",
    "\tdef sell_product(product_name, amount):\n",
    "        if product_name in self.products:\n",
    "            store_product_amount = self.products[product_name][\"amount\"]\n",
    "        \tif store_product_amount >= amount:\n",
    "            \tself.products[product_name][\"amount\"] -= amount\n",
    "            \tget_income(product_name, amount)\n",
    "          \telse:\n",
    "            \traise Exception(f\"Amount in store is {store_product_amount} and you tried to sell {amount}\")\n",
    "      \telse:\n",
    "        \traise Exception(f\"There is no {product_name} in store\")\n",
    "        \n",
    "\n",
    "        \n",
    "  \n",
    "# <Bohdan>\n",
    "  \n",
    "  def get_potenial_income(self):\n",
    "    '''\n",
    "    Returns potentia amount of money could be earned by ProductStore instance.\n",
    "    '''\n",
    "    for product in self.products.items():\n",
    "      self.income += product['amount'] * product['price']\n",
    "      \n",
    "\t\n",
    "  def get_income(self, product_name, amount):\n",
    "    '''\n",
    "    Returns amount of many earned by ProductStore instance.\n",
    "    '''\n",
    "    provider_price = self.products[product_name]['price'] / 1.3\n",
    "    current_product_price = self.products[product_name]['price'] \n",
    "    delta = (self.products[product_name]['price'] / 1.3)\n",
    "    self.income += (self.products[product_name]['price'] / 1.3) * amount\n",
    "    # 10, 13 -> 3$\n",
    "    # 13 7.5 50% ->  \n",
    "    \n",
    "# </Bohdan>\n",
    "  \n",
    "  \n",
    "            \n",
    "s = ProductStore()\n",
    "p1 = Product('Food', 'Ramen', 10)\n",
    "p2 = Product('Food', 'Mivina', 5)\n",
    "s.add(p1, 10) # category = {\"Food\": [\"Ramen\"]}; products = {\"Ramen\": {\"amount\": 10, \"price\": 13, \"discount\": 0}}\n",
    "s.add(p2, 30) # category = {\"Food\": [\"Ramen\", \"Mivina\"]}; products = {\"Ramen\": {\"amount\": 10, \"price\": 13, \"discount\": 0}.\n",
    "\t\t\t  #\t\t\t\t\t\t\t\t\t\t\t\t\t      \"Mivina\": {\"amount\": 30, \"price\": 6.5, \"discount\": 0}}\n",
    "# Olesia\n",
    "\n",
    "  def get_all_products(self):\n",
    "    for index, product in enumerate(self.products):\n",
    "      print(f\"\"\"\n",
    "      \t\t№{index}\n",
    "            Product name: {product}\n",
    "            Produtct type: {self.products[product][\"type\"]}\n",
    "            Price: {self.products[product][\"price\"]}\n",
    "            Discount: {self.products[product][\"discount\"]}\n",
    "            Amount in store: {self.products[product][\"amount\"]}\n",
    "            \"\"\", end = \"\\n\") \n",
    "\n",
    "  \n",
    "  \n",
    "  \n",
    "  \n",
    "# №1\n",
    "# Product name: ...\n",
    "# Produtct type: ...\n",
    "# Price: ...$\n",
    "# Discount: ...%\n",
    "# Amount in store: ...\n",
    "  \n",
    "  \n",
    "  \n",
    "#   Yuriy\n",
    "# returns a tuple with product name and amount of items in the store\n",
    "\tdef get_product_info(self, product_name):\n",
    "    \tif self.products[product_name] in [self.product_names]\n",
    "    \t\treturn (product_name, amount)\n",
    "  \n",
    "  \n",
    "  \n",
    "  \n",
    "  \n",
    "#Anna\n",
    "\tdef set_discount(self, identifier, percent, identifier_type='name'):\n",
    "      for key, product in self.products.items():\n",
    "        if identifier in key:\n",
    "\t\t\tproduct.price = product.set_discount(-percent)                    "
   ]
  }
 ],
 "metadata": {
  "kernelspec": {
   "display_name": "Python 3 (ipykernel)",
   "language": "python",
   "name": "python3"
  },
  "language_info": {
   "codemirror_mode": {
    "name": "ipython",
    "version": 3
   },
   "file_extension": ".py",
   "mimetype": "text/x-python",
   "name": "python",
   "nbconvert_exporter": "python",
   "pygments_lexer": "ipython3",
   "version": "3.9.12"
  }
 },
 "nbformat": 4,
 "nbformat_minor": 5
}
