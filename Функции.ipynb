{
 "cells": [
  {
   "cell_type": "code",
   "execution_count": 3,
   "id": "44fe3f06",
   "metadata": {},
   "outputs": [],
   "source": [
    "def print_name(name: str) -> str:\n",
    "    return f\"Hello, {name}\""
   ]
  },
  {
   "cell_type": "code",
   "execution_count": 5,
   "id": "b6c5a90b",
   "metadata": {},
   "outputs": [
    {
     "data": {
      "text/plain": [
       "'Hello, Andrii'"
      ]
     },
     "execution_count": 5,
     "metadata": {},
     "output_type": "execute_result"
    }
   ],
   "source": [
    "print_name(name = \"Andrii\")"
   ]
  },
  {
   "cell_type": "code",
   "execution_count": 10,
   "id": "40024851",
   "metadata": {},
   "outputs": [
    {
     "name": "stdout",
     "output_type": "stream",
     "text": [
      "* * * *** *** ***** "
     ]
    }
   ],
   "source": [
    "# Tree size: 3\n",
    "#   *\n",
    "#  ***\n",
    "# *****\n",
    "\n",
    "def print_tree(n: int) -> None:\n",
    "    for i in range(n): # i = 1\n",
    "        print(\"\", end=\"\")\n",
    "        for j in range(n-i): # j = 0, 1\n",
    "            print(\"*\" * (2*i + 1), end=\" \")\n",
    "\n",
    "print_tree(3)"
   ]
  },
  {
   "cell_type": "code",
   "execution_count": 17,
   "id": "77b14f2f",
   "metadata": {},
   "outputs": [
    {
     "name": "stdout",
     "output_type": "stream",
     "text": [
      "  *\n",
      " ***\n",
      "*****\n"
     ]
    }
   ],
   "source": [
    "def print_tree(n):\n",
    "    # n = 3\n",
    "    for i in range(n): # i = 1\n",
    "        for j in range(n-i-1): # j = 0, 1\n",
    "            print(' ', end = '')\n",
    "        for k in range(2*i +1): # k = 0, 1, 2\n",
    "            print('*', end = '')\n",
    "        print()\n",
    "        \n",
    "print_tree(n=3)"
   ]
  },
  {
   "cell_type": "code",
   "execution_count": null,
   "id": "bde654be",
   "metadata": {},
   "outputs": [],
   "source": [
    "\" \" * i + \"*\" * j\n",
    "\" \" * 3 + \"*\" * 1\n",
    "\" \" * 2 + \"*\" * 3\n",
    "\" \" * 1 + \"*\" * 5"
   ]
  },
  {
   "cell_type": "code",
   "execution_count": 25,
   "id": "575794b6",
   "metadata": {},
   "outputs": [],
   "source": [
    "def print_tree(n: int) -> str: \n",
    "    tree = \"\"\n",
    "    for i in range(n): # n = 3, i = 0, 1, 2\n",
    "        tree += \" \" * (n - i) + \"*\" * (2*i + 1) + \"\\n\"\n",
    "    \n",
    "    return tree"
   ]
  },
  {
   "cell_type": "code",
   "execution_count": 26,
   "id": "63519f33",
   "metadata": {},
   "outputs": [
    {
     "name": "stdout",
     "output_type": "stream",
     "text": [
      "   *\n",
      "  ***\n",
      " *****\n",
      "\n"
     ]
    }
   ],
   "source": [
    "tree = print_tree(n = 3)\n",
    "print(tree)"
   ]
  },
  {
   "cell_type": "code",
   "execution_count": null,
   "id": "49e4827a",
   "metadata": {},
   "outputs": [],
   "source": [
    "# def task1(1, 2, 3, 4, 4, 4, 4, 4, 4, 5, 6, 7, 4, 2, 2, 5) -> 6, 4"
   ]
  },
  {
   "cell_type": "code",
   "execution_count": 98,
   "id": "c82aae13",
   "metadata": {},
   "outputs": [],
   "source": [
    "def max_sequence_numbers(*args):\n",
    "    counter = 1\n",
    "    max_lenght_seq = 1\n",
    "    idx = 0\n",
    "    \n",
    "    if len(args): # Якщо є аргументи\n",
    "        number = args[0] # То число, яке має найбільшу довжину ініціалізується як перший аргумент. В подальшому\n",
    "                         # може змінитись\n",
    "    else:\n",
    "        return 0, None # Якщо аргументів в функцію не задали, то повертаємо макс. довж. 0, а число None\n",
    "    \n",
    "    previous = None # В цій змінній зберігаємо попереднє значення\n",
    "    for current in args: # Змінна current відповідає за тепершнє значення\n",
    "        \n",
    "        if (current == previous) and not (idx == len(args) - 1):\n",
    "            counter += 1 # Якщо наступний дорівнює попердньому, то counter інкрементується\n",
    "        else:\n",
    "            if counter > max_lenght_seq: # Якщо довжина теперішньї послідовності більше попередньої довжини\n",
    "                max_lenght_seq = counter # То тепер це максимальна довжина послідовності\n",
    "                number = previous # Число яке має максимальну послідовність дорівнює попередньому значення\n",
    "            \n",
    "            counter = 1\n",
    "            \n",
    "        previous = current # Тут поперднє значення буде приймати теперешнє\n",
    "        idx += 1\n",
    "    \n",
    "    return max_lenght_seq, number"
   ]
  },
  {
   "cell_type": "code",
   "execution_count": 99,
   "id": "31963121",
   "metadata": {},
   "outputs": [
    {
     "data": {
      "text/plain": [
       "(7, 5)"
      ]
     },
     "execution_count": 99,
     "metadata": {},
     "output_type": "execute_result"
    }
   ],
   "source": [
    "max_sequence_numbers(1, 2, 3, 4, 4, 4, 4, 4, 4, 5, 6, 7, 4, 2, 2, 5, 5, 5, 5, 5, 5, 5, 5)"
   ]
  },
  {
   "cell_type": "code",
   "execution_count": 93,
   "id": "770264ba",
   "metadata": {},
   "outputs": [
    {
     "data": {
      "text/plain": [
       "(1, 1)"
      ]
     },
     "execution_count": 93,
     "metadata": {},
     "output_type": "execute_result"
    }
   ],
   "source": [
    "max_sequence_numbers(1)"
   ]
  },
  {
   "cell_type": "code",
   "execution_count": 94,
   "id": "5f6e0f64",
   "metadata": {},
   "outputs": [
    {
     "data": {
      "text/plain": [
       "(0, None)"
      ]
     },
     "execution_count": 94,
     "metadata": {},
     "output_type": "execute_result"
    }
   ],
   "source": [
    "max_sequence_numbers()"
   ]
  },
  {
   "cell_type": "code",
   "execution_count": 84,
   "id": "318b219a",
   "metadata": {},
   "outputs": [
    {
     "ename": "TypeError",
     "evalue": "'int' object is not an iterator",
     "output_type": "error",
     "traceback": [
      "\u001b[0;31m---------------------------------------------------------------------------\u001b[0m",
      "\u001b[0;31mTypeError\u001b[0m                                 Traceback (most recent call last)",
      "Input \u001b[0;32mIn [84]\u001b[0m, in \u001b[0;36m<cell line: 2>\u001b[0;34m()\u001b[0m\n\u001b[1;32m      1\u001b[0m previous \u001b[38;5;241m=\u001b[39m \u001b[38;5;28;01mNone\u001b[39;00m\n\u001b[1;32m      2\u001b[0m \u001b[38;5;28;01mfor\u001b[39;00m i \u001b[38;5;129;01min\u001b[39;00m \u001b[38;5;28mrange\u001b[39m(\u001b[38;5;241m1\u001b[39m, \u001b[38;5;241m5\u001b[39m\u001b[38;5;241m+\u001b[39m\u001b[38;5;241m1\u001b[39m): \u001b[38;5;66;03m# 0, 1\u001b[39;00m\n\u001b[0;32m----> 3\u001b[0m     \u001b[38;5;28;43mnext\u001b[39;49m\u001b[43m(\u001b[49m\u001b[43mi\u001b[49m\u001b[43m)\u001b[49m\n\u001b[1;32m      4\u001b[0m     \u001b[38;5;28mprint\u001b[39m(previous, i)\n\u001b[1;32m      5\u001b[0m     previous \u001b[38;5;241m=\u001b[39m i\n",
      "\u001b[0;31mTypeError\u001b[0m: 'int' object is not an iterator"
     ]
    }
   ],
   "source": [
    "previous = None\n",
    "for i in range(1, 5+1): # 0, 1\n",
    "    print(previous, i)\n",
    "    previous = i"
   ]
  },
  {
   "cell_type": "code",
   "execution_count": 86,
   "id": "8b63745f",
   "metadata": {},
   "outputs": [
    {
     "ename": "TypeError",
     "evalue": "'int' object is not an iterator",
     "output_type": "error",
     "traceback": [
      "\u001b[0;31m---------------------------------------------------------------------------\u001b[0m",
      "\u001b[0;31mTypeError\u001b[0m                                 Traceback (most recent call last)",
      "Input \u001b[0;32mIn [86]\u001b[0m, in \u001b[0;36m<cell line: 2>\u001b[0;34m()\u001b[0m\n\u001b[1;32m      1\u001b[0m l \u001b[38;5;241m=\u001b[39m [\u001b[38;5;241m1\u001b[39m, \u001b[38;5;241m2\u001b[39m, \u001b[38;5;241m3\u001b[39m]\n\u001b[1;32m      2\u001b[0m \u001b[38;5;28;01mfor\u001b[39;00m i \u001b[38;5;129;01min\u001b[39;00m l:\n\u001b[0;32m----> 3\u001b[0m     \u001b[38;5;28mprint\u001b[39m(\u001b[38;5;28;43mnext\u001b[39;49m\u001b[43m(\u001b[49m\u001b[43mi\u001b[49m\u001b[43m)\u001b[49m)\n",
      "\u001b[0;31mTypeError\u001b[0m: 'int' object is not an iterator"
     ]
    }
   ],
   "source": [
    "l = [1, 2, 3]\n",
    "for i in l:\n",
    "    print(next(i))"
   ]
  },
  {
   "cell_type": "code",
   "execution_count": 106,
   "id": "4ed8ce9c",
   "metadata": {},
   "outputs": [],
   "source": [
    "def is_leap(year: int):\n",
    "    if ((year % 4 == 0) and (year % 100 != 0)) or (year % 400 == 0):\n",
    "        return True\n",
    "    \n",
    "    return False"
   ]
  },
  {
   "cell_type": "code",
   "execution_count": 111,
   "id": "8658d704",
   "metadata": {},
   "outputs": [
    {
     "data": {
      "text/plain": [
       "(True, False, True, False)"
      ]
     },
     "execution_count": 111,
     "metadata": {},
     "output_type": "execute_result"
    }
   ],
   "source": [
    "is_leap(2004), is_leap(1900), is_leap(2000), is_leap(1800)"
   ]
  },
  {
   "cell_type": "code",
   "execution_count": null,
   "id": "bcd42865",
   "metadata": {},
   "outputs": [],
   "source": [
    "f(x, y, color=None, weight=None):\n",
    "    if weight is None:\n",
    "        pass\n",
    "    else:\n",
    "        pass"
   ]
  },
  {
   "cell_type": "code",
   "execution_count": 103,
   "id": "981f7e74",
   "metadata": {},
   "outputs": [],
   "source": [
    "def garden(v: list) -> str:\n",
    "    age_garden = 29\n",
    "    \n",
    "    if \"tomato\" in v:\n",
    "        if \"melon\" in v:\n",
    "            return \"Good\"\n",
    "        \n",
    "        return \"I like tomato\"\n",
    "        \n",
    "    \n",
    "    return \"Bruh...\""
   ]
  },
  {
   "cell_type": "code",
   "execution_count": null,
   "id": "5da8786b",
   "metadata": {},
   "outputs": [],
   "source": [
    "x = 101\n",
    "def f(x):\n",
    "    global x\n",
    "    \n",
    "    x += 1\n",
    "    \n",
    "    return x\n"
   ]
  },
  {
   "cell_type": "code",
   "execution_count": 105,
   "id": "c4c015b2",
   "metadata": {},
   "outputs": [
    {
     "data": {
      "text/plain": [
       "'Bruh...'"
      ]
     },
     "execution_count": 105,
     "metadata": {},
     "output_type": "execute_result"
    }
   ],
   "source": [
    "garden([\"melon\", \"apple\"])"
   ]
  },
  {
   "cell_type": "code",
   "execution_count": null,
   "id": "8c71f82e",
   "metadata": {},
   "outputs": [],
   "source": [
    "# 2000 leap\n",
    "# 1900 not leap\n",
    "# 1992 leap"
   ]
  }
 ],
 "metadata": {
  "kernelspec": {
   "display_name": "Python 3 (ipykernel)",
   "language": "python",
   "name": "python3"
  },
  "language_info": {
   "codemirror_mode": {
    "name": "ipython",
    "version": 3
   },
   "file_extension": ".py",
   "mimetype": "text/x-python",
   "name": "python",
   "nbconvert_exporter": "python",
   "pygments_lexer": "ipython3",
   "version": "3.9.12"
  }
 },
 "nbformat": 4,
 "nbformat_minor": 5
}
