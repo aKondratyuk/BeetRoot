{
 "cells": [
  {
   "cell_type": "code",
   "execution_count": 61,
   "id": "6205abb2",
   "metadata": {},
   "outputs": [],
   "source": [
    "class Car:\n",
    "    cars_in_garage = 0\n",
    "    \n",
    "    def __init__(self, max_speed: int, color: str):\n",
    "        self.brand = \"Audi\"\n",
    "        self.max_speed = max_speed\n",
    "        self.color = color\n",
    "        Car.cars_in_garage += 1\n",
    "    \n",
    "    def assign_owner_name(self, name: str):\n",
    "        self.owner_name = name\n",
    "    \n",
    "    def get_owner_name(self):\n",
    "        try:\n",
    "            return self.owner_name\n",
    "        except AttributeError:\n",
    "            name = input(\"Enter owners name of this car: \")\n",
    "            self.assign_owner_name(name)\n",
    "            return self.owner_name"
   ]
  },
  {
   "cell_type": "code",
   "execution_count": 79,
   "id": "969ca22d",
   "metadata": {},
   "outputs": [
    {
     "name": "stdout",
     "output_type": "stream",
     "text": [
      "After do_local spam: 'test spam'\n",
      "After do_nonlocal spam: 'nonlocal spam'\n",
      "After do_global spam: 'nonlocal spam'\n",
      "In global scope: global spam\n"
     ]
    }
   ],
   "source": [
    "def scope_test():\n",
    "    def do_local():\n",
    "        spam = \"local spam\"\n",
    "        \n",
    "    def do_nonlocal():\n",
    "        nonlocal spam\n",
    "        spam = \"nonlocal spam\"\n",
    "    \n",
    "    def do_global():\n",
    "        global spam\n",
    "        spam = \"global spam\"\n",
    "    \n",
    "    spam = \"test spam\"\n",
    "    do_local()\n",
    "    print(f\"After do_local spam: '{spam}'\")\n",
    "    do_nonlocal()\n",
    "    print(f\"After do_nonlocal spam: '{spam}'\")\n",
    "    do_global()\n",
    "    print(f\"After do_global spam: '{spam}'\")\n",
    "\n",
    "scope_test()\n",
    "print(\"In global scope:\", spam)"
   ]
  },
  {
   "cell_type": "code",
   "execution_count": 62,
   "id": "8a25cda3",
   "metadata": {},
   "outputs": [
    {
     "name": "stdout",
     "output_type": "stream",
     "text": [
      "Audi\n",
      "250\n",
      "yellow\n"
     ]
    }
   ],
   "source": [
    "husbands_car = Car(max_speed = 250, color = \"yellow\")\n",
    "\n",
    "print(husbands_car.brand)\n",
    "print(husbands_car.max_speed)\n",
    "print(husbands_car.color)"
   ]
  },
  {
   "cell_type": "code",
   "execution_count": 63,
   "id": "a22ae598",
   "metadata": {},
   "outputs": [
    {
     "name": "stdout",
     "output_type": "stream",
     "text": [
      "Andrii\n"
     ]
    }
   ],
   "source": [
    "husbands_car.assign_owner_name(name = \"Andrii\")\n",
    "print(husbands_car.owner_name)"
   ]
  },
  {
   "cell_type": "code",
   "execution_count": 64,
   "id": "fb9d44d8",
   "metadata": {},
   "outputs": [
    {
     "name": "stdout",
     "output_type": "stream",
     "text": [
      "1\n"
     ]
    }
   ],
   "source": [
    "print(Car.cars_in_garage)"
   ]
  },
  {
   "cell_type": "code",
   "execution_count": 74,
   "id": "cc41aeee",
   "metadata": {},
   "outputs": [
    {
     "name": "stdout",
     "output_type": "stream",
     "text": [
      "Audi\n",
      "210\n",
      "red\n"
     ]
    }
   ],
   "source": [
    "wifes_car = Car(max_speed = 210, color = \"red\")\n",
    "\n",
    "print(wifes_car.brand)\n",
    "print(wifes_car.max_speed)\n",
    "print(wifes_car.color)"
   ]
  },
  {
   "cell_type": "code",
   "execution_count": 77,
   "id": "08f11c69",
   "metadata": {},
   "outputs": [
    {
     "name": "stdout",
     "output_type": "stream",
     "text": [
      "Julia\n"
     ]
    }
   ],
   "source": [
    "print(wifes_car.get_owner_name())"
   ]
  },
  {
   "cell_type": "code",
   "execution_count": 60,
   "id": "4ce13db7",
   "metadata": {},
   "outputs": [
    {
     "name": "stdout",
     "output_type": "stream",
     "text": [
      "Julia\n"
     ]
    }
   ],
   "source": [
    "print(wifes_car.get_owner_name())"
   ]
  },
  {
   "cell_type": "code",
   "execution_count": 78,
   "id": "b0fb4fc0",
   "metadata": {},
   "outputs": [
    {
     "name": "stdout",
     "output_type": "stream",
     "text": [
      "4\n"
     ]
    }
   ],
   "source": [
    "print(Car.cars_in_garage)"
   ]
  },
  {
   "cell_type": "code",
   "execution_count": 90,
   "id": "868394b6",
   "metadata": {},
   "outputs": [],
   "source": [
    "class RightTriangle:\n",
    "    # Anastasiya, # Dmytro\n",
    "    def __init__(self, a, b, c):\n",
    "        self.a = a\n",
    "        self.b = b\n",
    "        self.c = c\n",
    "  \n",
    "    def perimeter(self):\n",
    "        return self.a + self.b + self.c\n",
    "    \n",
    "    def get_area(self):\n",
    "      # a * b * 1/2\n",
    "        return self.a * self.b * 1/2\n",
    "\n",
    "triangle = RightTriangle(a = 10, b = 20, c = 30)\n",
    "triangle_2 = RightTriangle(a = 10, b = 20, c = 40)"
   ]
  },
  {
   "cell_type": "code",
   "execution_count": 97,
   "id": "dd89347e",
   "metadata": {},
   "outputs": [],
   "source": [
    "class Figures:\n",
    "    def __init__(self, fig, fig_name):\n",
    "        self.figurs = {fig_name[i]: fig[i] for i in range(len(fig))}"
   ]
  },
  {
   "cell_type": "code",
   "execution_count": 98,
   "id": "47f3e619",
   "metadata": {},
   "outputs": [],
   "source": [
    "fig = [triangle, triangle_2]\n",
    "fig_names = [\"triangle_first\", \"triangle_second\"]\n",
    "\n",
    "figures = Figures(fig, fig_names)"
   ]
  },
  {
   "cell_type": "code",
   "execution_count": 102,
   "id": "e711b67c",
   "metadata": {},
   "outputs": [
    {
     "data": {
      "text/plain": [
       "100.0"
      ]
     },
     "execution_count": 102,
     "metadata": {},
     "output_type": "execute_result"
    }
   ],
   "source": [
    "figures.figurs[\"triangle_first\"].get_area()"
   ]
  },
  {
   "cell_type": "code",
   "execution_count": 103,
   "id": "5a684f59",
   "metadata": {},
   "outputs": [],
   "source": [
    "def hipotenusa(right_triangle: object):\n",
    "    c = ((right_triangle.a ** 2 + right_triangle.b ** 2) ** 0.5)\n",
    "\n",
    "    if right_triangle.c == c:\n",
    "        print(\"Hipotenusa is correct\")\n",
    "    else:\n",
    "        print(f\"Hipotenusa should be {c}\")\n",
    "\n",
    "    return c"
   ]
  },
  {
   "cell_type": "code",
   "execution_count": 106,
   "id": "537ea877",
   "metadata": {},
   "outputs": [
    {
     "name": "stdout",
     "output_type": "stream",
     "text": [
      "Hipotenusa should be 22.360679774997898\n"
     ]
    },
    {
     "data": {
      "text/plain": [
       "22.360679774997898"
      ]
     },
     "execution_count": 106,
     "metadata": {},
     "output_type": "execute_result"
    }
   ],
   "source": [
    "hipotenusa(triangle)"
   ]
  },
  {
   "cell_type": "code",
   "execution_count": null,
   "id": "4253555e",
   "metadata": {},
   "outputs": [],
   "source": [
    "from math import pi\n",
    "\n",
    "\n",
    "class Circle\n",
    "  def __init__(self, r: int):\n",
    "    self.r = r\n",
    "  # Danil, # Yurii\n",
    "  def get_area(self):\n",
    "    return pi * self.r**2\n",
    "\n",
    "  def get_circumference(self):\n",
    "    self.circumference = 2*pi*self.r\n",
    "    return self.circumference \n",
    "    \n",
    "danil_circle = Circle(r=10)\n",
    "print(danil_circle.get_area())\n",
    "yurii_circle = Circle(r=10)\n",
    "print(yurii_circle.get_circumference())\n",
    "  \n",
    "class Square:\n",
    "  # Vlad, # Viktor\n",
    "  def __init__(self, a):\n",
    "    self.a = a\n",
    "\n",
    "  def get_perimetr(self):\n",
    "    return self.a * 4\n",
    "\n",
    "  def __call__(self):\n",
    "    return print(\"Perimetr = \", self.get_perimetr())\n",
    "\n",
    "square = Square(a = 10)\n",
    "square()\n",
    "\n",
    "    # a - сторона квадрата\n",
    "#     P = d × 2 × √2, где d — диагональ.\n",
    "\n",
    "\n",
    "\n",
    "\n",
    "class RightTriangle:\n",
    "  \t# Anastasiya, # Dmytro\n",
    "\tdef __init__(self, a, b, c):\n",
    "      \tself.a = a\n",
    "      \tself.b = b\n",
    "      \tself.c = c\n",
    "  \n",
    "\tdef perimeter(self):\n",
    "      \treturn self.a + self.b + self.c\n",
    "    \n",
    "\tdef get_area(self):\n",
    "      # a * b * 1/2\n",
    "      \treturn self.a * self.b * 1/2\n",
    "\n",
    "triangle = RightTriangle(a = 10, b = 20, c = 30)\n",
    "print(triangle.a)\n",
    "print(triangle.get_area())\n",
    "\n",
    "# triangle = RightTriangle(a = 10, b = 20, c = 30)\n",
    "# TypeError: RightTriangle() takes no arguments\n",
    "\n",
    "    \n",
    "  \n",
    "  # Olesya, Anna, Alena\n",
    "  # def func(Square, Circle) ---> чи можна вписати коло в квадрат\n",
    "  class PySolution:\n",
    "  \tdef __init__(self, r: int, a: int):\n",
    "    \tself.r = r # radius\n",
    "      \tself.a = a # square side\n",
    "    \n",
    "    def get_circle_area(self):\n",
    "      \treturn pi * self.r*2\n",
    "    \n",
    "    def get_squar_area(self):\n",
    "      \treturn self.a ** 2\n",
    "    \n",
    "    def __call__(self):\n",
    "        if self.get_circle_area() <= self.get_squar_area():\n",
    "            return True\n",
    "        else:\n",
    "            return False\n",
    "      \n",
    "          \n",
    "py_solution = PySolution(r = 10, a = 5)\n",
    "py_solution()\n",
    "\n",
    "  \n",
    "  # def func(RightTriangle) ---> знайти гіпотенузу прямокутного трикутника\n",
    " # class Hipot:\n",
    " #    def __init__(self, x, y):\n",
    " #        self.x = x\n",
    " #        self.y = y\n",
    "  \n",
    "def hipotenusa(right_triangle: object):\n",
    "    c = round(((right_triangle.a ** 2 + right_triangle.b ** 2) ** 0.5), 3)\n",
    "\n",
    "    if right_triangle.c == c:\n",
    "      print(\"Hipotenusa is correct\")\n",
    "    else:\n",
    "      print(f\"Hipotenusa should be {c}\")\n",
    "\n",
    "    return self.c\n",
    "    \n",
    "\n",
    "\n",
    "  # class Figures(fig: list, fig_name: list) ---> {fig_name: fig}\n",
    "  \n",
    "# [triangle_1, circle_1], [\"triangle\", \"circle\"]\n",
    "class Figures:\n",
    "\tdef __init__(self, fig, fig_name):\n",
    "    \tself.figurs = {fig[i]: fig_name[i] for i in range(len(fig))}\n",
    "\n",
    "\n",
    "# Vlad /Square / S\n",
    "\n",
    "class square:\n",
    "\tdef __init__(self, a: int):\n",
    "\t\tself.a = a\n",
    "\tdef count_S(self):\n",
    "\t\treturn self.a ** 2\n",
    "# I love math\n",
    "\n",
    "class RightTriangle:\n",
    "    # Anastasiya, # Dmytro\n",
    "    def __init__(self, a, b, c):\n",
    "        self.a = a\n",
    "        self.b = b\n",
    "        self.c = c\n",
    "  \n",
    "    def perimeter(self):\n",
    "        return self.a + self.b + self.c\n",
    "    \n",
    "    def get_area(self):\n",
    "      # a * b * 1/2\n",
    "        return self.a * self.b * 1/2\n",
    "\n",
    "triangle = RightTriangle(a = 10, b = 20, c = 30)\n",
    "print(triangle.a)\n",
    "\n",
    "#♥господи допоможи♥\n"
   ]
  }
 ],
 "metadata": {
  "kernelspec": {
   "display_name": "Python 3 (ipykernel)",
   "language": "python",
   "name": "python3"
  },
  "language_info": {
   "codemirror_mode": {
    "name": "ipython",
    "version": 3
   },
   "file_extension": ".py",
   "mimetype": "text/x-python",
   "name": "python",
   "nbconvert_exporter": "python",
   "pygments_lexer": "ipython3",
   "version": "3.9.12"
  }
 },
 "nbformat": 4,
 "nbformat_minor": 5
}
