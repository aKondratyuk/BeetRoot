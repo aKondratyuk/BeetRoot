{
 "cells": [
  {
   "cell_type": "code",
   "execution_count": 4,
   "id": "04dcb387",
   "metadata": {},
   "outputs": [
    {
     "data": {
      "text/plain": [
       "'h'"
      ]
     },
     "execution_count": 4,
     "metadata": {},
     "output_type": "execute_result"
    }
   ],
   "source": [
    "\"hello\"[0]"
   ]
  },
  {
   "cell_type": "code",
   "execution_count": 10,
   "id": "d44bd0f6",
   "metadata": {},
   "outputs": [
    {
     "data": {
      "text/plain": [
       "'?'"
      ]
     },
     "execution_count": 10,
     "metadata": {},
     "output_type": "execute_result"
    }
   ],
   "source": [
    "\"hello world. Hi my name is Andrii. How do you do?\"[-1]"
   ]
  },
  {
   "cell_type": "code",
   "execution_count": 11,
   "id": "b8a720ed",
   "metadata": {},
   "outputs": [
    {
     "data": {
      "text/plain": [
       "5"
      ]
     },
     "execution_count": 11,
     "metadata": {},
     "output_type": "execute_result"
    }
   ],
   "source": [
    "len(\"hello\")"
   ]
  },
  {
   "cell_type": "code",
   "execution_count": 13,
   "id": "a9df428a",
   "metadata": {},
   "outputs": [],
   "source": [
    "hello = \"hello\""
   ]
  },
  {
   "cell_type": "code",
   "execution_count": 15,
   "id": "f2116ffb",
   "metadata": {},
   "outputs": [
    {
     "data": {
      "text/plain": [
       "'o'"
      ]
     },
     "execution_count": 15,
     "metadata": {},
     "output_type": "execute_result"
    }
   ],
   "source": [
    "\"hello\"[len(hello) - 1]"
   ]
  },
  {
   "cell_type": "code",
   "execution_count": 17,
   "id": "165b17ef",
   "metadata": {},
   "outputs": [
    {
     "data": {
      "text/plain": [
       "'o'"
      ]
     },
     "execution_count": 17,
     "metadata": {},
     "output_type": "execute_result"
    }
   ],
   "source": [
    "\"hello\"[5 - 1]"
   ]
  },
  {
   "cell_type": "code",
   "execution_count": 21,
   "id": "236eacf9",
   "metadata": {},
   "outputs": [
    {
     "data": {
      "text/plain": [
       "2"
      ]
     },
     "execution_count": 21,
     "metadata": {},
     "output_type": "execute_result"
    }
   ],
   "source": [
    "\"Apple\".count(\"p\")"
   ]
  },
  {
   "cell_type": "code",
   "execution_count": null,
   "id": "6ffc9463",
   "metadata": {},
   "outputs": [],
   "source": [
    "# startswith\n",
    "# endswith"
   ]
  },
  {
   "cell_type": "code",
   "execution_count": 26,
   "id": "e5cbcd52",
   "metadata": {},
   "outputs": [
    {
     "data": {
      "text/plain": [
       "True"
      ]
     },
     "execution_count": 26,
     "metadata": {},
     "output_type": "execute_result"
    }
   ],
   "source": [
    "\"dashboard_may.xlsx\".endswith(\".xlsx\")"
   ]
  },
  {
   "cell_type": "code",
   "execution_count": 27,
   "id": "c86d2c05",
   "metadata": {},
   "outputs": [
    {
     "data": {
      "text/plain": [
       "True"
      ]
     },
     "execution_count": 27,
     "metadata": {},
     "output_type": "execute_result"
    }
   ],
   "source": [
    "\"dashboard_may.pptx\".endswith(\".pptx\")"
   ]
  },
  {
   "cell_type": "code",
   "execution_count": 28,
   "id": "3080e288",
   "metadata": {},
   "outputs": [
    {
     "data": {
      "text/plain": [
       "True"
      ]
     },
     "execution_count": 28,
     "metadata": {},
     "output_type": "execute_result"
    }
   ],
   "source": [
    "\"~$dashboard_may.xlsx\".startswith(\"~$\")"
   ]
  },
  {
   "cell_type": "code",
   "execution_count": 37,
   "id": "7d92cf70",
   "metadata": {},
   "outputs": [
    {
     "data": {
      "text/plain": [
       "True"
      ]
     },
     "execution_count": 37,
     "metadata": {},
     "output_type": "execute_result"
    }
   ],
   "source": [
    "\"21\".isdigit()"
   ]
  },
  {
   "cell_type": "code",
   "execution_count": 50,
   "id": "84ad8670",
   "metadata": {},
   "outputs": [
    {
     "data": {
      "text/plain": [
       "True"
      ]
     },
     "execution_count": 50,
     "metadata": {},
     "output_type": "execute_result"
    }
   ],
   "source": [
    "\"21\".isnumeric()"
   ]
  },
  {
   "cell_type": "code",
   "execution_count": 49,
   "id": "b5c2bade",
   "metadata": {},
   "outputs": [
    {
     "data": {
      "text/plain": [
       "['Hello', 'World']"
      ]
     },
     "execution_count": 49,
     "metadata": {},
     "output_type": "execute_result"
    }
   ],
   "source": [
    "\"Hello World\".split()"
   ]
  },
  {
   "cell_type": "code",
   "execution_count": 47,
   "id": "13088057",
   "metadata": {},
   "outputs": [
    {
     "data": {
      "text/plain": [
       "['dashboard_may', 'xlsx']"
      ]
     },
     "execution_count": 47,
     "metadata": {},
     "output_type": "execute_result"
    }
   ],
   "source": [
    "\"dashboard_may.xlsx\".split(\".\")"
   ]
  },
  {
   "cell_type": "code",
   "execution_count": 62,
   "id": "755b29d6",
   "metadata": {},
   "outputs": [
    {
     "data": {
      "text/plain": [
       "'dashboard_may.xlsx'"
      ]
     },
     "execution_count": 62,
     "metadata": {},
     "output_type": "execute_result"
    }
   ],
   "source": [
    "\".\".join(['dashboard_may', 'xlsx'])"
   ]
  },
  {
   "cell_type": "code",
   "execution_count": 65,
   "id": "5662d49f",
   "metadata": {},
   "outputs": [
    {
     "data": {
      "text/plain": [
       "['12', '5 13', '5']"
      ]
     },
     "execution_count": 65,
     "metadata": {},
     "output_type": "execute_result"
    }
   ],
   "source": [
    "\"12.5 13.5\".split(\".\")"
   ]
  },
  {
   "cell_type": "code",
   "execution_count": 66,
   "id": "cabdf3a3",
   "metadata": {},
   "outputs": [
    {
     "data": {
      "text/plain": [
       "'12,5 13,5'"
      ]
     },
     "execution_count": 66,
     "metadata": {},
     "output_type": "execute_result"
    }
   ],
   "source": [
    "\",\".join(['12', '5 13', '5'])"
   ]
  },
  {
   "cell_type": "code",
   "execution_count": 68,
   "id": "d500cf73",
   "metadata": {},
   "outputs": [
    {
     "data": {
      "text/plain": [
       "'12,5 13,5'"
      ]
     },
     "execution_count": 68,
     "metadata": {},
     "output_type": "execute_result"
    }
   ],
   "source": [
    "\"12.5 13.5\".replace(\".\", \",\")"
   ]
  },
  {
   "cell_type": "code",
   "execution_count": 69,
   "id": "c8f32fd7",
   "metadata": {},
   "outputs": [
    {
     "data": {
      "text/plain": [
       "'hello'"
      ]
     },
     "execution_count": 69,
     "metadata": {},
     "output_type": "execute_result"
    }
   ],
   "source": [
    "\"HELLo\".lower()"
   ]
  },
  {
   "cell_type": "code",
   "execution_count": null,
   "id": "4305942d",
   "metadata": {},
   "outputs": [],
   "source": [
    "str()\n",
    "int()\n",
    "float()"
   ]
  },
  {
   "cell_type": "code",
   "execution_count": 53,
   "id": "a566deb4",
   "metadata": {},
   "outputs": [
    {
     "data": {
      "text/plain": [
       "'100'"
      ]
     },
     "execution_count": 53,
     "metadata": {},
     "output_type": "execute_result"
    }
   ],
   "source": [
    "str(100)"
   ]
  },
  {
   "cell_type": "code",
   "execution_count": 61,
   "id": "f12d23cd",
   "metadata": {},
   "outputs": [
    {
     "data": {
      "text/plain": [
       "12"
      ]
     },
     "execution_count": 61,
     "metadata": {},
     "output_type": "execute_result"
    }
   ],
   "source": [
    "int(\"12\")"
   ]
  },
  {
   "cell_type": "code",
   "execution_count": 59,
   "id": "9e31888b",
   "metadata": {},
   "outputs": [
    {
     "data": {
      "text/plain": [
       "12.5"
      ]
     },
     "execution_count": 59,
     "metadata": {},
     "output_type": "execute_result"
    }
   ],
   "source": [
    "float(\"12.5\")"
   ]
  },
  {
   "cell_type": "code",
   "execution_count": 71,
   "id": "8d1c26cb",
   "metadata": {},
   "outputs": [
    {
     "data": {
      "text/plain": [
       "123"
      ]
     },
     "execution_count": 71,
     "metadata": {},
     "output_type": "execute_result"
    }
   ],
   "source": [
    "change_in_insurance_cost = 24000\n",
    "\n",
    "# Розбити через спліт повідомлення. Аргумент за замовчуванням\n",
    "# Джойнити через \", \""
   ]
  },
  {
   "cell_type": "code",
   "execution_count": 72,
   "id": "071ebbfa",
   "metadata": {},
   "outputs": [
    {
     "name": "stdout",
     "output_type": "stream",
     "text": [
      "The change in cost of insurance after increasing the age by 4 years is 0.0 dollars.\n"
     ]
    }
   ],
   "source": [
    "age = 28\n",
    "sex = 0\n",
    "bmi = 26.2\n",
    "num_of_children = 3\n",
    "smoker = 0\n",
    "\n",
    "# Add insurance estimate formula below\n",
    "insurance_cost = 250 * age - 128 * sex + 370 * bmi + 425 * num_of_children + 24000 * smoker - 12500\n",
    "\n",
    "new_insurance_cost = 250 * age - 128 * sex + 370 * bmi + 425 * num_of_children + 24000 * smoker - 12500\n",
    "\n",
    "change_in_insurance_cost = new_insurance_cost - insurance_cost\n",
    "\n",
    "change_in_insurance_cost_message = \"The change in cost of insurance after increasing the age by 4 years is \" + str(change_in_insurance_cost) + \" dollars.\"\n",
    "\n",
    "print(change_in_insurance_cost_message)"
   ]
  },
  {
   "cell_type": "code",
   "execution_count": 75,
   "id": "1288680a",
   "metadata": {},
   "outputs": [
    {
     "name": "stdout",
     "output_type": "stream",
     "text": [
      "['The', 'change', 'in', 'cost', 'of', 'insurance', 'after', 'increasing', 'the', 'age', 'by', '4', 'years', 'is', '0.0', 'dollars.']\n"
     ]
    }
   ],
   "source": [
    "array_of_words = change_in_insurance_cost_message.split()\n",
    "print(array_of_words)"
   ]
  },
  {
   "cell_type": "code",
   "execution_count": 77,
   "id": "d0546d63",
   "metadata": {},
   "outputs": [
    {
     "name": "stdout",
     "output_type": "stream",
     "text": [
      "The, change, in, cost, of, insurance, after, increasing, the, age, by, 4, years, is, 0.0, dollars.\n"
     ]
    }
   ],
   "source": [
    "my_new_message = \", \".join(array_of_words)\n",
    "print(my_new_message)"
   ]
  },
  {
   "cell_type": "code",
   "execution_count": 78,
   "id": "99be2bb5",
   "metadata": {},
   "outputs": [
    {
     "data": {
      "text/plain": [
       "'the, change, in, cost, of, insurance, after, increasing, the, age, by, 4, years, is, 0.0, dollars.'"
      ]
     },
     "execution_count": 78,
     "metadata": {},
     "output_type": "execute_result"
    }
   ],
   "source": [
    "my_new_message.lower()"
   ]
  },
  {
   "cell_type": "code",
   "execution_count": 86,
   "id": "925fb66b",
   "metadata": {},
   "outputs": [
    {
     "data": {
      "text/plain": [
       "True"
      ]
     },
     "execution_count": 86,
     "metadata": {},
     "output_type": "execute_result"
    }
   ],
   "source": [
    "# Перевіряє чи все коректно відповідно до алфавіту\n",
    "\"Mytextifcorrect\".isalpha()"
   ]
  },
  {
   "cell_type": "code",
   "execution_count": 92,
   "id": "0677efff",
   "metadata": {},
   "outputs": [
    {
     "data": {
      "text/plain": [
       "2"
      ]
     },
     "execution_count": 92,
     "metadata": {},
     "output_type": "execute_result"
    }
   ],
   "source": [
    "# Повертає індекс літери в слові ->\n",
    "\"Hello\".find(\"l\")"
   ]
  },
  {
   "cell_type": "code",
   "execution_count": 102,
   "id": "67a8ffcc",
   "metadata": {},
   "outputs": [
    {
     "data": {
      "text/plain": [
       "3"
      ]
     },
     "execution_count": 102,
     "metadata": {},
     "output_type": "execute_result"
    }
   ],
   "source": [
    "# Повертає індекс літери в слові. Тільки пошук йде з права на ліво <-\n",
    "\"Hello\".rfind(\"l\")"
   ]
  },
  {
   "cell_type": "code",
   "execution_count": 105,
   "id": "aa813d42",
   "metadata": {},
   "outputs": [
    {
     "data": {
      "text/plain": [
       "'l'"
      ]
     },
     "execution_count": 105,
     "metadata": {},
     "output_type": "execute_result"
    }
   ],
   "source": [
    "\"Hello\"[3]"
   ]
  },
  {
   "cell_type": "code",
   "execution_count": 96,
   "id": "145fee15",
   "metadata": {},
   "outputs": [
    {
     "data": {
      "text/plain": [
       "\"Ім'я\""
      ]
     },
     "execution_count": 96,
     "metadata": {},
     "output_type": "execute_result"
    }
   ],
   "source": [
    "'Ім\\'я'"
   ]
  },
  {
   "cell_type": "code",
   "execution_count": 101,
   "id": "5a266f6c",
   "metadata": {},
   "outputs": [
    {
     "data": {
      "text/plain": [
       "' \"Quote\" '"
      ]
     },
     "execution_count": 101,
     "metadata": {},
     "output_type": "execute_result"
    }
   ],
   "source": [
    "\" \\\"Quote\\\" \""
   ]
  },
  {
   "cell_type": "code",
   "execution_count": 106,
   "id": "8dc6b44e",
   "metadata": {},
   "outputs": [
    {
     "name": "stdout",
     "output_type": "stream",
     "text": [
      "3 1\n"
     ]
    }
   ],
   "source": [
    "a = 1\n",
    "b = 3\n",
    "\n",
    "a, b = b, a\n",
    "\n",
    "print(a, b)"
   ]
  },
  {
   "cell_type": "code",
   "execution_count": 117,
   "id": "088956a0",
   "metadata": {},
   "outputs": [
    {
     "name": "stdout",
     "output_type": "stream",
     "text": [
      "1 2 3 4\n"
     ]
    }
   ],
   "source": [
    "a, b, c, d = 1, 2, 3, 4\n",
    "print(a, b, c, d)"
   ]
  },
  {
   "cell_type": "code",
   "execution_count": 119,
   "id": "271d77d1",
   "metadata": {},
   "outputs": [
    {
     "name": "stdout",
     "output_type": "stream",
     "text": [
      "1 2 3 4\n"
     ]
    }
   ],
   "source": [
    "a, b, c, d = [1, 2, 3, 4]\n",
    "print(a, b, c, d)"
   ]
  },
  {
   "cell_type": "code",
   "execution_count": 118,
   "id": "995528bf",
   "metadata": {},
   "outputs": [
    {
     "name": "stdout",
     "output_type": "stream",
     "text": [
      "Hello 2\n"
     ]
    }
   ],
   "source": [
    "a, b = [\"Hello\", 2]\n",
    "print(a, b)"
   ]
  },
  {
   "cell_type": "code",
   "execution_count": 114,
   "id": "f7877c31",
   "metadata": {},
   "outputs": [
    {
     "data": {
      "text/plain": [
       "['Hello', 2]"
      ]
     },
     "execution_count": 114,
     "metadata": {},
     "output_type": "execute_result"
    }
   ],
   "source": [
    "[\"Hello\", 2]"
   ]
  },
  {
   "cell_type": "code",
   "execution_count": 120,
   "id": "9d77268c",
   "metadata": {},
   "outputs": [],
   "source": [
    "def func():\n",
    "    return \"Hello\", 28"
   ]
  },
  {
   "cell_type": "code",
   "execution_count": 123,
   "id": "9a3812f0",
   "metadata": {},
   "outputs": [
    {
     "name": "stdout",
     "output_type": "stream",
     "text": [
      "Hello 28\n"
     ]
    }
   ],
   "source": [
    "word, age = func()\n",
    "print(word, age)"
   ]
  },
  {
   "cell_type": "code",
   "execution_count": 124,
   "id": "bdd0d9cd",
   "metadata": {},
   "outputs": [],
   "source": [
    "g = 9.8\n",
    "mass = 3**10\n",
    "\n",
    "g, mass = 9.8, 3**10"
   ]
  },
  {
   "cell_type": "code",
   "execution_count": 125,
   "id": "cb66cf92",
   "metadata": {},
   "outputs": [
    {
     "data": {
      "text/plain": [
       "3"
      ]
     },
     "execution_count": 125,
     "metadata": {},
     "output_type": "execute_result"
    }
   ],
   "source": [
    "# Якщо є будь-яке від'ємне число, а нам необхідно з цього числа зробити додатнє\n",
    "# abs() - це модуль в математиці\n",
    "abs(-3)"
   ]
  },
  {
   "cell_type": "code",
   "execution_count": 126,
   "id": "b16be52c",
   "metadata": {},
   "outputs": [
    {
     "data": {
      "text/plain": [
       "6"
      ]
     },
     "execution_count": 126,
     "metadata": {},
     "output_type": "execute_result"
    }
   ],
   "source": [
    "abs(10 - 4)\n",
    "abs(4 - 10)"
   ]
  },
  {
   "cell_type": "code",
   "execution_count": 130,
   "id": "11a42f6f",
   "metadata": {},
   "outputs": [
    {
     "data": {
      "text/plain": [
       "10.553"
      ]
     },
     "execution_count": 130,
     "metadata": {},
     "output_type": "execute_result"
    }
   ],
   "source": [
    "round(10.5535, 3)"
   ]
  },
  {
   "cell_type": "code",
   "execution_count": 137,
   "id": "5575a079",
   "metadata": {},
   "outputs": [
    {
     "data": {
      "text/plain": [
       "False"
      ]
     },
     "execution_count": 137,
     "metadata": {},
     "output_type": "execute_result"
    }
   ],
   "source": [
    "0.1 + 0.2 == 0.3"
   ]
  },
  {
   "cell_type": "code",
   "execution_count": 135,
   "id": "f5ca2a9a",
   "metadata": {},
   "outputs": [
    {
     "data": {
      "text/plain": [
       "True"
      ]
     },
     "execution_count": 135,
     "metadata": {},
     "output_type": "execute_result"
    }
   ],
   "source": [
    "round(0.1 + 0.2, 2) == 0.3"
   ]
  },
  {
   "cell_type": "code",
   "execution_count": 138,
   "id": "88fe3e5e",
   "metadata": {},
   "outputs": [
    {
     "data": {
      "text/plain": [
       "True"
      ]
     },
     "execution_count": 138,
     "metadata": {},
     "output_type": "execute_result"
    }
   ],
   "source": [
    "3/10 == 0.3"
   ]
  },
  {
   "cell_type": "code",
   "execution_count": null,
   "id": "e6c3f994",
   "metadata": {},
   "outputs": [],
   "source": []
  },
  {
   "cell_type": "code",
   "execution_count": null,
   "id": "f16ae26e",
   "metadata": {},
   "outputs": [],
   "source": []
  },
  {
   "cell_type": "code",
   "execution_count": null,
   "id": "9a351b84",
   "metadata": {},
   "outputs": [],
   "source": []
  },
  {
   "cell_type": "code",
   "execution_count": null,
   "id": "4d5e455e",
   "metadata": {},
   "outputs": [],
   "source": []
  },
  {
   "cell_type": "code",
   "execution_count": null,
   "id": "5d5b76e5",
   "metadata": {},
   "outputs": [],
   "source": []
  },
  {
   "cell_type": "code",
   "execution_count": null,
   "id": "5d0485fa",
   "metadata": {},
   "outputs": [],
   "source": []
  },
  {
   "cell_type": "code",
   "execution_count": null,
   "id": "b76f938e",
   "metadata": {},
   "outputs": [],
   "source": []
  },
  {
   "cell_type": "code",
   "execution_count": null,
   "id": "2b401914",
   "metadata": {},
   "outputs": [],
   "source": []
  },
  {
   "cell_type": "code",
   "execution_count": null,
   "id": "454ac848",
   "metadata": {},
   "outputs": [],
   "source": []
  },
  {
   "cell_type": "code",
   "execution_count": null,
   "id": "13c94ee3",
   "metadata": {},
   "outputs": [],
   "source": []
  },
  {
   "cell_type": "code",
   "execution_count": null,
   "id": "a685379c",
   "metadata": {},
   "outputs": [],
   "source": []
  },
  {
   "cell_type": "code",
   "execution_count": 140,
   "id": "c29f224c",
   "metadata": {},
   "outputs": [
    {
     "data": {
      "text/plain": [
       "'o'"
      ]
     },
     "execution_count": 140,
     "metadata": {},
     "output_type": "execute_result"
    }
   ],
   "source": [
    "\"Laptop\"[-2]\n",
    "\"Laptop\"[4]"
   ]
  },
  {
   "cell_type": "code",
   "execution_count": 141,
   "id": "15687e66",
   "metadata": {},
   "outputs": [
    {
     "data": {
      "text/plain": [
       "3"
      ]
     },
     "execution_count": 141,
     "metadata": {},
     "output_type": "execute_result"
    }
   ],
   "source": [
    "\"Microwaveee\".count(\"e\")"
   ]
  },
  {
   "cell_type": "code",
   "execution_count": 144,
   "id": "9ae3947d",
   "metadata": {},
   "outputs": [
    {
     "data": {
      "text/plain": [
       "'SHUT UP'"
      ]
     },
     "execution_count": 144,
     "metadata": {},
     "output_type": "execute_result"
    }
   ],
   "source": [
    "\"SHUT UP\".lower()\n",
    "\"shut up\".upper()"
   ]
  },
  {
   "cell_type": "code",
   "execution_count": 145,
   "id": "22815138",
   "metadata": {},
   "outputs": [
    {
     "data": {
      "text/plain": [
       "'So What'"
      ]
     },
     "execution_count": 145,
     "metadata": {},
     "output_type": "execute_result"
    }
   ],
   "source": [
    "\"so what\".title()"
   ]
  },
  {
   "cell_type": "code",
   "execution_count": 150,
   "id": "b11a978f",
   "metadata": {},
   "outputs": [
    {
     "data": {
      "text/plain": [
       "'12'"
      ]
     },
     "execution_count": 150,
     "metadata": {},
     "output_type": "execute_result"
    }
   ],
   "source": [
    "float(\"12.5\")\n",
    "int(\"12\")\n",
    "str(12)"
   ]
  },
  {
   "cell_type": "code",
   "execution_count": 151,
   "id": "07efd11d",
   "metadata": {},
   "outputs": [
    {
     "data": {
      "text/plain": [
       "['Hello', 'what', 'is', 'your', 'name']"
      ]
     },
     "execution_count": 151,
     "metadata": {},
     "output_type": "execute_result"
    }
   ],
   "source": [
    "\"Hello what is your name\".split()"
   ]
  },
  {
   "cell_type": "code",
   "execution_count": 152,
   "id": "decffcbe",
   "metadata": {},
   "outputs": [
    {
     "data": {
      "text/plain": [
       "'Hello.what.is.your.name'"
      ]
     },
     "execution_count": 152,
     "metadata": {},
     "output_type": "execute_result"
    }
   ],
   "source": [
    "\".\".join(['Hello', 'what', 'is', 'your', 'name'])"
   ]
  },
  {
   "cell_type": "code",
   "execution_count": 156,
   "id": "eee3ef87",
   "metadata": {},
   "outputs": [
    {
     "data": {
      "text/plain": [
       "123"
      ]
     },
     "execution_count": 156,
     "metadata": {},
     "output_type": "execute_result"
    }
   ],
   "source": [
    "round(123.67, 1)\n",
    "int(123.67)"
   ]
  },
  {
   "cell_type": "code",
   "execution_count": 160,
   "id": "d7dc3229",
   "metadata": {},
   "outputs": [
    {
     "data": {
      "text/plain": [
       "'12'"
      ]
     },
     "execution_count": 160,
     "metadata": {},
     "output_type": "execute_result"
    }
   ],
   "source": [
    "\"12.5\".find(\".\")\n",
    "\"12.5\"[:2]"
   ]
  },
  {
   "cell_type": "code",
   "execution_count": 161,
   "id": "d8420b18",
   "metadata": {},
   "outputs": [],
   "source": [
    "name = \"John\"\n",
    "age = 12\n",
    "national = \"Ukraine\"\n",
    "\n",
    "name, age, national = \"John\", 12, \"Ukraine\""
   ]
  },
  {
   "cell_type": "code",
   "execution_count": null,
   "id": "f28537d5",
   "metadata": {},
   "outputs": [],
   "source": []
  },
  {
   "cell_type": "code",
   "execution_count": null,
   "id": "20fe4b43",
   "metadata": {},
   "outputs": [],
   "source": []
  },
  {
   "cell_type": "code",
   "execution_count": null,
   "id": "19887468",
   "metadata": {},
   "outputs": [],
   "source": []
  },
  {
   "cell_type": "code",
   "execution_count": null,
   "id": "6cdb536e",
   "metadata": {},
   "outputs": [],
   "source": []
  },
  {
   "cell_type": "code",
   "execution_count": null,
   "id": "5d742f4b",
   "metadata": {},
   "outputs": [],
   "source": []
  },
  {
   "cell_type": "code",
   "execution_count": null,
   "id": "fd2716b5",
   "metadata": {},
   "outputs": [],
   "source": []
  },
  {
   "cell_type": "code",
   "execution_count": null,
   "id": "eef2f949",
   "metadata": {},
   "outputs": [],
   "source": []
  },
  {
   "cell_type": "code",
   "execution_count": null,
   "id": "616ffbc3",
   "metadata": {},
   "outputs": [],
   "source": []
  },
  {
   "cell_type": "code",
   "execution_count": null,
   "id": "a550c46d",
   "metadata": {},
   "outputs": [],
   "source": []
  },
  {
   "cell_type": "code",
   "execution_count": null,
   "id": "2113b48e",
   "metadata": {},
   "outputs": [],
   "source": []
  },
  {
   "cell_type": "code",
   "execution_count": null,
   "id": "fae1f028",
   "metadata": {},
   "outputs": [],
   "source": []
  },
  {
   "cell_type": "code",
   "execution_count": 166,
   "id": "6f4c0fb4",
   "metadata": {},
   "outputs": [
    {
     "name": "stdout",
     "output_type": "stream",
     "text": [
      "Hello\n"
     ]
    }
   ],
   "source": [
    "if True:\n",
    "    print(\"Hello\")\n",
    "else:\n",
    "    print(\"Hi\")"
   ]
  },
  {
   "cell_type": "code",
   "execution_count": 169,
   "id": "e0db9783",
   "metadata": {},
   "outputs": [
    {
     "name": "stdout",
     "output_type": "stream",
     "text": [
      "L\n"
     ]
    }
   ],
   "source": [
    "# True = 1\n",
    "# False = 0\n",
    "\n",
    "if 0:\n",
    "    print(\"H\")\n",
    "else:\n",
    "    print(\"L\")"
   ]
  },
  {
   "cell_type": "code",
   "execution_count": null,
   "id": "7fbf6286",
   "metadata": {},
   "outputs": [],
   "source": [
    "# True = це хочаб щось\n",
    "# False = це нічого або 0"
   ]
  },
  {
   "cell_type": "code",
   "execution_count": 174,
   "id": "ec327c02",
   "metadata": {},
   "outputs": [
    {
     "name": "stdout",
     "output_type": "stream",
     "text": [
      "Hello\n"
     ]
    }
   ],
   "source": [
    "and, or, not"
   ]
  },
  {
   "cell_type": "code",
   "execution_count": null,
   "id": "6278fd06",
   "metadata": {},
   "outputs": [],
   "source": [
    "# == - оператор порівняння"
   ]
  },
  {
   "cell_type": "code",
   "execution_count": 179,
   "id": "e40a1ba8",
   "metadata": {},
   "outputs": [
    {
     "name": "stdout",
     "output_type": "stream",
     "text": [
      "Ти можеш купити цигарки\n"
     ]
    }
   ],
   "source": [
    "age = 21\n",
    "sex = \"male\"\n",
    "\n",
    "if (age == 21) and (sex == \"male\"):\n",
    "    print(\"Ти можеш купити цигарки\")\n",
    "else:\n",
    "    print(\"Тобі не можна купувати цигарки, бо вік менше 21, або ти дівчина вагітна\")"
   ]
  },
  {
   "cell_type": "code",
   "execution_count": 181,
   "id": "87cb9ded",
   "metadata": {},
   "outputs": [],
   "source": [
    "age = 5\n",
    "sex = \"I don't tell you\"\n",
    "\n",
    "if (age == 21) or (sex == \"male\"):\n",
    "    print(\"OK\")\n",
    "\n",
    "# True True -> True\n",
    "# True False -> True\n",
    "# False True -> True\n",
    "# False False -> False"
   ]
  },
  {
   "cell_type": "code",
   "execution_count": 185,
   "id": "b7160952",
   "metadata": {},
   "outputs": [],
   "source": [
    "age = 21\n",
    "sex = \"male\"\n",
    "\n",
    "if (age == 21) and not(sex == \"male\"):\n",
    "    print(\"OK\")"
   ]
  },
  {
   "cell_type": "code",
   "execution_count": 187,
   "id": "c33eec02",
   "metadata": {},
   "outputs": [
    {
     "data": {
      "text/plain": [
       "True"
      ]
     },
     "execution_count": 187,
     "metadata": {},
     "output_type": "execute_result"
    }
   ],
   "source": [
    "7 in [1, 2, 5, 7]"
   ]
  },
  {
   "cell_type": "code",
   "execution_count": 188,
   "id": "a33c32aa",
   "metadata": {},
   "outputs": [],
   "source": [
    "word = \"Hello\"\n",
    "forbiden_words = [\"Pizza\", \"Ananas\"]"
   ]
  },
  {
   "cell_type": "code",
   "execution_count": 190,
   "id": "14664c02",
   "metadata": {},
   "outputs": [
    {
     "name": "stdout",
     "output_type": "stream",
     "text": [
      "Good\n"
     ]
    }
   ],
   "source": [
    "if word in forbiden_words:\n",
    "    print(\"Bad\")\n",
    "    \n",
    "if word not in forbiden_words:\n",
    "    print(\"Good\")"
   ]
  },
  {
   "cell_type": "code",
   "execution_count": 197,
   "id": "a65e481c",
   "metadata": {},
   "outputs": [],
   "source": [
    "# ==\n",
    "# >\n",
    "# <\n",
    "# >=\n",
    "# <=\n",
    "# !=\n",
    "\n",
    "age = 70\n",
    "\n",
    "#print(age)\n",
    "\n",
    "if (age >= 21) and (age <= 60):\n",
    "    print(\"Your age is good\")"
   ]
  },
  {
   "cell_type": "code",
   "execution_count": 198,
   "id": "2b2286e7",
   "metadata": {},
   "outputs": [
    {
     "data": {
      "text/plain": [
       "True"
      ]
     },
     "execution_count": 198,
     "metadata": {},
     "output_type": "execute_result"
    }
   ],
   "source": [
    "21 <= 50 <= 60 "
   ]
  },
  {
   "cell_type": "code",
   "execution_count": 201,
   "id": "2cc033e6",
   "metadata": {},
   "outputs": [
    {
     "name": "stdout",
     "output_type": "stream",
     "text": [
      "BAD\n"
     ]
    }
   ],
   "source": [
    "# None - пустота\n",
    "\n",
    "if None:\n",
    "    print(\"OK\")\n",
    "else:\n",
    "    print(\"BAD\")"
   ]
  },
  {
   "cell_type": "code",
   "execution_count": 206,
   "id": "fdd5ce41",
   "metadata": {},
   "outputs": [
    {
     "name": "stdout",
     "output_type": "stream",
     "text": [
      "hello\n"
     ]
    }
   ],
   "source": [
    "h = print(\"hello\")"
   ]
  },
  {
   "cell_type": "code",
   "execution_count": 208,
   "id": "0767423f",
   "metadata": {},
   "outputs": [
    {
     "data": {
      "text/plain": [
       "NoneType"
      ]
     },
     "execution_count": 208,
     "metadata": {},
     "output_type": "execute_result"
    }
   ],
   "source": [
    "type(h)"
   ]
  },
  {
   "cell_type": "code",
   "execution_count": 211,
   "id": "daff7cf7",
   "metadata": {},
   "outputs": [
    {
     "data": {
      "text/plain": [
       "True"
      ]
     },
     "execution_count": 211,
     "metadata": {},
     "output_type": "execute_result"
    }
   ],
   "source": [
    "h is None"
   ]
  },
  {
   "cell_type": "code",
   "execution_count": 213,
   "id": "78cab67b",
   "metadata": {},
   "outputs": [
    {
     "data": {
      "text/plain": [
       "True"
      ]
     },
     "execution_count": 213,
     "metadata": {},
     "output_type": "execute_result"
    }
   ],
   "source": [
    "age = 21\n",
    "\n",
    "type(age) is int"
   ]
  },
  {
   "cell_type": "code",
   "execution_count": null,
   "id": "374d371d",
   "metadata": {},
   "outputs": [],
   "source": [
    "# and, or, not, is, in"
   ]
  },
  {
   "cell_type": "code",
   "execution_count": 218,
   "id": "8b9819f4",
   "metadata": {},
   "outputs": [
    {
     "name": "stdout",
     "output_type": "stream",
     "text": [
      "OK_elif_2\n"
     ]
    }
   ],
   "source": [
    "if False:\n",
    "    print(\"OK\")\n",
    "elif False:\n",
    "    print(\"OK_elif_1\")\n",
    "elif True:\n",
    "    print(\"OK_elif_2\")\n",
    "else:\n",
    "    print(\"OK_else\")"
   ]
  },
  {
   "cell_type": "code",
   "execution_count": 225,
   "id": "c4211c87",
   "metadata": {},
   "outputs": [
    {
     "name": "stdout",
     "output_type": "stream",
     "text": [
      "ON\n",
      "OK\n",
      "Введіть слово ON/OFF\n",
      "OFF\n"
     ]
    }
   ],
   "source": [
    "GAME_ON = True\n",
    "\n",
    "while GAME_ON:\n",
    "    status = input()\n",
    "    \n",
    "    if status == \"ON\":\n",
    "        continue\n",
    "    elif status == \"OFF\":\n",
    "        break\n",
    "    else:\n",
    "        print(\"Введіть слово ON/OFF\", end=\"\\n\")"
   ]
  },
  {
   "cell_type": "code",
   "execution_count": null,
   "id": "fe9b2bc5",
   "metadata": {},
   "outputs": [],
   "source": [
    "# Дмитро, Олеся, Альона, Анастасія\n",
    "# (and) True True, False True\n",
    "\n",
    "# Богдан, Даніл, Євгеній, Роман\n",
    "# if, elif, elif not, else - щоб все виконалось по одному разу. Придумати 4 кейси\n",
    "\n",
    "# Анна, Юлія, Юрій, Віктор, Влад\n",
    "# if, elif, else or, is, None"
   ]
  },
  {
   "cell_type": "code",
   "execution_count": null,
   "id": "a4be0edc",
   "metadata": {},
   "outputs": [],
   "source": [
    "weight = 70 # kg\n",
    "height = 180 # cm\n",
    "\n",
    "print(\"1. Venus  2. Mars  3. Jupiter\")\n",
    "print(\"\")"
   ]
  },
  {
   "cell_type": "code",
   "execution_count": 226,
   "id": "5143287c",
   "metadata": {},
   "outputs": [
    {
     "name": "stdout",
     "output_type": "stream",
     "text": [
      "Both are True\n",
      "One is False\n"
     ]
    }
   ],
   "source": [
    "# ДМИТРО, Олеся, Альона, Анастасія\n",
    "a = 15\n",
    "b = 30\n",
    "c = 45\n",
    "if a < b and c == 45:\n",
    "     print(\"Both are True\")\n",
    "if a > b and c == 45:\n",
    "    print(\"Both are True\")\n",
    "else:\n",
    "    print(\"One is False\")"
   ]
  },
  {
   "cell_type": "code",
   "execution_count": 231,
   "id": "9dd517c8",
   "metadata": {},
   "outputs": [
    {
     "name": "stdout",
     "output_type": "stream",
     "text": [
      "human:man\n",
      "status:disabled\n",
      "age:45\n",
      "you are not in the army now\n"
     ]
    }
   ],
   "source": [
    "# Богдан, ДАНІЛ, Євгеній, Роман\n",
    "human = input(\"human:\")\n",
    "status = input(\"status:\")\n",
    "age = int( input(\"age:\") )\n",
    "\n",
    "if (human == \"man\") and (60 > age > 18) and (status != \"disabled\"):\n",
    "    print(\"Youre in the army now\")\n",
    "elif (human == \"woman\") and (60 > age > 18) and (status != \"disabled\"):\n",
    "    print(\"You can be in the army now\")\n",
    "elif (human == \"man\" or human == \"woman\") and (60 > age > 18) and (status == \"disabled\"):\n",
    "    print(\"you are not in the army now\")\n",
    "else:\n",
    "    print(\"i dont know\")"
   ]
  },
  {
   "cell_type": "code",
   "execution_count": 234,
   "id": "980307d2",
   "metadata": {},
   "outputs": [
    {
     "name": "stdout",
     "output_type": "stream",
     "text": [
      "You are Male or Female and over 20\n"
     ]
    }
   ],
   "source": [
    "# Анна, ЮЛІЯ, Юрій, Віктор, Влад\n",
    "\n",
    "age = 20\n",
    "gender = \"Female\"\n",
    "if age >= 20 and gender is None:\n",
    "    print(\"You are over 20 and gender None\")\n",
    "elif age <20 and gender == None:\n",
    "    print(\"Your gender is none and you are very young\")\n",
    "elif age >= 20 and gender != None:\n",
    "    print(\"You are Male or Female and over 20\")\n",
    "elif age <20 and gender != None:\n",
    "    print(\"You are Male or Female and younger than 20\")\n",
    "else:\n",
    "    print(\"This is end\")"
   ]
  },
  {
   "cell_type": "code",
   "execution_count": 235,
   "id": "80a82299",
   "metadata": {},
   "outputs": [
    {
     "name": "stdout",
     "output_type": "stream",
     "text": [
      "Find someone to hug\n"
     ]
    }
   ],
   "source": [
    "# БОГДАН, Даніл, Євгеній, Роман\n",
    "\n",
    "sleepy, hungry, happy = 0, 0, 0\n",
    "if sleepy:\n",
    "    print('Go to bed')\n",
    "elif hungry:\n",
    "    print('Find some food')\n",
    "elif not happy:\n",
    "    print('Find someone to hug')\n",
    "else:\n",
    "    print('You are good')"
   ]
  },
  {
   "cell_type": "code",
   "execution_count": 240,
   "id": "95611825",
   "metadata": {},
   "outputs": [
    {
     "name": "stdout",
     "output_type": "stream",
     "text": [
      "вхід заборонено\n"
     ]
    }
   ],
   "source": [
    "# Дмитро, ОЛЕСЯ, Альона, Анастасія\n",
    "\n",
    "age = 23\n",
    "sex = \"men\"\n",
    "\n",
    "if (age >= 24) and (sex == \"men\"):\n",
    "    print (\"вхід вільний\")\n",
    "else:\n",
    "    print(\"вхід заборонено\")"
   ]
  },
  {
   "cell_type": "code",
   "execution_count": 242,
   "id": "e2e454cd",
   "metadata": {},
   "outputs": [
    {
     "name": "stdout",
     "output_type": "stream",
     "text": [
      "you are best man in the world\n"
     ]
    }
   ],
   "source": [
    "# Анна, Юлія, Юрій, ВІКТОР, Влад\n",
    "\n",
    "age = 29\n",
    "gender = \"male\"\n",
    "\n",
    "if age <= 21 and gender is True:\n",
    "    print(\"hello my friend\")\n",
    "elif age <= 27 and gender == \"female\" :\n",
    "    print(\"you are gold digger\")\n",
    "elif age == 28 or age == 29 and gender == \"male\":\n",
    "    print(\"you are best man in the world\")\n",
    "else:\n",
    "    print(\"so sorry\")"
   ]
  },
  {
   "cell_type": "code",
   "execution_count": 243,
   "id": "9e51813e",
   "metadata": {},
   "outputs": [
    {
     "name": "stdout",
     "output_type": "stream",
     "text": [
      "Купувати алкоголь неможна\n"
     ]
    }
   ],
   "source": [
    "# Дмитро, Олеся, Альона, АНАСТАСІЯ\n",
    "\n",
    "age = 17\n",
    "time = 8\n",
    "\n",
    "if (age > 18) and (9 < time < 21):\n",
    "    print(\"Можна купити алкоголь\")\n",
    "else:\n",
    "    print(\"Купувати алкоголь неможна\")"
   ]
  },
  {
   "cell_type": "code",
   "execution_count": 244,
   "id": "659f8680",
   "metadata": {},
   "outputs": [
    {
     "name": "stdout",
     "output_type": "stream",
     "text": [
      "Your age: 100\n",
      "Enter your age.\n"
     ]
    }
   ],
   "source": [
    "# АННА, Юлія, Юрій, Віктор, Влад\n",
    "\n",
    "age = int(input(\"Your age: \"))\n",
    "if (age < 4) or (age > 100):\n",
    "    print(\"Your tickets cost 0$.\")\n",
    "elif age < 18:\n",
    "    print(\"Your tickets cost 25$.\")\n",
    "elif age > 18 and age < 100:\n",
    "    print(\"Your tickets cost 40$.\")\n",
    "else:\n",
    "    print(\"Enter your age.\")"
   ]
  },
  {
   "cell_type": "code",
   "execution_count": null,
   "id": "0fcba796",
   "metadata": {},
   "outputs": [],
   "source": [
    "# ЮРІЙ\n",
    "\n",
    "age = int(input(\"Enter your age:\"))\n",
    "sex = \"male\"\n",
    "status = \"pregnant\"\n",
    "    \n",
    "if age is None:\n",
    "    print(\"You are obliged to enter your legal age\")\n",
    "if (age <= 21) and (sex == male):\n",
    "    print(\"You are not allowed to buy alcohol\")\n",
    "elif age>21 or sex!=male:\n",
    "    print(\"You are not allowed to buy alcohol untill 25\")\n",
    "elif age>25 and sex!=male and status == pregnant:\n",
    "    print(\"Pregnant females are not allowed to buy alcohol\")\n",
    "elif age>=21<25 and sex==female:\n",
    "    print(\"Female are not allowed to buy alcohol untill 25\")\n",
    "elif age>25<28 and sex is male:\n",
    "    print(\"Male are allowed to buy domestic alcohol\")\n",
    "elif age>28 and sex is male:\n",
    "    print(\"You are free to buy any kind of alcohol drinks\")\n",
    "else age>28 and sex is male:\n",
    "    print(\"You are free to buy any kind of alcohol drinks\")"
   ]
  },
  {
   "cell_type": "code",
   "execution_count": 246,
   "id": "6c256963",
   "metadata": {},
   "outputs": [
    {
     "name": "stdout",
     "output_type": "stream",
     "text": [
      "unknown\n"
     ]
    }
   ],
   "source": [
    "# Дмитро, Олеся, АЛЬОНА, Анастасія\n",
    "\n",
    "month = 'june'\n",
    "temp = 'cold'\n",
    "sky = 'clowdy'\n",
    "\n",
    "if (month == 'june') and temp == 'hot':\n",
    "     print(\"summer\")\n",
    "elif month == 'october' and sky == 'clowdy':\n",
    "    print(\"fall\")\n",
    "else:\n",
    "    print(\"unknown\") "
   ]
  },
  {
   "cell_type": "code",
   "execution_count": 247,
   "id": "d0fd7a6e",
   "metadata": {},
   "outputs": [
    {
     "name": "stdout",
     "output_type": "stream",
     "text": [
      "Вік:30\n",
      "Стать M/W:L\n",
      "зріст:180\n",
      "Что-то\n"
     ]
    }
   ],
   "source": [
    "# Анна, Юлія, Юрій, Віктор, ВЛАД\n",
    "\n",
    "age = input('Вік:')\n",
    "sex = input('Стать M/W:')\n",
    "growth = input('зріст:')\n",
    "age = int(age)\n",
    "growth= int(growth)\n",
    "sex=sex.upper()\n",
    "\n",
    "if (age < 18) and (sex == 'W'):\n",
    "    print('Ты мелкий, и девчока')\n",
    "elif sex == 'M':\n",
    "    print('Ты мальчик')\n",
    "elif growth > 220:\n",
    "    print('ну ты и шпала')\n",
    "elif growth < 120:\n",
    "    print('ну ты и каратышка')\n",
    "elif (age > 21) or (sex == \"M\"):\n",
    "    print('Что-то')\n",
    "else:\n",
    "    print('Ты ввел что-то неправильно')"
   ]
  },
  {
   "cell_type": "code",
   "execution_count": 256,
   "id": "9159b3df",
   "metadata": {},
   "outputs": [
    {
     "data": {
      "text/plain": [
       "3"
      ]
     },
     "execution_count": 256,
     "metadata": {},
     "output_type": "execute_result"
    }
   ],
   "source": [
    "i = 21\n",
    "\n",
    "i % 6"
   ]
  },
  {
   "cell_type": "code",
   "execution_count": 258,
   "id": "014e7c5e",
   "metadata": {},
   "outputs": [
    {
     "name": "stdout",
     "output_type": "stream",
     "text": [
      "Число непарне: 1\n",
      "Число парне: 2\n",
      "Число непарне: 3\n",
      "Число парне: 4\n",
      "Число непарне: 5\n",
      "Число парне: 6\n",
      "Число непарне: 7\n",
      "Число парне: 8\n",
      "Число непарне: 9\n",
      "Число парне: 10\n",
      "Число непарне: 11\n",
      "Число парне: 12\n",
      "Число непарне: 13\n",
      "Число парне: 14\n",
      "Число непарне: 15\n"
     ]
    }
   ],
   "source": [
    "number = 1\n",
    "our_treshold = 15 \n",
    "\n",
    "\n",
    "while number <= our_treshold:\n",
    "    if number % 2:\n",
    "        print(\"Число непарне:\", number)\n",
    "    else:\n",
    "        print(\"Число парне:\", number)\n",
    "    \n",
    "    number += 1"
   ]
  },
  {
   "cell_type": "code",
   "execution_count": null,
   "id": "716aeb08",
   "metadata": {},
   "outputs": [],
   "source": [
    "# leetcode, codewars, hackerank, w3schools"
   ]
  }
 ],
 "metadata": {
  "kernelspec": {
   "display_name": "Python 3 (ipykernel)",
   "language": "python",
   "name": "python3"
  },
  "language_info": {
   "codemirror_mode": {
    "name": "ipython",
    "version": 3
   },
   "file_extension": ".py",
   "mimetype": "text/x-python",
   "name": "python",
   "nbconvert_exporter": "python",
   "pygments_lexer": "ipython3",
   "version": "3.9.12"
  }
 },
 "nbformat": 4,
 "nbformat_minor": 5
}
