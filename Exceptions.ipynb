{
 "cells": [
  {
   "cell_type": "code",
   "execution_count": 13,
   "id": "679e8068",
   "metadata": {},
   "outputs": [
    {
     "name": "stdout",
     "output_type": "stream",
     "text": [
      "Your result 2.0\n",
      "I'm unstopable!!!\n"
     ]
    }
   ],
   "source": [
    "a = 10\n",
    "b = 5\n",
    "\n",
    "try:\n",
    "    result = a / b\n",
    "except ZeroDivisionError:\n",
    "    print(\"Error\")\n",
    "except TypeError:\n",
    "    print(\"You cannot divide int and str\")\n",
    "else:\n",
    "    print(f\"Your result {result}\")\n",
    "finally:\n",
    "    print(\"I'm unstopable!!!\")"
   ]
  },
  {
   "cell_type": "code",
   "execution_count": 43,
   "id": "93c304ad",
   "metadata": {},
   "outputs": [
    {
     "name": "stdout",
     "output_type": "stream",
     "text": [
      "Error happend. Something went wrong!\n",
      "?????????Error:  division by zero\n",
      "I'm unstopable!!!\n"
     ]
    }
   ],
   "source": [
    "a = 10\n",
    "b = 0\n",
    "\n",
    "try:\n",
    "    result = a / b\n",
    "except Exception as error:\n",
    "    print(\"Error happend. Something went wrong!\")\n",
    "    print(\"?????????Error: \", error)\n",
    "except ZeroDivisionError:\n",
    "    print(\"!!!!!!!!!Zero division\")\n",
    "else:\n",
    "    print(f\"Your result {result}\")\n",
    "finally:\n",
    "    print(\"I'm unstopable!!!\")"
   ]
  },
  {
   "cell_type": "code",
   "execution_count": null,
   "id": "943b8616",
   "metadata": {},
   "outputs": [],
   "source": [
    "try:\n",
    "    file = open(\"demofile.txt\")\n",
    "    try:\n",
    "        file.write(\"Hello, I opend file\")\n",
    "    except Exception as error:\n",
    "        print(\"Error happend. Something went wrong!\")\n",
    "        print(\"Error: \", error)\n",
    "    finally:\n",
    "        file.close()\n",
    "except:\n",
    "    print(\"I don't see file\")"
   ]
  },
  {
   "cell_type": "code",
   "execution_count": 21,
   "id": "913f2f97",
   "metadata": {},
   "outputs": [
    {
     "ename": "ValueError",
     "evalue": "Numbers can't be lower < 0. a = 10, b = -5",
     "output_type": "error",
     "traceback": [
      "\u001b[0;31m---------------------------------------------------------------------------\u001b[0m",
      "\u001b[0;31mValueError\u001b[0m                                Traceback (most recent call last)",
      "Input \u001b[0;32mIn [21]\u001b[0m, in \u001b[0;36m<cell line: 5>\u001b[0;34m()\u001b[0m\n\u001b[1;32m      3\u001b[0m b \u001b[38;5;241m=\u001b[39m \u001b[38;5;241m-\u001b[39m\u001b[38;5;241m5\u001b[39m\n\u001b[1;32m      5\u001b[0m \u001b[38;5;28;01mif\u001b[39;00m (a \u001b[38;5;241m<\u001b[39m \u001b[38;5;241m0\u001b[39m) \u001b[38;5;129;01mor\u001b[39;00m (b \u001b[38;5;241m<\u001b[39m \u001b[38;5;241m0\u001b[39m):\n\u001b[0;32m----> 6\u001b[0m     \u001b[38;5;28;01mraise\u001b[39;00m \u001b[38;5;167;01mValueError\u001b[39;00m(\u001b[38;5;124mf\u001b[39m\u001b[38;5;124m\"\u001b[39m\u001b[38;5;124mNumbers can\u001b[39m\u001b[38;5;124m'\u001b[39m\u001b[38;5;124mt be lower < 0. a = \u001b[39m\u001b[38;5;132;01m{\u001b[39;00ma\u001b[38;5;132;01m}\u001b[39;00m\u001b[38;5;124m, b = \u001b[39m\u001b[38;5;132;01m{\u001b[39;00mb\u001b[38;5;132;01m}\u001b[39;00m\u001b[38;5;124m\"\u001b[39m)\n",
      "\u001b[0;31mValueError\u001b[0m: Numbers can't be lower < 0. a = 10, b = -5"
     ]
    }
   ],
   "source": [
    "#try:\n",
    "a = 10\n",
    "b = -5\n",
    "\n",
    "if (a < 0) or (b < 0):\n",
    "    raise ValueError(f\"Numbers can't be lower < 0. a = {a}, b = {b}\")\n",
    "        \n",
    "# except ValueError:\n",
    "#     print(\"Numbers should be great than zero\")"
   ]
  },
  {
   "cell_type": "code",
   "execution_count": 28,
   "id": "c45a21a9",
   "metadata": {},
   "outputs": [
    {
     "name": "stdout",
     "output_type": "stream",
     "text": [
      "Enter integer number please: hello\n",
      "You typed: hello. But you need to enter integer!\n",
      "Enter integer number please: 10\n"
     ]
    }
   ],
   "source": [
    "DO = True\n",
    "\n",
    "while DO:\n",
    "    try:\n",
    "        number = input(\"Enter integer number please: \")\n",
    "        number = int(number)\n",
    "        break\n",
    "    except ValueError:\n",
    "        print(f\"You typed: {number}. But you need to enter integer!\")"
   ]
  },
  {
   "cell_type": "code",
   "execution_count": 39,
   "id": "cce4f5ca",
   "metadata": {},
   "outputs": [],
   "source": [
    "def test():\n",
    "    try:\n",
    "        1 / 0\n",
    "    except ZeroDivisionError:\n",
    "        return 1\n",
    "    finally:\n",
    "        return 0"
   ]
  },
  {
   "cell_type": "code",
   "execution_count": 40,
   "id": "a5276e48",
   "metadata": {},
   "outputs": [
    {
     "data": {
      "text/plain": [
       "0"
      ]
     },
     "execution_count": 40,
     "metadata": {},
     "output_type": "execute_result"
    }
   ],
   "source": [
    "test()"
   ]
  },
  {
   "cell_type": "code",
   "execution_count": null,
   "id": "93a74a8d",
   "metadata": {},
   "outputs": [],
   "source": [
    "try:\n",
    "    #\n",
    "except TypeError:\n",
    "    #\n",
    "except ZeroDivisionError:\n",
    "    #\n",
    "except Exception:\n",
    "    #"
   ]
  },
  {
   "cell_type": "code",
   "execution_count": null,
   "id": "59401da5",
   "metadata": {},
   "outputs": [],
   "source": [
    "try:\n",
    "    #\n",
    "except Exception:\n",
    "    pass"
   ]
  },
  {
   "cell_type": "code",
   "execution_count": null,
   "id": "61e55d29",
   "metadata": {},
   "outputs": [],
   "source": [
    "\"BANANA\"\n",
    "\n",
    "\"ANA\", 2\n",
    "\"BA\", 1\n",
    "\"NA\", 2\n",
    "\"A\", 3"
   ]
  },
  {
   "cell_type": "code",
   "execution_count": null,
   "id": "c1b7d1d8",
   "metadata": {},
   "outputs": [],
   "source": [
    "###  x 0 x\n",
    "###  x x 0\n",
    "###  0 x 0"
   ]
  },
  {
   "cell_type": "code",
   "execution_count": 46,
   "id": "5eb5eee7",
   "metadata": {},
   "outputs": [
    {
     "name": "stdout",
     "output_type": "stream",
     "text": [
      "0\n"
     ]
    }
   ],
   "source": [
    "while True:\n",
    "    try:\n",
    "        a = input()\n",
    "    finally:\n",
    "        if a == \"0\":\n",
    "            break"
   ]
  },
  {
   "cell_type": "code",
   "execution_count": 95,
   "id": "0a66ff5c",
   "metadata": {},
   "outputs": [],
   "source": [
    "def count_substring(word: str, subword: str):\n",
    "    if len(subword) == 0:\n",
    "        raise ValueError(\"Subword cannot be empty!\")\n",
    "    \n",
    "    counter = 0\n",
    "    \n",
    "    while True:\n",
    "        idx = word.find(subword)\n",
    "        \n",
    "        if idx >= 0:\n",
    "            counter += 1\n",
    "            word = word[(idx + 1):]\n",
    "        else:\n",
    "            break\n",
    "    \n",
    "    return counter"
   ]
  },
  {
   "cell_type": "code",
   "execution_count": 104,
   "id": "3a334efa",
   "metadata": {},
   "outputs": [
    {
     "name": "stdout",
     "output_type": "stream",
     "text": [
      "You can write 0 if you want to exit program.\n",
      "Enter your subword: ANA\n",
      "Subword: ANA | score: 2\n",
      "Enter your subword: A\n",
      "Subword: A | score: 3\n",
      "Enter your subword: \n",
      "You cannot write empty string! Enter your subword: \n",
      "Subword:  | score: 3\n",
      "Enter your subword: 0\n",
      "Your total score: 5\n"
     ]
    }
   ],
   "source": [
    "word = \"BANANA\"\n",
    "\n",
    "print(\"You can write 0 if you want to exit program.\")\n",
    "\n",
    "total_score = 0\n",
    "while True:\n",
    "    user_subword = input(\"Enter your subword: \")\n",
    "    \n",
    "    if user_subword == \"0\":\n",
    "        print(f\"Your total score: {total_score}\")\n",
    "        break\n",
    "    try:\n",
    "        score = count_substring(word, user_subword)\n",
    "        total_score += score \n",
    "    except ValueError:\n",
    "        user_subword = input(\"You cannot write empty string! Enter your subword: \")\n",
    "    \n",
    "    print(f\"Subword: {user_subword} | score: {score}\")  "
   ]
  },
  {
   "cell_type": "code",
   "execution_count": null,
   "id": "f5ba1b5f",
   "metadata": {},
   "outputs": [],
   "source": [
    "# 1. Перезапустити ВЕСЬ цикл\n",
    "# 2. ЗРОБИТИ цикл функцією game()\n",
    "# 3. Вводимо ANA, отримає тотал скор 2, якщо повторно запишу ANA, то воно вже не має враховуватися\n",
    "# Тоді запросити в користувача ввести заново"
   ]
  },
  {
   "cell_type": "code",
   "execution_count": null,
   "id": "745fd349",
   "metadata": {},
   "outputs": [],
   "source": []
  },
  {
   "cell_type": "code",
   "execution_count": null,
   "id": "475d14cd",
   "metadata": {},
   "outputs": [],
   "source": []
  },
  {
   "cell_type": "code",
   "execution_count": 92,
   "id": "3d9e38d7",
   "metadata": {},
   "outputs": [
    {
     "data": {
      "text/plain": [
       "str"
      ]
     },
     "execution_count": 92,
     "metadata": {},
     "output_type": "execute_result"
    }
   ],
   "source": [
    "# \"\" == False"
   ]
  },
  {
   "cell_type": "code",
   "execution_count": 94,
   "id": "c35767c9",
   "metadata": {},
   "outputs": [
    {
     "ename": "ValueError",
     "evalue": "Subword cannot be empty!",
     "output_type": "error",
     "traceback": [
      "\u001b[0;31m---------------------------------------------------------------------------\u001b[0m",
      "\u001b[0;31mValueError\u001b[0m                                Traceback (most recent call last)",
      "Input \u001b[0;32mIn [94]\u001b[0m, in \u001b[0;36m<cell line: 1>\u001b[0;34m()\u001b[0m\n\u001b[0;32m----> 1\u001b[0m \u001b[43mcount_substring\u001b[49m\u001b[43m(\u001b[49m\u001b[38;5;124;43m\"\u001b[39;49m\u001b[38;5;124;43mBANANA\u001b[39;49m\u001b[38;5;124;43m\"\u001b[39;49m\u001b[43m,\u001b[49m\u001b[43m \u001b[49m\u001b[38;5;124;43m\"\u001b[39;49m\u001b[38;5;124;43m\"\u001b[39;49m\u001b[43m)\u001b[49m\n",
      "Input \u001b[0;32mIn [93]\u001b[0m, in \u001b[0;36mcount_substring\u001b[0;34m(word, subword)\u001b[0m\n\u001b[1;32m      1\u001b[0m \u001b[38;5;28;01mdef\u001b[39;00m \u001b[38;5;21mcount_substring\u001b[39m(word: \u001b[38;5;28mstr\u001b[39m, subword: \u001b[38;5;28mstr\u001b[39m):\n\u001b[1;32m      2\u001b[0m     \u001b[38;5;28;01mif\u001b[39;00m \u001b[38;5;28mlen\u001b[39m(subword) \u001b[38;5;241m==\u001b[39m \u001b[38;5;241m0\u001b[39m:\n\u001b[0;32m----> 3\u001b[0m         \u001b[38;5;28;01mraise\u001b[39;00m \u001b[38;5;167;01mValueError\u001b[39;00m(\u001b[38;5;124m\"\u001b[39m\u001b[38;5;124mSubword cannot be empty!\u001b[39m\u001b[38;5;124m\"\u001b[39m)\n\u001b[1;32m      5\u001b[0m     counter \u001b[38;5;241m=\u001b[39m \u001b[38;5;241m0\u001b[39m\n\u001b[1;32m      7\u001b[0m     \u001b[38;5;28;01mwhile\u001b[39;00m \u001b[38;5;28;01mTrue\u001b[39;00m:\n",
      "\u001b[0;31mValueError\u001b[0m: Subword cannot be empty!"
     ]
    }
   ],
   "source": [
    "count_substring(\"BANANA\", \"\")"
   ]
  },
  {
   "cell_type": "code",
   "execution_count": 65,
   "id": "1b997e26",
   "metadata": {},
   "outputs": [
    {
     "data": {
      "text/plain": [
       "-1"
      ]
     },
     "execution_count": 65,
     "metadata": {},
     "output_type": "execute_result"
    }
   ],
   "source": [
    "word.find(\"1ANA\")"
   ]
  },
  {
   "cell_type": "code",
   "execution_count": null,
   "id": "05c5ed8a",
   "metadata": {},
   "outputs": [],
   "source": [
    "\"NANA\""
   ]
  },
  {
   "cell_type": "code",
   "execution_count": 69,
   "id": "e2aebfc6",
   "metadata": {},
   "outputs": [
    {
     "data": {
      "text/plain": [
       "''"
      ]
     },
     "execution_count": 69,
     "metadata": {},
     "output_type": "execute_result"
    }
   ],
   "source": [
    "\"BANANA\"[6:]"
   ]
  },
  {
   "cell_type": "code",
   "execution_count": 62,
   "id": "25150524",
   "metadata": {},
   "outputs": [
    {
     "data": {
      "text/plain": [
       "1"
      ]
     },
     "execution_count": 62,
     "metadata": {},
     "output_type": "execute_result"
    }
   ],
   "source": [
    "\"NANA\".find(\"ANA\")"
   ]
  },
  {
   "cell_type": "code",
   "execution_count": null,
   "id": "a6c05169",
   "metadata": {},
   "outputs": [],
   "source": [
    "\"B\"\n",
    "\"BA\"\n",
    "\"BAN\"\n",
    "\"BANA\""
   ]
  },
  {
   "cell_type": "code",
   "execution_count": null,
   "id": "c6dc9974",
   "metadata": {},
   "outputs": [],
   "source": [
    "\"world\""
   ]
  },
  {
   "cell_type": "code",
   "execution_count": 110,
   "id": "69862038",
   "metadata": {},
   "outputs": [
    {
     "name": "stdout",
     "output_type": "stream",
     "text": [
      "9\n"
     ]
    }
   ],
   "source": []
  },
  {
   "cell_type": "code",
   "execution_count": null,
   "id": "4fe94c40",
   "metadata": {},
   "outputs": [],
   "source": []
  }
 ],
 "metadata": {
  "kernelspec": {
   "display_name": "Python 3 (ipykernel)",
   "language": "python",
   "name": "python3"
  },
  "language_info": {
   "codemirror_mode": {
    "name": "ipython",
    "version": 3
   },
   "file_extension": ".py",
   "mimetype": "text/x-python",
   "name": "python",
   "nbconvert_exporter": "python",
   "pygments_lexer": "ipython3",
   "version": "3.9.12"
  }
 },
 "nbformat": 4,
 "nbformat_minor": 5
}
