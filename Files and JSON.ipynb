{
 "cells": [
  {
   "cell_type": "code",
   "execution_count": 15,
   "id": "c9d904e5",
   "metadata": {},
   "outputs": [
    {
     "name": "stdout",
     "output_type": "stream",
     "text": [
      "['Volskwagen', 'Ford', 'Audi', 'KIA']\n"
     ]
    }
   ],
   "source": [
    "with open(\"cars.txt\", \"r\") as cars_file:\n",
    "    cars = [row.rstrip() for row in cars_file.readlines()]\n",
    "    \n",
    "print(cars)"
   ]
  },
  {
   "cell_type": "code",
   "execution_count": 6,
   "id": "d027388d",
   "metadata": {},
   "outputs": [
    {
     "data": {
      "text/plain": [
       "'Audi'"
      ]
     },
     "execution_count": 6,
     "metadata": {},
     "output_type": "execute_result"
    }
   ],
   "source": [
    "cars[0].rstrip()"
   ]
  },
  {
   "cell_type": "code",
   "execution_count": 2,
   "id": "45bfcc49",
   "metadata": {},
   "outputs": [
    {
     "data": {
      "text/plain": [
       "'Audi\\nBMW\\nHonda\\nKIA\\n'"
      ]
     },
     "execution_count": 2,
     "metadata": {},
     "output_type": "execute_result"
    }
   ],
   "source": [
    "cars"
   ]
  },
  {
   "cell_type": "code",
   "execution_count": 14,
   "id": "78bcb024",
   "metadata": {},
   "outputs": [],
   "source": [
    "with open(\"cars.txt\", \"a\") as cars_file:\n",
    "    cars_file.write(\"Audi\\nKIA\\n\")"
   ]
  },
  {
   "cell_type": "code",
   "execution_count": 16,
   "id": "efca02a1",
   "metadata": {},
   "outputs": [],
   "source": [
    "import json\n",
    "\n",
    "person = {\n",
    "    \"name\": \"John\",\n",
    "    \"age\": 30,\n",
    "    \"country\": \"Ukraine\",\n",
    "    \"city\": \"Kyiv\"\n",
    "}"
   ]
  },
  {
   "cell_type": "code",
   "execution_count": 20,
   "id": "a1e02981",
   "metadata": {},
   "outputs": [
    {
     "data": {
      "text/plain": [
       "'{\"name\": \"John\", \"age\": 30, \"country\": \"Ukraine\", \"city\": \"Kyiv\"}'"
      ]
     },
     "execution_count": 20,
     "metadata": {},
     "output_type": "execute_result"
    }
   ],
   "source": [
    "y = json.dumps(person)\n",
    "y"
   ]
  },
  {
   "cell_type": "code",
   "execution_count": 21,
   "id": "baff68f4",
   "metadata": {},
   "outputs": [
    {
     "data": {
      "text/plain": [
       "{'name': 'John', 'age': 30, 'country': 'Ukraine', 'city': 'Kyiv'}"
      ]
     },
     "execution_count": 21,
     "metadata": {},
     "output_type": "execute_result"
    }
   ],
   "source": [
    "json.loads(y)"
   ]
  },
  {
   "cell_type": "code",
   "execution_count": 25,
   "id": "760f3895",
   "metadata": {},
   "outputs": [],
   "source": [
    "with open(\"cars.json\", \"w\") as cars_file:\n",
    "    car = {\"car_brand\": \"Audi\", \"year\": \"2013\", \"engine\": {\"engine_type\": \"V8\", \"volume\": 3.2}}\n",
    "    json.dump(car, cars_file, indent=4)"
   ]
  },
  {
   "cell_type": "code",
   "execution_count": 31,
   "id": "2b4fdd6b",
   "metadata": {},
   "outputs": [
    {
     "data": {
      "text/plain": [
       "{'car_brand': 'Audi',\n",
       " 'year': '2013',\n",
       " 'engine': {'engine_type': 'V8', 'volume': 3.2}}"
      ]
     },
     "execution_count": 31,
     "metadata": {},
     "output_type": "execute_result"
    }
   ],
   "source": [
    "with open(\"cars.json\", \"r\") as cars_file:\n",
    "    car = json.loads(cars_file.read())\n",
    "\n",
    "car"
   ]
  },
  {
   "cell_type": "code",
   "execution_count": null,
   "id": "ae88cf0e",
   "metadata": {},
   "outputs": [],
   "source": [
    "\"+38096369897\": {\n",
    "    \"first_name\": \"John\",\n",
    "    \"last_name\": \"Smith\",\n",
    "    \"full_name\": \"John Smith\",\n",
    "    \"address\": {\n",
    "        \"state\": \"Kyiv oblast\",\n",
    "        \"city\": \"Kyiv\"\n",
    "    },\n",
    "}"
   ]
  },
  {
   "cell_type": "code",
   "execution_count": null,
   "id": "f7779ab9",
   "metadata": {},
   "outputs": [],
   "source": [
    "phonebook[\"+38096369897\"]"
   ]
  },
  {
   "cell_type": "code",
   "execution_count": 82,
   "id": "8ff90140",
   "metadata": {},
   "outputs": [],
   "source": [
    "import json\n",
    "\n",
    "\n",
    "def open_phonebook():\n",
    "    with open(\"phonebook.json\", \"r+\") as phonebook_file:\n",
    "        try:\n",
    "            phonebook = phonebook_file.read()\n",
    "            phonebook = json.loads(phonebook)\n",
    "        except json.JSONDecodeError:\n",
    "            phonebook = {}\n",
    "    \n",
    "    return phonebook\n",
    "\n",
    "\n",
    "# Перевірки у функції (опціонально)\n",
    "# delete_contact(phone_number)\n",
    "# update_contact(phone_number)\n",
    "\n",
    "# Перевірки для add_new_entry(): перевірка на кількість символів в ПІ та адресі, номер телефону\n",
    "# щоб не було пустих символів. Перевірка унікальності запису (контакта)\n",
    "\n",
    "# def find_by_first_name(first_name)\n",
    "# return:\n",
    "\"\"\"\n",
    "Контакти що знайдені по first_name: value\n",
    "\n",
    "1. First name: ---\n",
    "   Last name: ---\n",
    "   \n",
    "2. \n",
    "\n",
    "3.\n",
    "\"\"\"\n",
    "# while True:<--- це програма (додаток) в якому буде меню. Вийти з додатку це має бути опція меню \n",
    "\n",
    "\n",
    "def add_new_entry():\n",
    "    phonebook = open_phonebook()\n",
    "    \n",
    "#     phone_number = input(\"Enter your phone number: \")\n",
    "#     first_name = input(\"Enter your first name: \")\n",
    "#     last_name = input(\"Enter your last name: \")\n",
    "#     full_name = first_name + \" \" + last_name\n",
    "#     state = input(\"Enter your state: \")\n",
    "#     city = input(\"Enter your city: \")\n",
    "    phone_number = \"+3809634240\"\n",
    "    first_name = \"Andrii\"\n",
    "    last_name = \"Kondratyuk\"\n",
    "    full_name = first_name + \" \" + last_name\n",
    "    state = \"Kyiv oblast\"\n",
    "    city = \"Kyiv\"\n",
    "    \n",
    "    phonebook[phone_number] = {\n",
    "        \"first_name\": first_name,\n",
    "        \"last_name\": last_name,\n",
    "        \"full_name\": full_name,\n",
    "        \"address\": {\n",
    "            \"state\": state,\n",
    "            \"city\": city\n",
    "        },\n",
    "    }\n",
    "    \n",
    "    with open(\"phonebook.json\", \"w\") as phonebook_file:\n",
    "        json.dump(phonebook, phonebook_file, indent=4)"
   ]
  },
  {
   "cell_type": "code",
   "execution_count": 83,
   "id": "0657b502",
   "metadata": {},
   "outputs": [],
   "source": [
    "add_new_entry()"
   ]
  },
  {
   "cell_type": "code",
   "execution_count": 85,
   "id": "5203e34e",
   "metadata": {},
   "outputs": [],
   "source": [
    "phonebook = open_phonebook()"
   ]
  },
  {
   "cell_type": "code",
   "execution_count": 94,
   "id": "d1821f5c",
   "metadata": {},
   "outputs": [
    {
     "name": "stdout",
     "output_type": "stream",
     "text": [
      "{\n",
      "    \"+3809634243\": {\n",
      "        \"first_name\": \"Andrii\",\n",
      "        \"last_name\": \"Kondratyuk\",\n",
      "        \"full_name\": \"Andrii Kondratyuk\",\n",
      "        \"address\": {\n",
      "            \"state\": \"Kyiv oblast\",\n",
      "            \"city\": \"Kyiv\"\n",
      "        }\n",
      "    },\n",
      "    \"+3809634241\": {\n",
      "        \"first_name\": \"Andrii\",\n",
      "        \"last_name\": \"Kondratyuk\",\n",
      "        \"full_name\": \"Andrii Kondratyuk\",\n",
      "        \"address\": {\n",
      "            \"state\": \"Kyiv oblast\",\n",
      "            \"city\": \"Kyiv\"\n",
      "        }\n",
      "    },\n",
      "    \"+3809634240\": {\n",
      "        \"first_name\": \"Andrii\",\n",
      "        \"last_name\": \"Kondratyuk\",\n",
      "        \"full_name\": \"Andrii Kondratyuk\",\n",
      "        \"address\": {\n",
      "            \"state\": \"Kyiv oblast\",\n",
      "            \"city\": \"Kyiv\"\n",
      "        }\n",
      "    }\n",
      "}\n"
     ]
    }
   ],
   "source": [
    "print(json.dumps(phonebook, indent=4))"
   ]
  },
  {
   "cell_type": "code",
   "execution_count": null,
   "id": "a458f904",
   "metadata": {},
   "outputs": [],
   "source": []
  }
 ],
 "metadata": {
  "kernelspec": {
   "display_name": "Python 3 (ipykernel)",
   "language": "python",
   "name": "python3"
  },
  "language_info": {
   "codemirror_mode": {
    "name": "ipython",
    "version": 3
   },
   "file_extension": ".py",
   "mimetype": "text/x-python",
   "name": "python",
   "nbconvert_exporter": "python",
   "pygments_lexer": "ipython3",
   "version": "3.9.12"
  }
 },
 "nbformat": 4,
 "nbformat_minor": 5
}
