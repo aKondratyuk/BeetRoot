{
 "cells": [
  {
   "cell_type": "code",
   "execution_count": 15,
   "id": "209f40d7",
   "metadata": {},
   "outputs": [
    {
     "name": "stdout",
     "output_type": "stream",
     "text": [
      "['Volskwagen', 'Ford', 'Audi', 'KIA']\n"
     ]
    }
   ],
   "source": [
    "with open(\"cars.txt\", \"r\") as cars_file:\n",
    "    cars = [row.rstrip() for row in cars_file.readlines()]\n",
    "    \n",
    "print(cars)"
   ]
  },
  {
   "cell_type": "code",
   "execution_count": 6,
   "id": "78ebd2df",
   "metadata": {},
   "outputs": [
    {
     "data": {
      "text/plain": [
       "'Audi'"
      ]
     },
     "execution_count": 6,
     "metadata": {},
     "output_type": "execute_result"
    }
   ],
   "source": [
    "cars[0].rstrip()"
   ]
  },
  {
   "cell_type": "code",
   "execution_count": 2,
   "id": "5d14b422",
   "metadata": {},
   "outputs": [
    {
     "data": {
      "text/plain": [
       "'Audi\\nBMW\\nHonda\\nKIA\\n'"
      ]
     },
     "execution_count": 2,
     "metadata": {},
     "output_type": "execute_result"
    }
   ],
   "source": [
    "cars"
   ]
  },
  {
   "cell_type": "code",
   "execution_count": 14,
   "id": "bd6e7d25",
   "metadata": {},
   "outputs": [],
   "source": [
    "with open(\"cars.txt\", \"a\") as cars_file:\n",
    "    cars_file.write(\"Audi\\nKIA\\n\")"
   ]
  },
  {
   "cell_type": "code",
   "execution_count": 16,
   "id": "4e9e5251",
   "metadata": {},
   "outputs": [],
   "source": [
    "import json\n",
    "\n",
    "person = {\n",
    "    \"name\": \"John\",\n",
    "    \"age\": 30,\n",
    "    \"country\": \"Ukraine\",\n",
    "    \"city\": \"Kyiv\"\n",
    "}"
   ]
  },
  {
   "cell_type": "code",
   "execution_count": 20,
   "id": "c32bfc7a",
   "metadata": {},
   "outputs": [
    {
     "data": {
      "text/plain": [
       "'{\"name\": \"John\", \"age\": 30, \"country\": \"Ukraine\", \"city\": \"Kyiv\"}'"
      ]
     },
     "execution_count": 20,
     "metadata": {},
     "output_type": "execute_result"
    }
   ],
   "source": [
    "y = json.dumps(person)\n",
    "y"
   ]
  },
  {
   "cell_type": "code",
   "execution_count": 21,
   "id": "44409215",
   "metadata": {},
   "outputs": [
    {
     "data": {
      "text/plain": [
       "{'name': 'John', 'age': 30, 'country': 'Ukraine', 'city': 'Kyiv'}"
      ]
     },
     "execution_count": 21,
     "metadata": {},
     "output_type": "execute_result"
    }
   ],
   "source": [
    "json.loads(y)"
   ]
  },
  {
   "cell_type": "code",
   "execution_count": 25,
   "id": "5346f343",
   "metadata": {},
   "outputs": [],
   "source": [
    "with open(\"cars.json\", \"w\") as cars_file:\n",
    "    car = {\"car_brand\": \"Audi\", \"year\": \"2013\", \"engine\": {\"engine_type\": \"V8\", \"volume\": 3.2}}\n",
    "    json.dump(car, cars_file, indent=4)"
   ]
  },
  {
   "cell_type": "code",
   "execution_count": 31,
   "id": "ab28a67b",
   "metadata": {},
   "outputs": [
    {
     "data": {
      "text/plain": [
       "{'car_brand': 'Audi',\n",
       " 'year': '2013',\n",
       " 'engine': {'engine_type': 'V8', 'volume': 3.2}}"
      ]
     },
     "execution_count": 31,
     "metadata": {},
     "output_type": "execute_result"
    }
   ],
   "source": [
    "with open(\"cars.json\", \"r\") as cars_file:\n",
    "    car = json.loads(cars_file.read())\n",
    "\n",
    "car"
   ]
  },
  {
   "cell_type": "code",
   "execution_count": null,
   "id": "de7f36f9",
   "metadata": {},
   "outputs": [],
   "source": [
    "\"+38096369897\": {\n",
    "    \"first_name\": \"John\",\n",
    "    \"last_name\": \"Smith\",\n",
    "    \"full_name\": \"John Smith\",\n",
    "    \"address\": {\n",
    "        \"state\": \"Kyiv oblast\",\n",
    "        \"city\": \"Kyiv\"\n",
    "    },\n",
    "}"
   ]
  },
  {
   "cell_type": "code",
   "execution_count": null,
   "id": "25e08e97",
   "metadata": {},
   "outputs": [],
   "source": [
    "phonebook[\"+38096369897\"]"
   ]
  },
  {
   "cell_type": "code",
   "execution_count": 82,
   "id": "a403cd41",
   "metadata": {},
   "outputs": [],
   "source": [
    "import json\n",
    "\n",
    "\n",
    "def open_phonebook():\n",
    "    with open(\"phonebook.json\", \"r+\") as phonebook_file:\n",
    "        try:\n",
    "            phonebook = phonebook_file.read()\n",
    "            phonebook = json.loads(phonebook)\n",
    "        except json.JSONDecodeError:\n",
    "            phonebook = {}\n",
    "    \n",
    "    return phonebook\n",
    "\n",
    "\n",
    "# Перевірки у функції (опціонально)\n",
    "# delete_contact(phone_number)\n",
    "# update_contact(phone_number)\n",
    "\n",
    "# Перевірки для add_new_entry(): перевірка на кількість символів в ПІ та адресі, номер телефону\n",
    "# щоб не було пустих символів. Перевірка унікальності запису (контакта)\n",
    "\n",
    "# def find_by_first_name(first_name)\n",
    "# return:\n",
    "\"\"\"\n",
    "Контакти що знайдені по first_name: value\n",
    "\n",
    "1. First name: ---\n",
    "   Last name: ---\n",
    "   \n",
    "2. \n",
    "\n",
    "3.\n",
    "\"\"\"\n",
    "# while True:<--- це програма (додаток) в якому буде меню. Вийти з додатку це має бути опція меню \n",
    "\n",
    "\n",
    "def add_new_entry():\n",
    "    phonebook = open_phonebook()\n",
    "    \n",
    "#     phone_number = input(\"Enter your phone number: \")\n",
    "#     first_name = input(\"Enter your first name: \")\n",
    "#     last_name = input(\"Enter your last name: \")\n",
    "#     full_name = first_name + \" \" + last_name\n",
    "#     state = input(\"Enter your state: \")\n",
    "#     city = input(\"Enter your city: \")\n",
    "    phone_number = \"+3809634240\"\n",
    "    first_name = \"Andrii\"\n",
    "    last_name = \"Kondratyuk\"\n",
    "    full_name = first_name + \" \" + last_name\n",
    "    state = \"Kyiv oblast\"\n",
    "    city = \"Kyiv\"\n",
    "    \n",
    "    phonebook[phone_number] = {\n",
    "        \"first_name\": first_name,\n",
    "        \"last_name\": last_name,\n",
    "        \"full_name\": full_name,\n",
    "        \"address\": {\n",
    "            \"state\": state,\n",
    "            \"city\": city\n",
    "        },\n",
    "    }\n",
    "    \n",
    "    with open(\"phonebook.json\", \"w\") as phonebook_file:\n",
    "        json.dump(phonebook, phonebook_file, indent=4)"
   ]
  },
  {
   "cell_type": "code",
   "execution_count": 83,
   "id": "b9b68947",
   "metadata": {},
   "outputs": [],
   "source": [
    "add_new_entry()"
   ]
  },
  {
   "cell_type": "code",
   "execution_count": 85,
   "id": "c4d29dde",
   "metadata": {},
   "outputs": [],
   "source": [
    "phonebook = open_phonebook()"
   ]
  },
  {
   "cell_type": "code",
   "execution_count": 96,
   "id": "f1923664",
   "metadata": {
    "scrolled": true
   },
   "outputs": [
    {
     "name": "stdout",
     "output_type": "stream",
     "text": [
      "{\n",
      "    \"+3809634243\": {\n",
      "        \"first_name\": \"Andrii\",\n",
      "        \"last_name\": \"Kondratyuk\",\n",
      "        \"full_name\": \"Andrii Kondratyuk\",\n",
      "        \"address\": {\n",
      "            \"state\": \"Kyiv oblast\",\n",
      "            \"city\": \"Kyiv\"\n",
      "        }\n",
      "    },\n",
      "    \"+3809634241\": {\n",
      "        \"first_name\": \"Andrii\",\n",
      "        \"last_name\": \"Kondratyuk\",\n",
      "        \"full_name\": \"Andrii Kondratyuk\",\n",
      "        \"address\": {\n",
      "            \"state\": \"Kyiv oblast\",\n",
      "            \"city\": \"Kyiv\"\n",
      "        }\n",
      "    },\n",
      "    \"+3809634240\": {\n",
      "        \"first_name\": \"Andrii\",\n",
      "        \"last_name\": \"Kondratyuk\",\n",
      "        \"full_name\": \"Andrii Kondratyuk\",\n",
      "        \"address\": {\n",
      "            \"state\": \"Kyiv oblast\",\n",
      "            \"city\": \"Kyiv\"\n",
      "        }\n",
      "    }\n",
      "}\n"
     ]
    }
   ],
   "source": [
    "print(json.dumps(phonebook, indent=4))"
   ]
  },
  {
   "cell_type": "code",
   "execution_count": 218,
   "id": "3aa06811",
   "metadata": {},
   "outputs": [
    {
     "name": "stdout",
     "output_type": "stream",
     "text": [
      "apple\n",
      "melon\n"
     ]
    }
   ],
   "source": []
  },
  {
   "cell_type": "code",
   "execution_count": null,
   "id": "2de090e6",
   "metadata": {},
   "outputs": [],
   "source": []
  },
  {
   "cell_type": "code",
   "execution_count": null,
   "id": "d956c330",
   "metadata": {},
   "outputs": [],
   "source": [
    "def print_menu():\n",
    "    print(\"1. Add new entry\")\n",
    "    print(\"2. Search by first name\")\n",
    "\n",
    "\n",
    "menu_func = {1: add_new_entry}\n",
    "def menu()\n",
    "    while not (1 <= menu_choice <= 6):\n",
    "        print(\"There are no such menu choice!\\n\")\n",
    "        print_menu()\n",
    "    else:\n",
    "        menu_func[menu_choice](phonebook)"
   ]
  },
  {
   "cell_type": "code",
   "execution_count": null,
   "id": "7e1caa30",
   "metadata": {},
   "outputs": [],
   "source": []
  },
  {
   "cell_type": "code",
   "execution_count": null,
   "id": "4da1b062",
   "metadata": {},
   "outputs": [],
   "source": [
    "def add_new_entry(phonebook: dict):\n",
    "    phone_number = \"+380\" + correct_input(valid_phone_number, \"Enter your phone number: +380-\", \n",
    "             \"Enter your phone number in next format: +380-XX-XXX-XX-XX. Country code by default +380 (Ukraine)\")\n",
    "    \n",
    "    first_name = correct_input(valid_first_or_last_name, \"Enter your name: \", \n",
    "                              \"Name should be less than 50 characters and contains only letters\").lower().title()\n",
    "    \n",
    "    last_name = correct_input(valid_first_or_last_name, \"Enter your last name: \", \n",
    "                              \"Last name should be less than 50 characters and contains only letters\").lower().title()\n",
    "    \n",
    "    full_name = first_name + \" \" + last_name\n",
    "    \n",
    "    state = correct_input(valid_city_or_state, \"Enter your state: \").strip()\n",
    "    city = correct_input(valid_city_or_state, \"Enter your city: \").strip()\n",
    "    \n",
    "    phonebook[phone_number] = {\n",
    "        \"first_name\": first_name,\n",
    "        \"last_name\": last_name,\n",
    "        \"full_name\": full_name,\n",
    "        \"address\": {\n",
    "            \"state\": state,\n",
    "            \"city\": city\n",
    "        },\n",
    "    }\n",
    "    \n",
    "    with open(\"phonebook.json\", \"w\") as phonebook_file:\n",
    "        json.dump(phonebook, phonebook_file, indent=4)"
   ]
  },
  {
   "cell_type": "code",
   "execution_count": 238,
   "id": "1e559987",
   "metadata": {},
   "outputs": [],
   "source": [
    "def search_by(key: str, searching_for: str):\n",
    "    search_result = []\n",
    "    \n",
    "    if key == \"phone_number\":\n",
    "        if phonebook.get(searching_for):\n",
    "            search_result.append(searching_for)\n",
    "        return search_result\n",
    "    \n",
    "    for phone_number in phonebook.keys():\n",
    "        if key in [\"state\", \"city\"]:\n",
    "            if phonebook[phone_number][\"address\"][key] == searching_for:\n",
    "                search_result.append(phone_number)\n",
    "                \n",
    "        if phonebook[phone_number][key] == searching_for:\n",
    "            search_result.append(phone_number)\n",
    "            \n",
    "    return search_result"
   ]
  },
  {
   "cell_type": "code",
   "execution_count": 251,
   "id": "5401445e",
   "metadata": {},
   "outputs": [],
   "source": [
    "def delete_phone_number(phone_number: str, phonebook: dict):\n",
    "    try:\n",
    "        del phonebook[phone_number]\n",
    "        print(f\"Contact with phone number {phone_number} deleted.\")\n",
    "    except KeyError:\n",
    "        print(\"Phone number is not exists!\")"
   ]
  },
  {
   "cell_type": "code",
   "execution_count": 287,
   "id": "978db0e9",
   "metadata": {},
   "outputs": [],
   "source": [
    "def update_contact_info(phone_number: str, key: str, phonebook: str):\n",
    "     try:\n",
    "        phonebook[phone_number]\n",
    "    except KeyError:\n",
    "        print(\"Phone number is not exists!\")\n",
    "    \n",
    "    if key == \"phone_number\":\n",
    "        pass\n",
    "\n",
    "    if key in [\"state\", \"city\"]:\n",
    "        new_value = correct_input(valid_city_or_state, f\"Enter your {key}: \").strip()\n",
    "        phonebook[phone_number][\"address\"][key] = new_value\n",
    "\n",
    "    if key in [\"first_name\", \"last_name\"]:\n",
    "        new_value = correct_input(valid_first_or_last_name, f\"Enter your {key.replace('_', ' ')}: \", \n",
    "                                \"Name should be less than 50 characters and contains only letters\").lower().title()\n",
    "        phonebook[phone_number][key] = new_value\n",
    "        \n",
    "        contact = phonebook[phone_number]\n",
    "        contact[\"full_name\"] = contact[\"first_name\"] + \" \" + contact[\"last_name\"]\n",
    "\n",
    "    if key == \"full_name\":\n",
    "        new_first_name = correct_input(valid_first_or_last_name, f\"Enter your first name: \", \n",
    "                                \"Name should be less than 50 characters and contains only letters\").lower().title()\n",
    "\n",
    "        new_last_name = correct_input(valid_first_or_last_name, f\"Enter your last name: \", \n",
    "                                \"Name should be less than 50 characters and contains only letters\").lower().title()\n",
    "        \n",
    "        contact = phonebook[phone_number]\n",
    "        contact[\"first_name\"] = new_first_name\n",
    "        contact[\"last_name\"] = new_last_name\n",
    "        contact[\"full_name\"] = contact[\"first_name\"] + \" \" + contact[\"last_name\"]"
   ]
  },
  {
   "cell_type": "code",
   "execution_count": null,
   "id": "af0763ac",
   "metadata": {},
   "outputs": [],
   "source": []
  },
  {
   "cell_type": "code",
   "execution_count": 288,
   "id": "be8fc403",
   "metadata": {},
   "outputs": [
    {
     "name": "stdout",
     "output_type": "stream",
     "text": [
      "Name should be less than 50 characters and contains only letters\n",
      "Enter your first name: Andrii\n",
      "Name should be less than 50 characters and contains only letters\n",
      "Enter your last name: Kondratyuk\n"
     ]
    }
   ],
   "source": [
    "update_contact_info(\"+3809634240\", \"full_name\", phonebook)"
   ]
  },
  {
   "cell_type": "code",
   "execution_count": 289,
   "id": "b56827e1",
   "metadata": {},
   "outputs": [
    {
     "data": {
      "text/plain": [
       "{'+3809634240': {'first_name': 'Andrii',\n",
       "  'last_name': 'Kondratyuk',\n",
       "  'full_name': 'Andrii Kondratyuk',\n",
       "  'address': {'state': 'Kyiv oblast', 'city': 'Dnipro'}}}"
      ]
     },
     "execution_count": 289,
     "metadata": {},
     "output_type": "execute_result"
    }
   ],
   "source": [
    "phonebook"
   ]
  },
  {
   "cell_type": "code",
   "execution_count": 254,
   "id": "8ce10ae8",
   "metadata": {},
   "outputs": [
    {
     "name": "stdout",
     "output_type": "stream",
     "text": [
      "Contact with phone number +3809634241 deleted.\n"
     ]
    }
   ],
   "source": [
    "delete_phone_number(\"+3809634241\", phonebook)"
   ]
  },
  {
   "cell_type": "code",
   "execution_count": 237,
   "id": "8042aae4",
   "metadata": {},
   "outputs": [
    {
     "data": {
      "text/plain": [
       "['+3809634241']"
      ]
     },
     "execution_count": 237,
     "metadata": {},
     "output_type": "execute_result"
    }
   ],
   "source": [
    "search_by(\"phone_number\", \"+3809634241\")"
   ]
  },
  {
   "cell_type": "code",
   "execution_count": 220,
   "id": "461eae53",
   "metadata": {},
   "outputs": [
    {
     "data": {
      "text/plain": [
       "['+3809634243', '+3809634241', '+3809634240']"
      ]
     },
     "execution_count": 220,
     "metadata": {},
     "output_type": "execute_result"
    }
   ],
   "source": [
    "find_by_first_name(\"Andrii\")"
   ]
  },
  {
   "cell_type": "code",
   "execution_count": 97,
   "id": "de26df58",
   "metadata": {},
   "outputs": [],
   "source": [
    "import random"
   ]
  },
  {
   "cell_type": "code",
   "execution_count": 290,
   "id": "3560359d",
   "metadata": {},
   "outputs": [],
   "source": [
    "answered_students = []\n",
    "\n",
    "students = [\"Danil\", \"Viktor\", \"Bohdan\", \"Dmytro\", \"Ievgenii\", \"Max\", \n",
    "            \"Olesya\", \"Anna\", \"Yuriy\", \"Alona\", \"Anastasia\"]"
   ]
  },
  {
   "cell_type": "code",
   "execution_count": 291,
   "id": "f5d5ae35",
   "metadata": {},
   "outputs": [
    {
     "name": "stdout",
     "output_type": "stream",
     "text": [
      "Danil\n"
     ]
    }
   ],
   "source": [
    "student = random.choice(students)\n",
    "if student not in answered_students:\n",
    "    print(student)\n",
    "    answered_students.append(student)"
   ]
  },
  {
   "cell_type": "code",
   "execution_count": 257,
   "id": "bf5f0217",
   "metadata": {},
   "outputs": [
    {
     "name": "stdout",
     "output_type": "stream",
     "text": [
      "['Bohdan', 'Yuriy', 'Danil', 'Olesya', 'Alona', 'Ievgenii', 'Anastasia', 'Viktor']\n"
     ]
    }
   ],
   "source": [
    "print(answered_students)"
   ]
  },
  {
   "cell_type": "code",
   "execution_count": 269,
   "id": "7aee4a7a",
   "metadata": {},
   "outputs": [],
   "source": [
    "# +380 - default input 96-123-40-50\n",
    "def valid_phone_number(phone_number: str):\n",
    "  \n",
    "    phone_number = phone_number.split('-') # ['96', '123', '40', '50']\n",
    "    if len(phone_number) != 4:\n",
    "        print(\"Not valid format!\")\n",
    "        return False\n",
    "  \n",
    "    format_of_elements = [2, 3, 2, 2]\n",
    "    for index, digits in enumerate(phone_number):\n",
    "\n",
    "        if not format_of_elements[index] == len(digits):\n",
    "            print(\"Not valid format!\")\n",
    "            return False\n",
    "\n",
    "        if not digits.isnumeric():\n",
    "            print(\"Only digits can be in phone number!\")\n",
    "            return False\n",
    "    \n",
    "    return True\n",
    "\n",
    "def valid_first_or_last_name(name: str):\n",
    "    if len(name) > 50:\n",
    "        return False\n",
    "        print(\"Too many characters!\")\n",
    "    \n",
    "    if not name.isalpha():\n",
    "        print(\"Name must contains only alphabet letters!\")\n",
    "        return False\n",
    "  \n",
    "    return True\n",
    "\n",
    "def valid_city_or_state(place_name: str):\n",
    "    set_of_characters = \"abcdefghijklmnopqrstuvwxyzABCDEFGHIJKLMNOPQRSTUVWXYZ- \"\n",
    "    \n",
    "    if \"  \" in place_name:\n",
    "        print(\"Too many spaces!\")\n",
    "        return False\n",
    "  \n",
    "    if len(place_name) > 50:\n",
    "        print(\"Too many characters!\")\n",
    "        return False\n",
    "  \n",
    "    if (place_name[0] == \"-\") or (place_name[-1] == \"-\"):\n",
    "        print(\"- can not be in the first place\")\n",
    "        return False\n",
    "      \n",
    "    for letter in place_name:\n",
    "        if letter not in set_of_characters:\n",
    "            print(\"Should only contain alphabet or -\")\n",
    "            return False\n",
    "  \n",
    "    return True"
   ]
  },
  {
   "cell_type": "code",
   "execution_count": 176,
   "id": "1c1975e0",
   "metadata": {},
   "outputs": [
    {
     "data": {
      "text/plain": [
       "True"
      ]
     },
     "execution_count": 176,
     "metadata": {},
     "output_type": "execute_result"
    }
   ],
   "source": [
    "valid_phone_number(\"96-123-40-50\")\n",
    "valid_city_or_state(\"Kryvii Rig\")"
   ]
  },
  {
   "cell_type": "code",
   "execution_count": null,
   "id": "14ad4e65",
   "metadata": {},
   "outputs": [],
   "source": [
    "valid = False\n",
    "#hint - print(\"Enter your phone number in next format: +380-XX-XXX-XX-XX. Country code by default +380 (Ukraine)\")\n",
    "while not valid_number:\n",
    "    value = input(\"Enter your phone number: +380-\")\n",
    "    valid = valid_phone_number(value)"
   ]
  },
  {
   "cell_type": "code",
   "execution_count": 141,
   "id": "019b6e03",
   "metadata": {},
   "outputs": [],
   "source": [
    "def correct_input(valid_func, prompt: str, hint=False):\n",
    "    valid = False\n",
    "    \n",
    "    if hint:\n",
    "        print(hint)\n",
    "    \n",
    "    while not valid:\n",
    "        value = input(prompt)\n",
    "        valid = valid_func(value)\n",
    "    \n",
    "    return value"
   ]
  },
  {
   "cell_type": "code",
   "execution_count": 139,
   "id": "6c21413b",
   "metadata": {},
   "outputs": [
    {
     "name": "stdout",
     "output_type": "stream",
     "text": [
      "Enter your phone number in next format: +380-XX-XXX-XX-XX. Country code by default +380 (Ukraine)\n",
      "Enter your phone number: +380-96-123-40-50-\n",
      "Not valid format!\n",
      "Enter your phone number: +380-a\n",
      "Not valid format!\n",
      "Enter your phone number: +380-\n",
      "Not valid format!\n",
      "Enter your phone number: +380-123-24-12-11\n",
      "Not valid format!\n",
      "Enter your phone number: +380-96-123-40-50\n"
     ]
    },
    {
     "data": {
      "text/plain": [
       "'96-123-40-50'"
      ]
     },
     "execution_count": 139,
     "metadata": {},
     "output_type": "execute_result"
    }
   ],
   "source": [
    "correct_input(valid_phone_number, \"Enter your phone number: +380-\", \n",
    "             \"Enter your phone number in next format: +380-XX-XXX-XX-XX. Country code by default +380 (Ukraine)\")"
   ]
  },
  {
   "cell_type": "code",
   "execution_count": 155,
   "id": "e7b075a3",
   "metadata": {},
   "outputs": [
    {
     "name": "stdout",
     "output_type": "stream",
     "text": [
      "Name should be less than 50 characters and contains only letters\n",
      "Enter your name: aNdrII\n"
     ]
    },
    {
     "data": {
      "text/plain": [
       "'Andrii'"
      ]
     },
     "execution_count": 155,
     "metadata": {},
     "output_type": "execute_result"
    }
   ],
   "source": [
    "correct_input(valid_first_name, \"Enter your name: \", \n",
    "              \"Name should be less than 50 characters and contains only letters\").lower().title()"
   ]
  },
  {
   "cell_type": "code",
   "execution_count": 214,
   "id": "ed941997",
   "metadata": {},
   "outputs": [
    {
     "name": "stdout",
     "output_type": "stream",
     "text": [
      "Enter your city: Kamianets- Podilskiy\n"
     ]
    },
    {
     "data": {
      "text/plain": [
       "'Kamianets- Podilskiy'"
      ]
     },
     "execution_count": 214,
     "metadata": {},
     "output_type": "execute_result"
    }
   ],
   "source": [
    "correct_input(valid_city_or_state, \"Enter your city: \").strip()"
   ]
  },
  {
   "cell_type": "code",
   "execution_count": 208,
   "id": "263a2c01",
   "metadata": {},
   "outputs": [
    {
     "name": "stdout",
     "output_type": "stream",
     "text": [
      "Too many spaces!\n"
     ]
    }
   ],
   "source": [
    "city = \"Kryvii   Rig\"\n",
    "if city.count(\"  \"):\n",
    "    print(\"Too many spaces!\")"
   ]
  },
  {
   "cell_type": "code",
   "execution_count": 249,
   "id": "2088d343",
   "metadata": {},
   "outputs": [
    {
     "ename": "KeyError",
     "evalue": "'+3809634243'",
     "output_type": "error",
     "traceback": [
      "\u001b[0;31m---------------------------------------------------------------------------\u001b[0m",
      "\u001b[0;31mKeyError\u001b[0m                                  Traceback (most recent call last)",
      "Input \u001b[0;32mIn [249]\u001b[0m, in \u001b[0;36m<cell line: 1>\u001b[0;34m()\u001b[0m\n\u001b[0;32m----> 1\u001b[0m \u001b[38;5;28;01mdel\u001b[39;00m phonebook[\u001b[38;5;124m\"\u001b[39m\u001b[38;5;124m+3809634243\u001b[39m\u001b[38;5;124m\"\u001b[39m]\n",
      "\u001b[0;31mKeyError\u001b[0m: '+3809634243'"
     ]
    }
   ],
   "source": [
    "del phonebook[\"+3809634243\"]"
   ]
  },
  {
   "cell_type": "code",
   "execution_count": 248,
   "id": "b6c5fefc",
   "metadata": {},
   "outputs": [
    {
     "data": {
      "text/plain": [
       "{'+3809634241': {'first_name': 'Andrii',\n",
       "  'last_name': 'Kondratyuk',\n",
       "  'full_name': 'Andrii Kondratyuk',\n",
       "  'address': {'state': 'Kyiv oblast', 'city': 'Kyiv'}},\n",
       " '+3809634240': {'first_name': 'Andrii',\n",
       "  'last_name': 'Kondratyuk',\n",
       "  'full_name': 'Andrii Kondratyuk',\n",
       "  'address': {'state': 'Kyiv oblast', 'city': 'Kyiv'}}}"
      ]
     },
     "execution_count": 248,
     "metadata": {},
     "output_type": "execute_result"
    }
   ],
   "source": [
    "phonebook"
   ]
  }
 ],
 "metadata": {
  "kernelspec": {
   "display_name": "Python 3 (ipykernel)",
   "language": "python",
   "name": "python3"
  },
  "language_info": {
   "codemirror_mode": {
    "name": "ipython",
    "version": 3
   },
   "file_extension": ".py",
   "mimetype": "text/x-python",
   "name": "python",
   "nbconvert_exporter": "python",
   "pygments_lexer": "ipython3",
   "version": "3.9.12"
  }
 },
 "nbformat": 4,
 "nbformat_minor": 5
}
