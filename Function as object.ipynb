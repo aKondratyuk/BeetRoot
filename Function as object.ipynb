{
 "cells": [
  {
   "cell_type": "code",
   "execution_count": null,
   "id": "8985e0cc",
   "metadata": {},
   "outputs": [],
   "source": [
    "# В якості аргумента подається функція\n",
    "def logger(func, *args, **kwargs):\n",
    "    print(\"Before Execution\")\n",
    "    func(args, kwargs)\n",
    "    print(\"End of Execution\")"
   ]
  },
  {
   "cell_type": "code",
   "execution_count": 3,
   "id": "794d2358",
   "metadata": {},
   "outputs": [],
   "source": [
    "class Example:\n",
    "    def __init__(self):\n",
    "        print(\"Instance Created.\")\n",
    "    \n",
    "    def __call__(self):\n",
    "        print(\"Instance is called via method __call__\")"
   ]
  },
  {
   "cell_type": "code",
   "execution_count": 4,
   "id": "43edfc16",
   "metadata": {},
   "outputs": [
    {
     "name": "stdout",
     "output_type": "stream",
     "text": [
      "Instance Created.\n"
     ]
    }
   ],
   "source": [
    "ex = Example()"
   ]
  },
  {
   "cell_type": "code",
   "execution_count": 6,
   "id": "1edec8ba",
   "metadata": {},
   "outputs": [
    {
     "name": "stdout",
     "output_type": "stream",
     "text": [
      "Instance is called via method __call__\n"
     ]
    }
   ],
   "source": [
    "ex()"
   ]
  },
  {
   "cell_type": "code",
   "execution_count": 7,
   "id": "f61d7cbb",
   "metadata": {},
   "outputs": [],
   "source": [
    "class RightTriangle:\n",
    "    def __init__(self, a: int, b: int, c: int):\n",
    "        self.a = a\n",
    "        self.b = b\n",
    "        self.c = c\n",
    "    \n",
    "    def __call__(self):\n",
    "        area = 0.5 * self.a * self.b\n",
    "        print(f\"Area of right triangle is {area} cm2.\")"
   ]
  },
  {
   "cell_type": "code",
   "execution_count": 8,
   "id": "fe229424",
   "metadata": {},
   "outputs": [],
   "source": [
    "triangle = RightTriangle(a = 4, b = 5, c = 7)"
   ]
  },
  {
   "cell_type": "code",
   "execution_count": 10,
   "id": "a3e8a1bf",
   "metadata": {},
   "outputs": [
    {
     "name": "stdout",
     "output_type": "stream",
     "text": [
      "Area of right triangle is 10.0 cm2.\n"
     ]
    }
   ],
   "source": [
    "triangle()"
   ]
  },
  {
   "cell_type": "code",
   "execution_count": 11,
   "id": "66417ea3",
   "metadata": {},
   "outputs": [],
   "source": [
    "# send - it's method of sending message\n",
    "def send_welcome_message(send, user):\n",
    "    message = f\"Hello, {user}!\"\n",
    "    send(user, message)\n",
    "\n",
    "def send_via_stdout(user, message):\n",
    "    print(f\"Message to {user}: {message}\")\n",
    "\n",
    "def send_welcome_message_via_stdout(user):\n",
    "    send_welcome_message(send_via_stdout, user)\n",
    "\n",
    "\n",
    "def send_via_db_with_connection(connetction, user, message):\n",
    "    cursos = concetion.cursor()\n",
    "    query = make_insert_message_query(user, message)\n",
    "    cur.execute(query)\n",
    "\n",
    "def make_db_send_fn(conn):\n",
    "    return lambda u, m: send_via_db_with_connection(conn, u, m)\n",
    "\n",
    "\n",
    "# ...\n",
    "# ...\n",
    "# ...\n",
    "\n",
    "conn = ...\n",
    "send_via_db = make_db_send_fn(conn)\n",
    "\n",
    "def send_welcome_message_via_db(user):\n",
    "    send_welcome_message(send_via_db_with_connection, user)"
   ]
  },
  {
   "cell_type": "code",
   "execution_count": null,
   "id": "c277b200",
   "metadata": {},
   "outputs": [],
   "source": [
    "class Sender:\n",
    "    def send(self, user, message):\n",
    "        pass\n",
    "    \n",
    "    def __call__(self, user, message):\n",
    "        self.send(user, message)\n",
    "\n",
    "class StdoutSender(Sender):\n",
    "    def send(self, user, message):\n",
    "        print(\"Stdout...\")\n",
    "    \n",
    "class DatabaseSender(Sender):\n",
    "    def __init__(self, conn):\n",
    "        # connect to SQL_SERVERS\n",
    "        pass\n",
    "    \n",
    "    def send(self, user, message)\n",
    "\n",
    "std = StdoutSender()\n",
    "db = DatabaseSender(conn=\"SQL_SERVER\")\n",
    "\n",
    "std()\n",
    "db()"
   ]
  },
  {
   "cell_type": "code",
   "execution_count": 13,
   "id": "9634a69c",
   "metadata": {},
   "outputs": [],
   "source": [
    "class Phone:\n",
    "    def __init__(self, phone_number: str):\n",
    "        self.phone_number = phone_number\n",
    "    \n",
    "    def __call__(self, contact: str):\n",
    "        print(f\"Calling to {contact}\")"
   ]
  },
  {
   "cell_type": "code",
   "execution_count": 92,
   "id": "2db05626",
   "metadata": {},
   "outputs": [],
   "source": [
    "class String:\n",
    "    def __init__(self):\n",
    "        pass\n",
    "    \n",
    "    def __call__(self, number: int):\n",
    "        try:\n",
    "            return str(number)\n",
    "        except TypeError:\n",
    "            raise TypeError(\"unsupported operand type(s) for +: 'int' and 'str'\")"
   ]
  },
  {
   "cell_type": "code",
   "execution_count": 89,
   "id": "28c81577",
   "metadata": {},
   "outputs": [
    {
     "ename": "TypeError",
     "evalue": "unsupported operand type(s) for +: 'int' and 'str'",
     "output_type": "error",
     "traceback": [
      "\u001b[0;31m---------------------------------------------------------------------------\u001b[0m",
      "\u001b[0;31mTypeError\u001b[0m                                 Traceback (most recent call last)",
      "Input \u001b[0;32mIn [89]\u001b[0m, in \u001b[0;36m<cell line: 1>\u001b[0;34m()\u001b[0m\n\u001b[0;32m----> 1\u001b[0m \u001b[38;5;28mstr\u001b[39m(\u001b[38;5;241;43m2\u001b[39;49m\u001b[38;5;241;43m+\u001b[39;49m\u001b[38;5;124;43m\"\u001b[39;49m\u001b[38;5;124;43m0\u001b[39;49m\u001b[38;5;124;43m\"\u001b[39;49m)\n",
      "\u001b[0;31mTypeError\u001b[0m: unsupported operand type(s) for +: 'int' and 'str'"
     ]
    }
   ],
   "source": [
    "str(2+\"0\")"
   ]
  },
  {
   "cell_type": "code",
   "execution_count": 96,
   "id": "3bb39241",
   "metadata": {},
   "outputs": [
    {
     "ename": "TypeError",
     "evalue": "unsupported operand type(s) for +: 'int' and 'str'",
     "output_type": "error",
     "traceback": [
      "\u001b[0;31m---------------------------------------------------------------------------\u001b[0m",
      "\u001b[0;31mTypeError\u001b[0m                                 Traceback (most recent call last)",
      "Input \u001b[0;32mIn [96]\u001b[0m, in \u001b[0;36m<cell line: 3>\u001b[0;34m()\u001b[0m\n\u001b[1;32m      1\u001b[0m str_new \u001b[38;5;241m=\u001b[39m String()\n\u001b[0;32m----> 3\u001b[0m str_new(\u001b[38;5;241;43m2\u001b[39;49m\u001b[38;5;241;43m+\u001b[39;49m\u001b[38;5;124;43m\"\u001b[39;49m\u001b[38;5;124;43m0\u001b[39;49m\u001b[38;5;124;43m\"\u001b[39;49m)\n",
      "\u001b[0;31mTypeError\u001b[0m: unsupported operand type(s) for +: 'int' and 'str'"
     ]
    }
   ],
   "source": [
    "str_new = String()\n",
    "\n",
    "str_new(2+\"0\")"
   ]
  },
  {
   "cell_type": "code",
   "execution_count": 15,
   "id": "29cebd1e",
   "metadata": {},
   "outputs": [
    {
     "name": "stdout",
     "output_type": "stream",
     "text": [
      "Calling to +380-96-399-50-99\n"
     ]
    }
   ],
   "source": [
    "my_phone = Phone(\"+380-96-354-40-99\")\n",
    "my_phone(\"+380-96-399-50-99\")"
   ]
  },
  {
   "cell_type": "code",
   "execution_count": null,
   "id": "2d25ee17",
   "metadata": {},
   "outputs": [],
   "source": [
    "def call(my_phone_number, contact):\n",
    "    # check if my_phone_number exists in database\n",
    "    \n",
    "    print(f\"Calling to {contact}\")"
   ]
  },
  {
   "cell_type": "code",
   "execution_count": null,
   "id": "f3e29fc2",
   "metadata": {},
   "outputs": [],
   "source": [
    "call(\"+380-96-354-40-99\", \"+380-96-399-50-99\")"
   ]
  },
  {
   "cell_type": "code",
   "execution_count": 12,
   "id": "4e961b59",
   "metadata": {},
   "outputs": [
    {
     "data": {
      "text/plain": [
       "27"
      ]
     },
     "execution_count": 12,
     "metadata": {},
     "output_type": "execute_result"
    }
   ],
   "source": [
    "def cubic(x):\n",
    "    return x**3\n",
    "\n",
    "cubic = lambda x: x**3\n",
    "\n",
    "cubic(3)"
   ]
  },
  {
   "cell_type": "code",
   "execution_count": 27,
   "id": "0af443f3",
   "metadata": {},
   "outputs": [
    {
     "data": {
      "text/plain": [
       "<map at 0x7f163a78b100>"
      ]
     },
     "execution_count": 27,
     "metadata": {},
     "output_type": "execute_result"
    }
   ],
   "source": [
    "number = [1, 2, 3, 4, 5, 6, 7, 8]\n",
    "\n",
    "number = list(map(cubic, number))\n",
    "\n",
    "map(str, number)\n",
    "\n",
    "#[str(num) for num in numbers]"
   ]
  },
  {
   "cell_type": "code",
   "execution_count": 28,
   "id": "5e360635",
   "metadata": {},
   "outputs": [],
   "source": [
    "def cubic(number: int):\n",
    "    print(f\"Got {number} --> as result {number}^3 = {number**3}\")\n",
    "    return number**3"
   ]
  },
  {
   "cell_type": "code",
   "execution_count": 30,
   "id": "8ae95083",
   "metadata": {},
   "outputs": [
    {
     "name": "stdout",
     "output_type": "stream",
     "text": [
      "Got 2 --> as result 2^3 = 8\n",
      "Got 3 --> as result 3^3 = 27\n",
      "Got 4 --> as result 4^3 = 64\n",
      "Got 5 --> as result 5^3 = 125\n"
     ]
    },
    {
     "data": {
      "text/plain": [
       "[8, 27, 64, 125]"
      ]
     },
     "execution_count": 30,
     "metadata": {},
     "output_type": "execute_result"
    }
   ],
   "source": [
    "numbers = [2, 3, 4, 5]\n",
    "\n",
    "list(map(cubic, numbers))"
   ]
  },
  {
   "cell_type": "code",
   "execution_count": 31,
   "id": "da9021e4",
   "metadata": {},
   "outputs": [
    {
     "data": {
      "text/plain": [
       "[True, False, False]"
      ]
     },
     "execution_count": 31,
     "metadata": {},
     "output_type": "execute_result"
    }
   ],
   "source": [
    "phone_numbers = [\"+743234324342\", \"+71233213\", \"+7812391221\"]\n",
    "\n",
    "def is_mobilazied(phone_number: str):\n",
    "    # ...\n",
    "    # ...\n",
    "    if phone_number == \"+743234324342\":\n",
    "        return True\n",
    "    \n",
    "    return False\n",
    "\n",
    "list(map(is_mobilazied, phone_numbers))"
   ]
  },
  {
   "cell_type": "code",
   "execution_count": 32,
   "id": "b1a9fc8d",
   "metadata": {},
   "outputs": [
    {
     "name": "stdout",
     "output_type": "stream",
     "text": [
      "[2, 4, 6, 8, 10]\n"
     ]
    }
   ],
   "source": [
    "numbers = [1, 2, 3, 4, 5, 6, 7, 8, 9, 10]\n",
    "\n",
    "def is_even(num: int):\n",
    "    if num % 2 == 0:\n",
    "        return True\n",
    "    \n",
    "    return False\n",
    "\n",
    "even_numbers_iterator = filter(is_even, numbers)\n",
    "\n",
    "even_numbers = list(even_numbers_iterator)\n",
    "\n",
    "print(even_numbers)"
   ]
  },
  {
   "cell_type": "code",
   "execution_count": 35,
   "id": "45b3ce91",
   "metadata": {},
   "outputs": [
    {
     "data": {
      "text/plain": [
       "[2, 4, 6, 8, 10]"
      ]
     },
     "execution_count": 35,
     "metadata": {},
     "output_type": "execute_result"
    }
   ],
   "source": [
    "list(filter(lambda num: num % 2 == 0, numbers))"
   ]
  },
  {
   "cell_type": "code",
   "execution_count": 36,
   "id": "3ce98c90",
   "metadata": {},
   "outputs": [
    {
     "data": {
      "text/plain": [
       "[2, 4, 6, 8, 10]"
      ]
     },
     "execution_count": 36,
     "metadata": {},
     "output_type": "execute_result"
    }
   ],
   "source": [
    "[num for num in numbers if num % 2 == 0]"
   ]
  },
  {
   "cell_type": "code",
   "execution_count": 37,
   "id": "d98691da",
   "metadata": {},
   "outputs": [
    {
     "name": "stdout",
     "output_type": "stream",
     "text": [
      "{'Python': 3.11, 'Java': 1.2, 'Haskel': 2.33, 'Go': 3.0}\n"
     ]
    }
   ],
   "source": [
    "languages = [\"Python\", \"Java\", \"Haskel\", \"Go\"]\n",
    "versions = [3.11, 1.2, 2.33, 3.0]\n",
    "\n",
    "prog_lang = {}\n",
    "for i in range(len(languages)):\n",
    "    language = languages[i]\n",
    "    version = versions[i]\n",
    "    \n",
    "    prog_lang[language] = version\n",
    "\n",
    "print(prog_lang)"
   ]
  },
  {
   "cell_type": "code",
   "execution_count": 44,
   "id": "06b61561",
   "metadata": {},
   "outputs": [
    {
     "name": "stdout",
     "output_type": "stream",
     "text": [
      "{'Python': 3.11, 'Java': 1.2, 'Haskel': 2.33, 'Go': 3.0}\n"
     ]
    }
   ],
   "source": [
    "prog_lang_iterator = zip(languages, versions)\n",
    "prog_lang = dict(prog_lang_iterator)\n",
    "\n",
    "prog_lang = dict(zip(languages, versions))\n",
    "\n",
    "print(prog_lang)"
   ]
  },
  {
   "cell_type": "code",
   "execution_count": 55,
   "id": "d8d7f903",
   "metadata": {},
   "outputs": [
    {
     "name": "stdout",
     "output_type": "stream",
     "text": [
      "[(2, 10), (4, 10), (6, 10)]\n"
     ]
    }
   ],
   "source": [
    "stock = [2, 4, 6, 8]\n",
    "price = [10, 10, 10]\n",
    "\n",
    "total_price = list(zip(stock, price))\n",
    "\n",
    "print(total_price)\n",
    "\n",
    "#list(map(lambda l: l[0] * l[1], total_price))"
   ]
  },
  {
   "cell_type": "code",
   "execution_count": 56,
   "id": "7278113e",
   "metadata": {},
   "outputs": [
    {
     "data": {
      "text/plain": [
       "[(2, 10), (4, 10), (6, 10), (8, None)]"
      ]
     },
     "execution_count": 56,
     "metadata": {},
     "output_type": "execute_result"
    }
   ],
   "source": [
    "import functools\n",
    "import itertools\n",
    "\n",
    "list(itertools.zip_longest(stock, price))"
   ]
  },
  {
   "cell_type": "code",
   "execution_count": 58,
   "id": "248a217f",
   "metadata": {},
   "outputs": [
    {
     "name": "stdout",
     "output_type": "stream",
     "text": [
      "{'Monday': 1, 'Tuesday': 2, 'Wednesday': 3, 'Thursday': 4, 'Friday': 5, 'Saturday': 6, 'Sunday': 7}\n"
     ]
    }
   ],
   "source": [
    "dict_week = {1: 'Monday', 2: 'Tuesday', 3: 'Wednesday', 4: 'Thursday', 5: 'Friday', 6: 'Saturday', 7: 'Sunday'}\n",
    "\n",
    "dict_week_1 = dict( map(reversed, dict_week.items()) ) \n",
    "print(dict_week_1)"
   ]
  },
  {
   "cell_type": "code",
   "execution_count": 68,
   "id": "940c9a3a",
   "metadata": {},
   "outputs": [
    {
     "data": {
      "text/plain": [
       "dict_items([(1, 'Monday'), (2, 'Tuesday'), (3, 'Wednesday'), (4, 'Thursday'), (5, 'Friday'), (6, 'Saturday'), (7, 'Sunday')])"
      ]
     },
     "execution_count": 68,
     "metadata": {},
     "output_type": "execute_result"
    }
   ],
   "source": [
    "dict_week.items()"
   ]
  },
  {
   "cell_type": "code",
   "execution_count": 66,
   "id": "69eee624",
   "metadata": {},
   "outputs": [
    {
     "data": {
      "text/plain": [
       "('Monday', 1)"
      ]
     },
     "execution_count": 66,
     "metadata": {},
     "output_type": "execute_result"
    }
   ],
   "source": [
    "tuple(reversed( (1, \"Monday\") ))"
   ]
  },
  {
   "cell_type": "code",
   "execution_count": 76,
   "id": "f784aa95",
   "metadata": {},
   "outputs": [],
   "source": [
    "def add(*args):\n",
    "    result = 0\n",
    "    for arg in args:\n",
    "        result += arg\n",
    "    \n",
    "    return result"
   ]
  },
  {
   "cell_type": "code",
   "execution_count": 78,
   "id": "0a68ae0b",
   "metadata": {},
   "outputs": [
    {
     "data": {
      "text/plain": [
       "7"
      ]
     },
     "execution_count": 78,
     "metadata": {},
     "output_type": "execute_result"
    }
   ],
   "source": [
    "add(-2, 3, 6)"
   ]
  },
  {
   "cell_type": "code",
   "execution_count": 80,
   "id": "2a0c1145",
   "metadata": {},
   "outputs": [
    {
     "data": {
      "text/plain": [
       "7"
      ]
     },
     "execution_count": 80,
     "metadata": {},
     "output_type": "execute_result"
    }
   ],
   "source": [
    "from functools import reduce\n",
    "import operator\n",
    "\n",
    "reduce(add, [-2, 3, 6])"
   ]
  },
  {
   "cell_type": "code",
   "execution_count": 81,
   "id": "4a510b55",
   "metadata": {},
   "outputs": [
    {
     "data": {
      "text/plain": [
       "7"
      ]
     },
     "execution_count": 81,
     "metadata": {},
     "output_type": "execute_result"
    }
   ],
   "source": [
    "reduce(operator.add, [-2, 3, 6])"
   ]
  },
  {
   "cell_type": "code",
   "execution_count": 82,
   "id": "c86a4871",
   "metadata": {},
   "outputs": [],
   "source": [
    "def my_prod(a, b):\n",
    "    return a * b"
   ]
  },
  {
   "cell_type": "code",
   "execution_count": 83,
   "id": "56eca358",
   "metadata": {},
   "outputs": [
    {
     "data": {
      "text/plain": [
       "6"
      ]
     },
     "execution_count": 83,
     "metadata": {},
     "output_type": "execute_result"
    }
   ],
   "source": [
    "my_prod(2, 3)"
   ]
  },
  {
   "cell_type": "code",
   "execution_count": 84,
   "id": "1beb7def",
   "metadata": {},
   "outputs": [
    {
     "data": {
      "text/plain": [
       "120"
      ]
     },
     "execution_count": 84,
     "metadata": {},
     "output_type": "execute_result"
    }
   ],
   "source": [
    "numbers = [1, 2, 3, 4, 5]\n",
    "\n",
    "reduce(my_prod, numbers)"
   ]
  }
 ],
 "metadata": {
  "kernelspec": {
   "display_name": "Python 3 (ipykernel)",
   "language": "python",
   "name": "python3"
  },
  "language_info": {
   "codemirror_mode": {
    "name": "ipython",
    "version": 3
   },
   "file_extension": ".py",
   "mimetype": "text/x-python",
   "name": "python",
   "nbconvert_exporter": "python",
   "pygments_lexer": "ipython3",
   "version": "3.9.12"
  }
 },
 "nbformat": 4,
 "nbformat_minor": 5
}
