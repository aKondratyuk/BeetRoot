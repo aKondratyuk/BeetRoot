{
 "cells": [
  {
   "cell_type": "code",
   "execution_count": 1,
   "id": "a25ec6b5",
   "metadata": {},
   "outputs": [],
   "source": [
    "list_1 = [1, 2, 3, 4]"
   ]
  },
  {
   "cell_type": "code",
   "execution_count": 2,
   "id": "f0a6209e",
   "metadata": {},
   "outputs": [],
   "source": [
    "list_1.append(list_1)"
   ]
  },
  {
   "cell_type": "code",
   "execution_count": 9,
   "id": "d1e1cc70",
   "metadata": {},
   "outputs": [
    {
     "data": {
      "text/plain": [
       "[1, 2, 3, 4, [...]]"
      ]
     },
     "execution_count": 9,
     "metadata": {},
     "output_type": "execute_result"
    }
   ],
   "source": [
    "list_1[-1]"
   ]
  },
  {
   "cell_type": "code",
   "execution_count": 10,
   "id": "8f8a3ff9",
   "metadata": {},
   "outputs": [],
   "source": [
    "a = [1, 2, 3]"
   ]
  },
  {
   "cell_type": "code",
   "execution_count": 11,
   "id": "026861b0",
   "metadata": {},
   "outputs": [],
   "source": [
    "b = a"
   ]
  },
  {
   "cell_type": "code",
   "execution_count": 12,
   "id": "1aaede7b",
   "metadata": {},
   "outputs": [
    {
     "name": "stdout",
     "output_type": "stream",
     "text": [
      "[1, 2, 3]\n",
      "[1, 2, 3]\n"
     ]
    }
   ],
   "source": [
    "print(a)\n",
    "print(b)"
   ]
  },
  {
   "cell_type": "code",
   "execution_count": 13,
   "id": "87031b68",
   "metadata": {},
   "outputs": [],
   "source": [
    "b.append(4)"
   ]
  },
  {
   "cell_type": "code",
   "execution_count": 14,
   "id": "3a4fc9ac",
   "metadata": {},
   "outputs": [
    {
     "name": "stdout",
     "output_type": "stream",
     "text": [
      "[1, 2, 3, 4]\n",
      "[1, 2, 3, 4]\n"
     ]
    }
   ],
   "source": [
    "print(a)\n",
    "print(b)"
   ]
  },
  {
   "cell_type": "code",
   "execution_count": 15,
   "id": "d1f58a4b",
   "metadata": {},
   "outputs": [
    {
     "name": "stdout",
     "output_type": "stream",
     "text": [
      "139972991683904\n",
      "139972991683904\n"
     ]
    }
   ],
   "source": [
    "print(id(a))\n",
    "print(id(b))"
   ]
  },
  {
   "cell_type": "code",
   "execution_count": 17,
   "id": "ad8517dc",
   "metadata": {},
   "outputs": [
    {
     "name": "stdout",
     "output_type": "stream",
     "text": [
      "0x7f4e00728d40\n",
      "0x7f4e00728d40\n"
     ]
    }
   ],
   "source": [
    "print(hex(id(a)))\n",
    "print(hex(id(b)))"
   ]
  },
  {
   "cell_type": "code",
   "execution_count": 18,
   "id": "514412c9",
   "metadata": {},
   "outputs": [],
   "source": [
    "b = a.copy()"
   ]
  },
  {
   "cell_type": "code",
   "execution_count": 19,
   "id": "4fafd2bd",
   "metadata": {},
   "outputs": [
    {
     "name": "stdout",
     "output_type": "stream",
     "text": [
      "139972991684992\n"
     ]
    }
   ],
   "source": [
    "print(id(b))"
   ]
  },
  {
   "cell_type": "code",
   "execution_count": 20,
   "id": "02f86ec1",
   "metadata": {},
   "outputs": [],
   "source": [
    "b.append(5)\n"
   ]
  },
  {
   "cell_type": "code",
   "execution_count": 23,
   "id": "5160765a",
   "metadata": {},
   "outputs": [
    {
     "data": {
      "text/plain": [
       "[1, 2, 3, 4, 5]"
      ]
     },
     "execution_count": 23,
     "metadata": {},
     "output_type": "execute_result"
    }
   ],
   "source": [
    "b"
   ]
  },
  {
   "cell_type": "code",
   "execution_count": 24,
   "id": "599ff1cd",
   "metadata": {},
   "outputs": [],
   "source": [
    "b = a[::]"
   ]
  },
  {
   "cell_type": "code",
   "execution_count": 28,
   "id": "68c22624",
   "metadata": {},
   "outputs": [
    {
     "data": {
      "text/plain": [
       "'llo'"
      ]
     },
     "execution_count": 28,
     "metadata": {},
     "output_type": "execute_result"
    }
   ],
   "source": []
  },
  {
   "cell_type": "code",
   "execution_count": 26,
   "id": "a63d638b",
   "metadata": {},
   "outputs": [
    {
     "name": "stdout",
     "output_type": "stream",
     "text": [
      "139972991684416\n"
     ]
    }
   ],
   "source": [
    "b.append(5)\n",
    "print(id(b))"
   ]
  },
  {
   "cell_type": "code",
   "execution_count": 31,
   "id": "84cedb29",
   "metadata": {},
   "outputs": [
    {
     "data": {
      "text/plain": [
       "(1, 2)"
      ]
     },
     "execution_count": 31,
     "metadata": {},
     "output_type": "execute_result"
    }
   ],
   "source": [
    "coordinat = (1, 2)"
   ]
  },
  {
   "cell_type": "code",
   "execution_count": 212,
   "id": "d975e8a6",
   "metadata": {},
   "outputs": [],
   "source": [
    "countries = {\"UgandaBigVery\", \"Germany\", \"Ukraine\", \"Poland\", \"Britain\", \"Britain\"}\n",
    "#countries"
   ]
  },
  {
   "cell_type": "code",
   "execution_count": 213,
   "id": "6ebe901e",
   "metadata": {},
   "outputs": [
    {
     "name": "stdout",
     "output_type": "stream",
     "text": [
      "Britain\n",
      "UgandaBigVery\n",
      "Germany\n",
      "Ukraine\n",
      "Poland\n"
     ]
    }
   ],
   "source": [
    "for c in countries:\n",
    "    print(c)"
   ]
  },
  {
   "cell_type": "code",
   "execution_count": 63,
   "id": "c7252a1e",
   "metadata": {},
   "outputs": [],
   "source": [
    "fruits = [\"Banana\", \"Apple\", \"Orange\"]"
   ]
  },
  {
   "cell_type": "code",
   "execution_count": 64,
   "id": "3e88c996",
   "metadata": {},
   "outputs": [],
   "source": [
    "fruits.append(\"Kiwi\")"
   ]
  },
  {
   "cell_type": "code",
   "execution_count": 65,
   "id": "a099ba20",
   "metadata": {},
   "outputs": [
    {
     "data": {
      "text/plain": [
       "['Banana', 'Apple', 'Orange', 'Kiwi']"
      ]
     },
     "execution_count": 65,
     "metadata": {},
     "output_type": "execute_result"
    }
   ],
   "source": [
    "fruits"
   ]
  },
  {
   "cell_type": "code",
   "execution_count": 66,
   "id": "ed2775ff",
   "metadata": {},
   "outputs": [],
   "source": [
    "fruits.extend([\"Pineapple\", \"Mango\"])"
   ]
  },
  {
   "cell_type": "code",
   "execution_count": 67,
   "id": "c98a745e",
   "metadata": {},
   "outputs": [
    {
     "data": {
      "text/plain": [
       "['Banana', 'Apple', 'Orange', 'Kiwi', 'Pineapple', 'Mango']"
      ]
     },
     "execution_count": 67,
     "metadata": {},
     "output_type": "execute_result"
    }
   ],
   "source": [
    "fruits"
   ]
  },
  {
   "cell_type": "code",
   "execution_count": 68,
   "id": "dc51839e",
   "metadata": {},
   "outputs": [
    {
     "name": "stdout",
     "output_type": "stream",
     "text": [
      "['Banana', 'Apple', 'Orange', 'Kiwi', 'Pineapple', 'Mango']\n",
      "['Banana', 'Orange', 'Pineapple', 'Apple', 'Mango', 'Kiwi']\n"
     ]
    }
   ],
   "source": [
    "import random\n",
    "\n",
    "\n",
    "print(fruits)\n",
    "random.shuffle(fruits)\n",
    "print(fruits)"
   ]
  },
  {
   "cell_type": "code",
   "execution_count": 70,
   "id": "70609ab2",
   "metadata": {},
   "outputs": [
    {
     "data": {
      "text/plain": [
       "['Banana', 'Orange', 'Pineapple', 'Apple', 'Mango', 'Kiwi']"
      ]
     },
     "execution_count": 70,
     "metadata": {},
     "output_type": "execute_result"
    }
   ],
   "source": [
    "fruits"
   ]
  },
  {
   "cell_type": "code",
   "execution_count": 71,
   "id": "3b4e3f95",
   "metadata": {},
   "outputs": [],
   "source": [
    "fruits.insert(2, \"Cocos\")"
   ]
  },
  {
   "cell_type": "code",
   "execution_count": 72,
   "id": "de3b3a77",
   "metadata": {},
   "outputs": [
    {
     "data": {
      "text/plain": [
       "['Banana', 'Orange', 'Cocos', 'Pineapple', 'Apple', 'Mango', 'Kiwi']"
      ]
     },
     "execution_count": 72,
     "metadata": {},
     "output_type": "execute_result"
    }
   ],
   "source": [
    "fruits"
   ]
  },
  {
   "cell_type": "code",
   "execution_count": 73,
   "id": "011c939c",
   "metadata": {},
   "outputs": [
    {
     "data": {
      "text/plain": [
       "'Kiwi'"
      ]
     },
     "execution_count": 73,
     "metadata": {},
     "output_type": "execute_result"
    }
   ],
   "source": [
    "fruits.pop()"
   ]
  },
  {
   "cell_type": "code",
   "execution_count": 74,
   "id": "851d0246",
   "metadata": {},
   "outputs": [
    {
     "data": {
      "text/plain": [
       "['Banana', 'Orange', 'Cocos', 'Pineapple', 'Apple', 'Mango']"
      ]
     },
     "execution_count": 74,
     "metadata": {},
     "output_type": "execute_result"
    }
   ],
   "source": [
    "fruits"
   ]
  },
  {
   "cell_type": "code",
   "execution_count": 75,
   "id": "65146ae0",
   "metadata": {},
   "outputs": [
    {
     "data": {
      "text/plain": [
       "'Cocos'"
      ]
     },
     "execution_count": 75,
     "metadata": {},
     "output_type": "execute_result"
    }
   ],
   "source": [
    "fruits.pop(2)"
   ]
  },
  {
   "cell_type": "code",
   "execution_count": 76,
   "id": "c730b6b0",
   "metadata": {},
   "outputs": [
    {
     "data": {
      "text/plain": [
       "['Banana', 'Orange', 'Pineapple', 'Apple', 'Mango']"
      ]
     },
     "execution_count": 76,
     "metadata": {},
     "output_type": "execute_result"
    }
   ],
   "source": [
    "fruits"
   ]
  },
  {
   "cell_type": "code",
   "execution_count": null,
   "id": "d3627ef2",
   "metadata": {},
   "outputs": [],
   "source": [
    "[1, 2, 3, 4].pop(2)\n",
    "[1, 2, 4]"
   ]
  },
  {
   "cell_type": "code",
   "execution_count": 78,
   "id": "b51bc55d",
   "metadata": {},
   "outputs": [],
   "source": [
    "fruits.remove(\"Banana\")"
   ]
  },
  {
   "cell_type": "code",
   "execution_count": 79,
   "id": "cc2e0dbc",
   "metadata": {},
   "outputs": [],
   "source": [
    "a = [...]"
   ]
  },
  {
   "cell_type": "code",
   "execution_count": 84,
   "id": "a4afbf98",
   "metadata": {},
   "outputs": [],
   "source": [
    "fruits.sort()"
   ]
  },
  {
   "cell_type": "code",
   "execution_count": 92,
   "id": "1bcb794e",
   "metadata": {},
   "outputs": [],
   "source": [
    "def get_length_of_word(word: str):\n",
    "    return len(word)\n",
    "\n",
    "fruits.sort(key = get_length_of_word)"
   ]
  },
  {
   "cell_type": "code",
   "execution_count": 93,
   "id": "e42512e2",
   "metadata": {},
   "outputs": [
    {
     "data": {
      "text/plain": [
       "['Apple', 'Mango', 'Orange', 'Pineapple']"
      ]
     },
     "execution_count": 93,
     "metadata": {},
     "output_type": "execute_result"
    }
   ],
   "source": [
    "fruits"
   ]
  },
  {
   "cell_type": "code",
   "execution_count": 94,
   "id": "0dcc048a",
   "metadata": {},
   "outputs": [],
   "source": [
    "fruits.reverse()"
   ]
  },
  {
   "cell_type": "code",
   "execution_count": 102,
   "id": "48bd4120",
   "metadata": {},
   "outputs": [],
   "source": [
    "fruits = fruits[::-1]"
   ]
  },
  {
   "cell_type": "code",
   "execution_count": 103,
   "id": "45f9904e",
   "metadata": {},
   "outputs": [
    {
     "data": {
      "text/plain": [
       "['Pineapple', 'Orange', 'Mango', 'Apple']"
      ]
     },
     "execution_count": 103,
     "metadata": {},
     "output_type": "execute_result"
    }
   ],
   "source": [
    "fruits"
   ]
  },
  {
   "cell_type": "code",
   "execution_count": 105,
   "id": "8fe2e5e8",
   "metadata": {},
   "outputs": [
    {
     "data": {
      "text/plain": [
       "2"
      ]
     },
     "execution_count": 105,
     "metadata": {},
     "output_type": "execute_result"
    }
   ],
   "source": [
    "fruits.index(\"Mango\")"
   ]
  },
  {
   "cell_type": "code",
   "execution_count": 106,
   "id": "26853813",
   "metadata": {},
   "outputs": [
    {
     "data": {
      "text/plain": [
       "1"
      ]
     },
     "execution_count": 106,
     "metadata": {},
     "output_type": "execute_result"
    }
   ],
   "source": [
    "fruits.count(\"Pineapple\")"
   ]
  },
  {
   "cell_type": "code",
   "execution_count": 108,
   "id": "4e70e63c",
   "metadata": {},
   "outputs": [],
   "source": [
    "temp_fruits = fruits.copy()"
   ]
  },
  {
   "cell_type": "code",
   "execution_count": 110,
   "id": "a0d07d2c",
   "metadata": {},
   "outputs": [],
   "source": [
    "fruits.clear()"
   ]
  },
  {
   "cell_type": "code",
   "execution_count": 111,
   "id": "822bcc35",
   "metadata": {},
   "outputs": [
    {
     "data": {
      "text/plain": [
       "[]"
      ]
     },
     "execution_count": 111,
     "metadata": {},
     "output_type": "execute_result"
    }
   ],
   "source": [
    "fruits"
   ]
  },
  {
   "cell_type": "code",
   "execution_count": 112,
   "id": "024dda17",
   "metadata": {},
   "outputs": [],
   "source": [
    "del fruits"
   ]
  },
  {
   "cell_type": "code",
   "execution_count": 115,
   "id": "5b7f9ab5",
   "metadata": {},
   "outputs": [],
   "source": [
    "fruits = temp_fruits"
   ]
  },
  {
   "cell_type": "code",
   "execution_count": 121,
   "id": "d927bd78",
   "metadata": {},
   "outputs": [
    {
     "data": {
      "text/plain": [
       "['Pineapple', 'Orange', 'Mango', 'Apple']"
      ]
     },
     "execution_count": 121,
     "metadata": {},
     "output_type": "execute_result"
    }
   ],
   "source": [
    "fruits"
   ]
  },
  {
   "cell_type": "code",
   "execution_count": 119,
   "id": "99c819b7",
   "metadata": {},
   "outputs": [
    {
     "ename": "NameError",
     "evalue": "name 'temp_fruits' is not defined",
     "output_type": "error",
     "traceback": [
      "\u001b[0;31m---------------------------------------------------------------------------\u001b[0m",
      "\u001b[0;31mNameError\u001b[0m                                 Traceback (most recent call last)",
      "Input \u001b[0;32mIn [119]\u001b[0m, in \u001b[0;36m<cell line: 1>\u001b[0;34m()\u001b[0m\n\u001b[0;32m----> 1\u001b[0m \u001b[43mtemp_fruits\u001b[49m\n",
      "\u001b[0;31mNameError\u001b[0m: name 'temp_fruits' is not defined"
     ]
    }
   ],
   "source": [
    "temp_fruits"
   ]
  },
  {
   "cell_type": "code",
   "execution_count": 118,
   "id": "6553f7cb",
   "metadata": {},
   "outputs": [],
   "source": [
    "del temp_fruits"
   ]
  },
  {
   "cell_type": "code",
   "execution_count": 127,
   "id": "0841ce55",
   "metadata": {},
   "outputs": [],
   "source": [
    "t = set([1, 2, 3, 3, 3])"
   ]
  },
  {
   "cell_type": "code",
   "execution_count": 128,
   "id": "dc97297a",
   "metadata": {},
   "outputs": [
    {
     "data": {
      "text/plain": [
       "{1, 2, 3}"
      ]
     },
     "execution_count": 128,
     "metadata": {},
     "output_type": "execute_result"
    }
   ],
   "source": [
    "t"
   ]
  },
  {
   "cell_type": "code",
   "execution_count": 130,
   "id": "50acde10",
   "metadata": {},
   "outputs": [
    {
     "name": "stdout",
     "output_type": "stream",
     "text": [
      "{'melon'}\n"
     ]
    }
   ],
   "source": [
    "yellow_fruits = {\"banana\", \"melon\", \"pineapple\"}\n",
    "red_fruits = {\"apple\", \"strawberry\", \"cherry\", \"melon\"}\n",
    "\n",
    "inter = yellow_fruits.intersection(red_fruits)\n",
    "print(inter)"
   ]
  },
  {
   "cell_type": "code",
   "execution_count": 131,
   "id": "a9b72905",
   "metadata": {},
   "outputs": [
    {
     "name": "stdout",
     "output_type": "stream",
     "text": [
      "[1, 2, 3, 5, 6]\n"
     ]
    }
   ],
   "source": [
    "numbers = [1, 2, 3, 2, 2, 5, 6]\n",
    "numbers = set(numbers)\n",
    "numbers = list(numbers)\n",
    "\n",
    "print(numbers)"
   ]
  },
  {
   "cell_type": "code",
   "execution_count": 132,
   "id": "d9cb2579",
   "metadata": {},
   "outputs": [],
   "source": [
    "n = {1, 1, 7, 8, 2, 3}"
   ]
  },
  {
   "cell_type": "code",
   "execution_count": null,
   "id": "6f657660",
   "metadata": {},
   "outputs": [],
   "source": []
  },
  {
   "cell_type": "code",
   "execution_count": 135,
   "id": "055ccaf2",
   "metadata": {},
   "outputs": [
    {
     "name": "stdout",
     "output_type": "stream",
     "text": [
      "1\n",
      "2\n",
      "3\n",
      "7\n",
      "8\n"
     ]
    }
   ],
   "source": [
    "for num in n:\n",
    "    print(num)"
   ]
  },
  {
   "cell_type": "code",
   "execution_count": 166,
   "id": "70c3e3a2",
   "metadata": {},
   "outputs": [
    {
     "name": "stdout",
     "output_type": "stream",
     "text": [
      "Ukraine\n",
      "Britain\n",
      "Poland\n"
     ]
    }
   ],
   "source": [
    "for c in countries:\n",
    "    print(c)"
   ]
  },
  {
   "cell_type": "code",
   "execution_count": 242,
   "id": "25daba2e",
   "metadata": {},
   "outputs": [],
   "source": [
    "students_height = [165, 187, 175, 169, 160, 190, 185, 179, 181]\n",
    "students_height.sort()"
   ]
  },
  {
   "cell_type": "code",
   "execution_count": 243,
   "id": "c650b34f",
   "metadata": {},
   "outputs": [
    {
     "data": {
      "text/plain": [
       "[160, 165, 169, 175, 179, 181, 185, 187, 190]"
      ]
     },
     "execution_count": 243,
     "metadata": {},
     "output_type": "execute_result"
    }
   ],
   "source": [
    "students_height"
   ]
  },
  {
   "cell_type": "code",
   "execution_count": 237,
   "id": "c5d124e4",
   "metadata": {},
   "outputs": [],
   "source": [
    "petrov_height = 177"
   ]
  },
  {
   "cell_type": "code",
   "execution_count": 229,
   "id": "a81fa69d",
   "metadata": {},
   "outputs": [
    {
     "name": "stdout",
     "output_type": "stream",
     "text": [
      "160\n",
      "165\n",
      "169\n",
      "175\n",
      "179\n",
      "4\n"
     ]
    }
   ],
   "source": [
    "for student_height in students_height:\n",
    "    print(student_height)\n",
    "    \n",
    "    if petrov_height <= student_height:\n",
    "        idx = students_height.index(student_height)\n",
    "        print(idx)\n",
    "        break"
   ]
  },
  {
   "cell_type": "code",
   "execution_count": 233,
   "id": "5f0aa519",
   "metadata": {},
   "outputs": [
    {
     "name": "stdout",
     "output_type": "stream",
     "text": [
      "160\n",
      "[177, 160, 165, 169, 175, 179, 181, 185, 187, 190]\n"
     ]
    }
   ],
   "source": [
    "for student_height in students_height:\n",
    "    print(student_height)\n",
    "    \n",
    "    if petrov_height <= student_height:\n",
    "        idx = students_height.index(student_height)\n",
    "        students_height.insert(idx, petrov_height)\n",
    "    else:\n",
    "        students_height.insert(0, petrov_height)\n",
    "        \n",
    "    break\n",
    "\n",
    "print(students_height)"
   ]
  },
  {
   "cell_type": "code",
   "execution_count": 244,
   "id": "3abf73e9",
   "metadata": {},
   "outputs": [
    {
     "name": "stdout",
     "output_type": "stream",
     "text": [
      "[160, 165, 169, 175, 179, 181, 185, 187, 190]\n",
      "4\n",
      "[160, 165, 169, 175, 177, 179, 181, 185, 187, 190]\n"
     ]
    }
   ],
   "source": [
    "for student_height in students_height:\n",
    "    if petrov_height <= student_height:\n",
    "        idx = students_height.index(student_height)\n",
    "        students_height.insert(idx, petrov_height)\n",
    "        break"
   ]
  },
  {
   "cell_type": "code",
   "execution_count": 247,
   "id": "3c4c04df",
   "metadata": {},
   "outputs": [],
   "source": [
    "# Множина як впорядковується\n",
    "# Чому зациклювався алгоритм"
   ]
  }
 ],
 "metadata": {
  "kernelspec": {
   "display_name": "Python 3 (ipykernel)",
   "language": "python",
   "name": "python3"
  },
  "language_info": {
   "codemirror_mode": {
    "name": "ipython",
    "version": 3
   },
   "file_extension": ".py",
   "mimetype": "text/x-python",
   "name": "python",
   "nbconvert_exporter": "python",
   "pygments_lexer": "ipython3",
   "version": "3.9.12"
  }
 },
 "nbformat": 4,
 "nbformat_minor": 5
}
