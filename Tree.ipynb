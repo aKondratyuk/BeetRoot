{
 "cells": [
  {
   "cell_type": "code",
   "execution_count": null,
   "id": "9a020ad7",
   "metadata": {},
   "outputs": [],
   "source": [
    "\"\"\"\n",
    "        a\n",
    "    b      c\n",
    " d    e      f\n",
    "\"\"\""
   ]
  },
  {
   "cell_type": "code",
   "execution_count": 17,
   "id": "c346e967",
   "metadata": {},
   "outputs": [],
   "source": [
    "# Представлення дерева у вигляді вкладених списків\n",
    "Tree = ['a', \n",
    "         ['b', \n",
    "          ['d', [], []], \n",
    "          ['e', [], []]\n",
    "         ], \n",
    "         ['c', \n",
    "          [], \n",
    "          ['f', [], []]\n",
    "         ]\n",
    "        ]"
   ]
  },
  {
   "cell_type": "code",
   "execution_count": 20,
   "id": "26a2a376",
   "metadata": {},
   "outputs": [
    {
     "data": {
      "text/plain": [
       "'e'"
      ]
     },
     "execution_count": 20,
     "metadata": {},
     "output_type": "execute_result"
    }
   ],
   "source": [
    "# Дістатися до ноди, що містить букву е\n",
    "Tree[1][2][0]"
   ]
  },
  {
   "cell_type": "code",
   "execution_count": 23,
   "id": "3a06855f",
   "metadata": {},
   "outputs": [],
   "source": [
    "def BinaryTree(root):\n",
    "    return [root, [], []]\n",
    "\n",
    "def insertLeft(root, newBranch):\n",
    "    t = root.pop(1)\n",
    "    if len(t) > 1:\n",
    "        root.insert(1,[newBranch, t, []])\n",
    "    else:\n",
    "        root.insert(1, [newBranch, [], []])\n",
    "\n",
    "def insertRight(root, newBranch):\n",
    "    t = root.pop(2)\n",
    "    if len(t) > 1:\n",
    "        root.insert(2,[newBranch, [], t])\n",
    "    else:\n",
    "        root.insert(2, [newBranch, [], []])"
   ]
  },
  {
   "cell_type": "code",
   "execution_count": 24,
   "id": "d9647fc7",
   "metadata": {},
   "outputs": [],
   "source": [
    "def getRootVal(root):\n",
    "    return root[0]\n",
    "\n",
    "def setRootVal(root, newVal):\n",
    "    root[0] = newVal\n",
    "\n",
    "def getLeftChild(root):\n",
    "    return root[1]\n",
    "\n",
    "def getRightChild(root):\n",
    "    return root[2]"
   ]
  },
  {
   "cell_type": "code",
   "execution_count": 51,
   "id": "809bd433",
   "metadata": {},
   "outputs": [],
   "source": [
    "tree = BinaryTree('a')"
   ]
  },
  {
   "cell_type": "code",
   "execution_count": 52,
   "id": "0404f7e1",
   "metadata": {},
   "outputs": [
    {
     "data": {
      "text/plain": [
       "['a', [], []]"
      ]
     },
     "execution_count": 52,
     "metadata": {},
     "output_type": "execute_result"
    }
   ],
   "source": [
    "# Побудова бінарного дерева\n",
    "tree"
   ]
  },
  {
   "cell_type": "code",
   "execution_count": 53,
   "id": "405bc41e",
   "metadata": {},
   "outputs": [],
   "source": [
    "insertRight(tree, 'c')"
   ]
  },
  {
   "cell_type": "code",
   "execution_count": 54,
   "id": "ea839c43",
   "metadata": {},
   "outputs": [
    {
     "name": "stdout",
     "output_type": "stream",
     "text": [
      "[]\n",
      "['c', [], []]\n"
     ]
    }
   ],
   "source": [
    "print(getLeftChild(tree))\n",
    "print(getRightChild(tree))"
   ]
  },
  {
   "cell_type": "code",
   "execution_count": 55,
   "id": "bbed6979",
   "metadata": {},
   "outputs": [],
   "source": [
    "# Вставка ноди зправа для ноди \"с\"\n",
    "insertRight(getRightChild(tree), 'f')"
   ]
  },
  {
   "cell_type": "code",
   "execution_count": 56,
   "id": "625ad689",
   "metadata": {},
   "outputs": [
    {
     "name": "stdout",
     "output_type": "stream",
     "text": [
      "['f', [], []]\n"
     ]
    }
   ],
   "source": [
    "# Дістатися до ноди 'f'\n",
    "print(getRightChild(getRightChild(tree)))"
   ]
  },
  {
   "cell_type": "code",
   "execution_count": 57,
   "id": "8a919aae",
   "metadata": {},
   "outputs": [
    {
     "data": {
      "text/plain": [
       "['a', [], ['c', [], ['f', [], []]]]"
      ]
     },
     "execution_count": 57,
     "metadata": {},
     "output_type": "execute_result"
    }
   ],
   "source": [
    "tree"
   ]
  },
  {
   "cell_type": "code",
   "execution_count": 58,
   "id": "1e3b878b",
   "metadata": {},
   "outputs": [],
   "source": [
    "insertLeft(tree, 'b')\n",
    "insertLeft(getLeftChild(tree), 'd')\n",
    "insertRight(getLeftChild(tree), 'f')"
   ]
  },
  {
   "cell_type": "code",
   "execution_count": 63,
   "id": "a2d53895",
   "metadata": {},
   "outputs": [],
   "source": [
    "setRootVal(getRightChild(getLeftChild(tree)), 'e')"
   ]
  },
  {
   "cell_type": "code",
   "execution_count": 64,
   "id": "9e2389f2",
   "metadata": {},
   "outputs": [
    {
     "data": {
      "text/plain": [
       "['a', ['b', ['d', [], []], ['e', [], []]], ['c', [], ['f', [], []]]]"
      ]
     },
     "execution_count": 64,
     "metadata": {},
     "output_type": "execute_result"
    }
   ],
   "source": [
    "tree"
   ]
  },
  {
   "cell_type": "code",
   "execution_count": 65,
   "id": "58b8760f",
   "metadata": {},
   "outputs": [
    {
     "data": {
      "text/plain": [
       "['a', ['b', ['d', [], []], ['e', [], []]], ['c', [], ['f', [], []]]]"
      ]
     },
     "execution_count": 65,
     "metadata": {},
     "output_type": "execute_result"
    }
   ],
   "source": [
    "Tree"
   ]
  },
  {
   "cell_type": "code",
   "execution_count": 66,
   "id": "5df62662",
   "metadata": {},
   "outputs": [
    {
     "name": "stdout",
     "output_type": "stream",
     "text": [
      "['b', ['d', [], []], ['e', [], []]]\n",
      "['b', ['d', [], []], ['e', [], []]]\n"
     ]
    }
   ],
   "source": [
    "print(getLeftChild(tree))\n",
    "print(getLeftChild(Tree))"
   ]
  },
  {
   "cell_type": "code",
   "execution_count": 67,
   "id": "4481ac32",
   "metadata": {},
   "outputs": [
    {
     "data": {
      "text/plain": [
       "True"
      ]
     },
     "execution_count": 67,
     "metadata": {},
     "output_type": "execute_result"
    }
   ],
   "source": [
    "tree == Tree"
   ]
  },
  {
   "cell_type": "code",
   "execution_count": 96,
   "id": "2c7523d9",
   "metadata": {},
   "outputs": [],
   "source": [
    "# Building tree with OOP\n",
    "class BinaryTree:\n",
    "    def __init__(self,rootObj):\n",
    "        self.key = rootObj\n",
    "        self.leftChild = None\n",
    "        self.rightChild = None\n",
    "        \n",
    "    def insertLeft(self,newNode):\n",
    "        if self.leftChild == None:\n",
    "            self.leftChild = BinaryTree(newNode)\n",
    "        else:\n",
    "            t = BinaryTree(newNode)\n",
    "            t.leftChild = self.leftChild\n",
    "            self.leftChild = t\n",
    "    \n",
    "    def insertRight(self,newNode):\n",
    "        if self.rightChild == None:\n",
    "            self.rightChild = BinaryTree(newNode)\n",
    "        else:\n",
    "            t = BinaryTree(newNode)\n",
    "            t.rightChild = self.rightChild\n",
    "            self.rightChild = t\n",
    "        \n",
    "    def getRightChild(self):\n",
    "        return self.rightChild\n",
    "\n",
    "    def getLeftChild(self):\n",
    "        return self.leftChild\n",
    "\n",
    "    def setRootVal(self,obj):\n",
    "        self.key = obj\n",
    "\n",
    "    def getRootVal(self):\n",
    "        return self.key\n",
    "    \n",
    "    def __repr__(self):\n",
    "        return str(self.getRootVal())"
   ]
  },
  {
   "cell_type": "code",
   "execution_count": null,
   "id": "c9fcfa72",
   "metadata": {},
   "outputs": [],
   "source": [
    "\"\"\"\n",
    "a\n",
    "  b\n",
    "    d\n",
    "    e\n",
    "  c\n",
    "    f\n",
    "\"\"\""
   ]
  },
  {
   "cell_type": "code",
   "execution_count": null,
   "id": "18e8e063",
   "metadata": {},
   "outputs": [],
   "source": []
  },
  {
   "cell_type": "code",
   "execution_count": 74,
   "id": "7c6fb185",
   "metadata": {},
   "outputs": [],
   "source": [
    "binary_tree = BinaryTree('a')"
   ]
  },
  {
   "cell_type": "code",
   "execution_count": 75,
   "id": "d5e88a37",
   "metadata": {},
   "outputs": [
    {
     "data": {
      "text/plain": [
       "a"
      ]
     },
     "execution_count": 75,
     "metadata": {},
     "output_type": "execute_result"
    }
   ],
   "source": [
    "binary_tree"
   ]
  },
  {
   "cell_type": "code",
   "execution_count": 76,
   "id": "0e719c1d",
   "metadata": {},
   "outputs": [],
   "source": [
    "binary_tree.insertLeft('b')\n",
    "binary_tree.insertRight('c')"
   ]
  },
  {
   "cell_type": "code",
   "execution_count": 81,
   "id": "d3716361",
   "metadata": {},
   "outputs": [
    {
     "data": {
      "text/plain": [
       "c"
      ]
     },
     "execution_count": 81,
     "metadata": {},
     "output_type": "execute_result"
    }
   ],
   "source": [
    "binary_tree.getLeftChild()\n",
    "binary_tree.getRightChild()"
   ]
  },
  {
   "cell_type": "code",
   "execution_count": 82,
   "id": "6a6e243f",
   "metadata": {},
   "outputs": [],
   "source": [
    "binary_tree.getLeftChild().insertLeft('d')\n",
    "binary_tree.getLeftChild().insertRight('e')"
   ]
  },
  {
   "cell_type": "code",
   "execution_count": 86,
   "id": "4857ef7b",
   "metadata": {},
   "outputs": [
    {
     "data": {
      "text/plain": [
       "e"
      ]
     },
     "execution_count": 86,
     "metadata": {},
     "output_type": "execute_result"
    }
   ],
   "source": [
    "binary_tree.getLeftChild().getRightChild()"
   ]
  },
  {
   "cell_type": "code",
   "execution_count": 97,
   "id": "d1e0fe0b",
   "metadata": {},
   "outputs": [],
   "source": [
    "class Stack:\n",
    "    def __init__(self):\n",
    "        self.__items = []\n",
    "    \n",
    "    def showItems(self):\n",
    "        print(self.__items)\n",
    "    \n",
    "    def isEmpty(self):\n",
    "        return self.__items == []\n",
    "    \n",
    "    def push(self, item):\n",
    "        self.__items.append(item)\n",
    "    \n",
    "    def peek(self):\n",
    "        return self.__items[-1]\n",
    "    \n",
    "    def size(self):\n",
    "        return len(self.__items)\n",
    "    \n",
    "    def pop(self):\n",
    "        return self.__items.pop()\n",
    "\n",
    "exp = \"(3+(4*5))\"\n",
    "\n",
    "def buildParseTree(fpexp):\n",
    "    fplist = fpexp.split()\n",
    "    pStack = Stack()\n",
    "    eTree = BinaryTree('')\n",
    "    pStack.push(eTree)\n",
    "    currentTree = eTree\n",
    "\n",
    "    for i in fplist:\n",
    "        if i == '(':\n",
    "            currentTree.insertLeft('')\n",
    "            pStack.push(currentTree)\n",
    "            currentTree = currentTree.getLeftChild()\n",
    "\n",
    "        elif i in ['+', '-', '*', '/']:\n",
    "            currentTree.setRootVal(i)\n",
    "            currentTree.insertRight('')\n",
    "            pStack.push(currentTree)\n",
    "            currentTree = currentTree.getRightChild()\n",
    "\n",
    "        elif i == ')':\n",
    "            currentTree = pStack.pop()\n",
    "\n",
    "        elif i not in ['+', '-', '*', '/', ')']:\n",
    "            try:\n",
    "                currentTree.setRootVal(int(i))\n",
    "                parent = pStack.pop()\n",
    "                currentTree = parent\n",
    "\n",
    "            except ValueError:\n",
    "                raise ValueError(\"token '{}' is not a valid integer\".format(i))\n",
    "\n",
    "    return eTree\n",
    "\n",
    "pt = buildParseTree(\"( ( 10 + 5 ) * 3 )\")\n",
    "#pt.postorder()  #defined and explained in the next section\n"
   ]
  },
  {
   "cell_type": "code",
   "execution_count": 98,
   "id": "b1545fa8",
   "metadata": {},
   "outputs": [
    {
     "data": {
      "text/plain": [
       "*"
      ]
     },
     "execution_count": 98,
     "metadata": {},
     "output_type": "execute_result"
    }
   ],
   "source": [
    "pt"
   ]
  },
  {
   "cell_type": "code",
   "execution_count": 99,
   "id": "3cfb85ab",
   "metadata": {},
   "outputs": [
    {
     "data": {
      "text/plain": [
       "+"
      ]
     },
     "execution_count": 99,
     "metadata": {},
     "output_type": "execute_result"
    }
   ],
   "source": [
    "pt.getLeftChild()"
   ]
  },
  {
   "cell_type": "code",
   "execution_count": 100,
   "id": "596c644c",
   "metadata": {},
   "outputs": [
    {
     "data": {
      "text/plain": [
       "3"
      ]
     },
     "execution_count": 100,
     "metadata": {},
     "output_type": "execute_result"
    }
   ],
   "source": [
    "pt.getRightChild()"
   ]
  },
  {
   "cell_type": "code",
   "execution_count": 103,
   "id": "be9baabc",
   "metadata": {},
   "outputs": [
    {
     "data": {
      "text/plain": [
       "5"
      ]
     },
     "execution_count": 103,
     "metadata": {},
     "output_type": "execute_result"
    }
   ],
   "source": [
    "pt.getLeftChild().getRightChild()"
   ]
  },
  {
   "cell_type": "code",
   "execution_count": null,
   "id": "c392a6e2",
   "metadata": {},
   "outputs": [],
   "source": [
    "# 1. Що таке дерево?\n",
    "# 2. Де воно може застосовуватись?\n",
    "# 3. Якщо ми будуємо дерево з математичного виразу як (3 + (20*4)), то як буде будуватись дерево?"
   ]
  },
  {
   "cell_type": "markdown",
   "id": "9d928f10",
   "metadata": {},
   "source": [
    "# Recursion"
   ]
  },
  {
   "cell_type": "code",
   "execution_count": 107,
   "id": "8ba09b42",
   "metadata": {},
   "outputs": [],
   "source": [
    "def summation(arr: list):\n",
    "    if len(arr) == 0:\n",
    "        return 0\n",
    "    \n",
    "    elif len(arr) == 1:\n",
    "        return arr[0]\n",
    "    \n",
    "    return arr[0] + summation(arr[1:])"
   ]
  },
  {
   "cell_type": "code",
   "execution_count": 109,
   "id": "a10d3ee1",
   "metadata": {},
   "outputs": [],
   "source": [
    "def loop_summation(arr: list):\n",
    "    total = 0\n",
    "    for i in range(len(arr)):\n",
    "        total += arr[i]\n",
    "        \n",
    "    return total"
   ]
  },
  {
   "cell_type": "code",
   "execution_count": 111,
   "id": "8c4fcb4d",
   "metadata": {},
   "outputs": [],
   "source": [
    "numbers = [i for i in range(1, 1000+1)]"
   ]
  },
  {
   "cell_type": "code",
   "execution_count": 112,
   "id": "bbad9cff",
   "metadata": {},
   "outputs": [
    {
     "name": "stdout",
     "output_type": "stream",
     "text": [
      "4.63 ms ± 249 µs per loop (mean ± std. dev. of 7 runs, 100 loops each)\n",
      "83.3 µs ± 7.59 µs per loop (mean ± std. dev. of 7 runs, 10,000 loops each)\n"
     ]
    }
   ],
   "source": [
    "%timeit summation(numbers)\n",
    "%timeit loop_summation(numbers)"
   ]
  },
  {
   "cell_type": "code",
   "execution_count": 113,
   "id": "08da7bb5",
   "metadata": {},
   "outputs": [
    {
     "data": {
      "text/plain": [
       "55.58223289315726"
      ]
     },
     "execution_count": 113,
     "metadata": {},
     "output_type": "execute_result"
    }
   ],
   "source": [
    "(4.63 * 10**(-3)) / (83.3 * 10**(-6))"
   ]
  },
  {
   "cell_type": "code",
   "execution_count": 142,
   "id": "2931ce04",
   "metadata": {},
   "outputs": [],
   "source": [
    "area = [1680, 640]"
   ]
  },
  {
   "cell_type": "code",
   "execution_count": 143,
   "id": "4d3fc383",
   "metadata": {},
   "outputs": [
    {
     "name": "stdout",
     "output_type": "stream",
     "text": [
      "[1680, 640]\n",
      "[400, 640]\n",
      "[400, 240]\n",
      "[160, 240]\n",
      "[160, 80]\n",
      "80\n"
     ]
    }
   ],
   "source": [
    "print(area)\n",
    "while True:\n",
    "    remainder = max(area) % min(area)\n",
    "    \n",
    "    if remainder == 0:\n",
    "        print(min(area))\n",
    "        break\n",
    "    else:\n",
    "        indx = area.index(max(area))\n",
    "        area[indx] = remainder\n",
    "    \n",
    "    print(area)"
   ]
  },
  {
   "cell_type": "code",
   "execution_count": 159,
   "id": "db793d80",
   "metadata": {},
   "outputs": [],
   "source": [
    "def FindTheBiggestSquareToCoverArea(length, width):\n",
    "    remainder = max(length, width) % min(length, width)\n",
    "    \n",
    "    if remainder == 0:\n",
    "        # if length <= width:\n",
    "        #     return length\n",
    "        # else:\n",
    "        #     return width\n",
    "        return min(length, width)\n",
    "    print(length, width)\n",
    "    return FindTheBiggestSquareToCoverArea(length % width, width % length)"
   ]
  },
  {
   "cell_type": "code",
   "execution_count": 161,
   "id": "8d17c92b",
   "metadata": {},
   "outputs": [
    {
     "name": "stdout",
     "output_type": "stream",
     "text": [
      "1680 640\n",
      "400 640\n",
      "400 240\n",
      "160 240\n"
     ]
    },
    {
     "data": {
      "text/plain": [
       "80"
      ]
     },
     "execution_count": 161,
     "metadata": {},
     "output_type": "execute_result"
    }
   ],
   "source": [
    "FindTheBiggestSquareToCoverArea(1680, 640)\n",
    "# FindTheBiggestSquareToCoverArea(640, 1680)\n"
   ]
  },
  {
   "cell_type": "code",
   "execution_count": 175,
   "id": "539c68b0",
   "metadata": {},
   "outputs": [],
   "source": [
    "def binary_search(arr: list, item: int):\n",
    "    low = 0\n",
    "    high = len(arr) - 1\n",
    "    \n",
    "    while low <= high:\n",
    "        mid = (high + low) // 2\n",
    "        if arr[mid] == item:\n",
    "            return item\n",
    "        elif item < arr[mid]:\n",
    "            high = mid - 1\n",
    "        else:\n",
    "            low = mid + 1\n",
    "    \n",
    "    return None"
   ]
  },
  {
   "cell_type": "code",
   "execution_count": 176,
   "id": "bd4d150e",
   "metadata": {},
   "outputs": [],
   "source": [
    "numbers = [i for i in range(1, 101)]"
   ]
  },
  {
   "cell_type": "code",
   "execution_count": 177,
   "id": "5554783f",
   "metadata": {},
   "outputs": [
    {
     "data": {
      "text/plain": [
       "63"
      ]
     },
     "execution_count": 177,
     "metadata": {},
     "output_type": "execute_result"
    }
   ],
   "source": [
    "binary_search(numbers, 63)"
   ]
  },
  {
   "cell_type": "code",
   "execution_count": 191,
   "id": "07987eb1",
   "metadata": {},
   "outputs": [],
   "source": [
    "def recursive_binary_search(arr: list, item: int):\n",
    "    low = 0\n",
    "    high = len(arr) - 1\n",
    "    mid = (high + low) // 2\n",
    "    \n",
    "    # Базовий випадок\n",
    "    if len(arr) == 1:\n",
    "        if arr[0] == item:\n",
    "            return item\n",
    "        \n",
    "        return None\n",
    "    \n",
    "    if arr[mid] == item:\n",
    "        return item\n",
    "\n",
    "    elif arr[mid] < item:\n",
    "        return recursive_binary_search(arr[(mid+1):], item)\n",
    "    \n",
    "    elif arr[mid] > item:\n",
    "        return recursive_binary_search(arr[:(mid)], item)"
   ]
  },
  {
   "cell_type": "code",
   "execution_count": 192,
   "id": "b03527cf",
   "metadata": {},
   "outputs": [],
   "source": [
    "recursive_binary_search(numbers, 150)"
   ]
  },
  {
   "cell_type": "code",
   "execution_count": 14,
   "id": "e70dafbf",
   "metadata": {},
   "outputs": [
    {
     "name": "stdout",
     "output_type": "stream",
     "text": [
      "[]\n",
      "[5]\n",
      "[5, 4]\n",
      "[5, 4, 5]\n",
      "[5, 4, 5, 8]\n",
      "[5, 4, 5, 8, 7]\n",
      "[5, 4, 5, 8, 7, 7]\n",
      "[5, 4, 5, 8, 7, 7, 6]\n",
      "[5, 4, 5, 8, 7, 7, 6, 7]\n",
      "[5, 4, 5, 8, 7, 7, 6, 7, 6]\n",
      "[5, 4, 5, 8, 7, 7, 6, 7, 6, 5]\n",
      "[5, 4, 5, 8, 7, 7, 6, 7, 6, 5, 4]\n",
      "[5, 4, 5, 8, 7, 7, 6, 7, 6, 5, 4, 3]\n",
      "[5, 4, 5, 8, 7, 7, 6, 7, 6, 5, 4, 3, 2]\n"
     ]
    },
    {
     "data": {
      "text/plain": [
       "8"
      ]
     },
     "execution_count": 14,
     "metadata": {},
     "output_type": "execute_result"
    }
   ],
   "source": [
    "matrix = [[7, 5, 2, 3, 1], \n",
    "         [3, 4, 1, 4, 4],\n",
    "         [1, 5, 6, 7, 8],\n",
    "         [3, 4, 5, 8, 9],\n",
    "         [3, 2, 2, 7, 6]]\n",
    "\n",
    "\n",
    "def get_down_element_indexes(num_rows, i, j):\n",
    "    if i == len(matrix) - 1:\n",
    "        #print(f\"Last row {i}\")\n",
    "        return False\n",
    "    \n",
    "    return (i+1, j)\n",
    "\n",
    "def get_right_element_indexes(num_columns, i, j):\n",
    "    if j == len(matrix[0]) - 1:\n",
    "        #print(f\"Last column {j}\")\n",
    "        return False\n",
    "    \n",
    "    return (i, j+1)\n",
    "\n",
    "def get_down_element(mat, i, j):\n",
    "    num_rows = len(mat) - 1\n",
    "    res = get_down_element_indexes(num_rows, i, j)\n",
    "    if res:\n",
    "        i_, j_ = res\n",
    "        down_element = matrix[i_][j_]\n",
    "        return down_element\n",
    "    \n",
    "    return False\n",
    "\n",
    "def get_right_element(mat, i, j):\n",
    "    num_columns = len(mat[0]) - 1\n",
    "    res = get_right_element_indexes(num_columns, i, j)\n",
    "    if res:\n",
    "        i_, j_ = res\n",
    "        right_element = matrix[i_][j_]\n",
    "        return right_element\n",
    "    \n",
    "    return False\n",
    "\n",
    "def has_path(current_element, next_element):\n",
    "    if next_element == False:\n",
    "        return False\n",
    "    \n",
    "    return abs(current_element - next_element) == 1\n",
    "\n",
    "def max_path(length_of_path):\n",
    "    if len(length_of_path):\n",
    "        return max(length_of_path)\n",
    "    \n",
    "    return 1\n",
    "\n",
    "def snake_path(mat, i, j, start = (0, 0), max_length = 1, length_of_path = []):\n",
    "    current_element = matrix[i][j]\n",
    "    down_element = get_down_element(mat, i, j)\n",
    "    right_element = get_right_element(mat, i, j)\n",
    "    \n",
    "    #print(f\"current_element = {current_element}, i = {i}, j = {j}, max_length = {max_length}\")\n",
    "\n",
    "    if has_path(current_element, down_element):\n",
    "        snake_path(mat, i+1, j, max_length = max_length + 1)\n",
    "        length_of_path.append(max_length+1)\n",
    "    \n",
    "    if has_path(current_element, right_element):\n",
    "        snake_path(mat, i, j+1, max_length = max_length + 1)\n",
    "        length_of_path.append(max_length+1)\n",
    "    print(length_of_path)\n",
    "    if ((i, j) == start):\n",
    "        return max_path(length_of_path)\n",
    "    \n",
    "    return max_length\n",
    "\n",
    "snake_path(matrix, 0, 1, start = (0, 1))"
   ]
  },
  {
   "cell_type": "code",
   "execution_count": null,
   "id": "fa8f1f4d",
   "metadata": {},
   "outputs": [],
   "source": []
  }
 ],
 "metadata": {
  "kernelspec": {
   "display_name": "Python 3 (ipykernel)",
   "language": "python",
   "name": "python3"
  },
  "language_info": {
   "codemirror_mode": {
    "name": "ipython",
    "version": 3
   },
   "file_extension": ".py",
   "mimetype": "text/x-python",
   "name": "python",
   "nbconvert_exporter": "python",
   "pygments_lexer": "ipython3",
   "version": "3.9.12"
  }
 },
 "nbformat": 4,
 "nbformat_minor": 5
}
