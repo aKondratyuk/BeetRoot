{
 "cells": [
  {
   "cell_type": "code",
   "execution_count": 1,
   "id": "86effea0",
   "metadata": {},
   "outputs": [],
   "source": [
    "numbers = [1, 2, 5, 6, 4, 9]"
   ]
  },
  {
   "cell_type": "code",
   "execution_count": 2,
   "id": "17724e6c",
   "metadata": {},
   "outputs": [],
   "source": [
    "numbers.sort()"
   ]
  },
  {
   "cell_type": "code",
   "execution_count": 3,
   "id": "a67571ec",
   "metadata": {},
   "outputs": [
    {
     "data": {
      "text/plain": [
       "[1, 2, 4, 5, 6, 9]"
      ]
     },
     "execution_count": 3,
     "metadata": {},
     "output_type": "execute_result"
    }
   ],
   "source": [
    "numbers"
   ]
  },
  {
   "cell_type": "code",
   "execution_count": null,
   "id": "9156e340",
   "metadata": {},
   "outputs": [],
   "source": []
  },
  {
   "cell_type": "code",
   "execution_count": 10,
   "id": "eb13be0b",
   "metadata": {},
   "outputs": [],
   "source": [
    "numbers = [1, 2, 5, 6, 4, 9]"
   ]
  },
  {
   "cell_type": "code",
   "execution_count": 7,
   "id": "48ee19f5",
   "metadata": {},
   "outputs": [],
   "source": [
    "numbers = sorted(numbers)"
   ]
  },
  {
   "cell_type": "code",
   "execution_count": 8,
   "id": "17a91f94",
   "metadata": {},
   "outputs": [
    {
     "data": {
      "text/plain": [
       "[1, 2, 4, 5, 6, 9]"
      ]
     },
     "execution_count": 8,
     "metadata": {},
     "output_type": "execute_result"
    }
   ],
   "source": [
    "numbers"
   ]
  },
  {
   "cell_type": "code",
   "execution_count": 29,
   "id": "9a8977d6",
   "metadata": {},
   "outputs": [],
   "source": [
    "def qsort(arr, ascending = True):\n",
    "    if len(arr) < 2:\n",
    "        return arr\n",
    "    \n",
    "    # Опорний елемент\n",
    "    pivot = arr[0]\n",
    "    \n",
    "    less = [i for i in arr[1:] if i < pivot]\n",
    "    greater = [i for i in arr[1:] if i >= pivot]\n",
    "    \n",
    "    if ascending:\n",
    "        return qsort(less) + [pivot] + qsort(greater)\n",
    "    else:\n",
    "        return qsort(greater, ascending = False) + [pivot] + qsort(less, ascending = False)"
   ]
  },
  {
   "cell_type": "code",
   "execution_count": 35,
   "id": "44f5b9f0",
   "metadata": {},
   "outputs": [
    {
     "data": {
      "text/plain": [
       "[-5, -1, 1, 2, 2, 4, 4, 5, 6, 9, 10, 99]"
      ]
     },
     "execution_count": 35,
     "metadata": {},
     "output_type": "execute_result"
    }
   ],
   "source": [
    "numbers = [1, 2, 5, 6, 4, 9, 2, 10, -1, -5, 99, 4]\n",
    "\n",
    "qsort(numbers, ascending = True)"
   ]
  },
  {
   "cell_type": "code",
   "execution_count": 36,
   "id": "d28fb33c",
   "metadata": {},
   "outputs": [
    {
     "name": "stdout",
     "output_type": "stream",
     "text": [
      "[17, 20, 26, 31, 44, 54, 55, 77, 93]\n"
     ]
    }
   ],
   "source": [
    "def bubbleSort(alist):\n",
    "    for passnum in range(len(alist)-1,0,-1):\n",
    "        for i in range(passnum):\n",
    "            if alist[i]>alist[i+1]:\n",
    "                temp = alist[i]\n",
    "                alist[i] = alist[i+1]\n",
    "                alist[i+1] = temp\n",
    "\n",
    "alist = [54,26,93,17,77,31,44,55,20]\n",
    "bubbleSort(alist)\n",
    "print(alist)"
   ]
  },
  {
   "cell_type": "code",
   "execution_count": null,
   "id": "d691fd4f",
   "metadata": {},
   "outputs": [],
   "source": []
  }
 ],
 "metadata": {
  "kernelspec": {
   "display_name": "Python 3 (ipykernel)",
   "language": "python",
   "name": "python3"
  },
  "language_info": {
   "codemirror_mode": {
    "name": "ipython",
    "version": 3
   },
   "file_extension": ".py",
   "mimetype": "text/x-python",
   "name": "python",
   "nbconvert_exporter": "python",
   "pygments_lexer": "ipython3",
   "version": "3.9.12"
  }
 },
 "nbformat": 4,
 "nbformat_minor": 5
}
