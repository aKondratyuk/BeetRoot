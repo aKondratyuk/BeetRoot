{
 "cells": [
  {
   "cell_type": "code",
   "execution_count": 2,
   "id": "859c574f",
   "metadata": {},
   "outputs": [],
   "source": [
    "a_list = []\n",
    "a_dict = {}"
   ]
  },
  {
   "cell_type": "code",
   "execution_count": 3,
   "id": "b63c5485",
   "metadata": {},
   "outputs": [],
   "source": [
    "a_list = list()\n",
    "a_dict = dict()"
   ]
  },
  {
   "cell_type": "code",
   "execution_count": 6,
   "id": "d218e4cd",
   "metadata": {},
   "outputs": [],
   "source": [
    "eng_dict = {\"hello\": \"привіт\", \"tea\": \"чай\"}"
   ]
  },
  {
   "cell_type": "code",
   "execution_count": 9,
   "id": "04c97394",
   "metadata": {},
   "outputs": [
    {
     "data": {
      "text/plain": [
       "('привіт', 'чай')"
      ]
     },
     "execution_count": 9,
     "metadata": {},
     "output_type": "execute_result"
    }
   ],
   "source": [
    "eng_dict[\"hello\"], eng_dict[\"tea\"]"
   ]
  },
  {
   "cell_type": "code",
   "execution_count": 11,
   "id": "2d17dc1b",
   "metadata": {},
   "outputs": [],
   "source": [
    "n = {\"numbers\": [1, 2, 3]}"
   ]
  },
  {
   "cell_type": "code",
   "execution_count": 12,
   "id": "0f75a3ea",
   "metadata": {},
   "outputs": [
    {
     "data": {
      "text/plain": [
       "[1, 2, 3]"
      ]
     },
     "execution_count": 12,
     "metadata": {},
     "output_type": "execute_result"
    }
   ],
   "source": [
    "n[\"numbers\"]"
   ]
  },
  {
   "cell_type": "code",
   "execution_count": 14,
   "id": "694267e2",
   "metadata": {},
   "outputs": [],
   "source": [
    "eng_dict = dict(hello = \"привіт\",\n",
    "                tea = \"чай\")"
   ]
  },
  {
   "cell_type": "code",
   "execution_count": 15,
   "id": "09507b2e",
   "metadata": {},
   "outputs": [
    {
     "data": {
      "text/plain": [
       "{'hello': 'привіт', 'tea': 'чай'}"
      ]
     },
     "execution_count": 15,
     "metadata": {},
     "output_type": "execute_result"
    }
   ],
   "source": [
    "eng_dict"
   ]
  },
  {
   "cell_type": "code",
   "execution_count": 16,
   "id": "2c4bce76",
   "metadata": {},
   "outputs": [
    {
     "data": {
      "text/plain": [
       "{'lays': 39.9, 'люкс': 45}"
      ]
     },
     "execution_count": 16,
     "metadata": {},
     "output_type": "execute_result"
    }
   ],
   "source": [
    "{\"lays\": 39.9, \"люкс\": 45}"
   ]
  },
  {
   "cell_type": "code",
   "execution_count": 59,
   "id": "2c574b2a",
   "metadata": {},
   "outputs": [
    {
     "name": "stdout",
     "output_type": "stream",
     "text": [
      "hello beetroot academy\n"
     ]
    },
    {
     "data": {
      "text/plain": [
       "{'h': 1,\n",
       " 'e': 4,\n",
       " 'l': 2,\n",
       " 'o': 3,\n",
       " ' ': 2,\n",
       " 'b': 1,\n",
       " 't': 2,\n",
       " 'r': 1,\n",
       " 'a': 2,\n",
       " 'c': 1,\n",
       " 'd': 1,\n",
       " 'm': 1,\n",
       " 'y': 1}"
      ]
     },
     "execution_count": 59,
     "metadata": {},
     "output_type": "execute_result"
    }
   ],
   "source": [
    "phrase = \"Hello BeetRoot Academy\"\n",
    "phrase = phrase.lower()\n",
    "print(phrase)\n",
    "\n",
    "# Я хочу дізнатися скільки та чи інша буква повторюється разів\n",
    "# Це має бути словник. Звернувшись по ключу (букві) я отримаю кількість повторень (значення)\n",
    "\n",
    "counted_letters_in_phrase = {}\n",
    "for letter in phrase:\n",
    "    if counted_letters_in_phrase.get(letter) is None:\n",
    "        counted_letters_in_phrase[letter] = 1\n",
    "    else:\n",
    "        counted_letters_in_phrase[letter] += 1 \n",
    "\n",
    "counted_letters_in_phrase"
   ]
  },
  {
   "cell_type": "code",
   "execution_count": 79,
   "id": "cba4fc86",
   "metadata": {},
   "outputs": [
    {
     "data": {
      "text/plain": [
       "{'h': 1,\n",
       " 'e': 4,\n",
       " 'l': 2,\n",
       " 'o': 3,\n",
       " ' ': 2,\n",
       " 'b': 1,\n",
       " 't': 2,\n",
       " 'r': 1,\n",
       " 'a': 2,\n",
       " 'c': 1,\n",
       " 'd': 1,\n",
       " 'm': 1,\n",
       " 'y': 1}"
      ]
     },
     "execution_count": 79,
     "metadata": {},
     "output_type": "execute_result"
    }
   ],
   "source": [
    "counted_letters_in_phrase = {}\n",
    "for letter in phrase:\n",
    "    counted_letters_in_phrase.setdefault(letter, 0)\n",
    "    counted_letters_in_phrase[letter] += 1\n",
    "\n",
    "counted_letters_in_phrase"
   ]
  },
  {
   "cell_type": "code",
   "execution_count": null,
   "id": "4d36e461",
   "metadata": {},
   "outputs": [],
   "source": []
  },
  {
   "cell_type": "code",
   "execution_count": 21,
   "id": "b9749e87",
   "metadata": {},
   "outputs": [
    {
     "data": {
      "text/plain": [
       "{'hello': 'привіт', 'tea': 'чай'}"
      ]
     },
     "execution_count": 21,
     "metadata": {},
     "output_type": "execute_result"
    }
   ],
   "source": [
    "eng_dict"
   ]
  },
  {
   "cell_type": "code",
   "execution_count": 27,
   "id": "4f5344b6",
   "metadata": {},
   "outputs": [],
   "source": [
    "eng_dict[\"hello\"] = \"привіт\""
   ]
  },
  {
   "cell_type": "code",
   "execution_count": 26,
   "id": "d679e20f",
   "metadata": {},
   "outputs": [
    {
     "data": {
      "text/plain": [
       "{'hello': 'ноутбук', 'tea': 'чай', 'laptop': 'ноутбук'}"
      ]
     },
     "execution_count": 26,
     "metadata": {},
     "output_type": "execute_result"
    }
   ],
   "source": [
    "eng_dict"
   ]
  },
  {
   "cell_type": "code",
   "execution_count": 29,
   "id": "cfffd2b9",
   "metadata": {},
   "outputs": [],
   "source": [
    "eng_dict.update({\"apple\": \"яблуко\"})"
   ]
  },
  {
   "cell_type": "code",
   "execution_count": 30,
   "id": "88296227",
   "metadata": {},
   "outputs": [
    {
     "data": {
      "text/plain": [
       "{'hello': 'привіт', 'tea': 'чай', 'laptop': 'ноутбук', 'apple': 'яблуко'}"
      ]
     },
     "execution_count": 30,
     "metadata": {},
     "output_type": "execute_result"
    }
   ],
   "source": [
    "eng_dict.update()"
   ]
  },
  {
   "cell_type": "code",
   "execution_count": 44,
   "id": "44d40bfa",
   "metadata": {},
   "outputs": [],
   "source": [
    "eng_dict.get(\"fruit\")"
   ]
  },
  {
   "cell_type": "code",
   "execution_count": 46,
   "id": "2343a04c",
   "metadata": {},
   "outputs": [
    {
     "data": {
      "text/plain": [
       "{'hello': 'привіт', 'tea': 'чай', 'laptop': 'ноутбук', 'apple': 'яблуко'}"
      ]
     },
     "execution_count": 46,
     "metadata": {},
     "output_type": "execute_result"
    }
   ],
   "source": [
    "eng_dict"
   ]
  },
  {
   "cell_type": "code",
   "execution_count": 52,
   "id": "c4deeee6",
   "metadata": {},
   "outputs": [
    {
     "data": {
      "text/plain": [
       "'Очікує переклад'"
      ]
     },
     "execution_count": 52,
     "metadata": {},
     "output_type": "execute_result"
    }
   ],
   "source": [
    "eng_dict.setdefault(\"vegetable\", \"Очікує переклад\")"
   ]
  },
  {
   "cell_type": "code",
   "execution_count": 54,
   "id": "aceb98a9",
   "metadata": {},
   "outputs": [
    {
     "data": {
      "text/plain": [
       "'чай'"
      ]
     },
     "execution_count": 54,
     "metadata": {},
     "output_type": "execute_result"
    }
   ],
   "source": [
    "eng_dict.setdefault(\"tea\", \"Очікує переклад\")"
   ]
  },
  {
   "cell_type": "code",
   "execution_count": 55,
   "id": "547e531d",
   "metadata": {},
   "outputs": [
    {
     "data": {
      "text/plain": [
       "{'hello': 'привіт',\n",
       " 'tea': 'чай',\n",
       " 'laptop': 'ноутбук',\n",
       " 'apple': 'яблуко',\n",
       " 'fruit': None,\n",
       " 'vegetable': 'Очікує переклад'}"
      ]
     },
     "execution_count": 55,
     "metadata": {},
     "output_type": "execute_result"
    }
   ],
   "source": [
    "eng_dict"
   ]
  },
  {
   "cell_type": "code",
   "execution_count": 87,
   "id": "6fa54d8b",
   "metadata": {},
   "outputs": [
    {
     "name": "stdout",
     "output_type": "stream",
     "text": [
      "10\n",
      "9\n",
      "8\n",
      "7\n",
      "6\n",
      "5\n",
      "4\n",
      "3\n",
      "2\n"
     ]
    }
   ],
   "source": [
    "for i in range(10, 1, -1):\n",
    "    print(i)"
   ]
  },
  {
   "cell_type": "code",
   "execution_count": 90,
   "id": "28509fea",
   "metadata": {},
   "outputs": [
    {
     "name": "stdout",
     "output_type": "stream",
     "text": [
      "h 1\n",
      "e 4\n",
      "l 2\n",
      "o 3\n",
      "  2\n",
      "b 1\n",
      "t 2\n",
      "r 1\n",
      "a 2\n",
      "c 1\n",
      "d 1\n",
      "m 1\n",
      "y 1\n"
     ]
    }
   ],
   "source": [
    "for key, value in counted_letters_in_phrase.items():\n",
    "    print(key, value)"
   ]
  },
  {
   "cell_type": "code",
   "execution_count": 93,
   "id": "b6e4c0b6",
   "metadata": {},
   "outputs": [
    {
     "data": {
      "text/plain": [
       "dict_items([('h', 1), ('e', 4), ('l', 2), ('o', 3), (' ', 2), ('b', 1), ('t', 2), ('r', 1), ('a', 2), ('c', 1), ('d', 1), ('m', 1), ('y', 1)])"
      ]
     },
     "execution_count": 93,
     "metadata": {},
     "output_type": "execute_result"
    }
   ],
   "source": [
    "counted_letters_in_phrase.items()"
   ]
  },
  {
   "cell_type": "code",
   "execution_count": 92,
   "id": "afde10d2",
   "metadata": {},
   "outputs": [
    {
     "name": "stdout",
     "output_type": "stream",
     "text": [
      "1 2\n",
      "3 4\n"
     ]
    }
   ],
   "source": [
    "for key, value in [[1, 2] , [3, 4]]:\n",
    "    print(key, value)"
   ]
  },
  {
   "cell_type": "code",
   "execution_count": 94,
   "id": "deba7025",
   "metadata": {},
   "outputs": [],
   "source": [
    "# List-comprehension"
   ]
  },
  {
   "cell_type": "code",
   "execution_count": 95,
   "id": "1776e54a",
   "metadata": {},
   "outputs": [],
   "source": [
    "numbers = []\n",
    "for num in range(1, 100 + 1):\n",
    "    if num % 2 == 0:\n",
    "        numbers.append(num) "
   ]
  },
  {
   "cell_type": "code",
   "execution_count": 97,
   "id": "ae819e44",
   "metadata": {},
   "outputs": [
    {
     "name": "stdout",
     "output_type": "stream",
     "text": [
      "[2, 4, 6, 8, 10, 12, 14, 16, 18, 20, 22, 24, 26, 28, 30, 32, 34, 36, 38, 40, 42, 44, 46, 48, 50, 52, 54, 56, 58, 60, 62, 64, 66, 68, 70, 72, 74, 76, 78, 80, 82, 84, 86, 88, 90, 92, 94, 96, 98, 100]\n"
     ]
    }
   ],
   "source": [
    "print(numbers)"
   ]
  },
  {
   "cell_type": "code",
   "execution_count": 104,
   "id": "d6ec4924",
   "metadata": {},
   "outputs": [
    {
     "name": "stdout",
     "output_type": "stream",
     "text": [
      "[2, 4, 6, 8, 10, 12, 14, 16, 18, 20, 22, 24, 26, 28, 30, 32, 34, 36, 38, 40, 42, 44, 46, 48, 50, 52, 54, 56, 58, 60, 62, 64, 66, 68, 70, 72, 74, 76, 78, 80, 82, 84, 86, 88, 90, 92, 94, 96, 98, 100]\n"
     ]
    }
   ],
   "source": [
    "numbers = [num for num in range(1, 100 + 1) if num % 2 == 0]\n",
    "print(numbers)"
   ]
  },
  {
   "cell_type": "code",
   "execution_count": 122,
   "id": "efc6e54b",
   "metadata": {},
   "outputs": [],
   "source": [
    "numbers = [1, \"2\", 3, \"4\", \"5\", \"6\"]"
   ]
  },
  {
   "cell_type": "code",
   "execution_count": 126,
   "id": "05e628a5",
   "metadata": {},
   "outputs": [
    {
     "data": {
      "text/plain": [
       "True"
      ]
     },
     "execution_count": 126,
     "metadata": {},
     "output_type": "execute_result"
    }
   ],
   "source": [
    "type(numbers[1]) is str"
   ]
  },
  {
   "cell_type": "code",
   "execution_count": 127,
   "id": "a09c014b",
   "metadata": {},
   "outputs": [
    {
     "data": {
      "text/plain": [
       "['1', 2, '3', 4, 5, 6]"
      ]
     },
     "execution_count": 127,
     "metadata": {},
     "output_type": "execute_result"
    }
   ],
   "source": [
    "[int(num) if type(num) is str else str(num) for num in numbers]"
   ]
  },
  {
   "cell_type": "code",
   "execution_count": 123,
   "id": "cc50f737",
   "metadata": {},
   "outputs": [
    {
     "data": {
      "text/plain": [
       "[1, 2, 3, 4, 5, 6]"
      ]
     },
     "execution_count": 123,
     "metadata": {},
     "output_type": "execute_result"
    }
   ],
   "source": [
    "numbers = [int(num) for num in numbers]"
   ]
  },
  {
   "cell_type": "code",
   "execution_count": 129,
   "id": "7d380f41",
   "metadata": {},
   "outputs": [
    {
     "name": "stdout",
     "output_type": "stream",
     "text": [
      "[[2, 3], [4, 5]]\n"
     ]
    }
   ],
   "source": [
    "matrix = [[2, 3], \n",
    "          [4, 5]]\n",
    "\n",
    "print(matrix)"
   ]
  },
  {
   "cell_type": "code",
   "execution_count": 139,
   "id": "d477f49a",
   "metadata": {},
   "outputs": [],
   "source": [
    "for i in range(10):\n",
    "    for j in range(10):\n",
    "        print(i, j)"
   ]
  },
  {
   "cell_type": "code",
   "execution_count": 142,
   "id": "c63c6d52",
   "metadata": {},
   "outputs": [
    {
     "data": {
      "text/plain": [
       "[[1, 2, 3, 4, 5], [6, 7, 8, 9, 10]]"
      ]
     },
     "execution_count": 142,
     "metadata": {},
     "output_type": "execute_result"
    }
   ],
   "source": [
    "matrix = []\n",
    "matrix.append([i for i in range(1, 5 + 1)])\n",
    "matrix.append([j for j in range(6, 10 + 1)])\n",
    "matrix"
   ]
  },
  {
   "cell_type": "code",
   "execution_count": 151,
   "id": "5b67e748",
   "metadata": {},
   "outputs": [],
   "source": [
    "numbers = [1, 2, 3, 4]\n",
    "\n",
    "# [[1, 2], [3, 4]]\n",
    "#[[num] for num in numbers[:2]]"
   ]
  },
  {
   "cell_type": "code",
   "execution_count": 150,
   "id": "f1dd772e",
   "metadata": {},
   "outputs": [
    {
     "data": {
      "text/plain": [
       "[[1, 2], [1, 2]]"
      ]
     },
     "execution_count": 150,
     "metadata": {},
     "output_type": "execute_result"
    }
   ],
   "source": [
    "matrix = []\n",
    "\n",
    "for i in range(2):\n",
    "    numbers_t = numbers[:2]\n",
    "    \n",
    "    for j in range(2):\n",
    "        numbers[2:]\n",
    "    \n",
    "    matrix.append(numbers)\n",
    "    \n",
    "        \n",
    "matrix"
   ]
  },
  {
   "cell_type": "code",
   "execution_count": null,
   "id": "8c38489f",
   "metadata": {},
   "outputs": [],
   "source": []
  },
  {
   "cell_type": "code",
   "execution_count": 160,
   "id": "c27f1f75",
   "metadata": {},
   "outputs": [
    {
     "data": {
      "text/plain": [
       "[[1, 2, 3], [4, 5, 6]]"
      ]
     },
     "execution_count": 160,
     "metadata": {},
     "output_type": "execute_result"
    }
   ],
   "source": [
    "numbers = [1, 2, 3, 4, 5, 6, 7, 8, 9]\n",
    "\n",
    "matrix = [] # Ініціалізуємо матрицю\n",
    "idx = 0 # Ініціалізуємо лічильник\n",
    "\n",
    "for i in range(2): # В списку має два рядки\n",
    "    row = [] # Ініціалізуємо пустий рядок\n",
    "    for j in range(3): # В рядку має бути два елементи\n",
    "        row.append(numbers[idx]) # До рядка додаємо елемент\n",
    "        idx += 1 # Збільшуємо лічильник\n",
    "    \n",
    "    matrix.append(row) # Додаємо рядок до матриці\n",
    "\n",
    "matrix"
   ]
  },
  {
   "cell_type": "code",
   "execution_count": 162,
   "id": "e8abefb0",
   "metadata": {},
   "outputs": [
    {
     "data": {
      "text/plain": [
       "[[0, 1, 2], [0, 1, 2]]"
      ]
     },
     "execution_count": 162,
     "metadata": {},
     "output_type": "execute_result"
    }
   ],
   "source": [
    "[[j for j in range(3)] for i in range(2)]"
   ]
  },
  {
   "cell_type": "code",
   "execution_count": null,
   "id": "f37a4b29",
   "metadata": {},
   "outputs": [],
   "source": []
  },
  {
   "cell_type": "code",
   "execution_count": 163,
   "id": "77aeabac",
   "metadata": {},
   "outputs": [],
   "source": [
    "words = [\"hello\", \"tea\", \"laptop\", \"fruit\", \"charge\", \"tesla\", \"plane\"]"
   ]
  },
  {
   "cell_type": "code",
   "execution_count": 165,
   "id": "d2484748",
   "metadata": {},
   "outputs": [
    {
     "data": {
      "text/plain": [
       "['laptop', 'charge']"
      ]
     },
     "execution_count": 165,
     "metadata": {},
     "output_type": "execute_result"
    }
   ],
   "source": [
    "new_words = []\n",
    "for word in words:\n",
    "    if len(word) > 5:\n",
    "        new_words.append(word)\n",
    "        \n",
    "new_words"
   ]
  },
  {
   "cell_type": "code",
   "execution_count": 166,
   "id": "d9ba1013",
   "metadata": {},
   "outputs": [
    {
     "data": {
      "text/plain": [
       "['laptop', 'charge']"
      ]
     },
     "execution_count": 166,
     "metadata": {},
     "output_type": "execute_result"
    }
   ],
   "source": [
    "# Якщо слово складається з 5 або більше букв, то додаємо його в список\n",
    "new_words = [word for word in words if len(word) > 5]\n",
    "new_words"
   ]
  },
  {
   "cell_type": "code",
   "execution_count": 167,
   "id": "8f1276fc",
   "metadata": {},
   "outputs": [],
   "source": [
    "matrix_3x4 = [[4, 5, 6, 9],\n",
    "              [1, 8, 2, 3],\n",
    "              [9, 9, 8, 1]]"
   ]
  },
  {
   "cell_type": "code",
   "execution_count": 175,
   "id": "814802c8",
   "metadata": {},
   "outputs": [
    {
     "data": {
      "text/plain": [
       "[4, 5, 6, 9, 1, 8, 2, 3, 9, 9, 8, 1]"
      ]
     },
     "execution_count": 175,
     "metadata": {},
     "output_type": "execute_result"
    }
   ],
   "source": [
    "numbers = []\n",
    "for row in matrix_3x4:\n",
    "    for element in row:\n",
    "        numbers.append(element)\n",
    "        \n",
    "numbers"
   ]
  },
  {
   "cell_type": "code",
   "execution_count": 179,
   "id": "d6ed0206",
   "metadata": {},
   "outputs": [
    {
     "data": {
      "text/plain": [
       "[4, 5, 6, 9, 1, 8, 2, 3, 9, 9, 8, 1]"
      ]
     },
     "execution_count": 179,
     "metadata": {},
     "output_type": "execute_result"
    }
   ],
   "source": [
    "numbers = []\n",
    "n_rows = len(matrix_3x4)\n",
    "n_columns = len(matrix_3x4[0])\n",
    "\n",
    "for i in range(n_rows):\n",
    "    for j in range(n_columns):\n",
    "        numbers.append(matrix_3x4[i][j])\n",
    "        \n",
    "numbers"
   ]
  },
  {
   "cell_type": "code",
   "execution_count": 184,
   "id": "23783c91",
   "metadata": {},
   "outputs": [
    {
     "data": {
      "text/plain": [
       "[4, 5, 6, 9, 1, 8, 2, 3, 9, 9, 8, 1]"
      ]
     },
     "execution_count": 184,
     "metadata": {},
     "output_type": "execute_result"
    }
   ],
   "source": [
    "[matrix_3x4[row][column] for row in range(n_rows) for column in range(n_columns)]"
   ]
  },
  {
   "cell_type": "code",
   "execution_count": null,
   "id": "5cfb572d",
   "metadata": {},
   "outputs": [],
   "source": []
  }
 ],
 "metadata": {
  "kernelspec": {
   "display_name": "Python 3 (ipykernel)",
   "language": "python",
   "name": "python3"
  },
  "language_info": {
   "codemirror_mode": {
    "name": "ipython",
    "version": 3
   },
   "file_extension": ".py",
   "mimetype": "text/x-python",
   "name": "python",
   "nbconvert_exporter": "python",
   "pygments_lexer": "ipython3",
   "version": "3.9.12"
  }
 },
 "nbformat": 4,
 "nbformat_minor": 5
}
