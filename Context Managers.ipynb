{
 "cells": [
  {
   "cell_type": "code",
   "execution_count": null,
   "id": "0317c5cf",
   "metadata": {},
   "outputs": [],
   "source": [
    "# Контекстний менелджер, що часто використовується\n",
    "with open(\"file_name.txt\", \"w\") as file:\n",
    "    file.write(\"Hello, it's me\")"
   ]
  },
  {
   "cell_type": "code",
   "execution_count": null,
   "id": "65f99be4",
   "metadata": {},
   "outputs": [],
   "source": [
    "# Аналог без контексного менеджера\n",
    "file = open(\"file_name.txt\", \"w\")\n",
    "file.write(\"Hello, it's me\")\n",
    "file.close()"
   ]
  },
  {
   "cell_type": "code",
   "execution_count": null,
   "id": "b646bf03",
   "metadata": {},
   "outputs": [],
   "source": [
    "# Якщо стається помилка під час читання файлу\n",
    "try:\n",
    "    open_file = open(\"file_name.txt\", \"r\")\n",
    "    print(open_file.read())\n",
    "finally:\n",
    "    open_file.close()\n",
    "    \n",
    "\n",
    "# З конт. менед. нічого не змінилось\n",
    "with open(\"file_name.txt\", \"r\") as open_file:\n",
    "    print(open_file.read())"
   ]
  },
  {
   "cell_type": "code",
   "execution_count": 1,
   "id": "63c4d9e5",
   "metadata": {},
   "outputs": [
    {
     "name": "stdout",
     "output_type": "stream",
     "text": [
      "Initializing class...\n",
      "Entering context...\n",
      "Code inside with statement\n",
      "Exiting context...\n"
     ]
    }
   ],
   "source": [
    "class ContextManager:\n",
    "    def __init__(self):\n",
    "        print(\"Initializing class...\")\n",
    "    \n",
    "    def __enter__(self):\n",
    "        print(\"Entering context...\")\n",
    "    \n",
    "    def __exit__(self, *exc):\n",
    "        print(\"Exiting context...\")\n",
    "\n",
    "with ContextManager() as cm:\n",
    "    print(\"Code inside with statement\")"
   ]
  },
  {
   "cell_type": "code",
   "execution_count": 3,
   "id": "abc49cdf",
   "metadata": {},
   "outputs": [
    {
     "name": "stdout",
     "output_type": "stream",
     "text": [
      "Creating Poems...\n",
      "Opening poem file...\n",
      "Exiting poem file...\n"
     ]
    }
   ],
   "source": [
    "class PoemFiles:\n",
    "    def __init__(self, poem_file, mode):\n",
    "        print(\"Creating Poems...\")\n",
    "        self.file = poem_file\n",
    "        self.mode = mode\n",
    "    \n",
    "    def __enter__(self):\n",
    "        print(\"Opening poem file...\")\n",
    "        self.opened_poem_file = open(self.file, self.mode)\n",
    "        return self.opened_poem_file\n",
    "    \n",
    "    def __exit__(self, *exc):\n",
    "        print(\"Exiting poem file...\")\n",
    "        self.opened_poem_file.close()\n",
    "\n",
    "with PoemFiles(\"poem.txt\", \"w\") as open_poem_file:\n",
    "    open_poem_file.write(\"I like poems\")"
   ]
  },
  {
   "cell_type": "code",
   "execution_count": 6,
   "id": "dc541167",
   "metadata": {},
   "outputs": [
    {
     "name": "stdout",
     "output_type": "stream",
     "text": [
      "Creating Poems...\n",
      "Opening poem file...\n",
      "---- Exception data below -------\n",
      "Exiting poem file...\n",
      "<class 'AttributeError'>\n",
      "'_io.TextIOWrapper' object has no attribute 'uppercasewords'\n",
      "<traceback object at 0x7f62c8469d40>\n"
     ]
    },
    {
     "ename": "AttributeError",
     "evalue": "'_io.TextIOWrapper' object has no attribute 'uppercasewords'",
     "output_type": "error",
     "traceback": [
      "\u001b[0;31m---------------------------------------------------------------------------\u001b[0m",
      "\u001b[0;31mAttributeError\u001b[0m                            Traceback (most recent call last)",
      "Input \u001b[0;32mIn [6]\u001b[0m, in \u001b[0;36m<cell line: 21>\u001b[0;34m()\u001b[0m\n\u001b[1;32m     21\u001b[0m \u001b[38;5;28;01mwith\u001b[39;00m PoemFiles(\u001b[38;5;124m\"\u001b[39m\u001b[38;5;124mpoem.txt\u001b[39m\u001b[38;5;124m\"\u001b[39m, \u001b[38;5;124m\"\u001b[39m\u001b[38;5;124mr\u001b[39m\u001b[38;5;124m\"\u001b[39m) \u001b[38;5;28;01mas\u001b[39;00m poem_file:\n\u001b[1;32m     22\u001b[0m     \u001b[38;5;28mprint\u001b[39m(\u001b[38;5;124m\"\u001b[39m\u001b[38;5;124m---- Exception data below -------\u001b[39m\u001b[38;5;124m\"\u001b[39m)\n\u001b[0;32m---> 23\u001b[0m     \u001b[43mpoem_file\u001b[49m\u001b[38;5;241;43m.\u001b[39;49m\u001b[43muppercasewords\u001b[49m()\n",
      "\u001b[0;31mAttributeError\u001b[0m: '_io.TextIOWrapper' object has no attribute 'uppercasewords'"
     ]
    }
   ],
   "source": [
    "class PoemFiles:\n",
    "    def __init__(self, poem_file, mode):\n",
    "        print(\"Creating Poems...\")\n",
    "        self.file = poem_file\n",
    "        self.mode = mode\n",
    "    \n",
    "    def __enter__(self):\n",
    "        print(\"Opening poem file...\")\n",
    "        self.opened_poem_file = open(self.file, self.mode)\n",
    "        return self.opened_poem_file\n",
    "    \n",
    "    def __exit__(self, exc_type, exc_value, traceback):\n",
    "        print(\"Exiting poem file...\")\n",
    "        print(exc_type)\n",
    "        print(exc_value)\n",
    "        print(traceback)\n",
    "        self.opened_poem_file.close()\n",
    "\n",
    "        \n",
    "# Problem code\n",
    "with PoemFiles(\"poem.txt\", \"r\") as poem_file:\n",
    "    print(\"---- Exception data below -------\")\n",
    "    poem_file.uppercasewords()\n",
    "\n",
    "        \n",
    "# Properly working example\n",
    "# with PoemFiles(\"poem.txt\", \"w\") as open_poem_file:\n",
    "#     open_poem_file.write(\"I like poems\")"
   ]
  },
  {
   "cell_type": "code",
   "execution_count": 17,
   "id": "c997a6ce",
   "metadata": {},
   "outputs": [
    {
     "name": "stdout",
     "output_type": "stream",
     "text": [
      "Creating Poems...\n",
      "Opening poem file...\n",
      "---- Exception data below -------\n",
      "Exiting poem file...\n",
      "<class 'AttributeError'>\n",
      "'_io.TextIOWrapper' object has no attribute 'uppercasewords'\n",
      "<traceback object at 0x7f62c810aa40>\n",
      "\n",
      "\n",
      "\n",
      "Creating Poems...\n",
      "Opening poem file...\n",
      "Exiting poem file...\n",
      "None\n",
      "None\n",
      "None\n"
     ]
    }
   ],
   "source": [
    "class PoemFiles:\n",
    "    def __init__(self, poem_file, mode):\n",
    "        print(\"Creating Poems...\")\n",
    "        self.file = poem_file\n",
    "        self.mode = mode\n",
    "    \n",
    "    def __enter__(self):\n",
    "        print(\"Opening poem file...\")\n",
    "        self.opened_poem_file = open(self.file, self.mode)\n",
    "        return self.opened_poem_file\n",
    "    \n",
    "    def __exit__(self, exc_type, exc_value, traceback):\n",
    "        print(\"Exiting poem file...\")\n",
    "        print(exc_type)\n",
    "        print(exc_value)\n",
    "        print(traceback)\n",
    "        \n",
    "        if isinstance(exc_value, AttributeError):\n",
    "            self.opened_poem_file.close()\n",
    "            return True\n",
    "        \n",
    "        self.opened_poem_file.close()\n",
    "        \n",
    "\n",
    "        \n",
    "# Problem code\n",
    "with PoemFiles(\"poem.txt\", \"r\") as poem_file:\n",
    "    print(\"---- Exception data below -------\")\n",
    "    poem_file.uppercasewords()\n",
    "\n",
    "print(\"\\n\\n\")\n",
    "        \n",
    "# Properly working example\n",
    "with PoemFiles(\"poem.txt\", \"w\") as open_poem_file:\n",
    "    open_poem_file.write(\"I like poems\")"
   ]
  },
  {
   "cell_type": "code",
   "execution_count": 23,
   "id": "be520271",
   "metadata": {},
   "outputs": [
    {
     "ename": "AttributeError",
     "evalue": "__enter__",
     "output_type": "error",
     "traceback": [
      "\u001b[0;31m---------------------------------------------------------------------------\u001b[0m",
      "\u001b[0;31mAttributeError\u001b[0m                            Traceback (most recent call last)",
      "Input \u001b[0;32mIn [23]\u001b[0m, in \u001b[0;36m<cell line: 2>\u001b[0;34m()\u001b[0m\n\u001b[1;32m      1\u001b[0m \u001b[38;5;66;03m# Не може працювати \u001b[39;00m\n\u001b[0;32m----> 2\u001b[0m \u001b[38;5;28;01mwith\u001b[39;00m \u001b[38;5;124m\"\u001b[39m\u001b[38;5;124mhello\u001b[39m\u001b[38;5;124m\"\u001b[39m:\n\u001b[1;32m      3\u001b[0m     \u001b[38;5;28mprint\u001b[39m(\u001b[38;5;124m\"\u001b[39m\u001b[38;5;124msho ty?\u001b[39m\u001b[38;5;124m\"\u001b[39m)\n",
      "\u001b[0;31mAttributeError\u001b[0m: __enter__"
     ]
    }
   ],
   "source": [
    "# Не може працювати з об'єктами у яких не прописаний __enter__\n",
    "with \"hello\":\n",
    "    print(\"sho ty?\")"
   ]
  },
  {
   "cell_type": "code",
   "execution_count": 24,
   "id": "4b807be4",
   "metadata": {},
   "outputs": [],
   "source": [
    "from contextlib import contextmanager"
   ]
  },
  {
   "cell_type": "code",
   "execution_count": 26,
   "id": "1de66b29",
   "metadata": {},
   "outputs": [],
   "source": [
    "@contextmanager\n",
    "def open_file_contextlib(file, mode):\n",
    "    # <setup section - equivalent to __enter__\n",
    "    opened_file = open(file, mode)\n",
    "    try:\n",
    "        yield opened_file # <value>\n",
    "    finally:\n",
    "        # <cleanup section - equivalent to __exit__>\n",
    "        opened_file.close()"
   ]
  },
  {
   "cell_type": "code",
   "execution_count": 51,
   "id": "48e415dd",
   "metadata": {},
   "outputs": [
    {
     "name": "stdout",
     "output_type": "stream",
     "text": [
      "Inside yield\n"
     ]
    }
   ],
   "source": [
    "with open_file_contextlib(\"poem.txt\", \"w\") as poem_file:\n",
    "    print(\"Inside yield\")\n",
    "    poem_file.write(\"I like poems\")"
   ]
  },
  {
   "cell_type": "code",
   "execution_count": 30,
   "id": "48dc0f63",
   "metadata": {},
   "outputs": [
    {
     "name": "stdout",
     "output_type": "stream",
     "text": [
      "I like poems\n"
     ]
    }
   ],
   "source": [
    "with open(\"poem.txt\", \"r\") as poem_file:\n",
    "    print(poem_file.read())"
   ]
  },
  {
   "cell_type": "code",
   "execution_count": 31,
   "id": "c011e68b",
   "metadata": {},
   "outputs": [],
   "source": [
    "# How to handle error\n",
    "\n",
    "@contextmanager\n",
    "def open_file_contextlib(file, mode):\n",
    "    # <setup section - equivalent to __enter__\n",
    "    opened_file = open(file, mode)\n",
    "    try:\n",
    "        yield opened_file # <value>\n",
    "        \n",
    "    except AttributeError as e:\n",
    "        print(e)\n",
    "        \n",
    "    finally:\n",
    "        # <cleanup section - equivalent to __exit__>\n",
    "        opened_file.close()"
   ]
  },
  {
   "cell_type": "code",
   "execution_count": 32,
   "id": "1eebfc10",
   "metadata": {},
   "outputs": [
    {
     "name": "stdout",
     "output_type": "stream",
     "text": [
      "Inside yield\n",
      "'_io.TextIOWrapper' object has no attribute 'uppercasewords'\n"
     ]
    }
   ],
   "source": [
    "with open_file_contextlib(\"poem.txt\", \"w\") as poem_file:\n",
    "    print(\"Inside yield\")\n",
    "    poem_file.uppercasewords()"
   ]
  },
  {
   "cell_type": "code",
   "execution_count": 37,
   "id": "2caa9e86",
   "metadata": {},
   "outputs": [],
   "source": [
    "@contextmanager\n",
    "def poem_files(file, mode):\n",
    "    print(\"Opening file\")\n",
    "    open_poem_file = open(file, mode)\n",
    "    try:\n",
    "        yield open_poem_file\n",
    "    finally:\n",
    "        print(\"Closing file\")\n",
    "        open_poem_file.close()\n",
    "\n",
    "@contextmanager\n",
    "def card_files(file, mode):\n",
    "    print(\"Opening file\")\n",
    "    open_card_file = open(file, mode)\n",
    "    try:\n",
    "        yield open_card_file\n",
    "    finally:\n",
    "        print(\"Closing file\")\n",
    "        open_card_file.close()"
   ]
  },
  {
   "cell_type": "code",
   "execution_count": 38,
   "id": "4b4bef2a",
   "metadata": {},
   "outputs": [
    {
     "name": "stdout",
     "output_type": "stream",
     "text": [
      "Opening file\n",
      "Opening file\n",
      "Closing file\n",
      "Closing file\n"
     ]
    }
   ],
   "source": [
    "with poem_files(\"poem.txt\", \"r\") as poem:\n",
    "    with card_files(\"card.txt\", \"w\") as card:\n",
    "        card.write(poem.read())"
   ]
  },
  {
   "cell_type": "code",
   "execution_count": 39,
   "id": "069763d2",
   "metadata": {},
   "outputs": [],
   "source": [
    "# Custom context managers"
   ]
  },
  {
   "cell_type": "code",
   "execution_count": 46,
   "id": "92059efa",
   "metadata": {},
   "outputs": [],
   "source": [
    "import time\n",
    "\n",
    "@contextmanager\n",
    "def timer():\n",
    "    # Start the timer\n",
    "    start = time.time()\n",
    "    # context breakdown\n",
    "    yield\n",
    "    end = time.time()\n",
    "    # Excetion time\n",
    "    print(f\"This code block was executed in {end - start} seconds\")"
   ]
  },
  {
   "cell_type": "code",
   "execution_count": 49,
   "id": "f591657b",
   "metadata": {},
   "outputs": [
    {
     "name": "stdout",
     "output_type": "stream",
     "text": [
      "This code block was executed in 0.3790442943572998 seconds\n",
      "Done\n"
     ]
    }
   ],
   "source": [
    "with timer():\n",
    "    [i**2 for i in range(1, 10**6)]\n",
    "print(\"Done\")"
   ]
  },
  {
   "cell_type": "code",
   "execution_count": 55,
   "id": "8e8e7c87",
   "metadata": {},
   "outputs": [
    {
     "name": "stdout",
     "output_type": "stream",
     "text": [
      "Printing the contents of the file\n",
      "\n",
      "I like poems\n",
      "Printing the contents of the file\n",
      "\n"
     ]
    },
    {
     "ename": "TypeError",
     "evalue": "TextIOWrapper.write() takes exactly one argument (0 given)",
     "output_type": "error",
     "traceback": [
      "\u001b[0;31m---------------------------------------------------------------------------\u001b[0m",
      "\u001b[0;31mTypeError\u001b[0m                                 Traceback (most recent call last)",
      "Input \u001b[0;32mIn [55]\u001b[0m, in \u001b[0;36m<cell line: 12>\u001b[0;34m()\u001b[0m\n\u001b[1;32m     12\u001b[0m \u001b[38;5;28;01mwith\u001b[39;00m read_only(\u001b[38;5;124m\"\u001b[39m\u001b[38;5;124mpoem.txt\u001b[39m\u001b[38;5;124m\"\u001b[39m) \u001b[38;5;28;01mas\u001b[39;00m poem_file:\n\u001b[1;32m     13\u001b[0m     \u001b[38;5;28mprint\u001b[39m(\u001b[38;5;124m\"\u001b[39m\u001b[38;5;124mPrinting the contents of the file\u001b[39m\u001b[38;5;130;01m\\n\u001b[39;00m\u001b[38;5;124m\"\u001b[39m)\n\u001b[0;32m---> 14\u001b[0m     \u001b[38;5;28mprint\u001b[39m(\u001b[43mpoem_file\u001b[49m\u001b[38;5;241;43m.\u001b[39;49m\u001b[43mwrite\u001b[49m\u001b[43m(\u001b[49m\u001b[43m)\u001b[49m)\n",
      "\u001b[0;31mTypeError\u001b[0m: TextIOWrapper.write() takes exactly one argument (0 given)"
     ]
    }
   ],
   "source": [
    "@contextmanager\n",
    "def read_only(path_to_file):\n",
    "    # Open the file\n",
    "    file = open(path_to_file, \"r\")\n",
    "    yield file\n",
    "    file.close()\n",
    "\n",
    "with read_only(\"poem.txt\") as poem_file:\n",
    "    print(\"Printing the contents of the file\\n\")\n",
    "    print(poem_file.read())\n",
    "\n",
    "with read_only(\"poem.txt\") as poem_file:\n",
    "    print(\"Printing the contents of the file\\n\")\n",
    "    print(poem_file.write())"
   ]
  },
  {
   "cell_type": "code",
   "execution_count": null,
   "id": "27b53d77",
   "metadata": {},
   "outputs": [],
   "source": [
    "import psycopg2\n",
    "\n",
    "# Here is another example that connects to a postgreSQL database and returns the connection\n",
    "\n",
    "@contextmanager\n",
    "def postgres_connect(user, password, port, database_name, host=\"127.0.0.1\"):\n",
    "    # Set up a database connection\n",
    "    connection = psycopg2.connect(host=host,\n",
    "                                  user=user,\n",
    "                                  password=password,\n",
    "                                  port=port,\n",
    "                                  database=database_name)\n",
    "    # Yield the connection to be used\n",
    "    try:\n",
    "        yield connection\n",
    "        \n",
    "    except Exception as e:\n",
    "        print(e)\n",
    "        \n",
    "    finally:\n",
    "        connection.close()\n",
    "\n",
    "with postgres_connect(\"admin\", \"password\", \"5432\", \"sample_db\") as conn:\n",
    "    results = conn.execute(\"\"\"\n",
    "        SELECT * FROM my_table\n",
    "    \"\"\")\n",
    "    print(results.fetchall())"
   ]
  },
  {
   "cell_type": "code",
   "execution_count": null,
   "id": "4ee7e499",
   "metadata": {},
   "outputs": [],
   "source": [
    "import contextlib\n",
    "\n",
    "class local_db:\n",
    "    def __init__(self, database: str):\n",
    "        self.database = database\n",
    "    \n",
    "    def __execute_command_query(self, query: str):\n",
    "            with contextlib.closing(sqlite3.connect(self.database)) as self.conn: # auto-closes\n",
    "                with self.conn: # auto-commits\n",
    "                    with contextlib.closing(self.conn.cursor()) as self.cursor: # auto-closes\n",
    "                        self.cursor.execute(query)"
   ]
  },
  {
   "cell_type": "code",
   "execution_count": 56,
   "id": "48b375e3",
   "metadata": {},
   "outputs": [],
   "source": [
    "import os\n",
    "\n",
    "@contextmanager\n",
    "def in_dir(path: str):\n",
    "    # Get the current directory\n",
    "    cwd = os.getcwd()\n",
    "    # Change the directory to the desired path\n",
    "    os.chdir(path)\n",
    "    try:\n",
    "        yield\n",
    "    finally:\n",
    "        # Change the directory back to the home (current)\n",
    "        os.chdir(cwd)"
   ]
  },
  {
   "cell_type": "code",
   "execution_count": null,
   "id": "a34c800d",
   "metadata": {},
   "outputs": [],
   "source": [
    "with in_dir(\"C://Home/Images\"):\n",
    "    print(os.listdir())\n",
    "    with card_files(\"card.txt\", \"w\") as card:\n",
    "        card.write(\"I like poems\")"
   ]
  },
  {
   "cell_type": "code",
   "execution_count": null,
   "id": "538df976",
   "metadata": {},
   "outputs": [],
   "source": [
    "walls = [{...}, {...}, {...}]\n",
    "\n",
    "for wall in walls:\n",
    "    "
   ]
  },
  {
   "cell_type": "code",
   "execution_count": 58,
   "id": "1a4e1af6",
   "metadata": {},
   "outputs": [],
   "source": [
    "total_meet_list = [{'brick_thickness': 250, 'insulator_rockwool_thickness': 50, 'R-value': 1.21},\n",
    "                   {'brick_thickness': 250, 'insulator_rockwool_thickness': 100, 'R-value': 1.99},\n",
    "                   {'brick_thickness': 250, 'insulator_rockwool_thickness': 120, 'R-value': 2.31}]"
   ]
  },
  {
   "cell_type": "code",
   "execution_count": 61,
   "id": "351099e3",
   "metadata": {},
   "outputs": [
    {
     "data": {
      "text/plain": [
       "[{'brick_thickness': 250,\n",
       "  'insulator_rockwool_thickness': 120,\n",
       "  'R-value': 2.31},\n",
       " {'brick_thickness': 250,\n",
       "  'insulator_rockwool_thickness': 100,\n",
       "  'R-value': 1.99},\n",
       " {'brick_thickness': 250, 'insulator_rockwool_thickness': 50, 'R-value': 1.21}]"
      ]
     },
     "execution_count": 61,
     "metadata": {},
     "output_type": "execute_result"
    }
   ],
   "source": [
    "sorted(total_meet_list, key = lambda x: x[\"R-value\"], reverse = True)"
   ]
  },
  {
   "cell_type": "code",
   "execution_count": 77,
   "id": "9c9277d9",
   "metadata": {},
   "outputs": [],
   "source": [
    "import json\n",
    "from typing import List, Dict\n",
    "\n",
    "\n",
    "def sort_list_with_dict(list_: List[Dict[str, float]], key: str, reverse = False) -> List[Dict[str, float]]:\n",
    "    return sorted(list_, key = lambda dict_: dict_[key], reverse = reverse)\n",
    "\n",
    "def pprint(list_: List[Dict[str, float]]) -> None:\n",
    "    print(json.dumps(total_meet_list, indent=4))"
   ]
  },
  {
   "cell_type": "code",
   "execution_count": 72,
   "id": "33d93e98",
   "metadata": {},
   "outputs": [
    {
     "data": {
      "text/plain": [
       "[{'brick_thickness': 250,\n",
       "  'insulator_rockwool_thickness': 120,\n",
       "  'R-value': 2.31},\n",
       " {'brick_thickness': 250,\n",
       "  'insulator_rockwool_thickness': 100,\n",
       "  'R-value': 1.99},\n",
       " {'brick_thickness': 250, 'insulator_rockwool_thickness': 50, 'R-value': 1.21}]"
      ]
     },
     "execution_count": 72,
     "metadata": {},
     "output_type": "execute_result"
    }
   ],
   "source": [
    "sort_list_with_dict(total_meet_list, \"insulator_rockwool_thickness\", True)"
   ]
  },
  {
   "cell_type": "code",
   "execution_count": 76,
   "id": "707e1f7a",
   "metadata": {},
   "outputs": [
    {
     "name": "stdout",
     "output_type": "stream",
     "text": [
      "[\n",
      "    {\n",
      "        \"brick_thickness\": 250,\n",
      "        \"insulator_rockwool_thickness\": 50,\n",
      "        \"R-value\": 1.21\n",
      "    },\n",
      "    {\n",
      "        \"brick_thickness\": 250,\n",
      "        \"insulator_rockwool_thickness\": 100,\n",
      "        \"R-value\": 1.99\n",
      "    },\n",
      "    {\n",
      "        \"brick_thickness\": 250,\n",
      "        \"insulator_rockwool_thickness\": 120,\n",
      "        \"R-value\": 2.31\n",
      "    }\n",
      "]\n"
     ]
    }
   ],
   "source": [
    "print(json.dumps(total_meet_list, indent=4))"
   ]
  }
 ],
 "metadata": {
  "kernelspec": {
   "display_name": "Python 3 (ipykernel)",
   "language": "python",
   "name": "python3"
  },
  "language_info": {
   "codemirror_mode": {
    "name": "ipython",
    "version": 3
   },
   "file_extension": ".py",
   "mimetype": "text/x-python",
   "name": "python",
   "nbconvert_exporter": "python",
   "pygments_lexer": "ipython3",
   "version": "3.9.12"
  }
 },
 "nbformat": 4,
 "nbformat_minor": 5
}
