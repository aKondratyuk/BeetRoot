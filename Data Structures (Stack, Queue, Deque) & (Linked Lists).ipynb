{
 "cells": [
  {
   "cell_type": "code",
   "execution_count": 55,
   "id": "81c883c0",
   "metadata": {},
   "outputs": [],
   "source": [
    "class Stack:\n",
    "    def __init__(self):\n",
    "        self.__items = []\n",
    "    \n",
    "    def showItems(self):\n",
    "        print(self.__items)\n",
    "    \n",
    "    def isEmpty(self):\n",
    "        return self.__items == []\n",
    "    \n",
    "    def push(self, item):\n",
    "        self.__items.append(item)\n",
    "    \n",
    "    def peek(self):\n",
    "        return self.__items[-1]\n",
    "    \n",
    "    def size(self):\n",
    "        return len(self.__items)\n",
    "    \n",
    "    def pop(self):\n",
    "        return self.__items.pop()"
   ]
  },
  {
   "cell_type": "code",
   "execution_count": null,
   "id": "16417b00",
   "metadata": {},
   "outputs": [],
   "source": [
    "[0][True][][\"Cat\"][1][None][][]\n",
    "[0][True][\"Cat\"][1][None][][][]"
   ]
  },
  {
   "cell_type": "code",
   "execution_count": 56,
   "id": "25dc475f",
   "metadata": {},
   "outputs": [],
   "source": [
    "stack = Stack()"
   ]
  },
  {
   "cell_type": "code",
   "execution_count": 57,
   "id": "235751ea",
   "metadata": {},
   "outputs": [
    {
     "data": {
      "text/plain": [
       "True"
      ]
     },
     "execution_count": 57,
     "metadata": {},
     "output_type": "execute_result"
    }
   ],
   "source": [
    "stack.isEmpty()"
   ]
  },
  {
   "cell_type": "code",
   "execution_count": 58,
   "id": "f080d81d",
   "metadata": {},
   "outputs": [],
   "source": [
    "stack.push(4)"
   ]
  },
  {
   "cell_type": "code",
   "execution_count": 59,
   "id": "73a57a61",
   "metadata": {},
   "outputs": [],
   "source": [
    "stack.push(\"Dog\")"
   ]
  },
  {
   "cell_type": "code",
   "execution_count": 60,
   "id": "a5f45d2b",
   "metadata": {},
   "outputs": [
    {
     "data": {
      "text/plain": [
       "'Dog'"
      ]
     },
     "execution_count": 60,
     "metadata": {},
     "output_type": "execute_result"
    }
   ],
   "source": [
    "stack.peek()"
   ]
  },
  {
   "cell_type": "code",
   "execution_count": 61,
   "id": "0edbc7e7",
   "metadata": {},
   "outputs": [
    {
     "data": {
      "text/plain": [
       "'Dog'"
      ]
     },
     "execution_count": 61,
     "metadata": {},
     "output_type": "execute_result"
    }
   ],
   "source": [
    "stack.peek()"
   ]
  },
  {
   "cell_type": "code",
   "execution_count": 62,
   "id": "5526dae4",
   "metadata": {},
   "outputs": [],
   "source": [
    "stack.push(8.4)"
   ]
  },
  {
   "cell_type": "code",
   "execution_count": 63,
   "id": "d2be3754",
   "metadata": {},
   "outputs": [
    {
     "name": "stdout",
     "output_type": "stream",
     "text": [
      "[4, 'Dog', 8.4]\n"
     ]
    }
   ],
   "source": [
    "stack.showItems()"
   ]
  },
  {
   "cell_type": "code",
   "execution_count": 13,
   "id": "861e98a3",
   "metadata": {},
   "outputs": [
    {
     "data": {
      "text/plain": [
       "8.4"
      ]
     },
     "execution_count": 13,
     "metadata": {},
     "output_type": "execute_result"
    }
   ],
   "source": [
    "stack.pop()"
   ]
  },
  {
   "cell_type": "code",
   "execution_count": 16,
   "id": "9a1ea506",
   "metadata": {},
   "outputs": [
    {
     "data": {
      "text/plain": [
       "[4, 'Dog']"
      ]
     },
     "execution_count": 16,
     "metadata": {},
     "output_type": "execute_result"
    }
   ],
   "source": [
    "stack.items"
   ]
  },
  {
   "cell_type": "code",
   "execution_count": null,
   "id": "0692311c",
   "metadata": {},
   "outputs": [],
   "source": [
    "# Valid\n",
    "# (()()()())\n",
    "# (((())))\n",
    "# (()((())()))\n",
    "\n",
    "# Failed\n",
    "# ((((((())\n",
    "# ()))\n",
    "# (()()(()\n",
    "# ()))(("
   ]
  },
  {
   "cell_type": "code",
   "execution_count": 30,
   "id": "2d24eb59",
   "metadata": {},
   "outputs": [
    {
     "data": {
      "text/plain": [
       "'(()()()())'"
      ]
     },
     "execution_count": 30,
     "metadata": {},
     "output_type": "execute_result"
    }
   ],
   "source": [
    "\"(()()()())(\""
   ]
  },
  {
   "cell_type": "code",
   "execution_count": 44,
   "id": "d4a5d343",
   "metadata": {},
   "outputs": [
    {
     "ename": "AttributeError",
     "evalue": "'Stack' object has no attribute 'Stack'",
     "output_type": "error",
     "traceback": [
      "\u001b[0;31m---------------------------------------------------------------------------\u001b[0m",
      "\u001b[0;31mAttributeError\u001b[0m                            Traceback (most recent call last)",
      "Input \u001b[0;32mIn [44]\u001b[0m, in \u001b[0;36m<cell line: 1>\u001b[0;34m()\u001b[0m\n\u001b[0;32m----> 1\u001b[0m \u001b[43mstack\u001b[49m\u001b[38;5;241;43m.\u001b[39;49m\u001b[43mStack\u001b[49m\u001b[38;5;241m.\u001b[39m__items\n",
      "\u001b[0;31mAttributeError\u001b[0m: 'Stack' object has no attribute 'Stack'"
     ]
    }
   ],
   "source": [
    "stack.Stack.__items"
   ]
  },
  {
   "cell_type": "code",
   "execution_count": 68,
   "id": "79c826e1",
   "metadata": {},
   "outputs": [],
   "source": [
    "def parenthesesChecker(par_string: str):\n",
    "    stack = Stack()\n",
    "    balanced = True\n",
    "    index = 0\n",
    "    \n",
    "    while index < len(par_string) and balanced:\n",
    "        stack.showItems()\n",
    "        par = par_string[index]\n",
    "        print(par)\n",
    "        if par == \"(\":\n",
    "            stack.push(par)\n",
    "        else:\n",
    "            if stack.isEmpty():\n",
    "                balanced = False\n",
    "            else:\n",
    "                stack.pop()\n",
    "        \n",
    "        index += 1\n",
    "    \n",
    "    if not stack.isEmpty():\n",
    "        balanced = False\n",
    "    stack.showItems()\n",
    "    \n",
    "    return balanced"
   ]
  },
  {
   "cell_type": "code",
   "execution_count": 71,
   "id": "1d7e75c0",
   "metadata": {},
   "outputs": [
    {
     "name": "stdout",
     "output_type": "stream",
     "text": [
      "[]\n",
      "(\n",
      "['(']\n",
      "(\n",
      "['(', '(']\n",
      ")\n",
      "['(']\n",
      "(\n",
      "['(', '(']\n",
      ")\n",
      "['(']\n",
      "(\n",
      "['(', '(']\n",
      ")\n",
      "['(']\n",
      "(\n",
      "['(', '(']\n",
      ")\n",
      "['(']\n",
      ")\n",
      "[]\n"
     ]
    },
    {
     "data": {
      "text/plain": [
       "True"
      ]
     },
     "execution_count": 71,
     "metadata": {},
     "output_type": "execute_result"
    }
   ],
   "source": [
    "parenthesesChecker(\"(()()()())\")"
   ]
  },
  {
   "cell_type": "code",
   "execution_count": null,
   "id": "7cab2b3a",
   "metadata": {},
   "outputs": [],
   "source": [
    "\"(())\"\n",
    "[\"(\", \"(\"]\n",
    "\")\"\n",
    "\"(\" + \")\" -> 0\n",
    "[\"(\"]\n",
    "\")\"\n",
    "\"(\" + \")\" -> 0\n",
    "[]\n",
    "\n",
    "\n",
    "\"(()()(()\"\n",
    "\n",
    "[\"(\", \"(\"]\n",
    "\")\"\n",
    "\"(\" + \")\" -> 0\n",
    "[\"(\"]\n",
    "[\"(\", \"(\"]\n",
    "\")\"\n",
    "\"(\" + \")\" -> 0\n",
    "[\"(\"]\n",
    "[\"(\", \"(\"]\n",
    "[\"(\", \"(\", \"(\"]\n",
    "\")\"\n",
    "\"(\" + \")\" -> 0\n",
    "[\"(\", \"(\"]\n",
    "\n",
    "\"( ( ) )( ( ))\""
   ]
  },
  {
   "cell_type": "code",
   "execution_count": null,
   "id": "bcdf55df",
   "metadata": {},
   "outputs": [],
   "source": [
    "# 1. Якщо дужка відкрита, то закидуємо її в стек\n",
    "# 2. Якщо дужка закритого типу, то витягуємо із стеку відкриту дужку, якщо вона є"
   ]
  },
  {
   "cell_type": "code",
   "execution_count": 82,
   "id": "10ec86ea",
   "metadata": {},
   "outputs": [],
   "source": [
    "class Queue:\n",
    "    def __init__(self):\n",
    "        self.items = []\n",
    "\n",
    "    def isEmpty(self):\n",
    "        return self.items == []\n",
    "\n",
    "    def enqueue(self, item):\n",
    "        self.items.insert(0,item)\n",
    "\n",
    "    def dequeue(self):\n",
    "        return self.items.pop()\n",
    "\n",
    "    def size(self):\n",
    "        return len(self.items)"
   ]
  },
  {
   "cell_type": "code",
   "execution_count": 109,
   "id": "2191a34e",
   "metadata": {},
   "outputs": [],
   "source": [
    "def hotPotato(players: list, out: int):\n",
    "    q = Queue()\n",
    "    counter = 0\n",
    "    \n",
    "    for player in players:\n",
    "        q.enqueue(player)\n",
    "    \n",
    "    while q.size() > 1:\n",
    "        # print(q.items)\n",
    "        \n",
    "        if counter == out:\n",
    "            q.dequeue()\n",
    "            counter = 0\n",
    "        \n",
    "        player_made_pass = q.dequeue()\n",
    "        q.enqueue(player_made_pass)\n",
    "        \n",
    "        counter += 1\n",
    "    \n",
    "    return q.dequeue()"
   ]
  },
  {
   "cell_type": "code",
   "execution_count": null,
   "id": "0aba49ec",
   "metadata": {},
   "outputs": [],
   "source": [
    "['Brad', 'Kent', 'Jane', 'Susan', 'David', 'Bill'] # Bill -> David 1\n",
    "['Bill', 'Brad', 'Kent', 'Jane', 'Susan', 'David'] # David -> Susan 2\n",
    "['David', 'Bill', 'Brad', 'Kent', 'Jane', 'Susan'] # Susan -> Jane 3\n",
    "['Susan', 'David', 'Bill', 'Brad', 'Kent', 'Jane'] # Jane -> Kent 4\n",
    "['Jane', 'Susan', 'David', 'Bill', 'Brad', 'Kent'] # Kent -> Brad 5\n",
    "['Kent', 'Jane', 'Susan', 'David', 'Bill', 'Brad'] # Brad -> Bill 6\n",
    "['Brad', 'Kent', 'Jane', 'Susan', 'David', 'Bill'] # Bill -> David 7\n",
    "['Bill', 'Brad', 'Kent', 'Jane', 'Susan', 'David'] # David got 7 pass (dead)\n",
    "David\n",
    "['Bill', 'Brad', 'Kent', 'Jane', 'Susan'] # Susan -> Jane 1\n",
    "['Susan', 'Bill', 'Brad', 'Kent', 'Jane'] # Jane -> Kent 2\n",
    "['Jane', 'Susan', 'Bill', 'Brad', 'Kent'] # Kent -> Brad 3\n",
    "['Kent', 'Jane', 'Susan', 'Bill', 'Brad'] # Brad -> Bill 4\n",
    "['Brad', 'Kent', 'Jane', 'Susan', 'Bill'] # Bill -> Susan 5\n",
    "['Bill', 'Brad', 'Kent', 'Jane', 'Susan'] # Susan -> Jane 6\n",
    "['Susan', 'Bill', 'Brad', 'Kent', 'Jane'] # Jane -> Kent 7\n",
    "['Jane', 'Susan', 'Bill', 'Brad', 'Kent'] # Kent got 7 pass (dead)\n",
    "Kent"
   ]
  },
  {
   "cell_type": "code",
   "execution_count": 118,
   "id": "e2c8d956",
   "metadata": {},
   "outputs": [
    {
     "name": "stdout",
     "output_type": "stream",
     "text": [
      "996 µs ± 111 µs per loop (mean ± std. dev. of 7 runs, 1,000 loops each)\n"
     ]
    }
   ],
   "source": [
    "%timeit hotPotato([\"Bill\",\"David\",\"Susan\",\"Jane\",\"Kent\",\"Brad\"], 300)"
   ]
  },
  {
   "cell_type": "code",
   "execution_count": null,
   "id": "8045bdec",
   "metadata": {},
   "outputs": [],
   "source": [
    "# 1. David\n",
    "[\"Bill\",\"Susan\",\"Jane\",\"Kent\",\"Brad\"]\n",
    "# 2. Jane"
   ]
  },
  {
   "cell_type": "code",
   "execution_count": 92,
   "id": "2d24f6b2",
   "metadata": {},
   "outputs": [
    {
     "data": {
      "text/plain": [
       "['Jane', 'Bill', 'Susan']"
      ]
     },
     "execution_count": 92,
     "metadata": {},
     "output_type": "execute_result"
    }
   ],
   "source": [
    "mylist = [\"Bill\", \"Susan\", \"Jane\"]\n",
    "mylist.insert(0, mylist.pop())\n",
    "mylist"
   ]
  },
  {
   "cell_type": "code",
   "execution_count": 120,
   "id": "3c9f98ed",
   "metadata": {},
   "outputs": [],
   "source": [
    "class Deque:\n",
    "    def __init__(self):\n",
    "        self.items = []\n",
    "\n",
    "    def isEmpty(self):\n",
    "        return self.items == []\n",
    "\n",
    "    def addFront(self, item):\n",
    "        self.items.append(item)\n",
    "\n",
    "    def addRear(self, item):\n",
    "        self.items.insert(0,item)\n",
    "\n",
    "    def removeFront(self):\n",
    "        return self.items.pop()\n",
    "\n",
    "    def removeRear(self):\n",
    "        return self.items.pop(0)\n",
    "\n",
    "    def size(self):\n",
    "        return len(self.items)"
   ]
  },
  {
   "cell_type": "code",
   "execution_count": null,
   "id": "1542c7a2",
   "metadata": {},
   "outputs": [],
   "source": [
    "# addRear dog, cat\n",
    "[dog, cat]\n",
    "# addFront 2, L\n",
    "[2, L]\n",
    "\n",
    "[dog, cat, 2, L]"
   ]
  },
  {
   "cell_type": "code",
   "execution_count": 124,
   "id": "2694e1cf",
   "metadata": {},
   "outputs": [
    {
     "data": {
      "text/plain": [
       "'0x5620350d67d0'"
      ]
     },
     "execution_count": 124,
     "metadata": {},
     "output_type": "execute_result"
    }
   ],
   "source": [
    "hex(id(Queue))"
   ]
  },
  {
   "cell_type": "code",
   "execution_count": 125,
   "id": "bd871cf5",
   "metadata": {},
   "outputs": [],
   "source": [
    "mylist = [1, 2, 3]"
   ]
  },
  {
   "cell_type": "code",
   "execution_count": 126,
   "id": "b4eba000",
   "metadata": {},
   "outputs": [
    {
     "data": {
      "text/plain": [
       "'0x7f38b6539340'"
      ]
     },
     "execution_count": 126,
     "metadata": {},
     "output_type": "execute_result"
    }
   ],
   "source": [
    "hex(id(mylist))"
   ]
  },
  {
   "cell_type": "code",
   "execution_count": 127,
   "id": "81f24acb",
   "metadata": {},
   "outputs": [
    {
     "data": {
      "text/plain": [
       "('0x7f38d957f930', '0x7f38d957f950', '0x7f38d957f970')"
      ]
     },
     "execution_count": 127,
     "metadata": {},
     "output_type": "execute_result"
    }
   ],
   "source": [
    "hex(id(mylist[0])), hex(id(mylist[1])), hex(id(mylist[2]))"
   ]
  },
  {
   "cell_type": "code",
   "execution_count": 154,
   "id": "b920bef9",
   "metadata": {},
   "outputs": [],
   "source": [
    "# Linked List\n",
    "\n",
    "class Node:\n",
    "    def __init__(self, data):\n",
    "        self.data = data\n",
    "        self.next = None"
   ]
  },
  {
   "cell_type": "code",
   "execution_count": 155,
   "id": "a7f53187",
   "metadata": {},
   "outputs": [],
   "source": [
    "node = Node(\"Dog\")"
   ]
  },
  {
   "cell_type": "code",
   "execution_count": 156,
   "id": "b42cffd8",
   "metadata": {},
   "outputs": [],
   "source": [
    "node.next = Node(\"Cat\")"
   ]
  },
  {
   "cell_type": "code",
   "execution_count": 157,
   "id": "e32da3c5",
   "metadata": {},
   "outputs": [],
   "source": [
    "node.next.next = Node(\"Mouse\")"
   ]
  },
  {
   "cell_type": "code",
   "execution_count": 161,
   "id": "684d99f6",
   "metadata": {},
   "outputs": [
    {
     "data": {
      "text/plain": [
       "'Mouse'"
      ]
     },
     "execution_count": 161,
     "metadata": {},
     "output_type": "execute_result"
    }
   ],
   "source": [
    "node.next.next.data"
   ]
  },
  {
   "cell_type": "code",
   "execution_count": 162,
   "id": "5ad4fe7b",
   "metadata": {},
   "outputs": [],
   "source": [
    "temp = node\n",
    "node = Node(\"Human\")\n",
    "node.next = temp  "
   ]
  },
  {
   "cell_type": "code",
   "execution_count": 169,
   "id": "2ca83fb5",
   "metadata": {},
   "outputs": [
    {
     "data": {
      "text/plain": [
       "'Mouse'"
      ]
     },
     "execution_count": 169,
     "metadata": {},
     "output_type": "execute_result"
    }
   ],
   "source": [
    "node.next.next.next.data"
   ]
  },
  {
   "cell_type": "code",
   "execution_count": 172,
   "id": "0091ef73",
   "metadata": {},
   "outputs": [],
   "source": [
    "while node.next is not None:\n",
    "    previous = node.next\n",
    "    node = previous"
   ]
  },
  {
   "cell_type": "code",
   "execution_count": 174,
   "id": "2885e55e",
   "metadata": {},
   "outputs": [
    {
     "data": {
      "text/plain": [
       "'Mouse'"
      ]
     },
     "execution_count": 174,
     "metadata": {},
     "output_type": "execute_result"
    }
   ],
   "source": [
    "node.data"
   ]
  },
  {
   "cell_type": "code",
   "execution_count": 191,
   "id": "9073879c",
   "metadata": {},
   "outputs": [],
   "source": [
    "class Node:\n",
    "    def __init__(self, initdata):\n",
    "        self.data = initdata\n",
    "        self.next = None\n",
    "\n",
    "    def getData(self):\n",
    "        return self.data\n",
    "\n",
    "    def getNext(self):\n",
    "        return self.next\n",
    "\n",
    "    def setData(self,newdata):\n",
    "        self.data = newdata\n",
    "\n",
    "    def setNext(self,newnext):\n",
    "        self.next = newnext\n",
    "\n",
    "\n",
    "class UnorderedList:\n",
    "\n",
    "    def __init__(self):\n",
    "        self.head = None\n",
    "\n",
    "    def isEmpty(self):\n",
    "        return self.head == None\n",
    "\n",
    "    def add(self,item):\n",
    "        temp = Node(item) # Node(\"Dog\")\n",
    "        temp.setNext(self.head) # Node(\"Dog\") -> Node(\"Head\") = None\n",
    "        self.head = temp # Node(\"cat) -> Node(\"Dog\") -> None\n",
    "\n",
    "    def size(self):\n",
    "        current = self.head\n",
    "        count = 0\n",
    "        while current != None:\n",
    "            count = count + 1\n",
    "            current = current.getNext()\n",
    "\n",
    "        return count\n",
    "\n",
    "    def search(self,item):\n",
    "        current = self.head\n",
    "        found = False\n",
    "        while current != None and not found:\n",
    "            if current.getData() == item:\n",
    "                found = True\n",
    "            else:\n",
    "                current = current.getNext()\n",
    "\n",
    "        return found\n",
    "\n",
    "    def remove(self,item):\n",
    "        current = self.head\n",
    "        previous = None\n",
    "        found = False\n",
    "        while current.next is not None and not found:\n",
    "            if current.getData() == item:\n",
    "                found = True\n",
    "            else:\n",
    "                previous = current\n",
    "                current = current.getNext()\n",
    "\n",
    "        if previous == None:\n",
    "            self.head = current.getNext()\n",
    "        else:\n",
    "            previous.setNext(current.getNext())\n",
    "\n",
    "mylist = UnorderedList()\n"
   ]
  },
  {
   "cell_type": "code",
   "execution_count": 197,
   "id": "0cd8f4f1",
   "metadata": {},
   "outputs": [],
   "source": [
    "mylist.add(53)\n",
    "mylist.add(28)\n",
    "mylist.add(40)\n",
    "mylist.add(79)"
   ]
  },
  {
   "cell_type": "code",
   "execution_count": 198,
   "id": "bb6ffaa1",
   "metadata": {},
   "outputs": [],
   "source": [
    "mylist.remove(81)"
   ]
  },
  {
   "cell_type": "code",
   "execution_count": null,
   "id": "bd91916b",
   "metadata": {},
   "outputs": [],
   "source": []
  }
 ],
 "metadata": {
  "kernelspec": {
   "display_name": "Python 3 (ipykernel)",
   "language": "python",
   "name": "python3"
  },
  "language_info": {
   "codemirror_mode": {
    "name": "ipython",
    "version": 3
   },
   "file_extension": ".py",
   "mimetype": "text/x-python",
   "name": "python",
   "nbconvert_exporter": "python",
   "pygments_lexer": "ipython3",
   "version": "3.9.12"
  }
 },
 "nbformat": 4,
 "nbformat_minor": 5
}
