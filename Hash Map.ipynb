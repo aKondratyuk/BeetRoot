{
 "cells": [
  {
   "cell_type": "code",
   "execution_count": 3,
   "id": "10e9792d",
   "metadata": {},
   "outputs": [
    {
     "data": {
      "text/plain": [
       "97"
      ]
     },
     "execution_count": 3,
     "metadata": {},
     "output_type": "execute_result"
    }
   ],
   "source": [
    "# \n",
    "ord(\"a\")"
   ]
  },
  {
   "cell_type": "code",
   "execution_count": 5,
   "id": "b06424e8",
   "metadata": {},
   "outputs": [],
   "source": [
    "items = [113 , 117 , 97 , 100 , 114 , 108 , 116 , 105 , 99]"
   ]
  },
  {
   "cell_type": "code",
   "execution_count": 12,
   "id": "9ca3cc66",
   "metadata": {},
   "outputs": [],
   "source": [
    "def hash(item, size):\n",
    "    return item % size"
   ]
  },
  {
   "cell_type": "code",
   "execution_count": 29,
   "id": "f42d1305",
   "metadata": {},
   "outputs": [
    {
     "data": {
      "text/plain": [
       "[3, 7, 9, 1, 4, 9, 6, 6, 0]"
      ]
     },
     "execution_count": 29,
     "metadata": {},
     "output_type": "execute_result"
    }
   ],
   "source": [
    "indexes = [hash(item, size=11) for item in items]\n",
    "indexes"
   ]
  },
  {
   "cell_type": "code",
   "execution_count": 21,
   "id": "944a6674",
   "metadata": {},
   "outputs": [
    {
     "data": {
      "text/plain": [
       "[3, 7, 9, 1, 4, 9, 6, 6, 0]"
      ]
     },
     "execution_count": 21,
     "metadata": {},
     "output_type": "execute_result"
    }
   ],
   "source": [
    "list(map(lambda item, size=11: hash(item, size), items))"
   ]
  },
  {
   "cell_type": "code",
   "execution_count": 23,
   "id": "b8ac6501",
   "metadata": {},
   "outputs": [],
   "source": [
    "slots = [None] * 11"
   ]
  },
  {
   "cell_type": "code",
   "execution_count": 24,
   "id": "cad68492",
   "metadata": {},
   "outputs": [
    {
     "data": {
      "text/plain": [
       "[None, None, None, None, None, None, None, None, None, None, None]"
      ]
     },
     "execution_count": 24,
     "metadata": {},
     "output_type": "execute_result"
    }
   ],
   "source": [
    "slots"
   ]
  },
  {
   "cell_type": "code",
   "execution_count": 34,
   "id": "7a694b06",
   "metadata": {},
   "outputs": [],
   "source": [
    "for item_indx, indx in enumerate(indexes):\n",
    "    slots[indx] = items[item_indx]"
   ]
  },
  {
   "cell_type": "code",
   "execution_count": 35,
   "id": "c9ba24aa",
   "metadata": {},
   "outputs": [
    {
     "data": {
      "text/plain": [
       "[99, 100, None, 113, 114, None, 105, 117, None, 108, None]"
      ]
     },
     "execution_count": 35,
     "metadata": {},
     "output_type": "execute_result"
    }
   ],
   "source": [
    "slots"
   ]
  },
  {
   "cell_type": "code",
   "execution_count": null,
   "id": "3e51e0e5",
   "metadata": {},
   "outputs": [],
   "source": [
    "99, 100, __, 113, 114, __, 116, 117, 105, 97, 108"
   ]
  },
  {
   "cell_type": "code",
   "execution_count": 41,
   "id": "ae085c2c",
   "metadata": {},
   "outputs": [],
   "source": [
    "# Є один нюанс! в стрічці for i in range(indx+1, len(slots)) щоб оминути цей нюанс необхідно викорасти while\\\n",
    "# Вдоскональ код\n",
    "slots = [None] * 11\n",
    "for item_indx, indx in enumerate(indexes):\n",
    "    if slots[indx] is None:\n",
    "        slots[indx] = items[item_indx]\n",
    "    else:\n",
    "        for i in range(indx+1, len(slots)):\n",
    "            if slots[i] is None:\n",
    "                slots[i] = items[item_indx]"
   ]
  },
  {
   "cell_type": "code",
   "execution_count": 42,
   "id": "c2e1447c",
   "metadata": {},
   "outputs": [
    {
     "data": {
      "text/plain": [
       "[99, 100, None, 113, 114, None, 116, 117, 105, 97, 108]"
      ]
     },
     "execution_count": 42,
     "metadata": {},
     "output_type": "execute_result"
    }
   ],
   "source": [
    "slots"
   ]
  },
  {
   "cell_type": "code",
   "execution_count": 46,
   "id": "d92787d5",
   "metadata": {},
   "outputs": [],
   "source": [
    "class HashTable:\n",
    "    def __init__(self):\n",
    "        self.size = 11\n",
    "        self.slots = [None] * self.size\n",
    "        self.data = [None] * self.size\n",
    "    \n",
    "    def put(self,key,data):\n",
    "        hashvalue = self.hashfunction(key, len(self.slots))\n",
    "\n",
    "        if self.slots[hashvalue] == None:\n",
    "            self.slots[hashvalue] = key\n",
    "            self.data[hashvalue] = data\n",
    "        else:\n",
    "            if self.slots[hashvalue] == key:\n",
    "                self.data[hashvalue] = data  #replace\n",
    "            else:\n",
    "                nextslot = self.rehash(hashvalue, len(self.slots))\n",
    "                while (self.slots[nextslot] != None) and (self.slots[nextslot] != key):\n",
    "                    nextslot = self.rehash(nextslot, len(self.slots))\n",
    "\n",
    "                if self.slots[nextslot] == None:\n",
    "                    self.slots[nextslot] = key\n",
    "                    self.data[nextslot] = data\n",
    "                else:\n",
    "                    self.data[nextslot] = data #replace\n",
    "\n",
    "    def hashfunction(self, key, size):\n",
    "         return key % size\n",
    "\n",
    "    def rehash(self, oldhash, size):\n",
    "        return (oldhash + 1) % size\n",
    "    \n",
    "    def get(self,key):\n",
    "        startslot = self.hashfunction(key,len(self.slots))\n",
    "\n",
    "        data = None\n",
    "        stop = False\n",
    "        found = False\n",
    "        position = startslot\n",
    "        while (self.slots[position] != None) and (not found and not stop):\n",
    "            if self.slots[position] == key:\n",
    "                found = True\n",
    "                data = self.data[position]\n",
    "            else:\n",
    "                position = self.rehash(position,len(self.slots))\n",
    "                if position == startslot:\n",
    "                    stop = True\n",
    "        return data\n",
    "\n",
    "    def __getitem__(self, key):\n",
    "        return self.get(key)\n",
    "\n",
    "    def __setitem__(self, key, data):\n",
    "        self.put(key, data)"
   ]
  },
  {
   "cell_type": "code",
   "execution_count": 44,
   "id": "b86a5ba0",
   "metadata": {},
   "outputs": [],
   "source": [
    "# Що означають __getitem__ та __setitem__:\n",
    "my_dict[\"key\"] # --> __getitem___\n",
    "my_dict[\"key\"] = \"new_value\" # --> __setitem__"
   ]
  },
  {
   "cell_type": "code",
   "execution_count": 47,
   "id": "e530e07e",
   "metadata": {},
   "outputs": [],
   "source": [
    "H = HashTable()"
   ]
  },
  {
   "cell_type": "code",
   "execution_count": 48,
   "id": "337b9a08",
   "metadata": {},
   "outputs": [
    {
     "data": {
      "text/plain": [
       "[77, 44, 55, 20, 26, 93, 17, None, None, 31, 54]"
      ]
     },
     "execution_count": 48,
     "metadata": {},
     "output_type": "execute_result"
    }
   ],
   "source": [
    "H[54]=\"cat\"\n",
    "H[26]=\"dog\"\n",
    "H[93]=\"lion\"\n",
    "H[17]=\"tiger\"\n",
    "H[77]=\"bird\"\n",
    "H[31]=\"cow\"\n",
    "H[44]=\"goat\"\n",
    "H[55]=\"pig\"\n",
    "H[20]=\"chicken\"\n",
    "H.slots"
   ]
  },
  {
   "cell_type": "code",
   "execution_count": 49,
   "id": "617d35e6",
   "metadata": {},
   "outputs": [
    {
     "data": {
      "text/plain": [
       "['bird',\n",
       " 'goat',\n",
       " 'pig',\n",
       " 'chicken',\n",
       " 'dog',\n",
       " 'lion',\n",
       " 'tiger',\n",
       " None,\n",
       " None,\n",
       " 'cow',\n",
       " 'cat']"
      ]
     },
     "execution_count": 49,
     "metadata": {},
     "output_type": "execute_result"
    }
   ],
   "source": [
    "H.data"
   ]
  },
  {
   "cell_type": "code",
   "execution_count": 51,
   "id": "84bc006f",
   "metadata": {},
   "outputs": [
    {
     "ename": "KeyboardInterrupt",
     "evalue": "",
     "output_type": "error",
     "traceback": [
      "\u001b[0;31m---------------------------------------------------------------------------\u001b[0m",
      "\u001b[0;31mKeyboardInterrupt\u001b[0m                         Traceback (most recent call last)",
      "Input \u001b[0;32mIn [51]\u001b[0m, in \u001b[0;36m<cell line: 1>\u001b[0;34m()\u001b[0m\n\u001b[0;32m----> 1\u001b[0m \u001b[38;5;241;43m54\u001b[39;49m\u001b[43m \u001b[49m\u001b[38;5;129;43;01min\u001b[39;49;00m\u001b[43m \u001b[49m\u001b[43mH\u001b[49m\n",
      "Input \u001b[0;32mIn [46]\u001b[0m, in \u001b[0;36mHashTable.__getitem__\u001b[0;34m(self, key)\u001b[0m\n\u001b[1;32m     50\u001b[0m \u001b[38;5;28;01mdef\u001b[39;00m \u001b[38;5;21m__getitem__\u001b[39m(\u001b[38;5;28mself\u001b[39m, key):\n\u001b[0;32m---> 51\u001b[0m     \u001b[38;5;28;01mreturn\u001b[39;00m \u001b[38;5;28;43mself\u001b[39;49m\u001b[38;5;241;43m.\u001b[39;49m\u001b[43mget\u001b[49m\u001b[43m(\u001b[49m\u001b[43mkey\u001b[49m\u001b[43m)\u001b[49m\n",
      "Input \u001b[0;32mIn [46]\u001b[0m, in \u001b[0;36mHashTable.get\u001b[0;34m(self, key)\u001b[0m\n\u001b[1;32m     43\u001b[0m     data \u001b[38;5;241m=\u001b[39m \u001b[38;5;28mself\u001b[39m\u001b[38;5;241m.\u001b[39mdata[position]\n\u001b[1;32m     44\u001b[0m \u001b[38;5;28;01melse\u001b[39;00m:\n\u001b[0;32m---> 45\u001b[0m     position \u001b[38;5;241m=\u001b[39m \u001b[38;5;28;43mself\u001b[39;49m\u001b[38;5;241;43m.\u001b[39;49m\u001b[43mrehash\u001b[49m\u001b[43m(\u001b[49m\u001b[43mposition\u001b[49m\u001b[43m,\u001b[49m\u001b[38;5;28;43mlen\u001b[39;49m\u001b[43m(\u001b[49m\u001b[38;5;28;43mself\u001b[39;49m\u001b[38;5;241;43m.\u001b[39;49m\u001b[43mslots\u001b[49m\u001b[43m)\u001b[49m\u001b[43m)\u001b[49m\n\u001b[1;32m     46\u001b[0m     \u001b[38;5;28;01mif\u001b[39;00m position \u001b[38;5;241m==\u001b[39m startslot:\n\u001b[1;32m     47\u001b[0m         stop \u001b[38;5;241m=\u001b[39m \u001b[38;5;28;01mTrue\u001b[39;00m\n",
      "\u001b[0;31mKeyboardInterrupt\u001b[0m: "
     ]
    }
   ],
   "source": [
    "54 in H"
   ]
  }
 ],
 "metadata": {
  "kernelspec": {
   "display_name": "Python 3 (ipykernel)",
   "language": "python",
   "name": "python3"
  },
  "language_info": {
   "codemirror_mode": {
    "name": "ipython",
    "version": 3
   },
   "file_extension": ".py",
   "mimetype": "text/x-python",
   "name": "python",
   "nbconvert_exporter": "python",
   "pygments_lexer": "ipython3",
   "version": "3.9.12"
  }
 },
 "nbformat": 4,
 "nbformat_minor": 5
}
