{
 "cells": [
  {
   "cell_type": "code",
   "execution_count": 1,
   "id": "ad95052e",
   "metadata": {},
   "outputs": [],
   "source": [
    "class Celsius:\n",
    "    def __init__(self, temperature: float):\n",
    "        self.temperature = temperature\n",
    "    \n",
    "    def to_farenheit(self):\n",
    "        return (self.temperature * 1.8) + 32\n",
    "    \n",
    "    def to_kelvin(self):\n",
    "        return self.temperature + 273.15"
   ]
  },
  {
   "cell_type": "code",
   "execution_count": 4,
   "id": "96ec0617",
   "metadata": {},
   "outputs": [
    {
     "name": "stdout",
     "output_type": "stream",
     "text": [
      "37\n",
      "98.60000000000001\n",
      "310.15\n"
     ]
    }
   ],
   "source": [
    "human = Celsius(36.6)\n",
    "\n",
    "human.temperature = 37\n",
    "\n",
    "print(human.temperature)\n",
    "print(human.to_farenheit())\n",
    "print(human.to_kelvin())"
   ]
  },
  {
   "cell_type": "code",
   "execution_count": 8,
   "id": "972c3124",
   "metadata": {},
   "outputs": [],
   "source": [
    "human.__dict__[\"temperature\"] = 38"
   ]
  },
  {
   "cell_type": "code",
   "execution_count": 9,
   "id": "bbfbc3f5",
   "metadata": {},
   "outputs": [
    {
     "data": {
      "text/plain": [
       "38"
      ]
     },
     "execution_count": 9,
     "metadata": {},
     "output_type": "execute_result"
    }
   ],
   "source": [
    "human.temperature"
   ]
  },
  {
   "cell_type": "code",
   "execution_count": 12,
   "id": "67c4cf96",
   "metadata": {},
   "outputs": [],
   "source": [
    "class Celsius:\n",
    "    def __init__(self, temperature: float):\n",
    "        self.set_temperature(temperature)\n",
    "        \n",
    "    # getter    \n",
    "    def get_temperature(self):\n",
    "        return self.__temperature\n",
    "    \n",
    "    # setter\n",
    "    def set_temperataure(self, temperature):\n",
    "        if temperature < -273.15:\n",
    "            raise ValueError(\"Temperature cannot be lower of absolute minimum!\")\n",
    "        self.__temperature = temperature\n",
    "    \n",
    "    def to_farenheit(self):\n",
    "        return (self.get_temperature() * 1.8) + 32\n",
    "    \n",
    "    def to_kelvin(self):\n",
    "        return self.get_temperature() + 273.15"
   ]
  },
  {
   "cell_type": "code",
   "execution_count": 22,
   "id": "53a28d88",
   "metadata": {},
   "outputs": [
    {
     "name": "stdout",
     "output_type": "stream",
     "text": [
      "37\n",
      "97.88000000000001\n",
      "309.75\n"
     ]
    }
   ],
   "source": [
    "human = Celsius(36.6)\n",
    "\n",
    "human.temperature = 37\n",
    "\n",
    "print(human.temperature)\n",
    "print(human.to_farenheit())\n",
    "print(human.to_kelvin())"
   ]
  },
  {
   "cell_type": "code",
   "execution_count": 23,
   "id": "bc90aeb1",
   "metadata": {},
   "outputs": [
    {
     "data": {
      "text/plain": [
       "{'_Celsius__temperature': 36.6, 'temperature': 37}"
      ]
     },
     "execution_count": 23,
     "metadata": {},
     "output_type": "execute_result"
    }
   ],
   "source": [
    "human.__dict__"
   ]
  },
  {
   "cell_type": "code",
   "execution_count": 24,
   "id": "6e4799db",
   "metadata": {},
   "outputs": [
    {
     "name": "stdout",
     "output_type": "stream",
     "text": [
      "36.6\n",
      "38\n"
     ]
    }
   ],
   "source": [
    "print(human.get_temperature())\n",
    "human.set_temperature(38)\n",
    "print(human.get_temperature())"
   ]
  },
  {
   "cell_type": "code",
   "execution_count": 25,
   "id": "99ac9a53",
   "metadata": {},
   "outputs": [
    {
     "ename": "ValueError",
     "evalue": "Temperature cannot be lower of absolute minimum!",
     "output_type": "error",
     "traceback": [
      "\u001b[0;31m---------------------------------------------------------------------------\u001b[0m",
      "\u001b[0;31mValueError\u001b[0m                                Traceback (most recent call last)",
      "Input \u001b[0;32mIn [25]\u001b[0m, in \u001b[0;36m<cell line: 1>\u001b[0;34m()\u001b[0m\n\u001b[0;32m----> 1\u001b[0m \u001b[43mhuman\u001b[49m\u001b[38;5;241;43m.\u001b[39;49m\u001b[43mset_temperature\u001b[49m\u001b[43m(\u001b[49m\u001b[38;5;241;43m-\u001b[39;49m\u001b[38;5;241;43m290\u001b[39;49m\u001b[43m)\u001b[49m\n",
      "Input \u001b[0;32mIn [12]\u001b[0m, in \u001b[0;36mCelsius.set_temperature\u001b[0;34m(self, temperature)\u001b[0m\n\u001b[1;32m     10\u001b[0m \u001b[38;5;28;01mdef\u001b[39;00m \u001b[38;5;21mset_temperature\u001b[39m(\u001b[38;5;28mself\u001b[39m, temperature):\n\u001b[1;32m     11\u001b[0m     \u001b[38;5;28;01mif\u001b[39;00m temperature \u001b[38;5;241m<\u001b[39m \u001b[38;5;241m-\u001b[39m\u001b[38;5;241m273.15\u001b[39m:\n\u001b[0;32m---> 12\u001b[0m         \u001b[38;5;28;01mraise\u001b[39;00m \u001b[38;5;167;01mValueError\u001b[39;00m(\u001b[38;5;124m\"\u001b[39m\u001b[38;5;124mTemperature cannot be lower of absolute minimum!\u001b[39m\u001b[38;5;124m\"\u001b[39m)\n\u001b[1;32m     13\u001b[0m     \u001b[38;5;28mself\u001b[39m\u001b[38;5;241m.\u001b[39m__temperature \u001b[38;5;241m=\u001b[39m temperature\n",
      "\u001b[0;31mValueError\u001b[0m: Temperature cannot be lower of absolute minimum!"
     ]
    }
   ],
   "source": [
    "human.set_temperature(-290)"
   ]
  },
  {
   "cell_type": "code",
   "execution_count": 28,
   "id": "ef1443af",
   "metadata": {},
   "outputs": [],
   "source": [
    "class Celsius:\n",
    "    def __init__(self, temperature: float):\n",
    "        self.set_temperature(temperature)\n",
    "        \n",
    "    # getter    \n",
    "    def get_temperature(self):\n",
    "        return self.__temperature\n",
    "    \n",
    "    # setter\n",
    "    def set_temperature(self, temperature):\n",
    "        if temperature < -273.15:\n",
    "            raise ValueError(\"Temperature cannot be lower of absolute minimum!\")\n",
    "        self.__temperature = temperature\n",
    "    \n",
    "    # property\n",
    "    temperature = property(get_temperature, set_temperature)\n",
    "    \n",
    "    def to_farenheit(self):\n",
    "        return (self.get_temperature() * 1.8) + 32\n",
    "    \n",
    "    def to_kelvin(self):\n",
    "        return self.get_temperature() + 273.15"
   ]
  },
  {
   "cell_type": "code",
   "execution_count": 29,
   "id": "cccf0080",
   "metadata": {},
   "outputs": [
    {
     "name": "stdout",
     "output_type": "stream",
     "text": [
      "36.6\n",
      "97.88000000000001\n",
      "309.75\n"
     ]
    }
   ],
   "source": [
    "human = Celsius(36.6)\n",
    "\n",
    "print(human.temperature)\n",
    "\n",
    "print(human.to_farenheit())\n",
    "print(human.to_kelvin())"
   ]
  },
  {
   "cell_type": "code",
   "execution_count": 30,
   "id": "6bcb47b0",
   "metadata": {},
   "outputs": [
    {
     "ename": "ValueError",
     "evalue": "Temperature cannot be lower of absolute minimum!",
     "output_type": "error",
     "traceback": [
      "\u001b[0;31m---------------------------------------------------------------------------\u001b[0m",
      "\u001b[0;31mValueError\u001b[0m                                Traceback (most recent call last)",
      "Input \u001b[0;32mIn [30]\u001b[0m, in \u001b[0;36m<cell line: 1>\u001b[0;34m()\u001b[0m\n\u001b[0;32m----> 1\u001b[0m human\u001b[38;5;241m.\u001b[39mtemperature \u001b[38;5;241m=\u001b[39m \u001b[38;5;241m-\u001b[39m\u001b[38;5;241m400\u001b[39m\n",
      "Input \u001b[0;32mIn [28]\u001b[0m, in \u001b[0;36mCelsius.set_temperature\u001b[0;34m(self, temperature)\u001b[0m\n\u001b[1;32m     10\u001b[0m \u001b[38;5;28;01mdef\u001b[39;00m \u001b[38;5;21mset_temperature\u001b[39m(\u001b[38;5;28mself\u001b[39m, temperature):\n\u001b[1;32m     11\u001b[0m     \u001b[38;5;28;01mif\u001b[39;00m temperature \u001b[38;5;241m<\u001b[39m \u001b[38;5;241m-\u001b[39m\u001b[38;5;241m273.15\u001b[39m:\n\u001b[0;32m---> 12\u001b[0m         \u001b[38;5;28;01mraise\u001b[39;00m \u001b[38;5;167;01mValueError\u001b[39;00m(\u001b[38;5;124m\"\u001b[39m\u001b[38;5;124mTemperature cannot be lower of absolute minimum!\u001b[39m\u001b[38;5;124m\"\u001b[39m)\n\u001b[1;32m     13\u001b[0m     \u001b[38;5;28mself\u001b[39m\u001b[38;5;241m.\u001b[39m__temperature \u001b[38;5;241m=\u001b[39m temperature\n",
      "\u001b[0;31mValueError\u001b[0m: Temperature cannot be lower of absolute minimum!"
     ]
    }
   ],
   "source": [
    "human.temperature = -400"
   ]
  },
  {
   "cell_type": "code",
   "execution_count": null,
   "id": "308f6a44",
   "metadata": {},
   "outputs": [],
   "source": [
    "property(fget=None, fset=None, fdel=None, doc=None) # doc = \"Temperature Atribute\""
   ]
  },
  {
   "cell_type": "code",
   "execution_count": 50,
   "id": "b7737fe2",
   "metadata": {},
   "outputs": [],
   "source": [
    "class Celsius:\n",
    "    def __init__(self, temperature: float):\n",
    "        self.temperature = temperature\n",
    "        \n",
    "    @property\n",
    "    def temperature(self):\n",
    "        print(\"Getting value\")\n",
    "        return self.__temperature\n",
    "    \n",
    "    @temperature.setter\n",
    "    def temperature(self, temperature):\n",
    "        print(\"Setting value\")\n",
    "        if temperature < -273.15:\n",
    "            raise ValueError(\"Temperature cannot be lower of absolute minimum!\")\n",
    "        self.__temperature = temperature\n",
    "    \n",
    "    @temperature.deleter\n",
    "    def temperature(self):\n",
    "        print(\"Deleting value\")\n",
    "        del self.__temperature\n",
    "    \n",
    "    def to_farenheit(self):\n",
    "        return round((self.temperature * 1.8) + 32, 2)\n",
    "    \n",
    "    def to_kelvin(self):\n",
    "        return self.temperature + 273.15"
   ]
  },
  {
   "cell_type": "code",
   "execution_count": 51,
   "id": "893c5365",
   "metadata": {},
   "outputs": [
    {
     "name": "stdout",
     "output_type": "stream",
     "text": [
      "Setting value\n",
      "Getting value\n",
      "36.6\n",
      "Getting value\n",
      "97.88\n",
      "Getting value\n",
      "309.75\n"
     ]
    }
   ],
   "source": [
    "human = Celsius(36.6)\n",
    "\n",
    "print(human.temperature)\n",
    "\n",
    "print(human.to_farenheit())\n",
    "print(human.to_kelvin())"
   ]
  },
  {
   "cell_type": "code",
   "execution_count": 52,
   "id": "2ee626f5",
   "metadata": {},
   "outputs": [
    {
     "name": "stdout",
     "output_type": "stream",
     "text": [
      "Deleting value\n"
     ]
    }
   ],
   "source": [
    "del human.temperature"
   ]
  },
  {
   "cell_type": "code",
   "execution_count": 53,
   "id": "74ad1e62",
   "metadata": {},
   "outputs": [
    {
     "data": {
      "text/plain": [
       "{}"
      ]
     },
     "execution_count": 53,
     "metadata": {},
     "output_type": "execute_result"
    }
   ],
   "source": [
    "human.__dict__"
   ]
  },
  {
   "cell_type": "code",
   "execution_count": 54,
   "id": "f10b1a73",
   "metadata": {},
   "outputs": [
    {
     "name": "stdout",
     "output_type": "stream",
     "text": [
      "Setting value\n"
     ]
    }
   ],
   "source": [
    "human.temperature = 38"
   ]
  },
  {
   "cell_type": "code",
   "execution_count": 55,
   "id": "1d6b830e",
   "metadata": {},
   "outputs": [
    {
     "name": "stdout",
     "output_type": "stream",
     "text": [
      "Getting value\n"
     ]
    },
    {
     "data": {
      "text/plain": [
       "38"
      ]
     },
     "execution_count": 55,
     "metadata": {},
     "output_type": "execute_result"
    }
   ],
   "source": [
    "human.temperature"
   ]
  },
  {
   "cell_type": "code",
   "execution_count": 57,
   "id": "85ba9b9d",
   "metadata": {},
   "outputs": [
    {
     "name": "stdout",
     "output_type": "stream",
     "text": [
      "Hello, Carl\n",
      "Carl\n",
      "Hello, John\n",
      "John\n"
     ]
    }
   ],
   "source": [
    "class Person:\n",
    "    def __init__(self, name):\n",
    "        self.name = name\n",
    "\n",
    "    @property\n",
    "    def name(self):\n",
    "        print(f\"Hello, {self._name}\")\n",
    "        return self._name\n",
    "    \n",
    "    @name.setter\n",
    "    def name(self, name):\n",
    "      \tself._name = name \n",
    "\n",
    "person_date = Person(\"Carl\")\n",
    "print(person_date.name)\n",
    "person_date.name = \"John\"\n",
    "print(person_date.name)"
   ]
  },
  {
   "cell_type": "code",
   "execution_count": 58,
   "id": "28d35378",
   "metadata": {},
   "outputs": [],
   "source": [
    "class Currency:\n",
    "    \n",
    "    def __init__(self, name, currency):\n",
    "        self.name = name\n",
    "        self.currency = currency\n",
    "    \n",
    "    @property    \n",
    "    def currency(self):\n",
    "        return self.__exchange_rate\n",
    "\n",
    "    @currency.setter\n",
    "    def currency(self, exchange_rate):\n",
    "        if exchange_rate <= 0:\n",
    "            raise ValueError(\"Exchange rate cannot be lower or equal to zero.\")\n",
    "        self.__exchange_rate = exchange_rate\n",
    "      \n",
    "    @currency.deleter\n",
    "    def currency(self):\n",
    "        del self.__exchange_rate"
   ]
  },
  {
   "cell_type": "code",
   "execution_count": 64,
   "id": "98bfcf60",
   "metadata": {},
   "outputs": [],
   "source": [
    "grivna = Currency(\"UAH\", 40)"
   ]
  },
  {
   "cell_type": "code",
   "execution_count": 62,
   "id": "68d04219",
   "metadata": {},
   "outputs": [
    {
     "data": {
      "text/plain": [
       "40"
      ]
     },
     "execution_count": 62,
     "metadata": {},
     "output_type": "execute_result"
    }
   ],
   "source": [
    "grivna.currency"
   ]
  },
  {
   "cell_type": "code",
   "execution_count": 67,
   "id": "83dbfeed",
   "metadata": {},
   "outputs": [],
   "source": [
    "# Порівнює введений бал із заданим і вказує, чи введений бал достатній. Заданий бал можна змінити тільки через сеттер? \n",
    "\n",
    "class PassingScore:\n",
    "    def __init__(self, score: int):\n",
    "        self.score = score\n",
    "    \n",
    "    @property\n",
    "    def score(self):\n",
    "        return self._score\n",
    "    \n",
    "    @score.setter\n",
    "    def score(self, score: int):\n",
    "        if score >= 50:\n",
    "            print(\"You passed exam!\")\n",
    "            self._score = score\n",
    "        else:\n",
    "            print(\"You didn't pass exam!\")\n",
    "            self._score = 0"
   ]
  },
  {
   "cell_type": "code",
   "execution_count": 68,
   "id": "e48e7522",
   "metadata": {},
   "outputs": [
    {
     "name": "stdout",
     "output_type": "stream",
     "text": [
      "You passed exam!\n"
     ]
    }
   ],
   "source": [
    "student = PassingScore(70)"
   ]
  },
  {
   "cell_type": "code",
   "execution_count": 69,
   "id": "b758011e",
   "metadata": {},
   "outputs": [
    {
     "data": {
      "text/plain": [
       "70"
      ]
     },
     "execution_count": 69,
     "metadata": {},
     "output_type": "execute_result"
    }
   ],
   "source": [
    "student.score"
   ]
  },
  {
   "cell_type": "code",
   "execution_count": 70,
   "id": "a635679d",
   "metadata": {},
   "outputs": [
    {
     "name": "stdout",
     "output_type": "stream",
     "text": [
      "You didn't pass exam!\n"
     ]
    },
    {
     "data": {
      "text/plain": [
       "0"
      ]
     },
     "execution_count": 70,
     "metadata": {},
     "output_type": "execute_result"
    }
   ],
   "source": [
    "student = PassingScore(40)\n",
    "student.score"
   ]
  },
  {
   "cell_type": "code",
   "execution_count": 111,
   "id": "ba3b1da7",
   "metadata": {},
   "outputs": [],
   "source": [
    "class Welding:\n",
    "    def __init__ (self, item_thickness:float, electrode_diameter:float):\n",
    "        self.electrode_diameter = electrode_diameter\n",
    "        self.item_thickness = item_thickness\n",
    "        self.current = 80\n",
    "\n",
    "    @property\n",
    "    def item_thickness(self):\n",
    "        print(f'\"Your material thickness is {self._item_thickness} mm')\n",
    "        return self._item_thickness\n",
    "    \n",
    "    @item_thickness.setter\n",
    "    def item_thickness(self, item_thickness):\n",
    "        self._item_thickness = item_thickness\n",
    "    \n",
    "    def electrode_diameter_compare(self):\n",
    "        if self.item_thickness < self.electrode_diameter:\n",
    "            print(f' Your diameter {self.electrode_diameter} mm is impropriate choice')\n",
    "        else:\n",
    "            print(f' Your diameter {self.electrode_diameter} mm  is good choice')\n",
    "     \n",
    "    @property\n",
    "    def current(self):\n",
    "        return self._current\n",
    "    \n",
    "    @current.setter\n",
    "    def current(self, current):\n",
    "        if current < 60:\n",
    "            raise ValueError(f\"Current {current} A cannot be lower than 70 A for such operation!\")\n",
    "        self.__current = current"
   ]
  },
  {
   "cell_type": "code",
   "execution_count": 112,
   "id": "a2abc7c8",
   "metadata": {},
   "outputs": [],
   "source": [
    "w = Welding(5, 3)"
   ]
  },
  {
   "cell_type": "code",
   "execution_count": 113,
   "id": "1a47b2d6",
   "metadata": {},
   "outputs": [
    {
     "name": "stdout",
     "output_type": "stream",
     "text": [
      "\"Your material thickness is 5 mm\n",
      " Your diameter 3 mm  is good choice\n"
     ]
    }
   ],
   "source": [
    "w.electrode_diameter_compare()"
   ]
  },
  {
   "cell_type": "code",
   "execution_count": 115,
   "id": "e8fd1013",
   "metadata": {},
   "outputs": [],
   "source": [
    "class Students:\n",
    "    def __init__(self, name, class_, sex):\n",
    "        self.name = name\n",
    "        self.class_ = class_\n",
    "        self.sex = sex\n",
    "\n",
    "    @property\n",
    "    def pupils(self):\t\n",
    "        return self.name, self.class_,  self.sex\n",
    "\n",
    "    @pupils.setter\n",
    "    def pupils(self, name, class_, sex):\n",
    "        if sex != \"man\":\n",
    "            raise ValueError('We have a school for only boys')\n",
    "        self.name = name\n",
    "        self.class_ = class_\n",
    "        self.sex = sex\n",
    "\n",
    "    @pupils.deleter\n",
    "    def pupils(self):\n",
    "        print('Deleting name')\n",
    "        del self._name\n",
    "        del self.class_\n",
    "        del self.sex\n",
    "\n",
    "    def __str__(self):\n",
    "        return f'Info: {self.name} {self.class_} {self.sex}'"
   ]
  },
  {
   "cell_type": "code",
   "execution_count": 116,
   "id": "aca9fda1",
   "metadata": {},
   "outputs": [],
   "source": [
    "std = Students(\"John\", 10, \"man\")"
   ]
  },
  {
   "cell_type": "code",
   "execution_count": 117,
   "id": "5d9377f1",
   "metadata": {},
   "outputs": [
    {
     "name": "stdout",
     "output_type": "stream",
     "text": [
      "Info: John 10 man\n"
     ]
    }
   ],
   "source": [
    "print(std)"
   ]
  },
  {
   "cell_type": "code",
   "execution_count": 120,
   "id": "1bdbc40a",
   "metadata": {},
   "outputs": [],
   "source": [
    "std.name = \"Steve\""
   ]
  },
  {
   "cell_type": "code",
   "execution_count": 123,
   "id": "70a436b8",
   "metadata": {},
   "outputs": [
    {
     "name": "stdout",
     "output_type": "stream",
     "text": [
      "Info: Steve 10 bear\n"
     ]
    }
   ],
   "source": [
    "print(std)"
   ]
  },
  {
   "cell_type": "code",
   "execution_count": 135,
   "id": "f40a5a3e",
   "metadata": {},
   "outputs": [
    {
     "name": "stdout",
     "output_type": "stream",
     "text": [
      "Anna\n"
     ]
    }
   ],
   "source": [
    "class Student:\n",
    "    def __init__(self, name):\n",
    "        self.name = name\n",
    "\n",
    "    @property\n",
    "    def name(self):\n",
    "        return self.__name\n",
    "\n",
    "    @name.setter\n",
    "    def name(self, value):\n",
    "        self.__name = value\n",
    "\n",
    "    @name.deleter\n",
    "    def name(self):\n",
    "        del self.__name\n",
    "\n",
    "\n",
    "s = Student(\"Anna\")\n",
    "#del s.name\n",
    "print(s.name)"
   ]
  },
  {
   "cell_type": "code",
   "execution_count": 132,
   "id": "94bf4053",
   "metadata": {},
   "outputs": [],
   "source": [
    "del s.name"
   ]
  },
  {
   "cell_type": "code",
   "execution_count": 133,
   "id": "098186e4",
   "metadata": {},
   "outputs": [
    {
     "data": {
      "text/plain": [
       "{}"
      ]
     },
     "execution_count": 133,
     "metadata": {},
     "output_type": "execute_result"
    }
   ],
   "source": [
    "s.__dict__"
   ]
  },
  {
   "cell_type": "code",
   "execution_count": 145,
   "id": "5297caff",
   "metadata": {},
   "outputs": [
    {
     "name": "stdout",
     "output_type": "stream",
     "text": [
      "Hello, Carl\n",
      "Carl\n",
      "Hello, John\n",
      "John\n"
     ]
    }
   ],
   "source": [
    "class Person:\n",
    "    def __init__(self, name):\n",
    "        self.name = name\n",
    "\n",
    "    @property\n",
    "    def name(self):\n",
    "        print(f\"Hello, {self._name}\")\n",
    "        return self._name\n",
    "    \n",
    "    @name.setter\n",
    "    def name(self, name):\n",
    "        self._name = name \n",
    "    \n",
    "    def talk_to(self, name):\n",
    "        print(f\"{self.name}: {name.title()} what is you hobby?\")\n",
    "    \n",
    "    @staticmethod\n",
    "    def scream():\n",
    "        print(\"Aaaaaaaaaahhhhhhhhhhhh\")\n",
    "        \n",
    "    @staticmethod    \n",
    "    def get_grade(score: int):\n",
    "        if score >= 90:\n",
    "            return \"A\"\n",
    "        \n",
    "        elif 80 < score < 90:\n",
    "            return \"B\"\n",
    "        \n",
    "        return \"D\"\n",
    "\n",
    "person_date = Person(\"Carl\")\n",
    "print(person_date.name)\n",
    "person_date.name = \"John\"\n",
    "print(person_date.name)"
   ]
  },
  {
   "cell_type": "code",
   "execution_count": 143,
   "id": "cc96e01e",
   "metadata": {},
   "outputs": [
    {
     "name": "stdout",
     "output_type": "stream",
     "text": [
      "Hello, John\n",
      "John: Smith what is you hobby?\n"
     ]
    }
   ],
   "source": [
    "person_date.talk_to(\"Smith\")"
   ]
  },
  {
   "cell_type": "code",
   "execution_count": 144,
   "id": "fd4786d3",
   "metadata": {},
   "outputs": [
    {
     "name": "stdout",
     "output_type": "stream",
     "text": [
      "Aaaaaaaaaahhhhhhhhhhhh\n"
     ]
    }
   ],
   "source": [
    "person_date.scream()"
   ]
  },
  {
   "cell_type": "code",
   "execution_count": 147,
   "id": "abfad78f",
   "metadata": {},
   "outputs": [
    {
     "data": {
      "text/plain": [
       "'B'"
      ]
     },
     "execution_count": 147,
     "metadata": {},
     "output_type": "execute_result"
    }
   ],
   "source": [
    "person_date.get_grade(81)"
   ]
  },
  {
   "cell_type": "code",
   "execution_count": 149,
   "id": "f9b3256c",
   "metadata": {},
   "outputs": [],
   "source": [
    "class Temperature:\n",
    "    \n",
    "    @staticmethod\n",
    "    def from_celscius_to_kelvin(celsius):\n",
    "        return celsius + 273.15"
   ]
  },
  {
   "cell_type": "code",
   "execution_count": 150,
   "id": "2e9fbf17",
   "metadata": {},
   "outputs": [
    {
     "data": {
      "text/plain": [
       "303.15"
      ]
     },
     "execution_count": 150,
     "metadata": {},
     "output_type": "execute_result"
    }
   ],
   "source": [
    "Temperature.from_celscius_to_kelvin(30)"
   ]
  },
  {
   "cell_type": "code",
   "execution_count": 152,
   "id": "54945f10",
   "metadata": {},
   "outputs": [
    {
     "data": {
      "text/plain": [
       "'A'"
      ]
     },
     "execution_count": 152,
     "metadata": {},
     "output_type": "execute_result"
    }
   ],
   "source": [
    "Person.get_grade(90)"
   ]
  },
  {
   "cell_type": "code",
   "execution_count": 173,
   "id": "9b9c383f",
   "metadata": {},
   "outputs": [],
   "source": [
    "from datetime import date\n",
    "\n",
    "class Person:\n",
    "    def __init__(self, name: str, age: int):\n",
    "        self.name = name\n",
    "        self.age = age\n",
    "    \n",
    "    @classmethod\n",
    "    def fromBirthYear(cls, name, birthYear):\n",
    "        return cls(name, date.today().year - birthYear)"
   ]
  },
  {
   "cell_type": "code",
   "execution_count": 163,
   "id": "c594c875",
   "metadata": {},
   "outputs": [],
   "source": [
    "person_1 = Person(\"John\", 30)"
   ]
  },
  {
   "cell_type": "code",
   "execution_count": 164,
   "id": "219d3a98",
   "metadata": {},
   "outputs": [],
   "source": [
    "person_2 = Person.fromBirthYear(\"Smith\", 1992)"
   ]
  },
  {
   "cell_type": "code",
   "execution_count": 171,
   "id": "ed5ca585",
   "metadata": {},
   "outputs": [
    {
     "data": {
      "text/plain": [
       "30"
      ]
     },
     "execution_count": 171,
     "metadata": {},
     "output_type": "execute_result"
    }
   ],
   "source": [
    "person_2.age"
   ]
  },
  {
   "cell_type": "code",
   "execution_count": 179,
   "id": "cef4e22f",
   "metadata": {},
   "outputs": [],
   "source": [
    "class UniqueIdentifier:\n",
    "    \n",
    "    id_ = 0\n",
    "    \n",
    "    def __init__(self, identifier: str):\n",
    "        self.identifier = identifier\n",
    "    \n",
    "    @classmethod\n",
    "    def create(cls):\n",
    "        instance = cls(cls.id_)\n",
    "        cls.id_ += 1\n",
    "        return instance"
   ]
  },
  {
   "cell_type": "code",
   "execution_count": 180,
   "id": "448ec8e5",
   "metadata": {},
   "outputs": [],
   "source": [
    "john = UniqueIdentifier.create()"
   ]
  },
  {
   "cell_type": "code",
   "execution_count": 185,
   "id": "ccecd22e",
   "metadata": {},
   "outputs": [
    {
     "name": "stdout",
     "output_type": "stream",
     "text": [
      "0\n",
      "1\n"
     ]
    }
   ],
   "source": [
    "print(john.name)\n",
    "print(john.id_)"
   ]
  },
  {
   "cell_type": "code",
   "execution_count": 186,
   "id": "05b83af7",
   "metadata": {},
   "outputs": [],
   "source": [
    "\"\"\"\n",
    "Створіть клас Fraction, який буде представляти всю базову арифметичну логіку для дробів (+, -, /, *) \n",
    "з належною перевіркою й обробкою помилок. Потрібно додати магічні методи для математичних операцій \n",
    "та операції порівняння між об'єктами класу Fraction\n",
    "\"\"\"\n",
    "\n",
    "def LCM(num1: int, num2: int):\n",
    "    if num1 > num2: # num1=2, num2=7\n",
    "        greater = num1\n",
    "    else:\n",
    "        greater = num2 # greater = num2 = 7\n",
    "\n",
    "    while True:\n",
    "        if (greater % num1 == 0) and (greater % num2 == 0): # (14 % 2) and (14 % 7) (0) and (0) = True\n",
    "            lcm = greater\n",
    "            break\n",
    "        greater += 1\n",
    "\n",
    "    return lcm"
   ]
  },
  {
   "cell_type": "code",
   "execution_count": 189,
   "id": "18e2bddc",
   "metadata": {},
   "outputs": [
    {
     "data": {
      "text/plain": [
       "8"
      ]
     },
     "execution_count": 189,
     "metadata": {},
     "output_type": "execute_result"
    }
   ],
   "source": [
    "LCM(2, 8)"
   ]
  },
  {
   "cell_type": "code",
   "execution_count": 330,
   "id": "87548256",
   "metadata": {},
   "outputs": [],
   "source": [
    "class NameDescriptor:\n",
    "    def __init__(self, key):\n",
    "        self.key = key\n",
    "        \n",
    "    def __get__(self, obj, objtype):\n",
    "        return getattr(obj, self.key)\n",
    "    \n",
    "    def __set__(self, obj, val):\n",
    "        setattr(obj, self.key, val.capitalize())"
   ]
  },
  {
   "cell_type": "code",
   "execution_count": 331,
   "id": "03918a65",
   "metadata": {},
   "outputs": [],
   "source": [
    "class User:\n",
    "    \n",
    "    first_name = NameDescriptor(\"_first_name\")\n",
    "    last_name = NameDescriptor(\"_last_name\")\n",
    "    \n",
    "    def __init__(self, first_name: str, last_name: str):\n",
    "        self.first_name = first_name\n",
    "        self.last_name = last_name"
   ]
  },
  {
   "cell_type": "code",
   "execution_count": 332,
   "id": "18bc090e",
   "metadata": {},
   "outputs": [
    {
     "data": {
      "text/plain": [
       "('Andrii', 'Kondratyuk')"
      ]
     },
     "execution_count": 332,
     "metadata": {},
     "output_type": "execute_result"
    }
   ],
   "source": [
    "user = User(\"andrii\", \"kondratyuk\")\n",
    "\n",
    "user.first_name, user.last_name"
   ]
  },
  {
   "cell_type": "code",
   "execution_count": 401,
   "id": "e4cb525f",
   "metadata": {},
   "outputs": [
    {
     "name": "stdout",
     "output_type": "stream",
     "text": [
      "John Smith\n",
      "Neo Smith\n"
     ]
    }
   ],
   "source": [
    "class Student:\n",
    "    def __init__(self, first_name: str, last_name: str):\n",
    "        self.first_name = first_name\n",
    "        self.last_name = last_name\n",
    "        self.full_name = first_name + \" \" + last_name\n",
    "        \n",
    "    @property\n",
    "    def full_name(self):\n",
    "        return self.first_name + \" \" + self.last_name\n",
    "    \n",
    "    @full_name.setter\n",
    "    def full_name(self, full_name):\n",
    "        self.first_name, self.last_name = full_name.split()\n",
    "        \n",
    "    def talk(self):\n",
    "        print(\"Hi, my full name\", self.full_name)\n",
    "        \n",
    "\n",
    "student_john = Student(\"John\", \"Smith\")\n",
    "print(student_john.full_name)\n",
    "# Change name\n",
    "student_john.first_name = \"Neo\"\n",
    "print(student_john.full_name)"
   ]
  },
  {
   "cell_type": "code",
   "execution_count": 402,
   "id": "0f365d39",
   "metadata": {},
   "outputs": [
    {
     "name": "stdout",
     "output_type": "stream",
     "text": [
      "Andrii Kondratyuk\n",
      "Andrii\n",
      "Kondratyuk\n"
     ]
    },
    {
     "data": {
      "text/plain": [
       "'David Kondratyuk'"
      ]
     },
     "execution_count": 402,
     "metadata": {},
     "output_type": "execute_result"
    }
   ],
   "source": [
    "student_john.full_name = \"Andrii Kondratyuk\"\n",
    "print(student_john.full_name)\n",
    "print(student_john.first_name)\n",
    "print(student_john.last_name)\n",
    "\n",
    "student_john.first_name = \"David\"\n",
    "student_john.full_name"
   ]
  },
  {
   "cell_type": "code",
   "execution_count": 303,
   "id": "99ede517",
   "metadata": {},
   "outputs": [],
   "source": [
    "\"\"\"\n",
    "Створіть клас Fraction, який буде представляти всю базову арифметичну логіку для дробів (+, -, /, *) \n",
    "з належною перевіркою й обробкою помилок. Потрібно додати магічні методи для математичних операцій \n",
    "та операції порівняння між об'єктами класу Fraction\n",
    "\"\"\"\n",
    "\n",
    "class Fraction:\n",
    "    def __init__(self, numerator: int, denominator: int):\n",
    "        self.numerator = numerator             \n",
    "        self.denominator = denominator\n",
    "    \n",
    "    @property\n",
    "    def denominator(self):\n",
    "        return self._denominator\n",
    "    \n",
    "    @denominator.setter\n",
    "    def denominator(self, denominator):\n",
    "        if denominator == 0:\n",
    "            raise ValueError(\"Denominator can't be zero!\")\n",
    "        \n",
    "        self._denominator = denominator\n",
    "    \n",
    "    @staticmethod\n",
    "    def LCM(num1: int, num2: int):\n",
    "        if num1 > num2:\n",
    "            greater = num1\n",
    "        else:\n",
    "            greater = num2\n",
    "\n",
    "        while True:\n",
    "            if (greater % num1 == 0) and (greater % num2 == 0):\n",
    "                lcm = greater\n",
    "                break\n",
    "            greater += 1\n",
    "\n",
    "        return lcm\n",
    "\n",
    "    def __add__(self, other):\n",
    "        lcm = LCM(self.denominator, other.denominator)\n",
    "        num1 = self.numerator * (lcm // self.denominator)\n",
    "        num2 = other.numerator * (lcm // other.denominator)\n",
    "        numerator = num1 + num2\n",
    "\n",
    "        return Fraction(numerator, lcm)\n",
    "    \n",
    "    def __sub__(self, other):\n",
    "        lcm = LCM(self.denominator, other.denominator)\n",
    "        num1 = self.numerator * (lcm // self.denominator)\n",
    "        num2 = other.numerator * (lcm // other.denominator)\n",
    "        numerator = num1 - num2\n",
    "\n",
    "        return Fraction(numerator, lcm)\n",
    "    \n",
    "    def __mul__(self, other):\n",
    "        numerator = self.numerator * other.numerator\n",
    "        denominator = self.denominator * other.denominator\n",
    "        \n",
    "        return Fraction(numerator, denominator)\n",
    "    \n",
    "    def __truediv__(self, other):\n",
    "        numerator = self.numerator * other.denominator\n",
    "        denominator = self.denominator * other.numerator\n",
    "        \n",
    "        return Fraction(numerator, denominator)\n",
    "    \n",
    "    def __eq__(self, other):\n",
    "        lcm = LCM(self.denominator, other.denominator)\n",
    "        num1 = self.numerator * (lcm // self.denominator)\n",
    "        num2 = other.numerator * (lcm // other.denominator)\n",
    "        \n",
    "        return num1 == num2\n",
    "    \n",
    "    def __lt__(self, other):\n",
    "        lcm = LCM(self.denominator, other.denominator)\n",
    "        num1 = self.numerator * (lcm // self.denominator)\n",
    "        num2 = other.numerator * (lcm // other.denominator)\n",
    "        \n",
    "        return num1 < num2\n",
    "    \n",
    "    def __le__(self, other):\n",
    "        lcm = LCM(self.denominator, other.denominator)\n",
    "        num1 = self.numerator * (lcm // self.denominator)\n",
    "        num2 = other.numerator * (lcm // other.denominator)\n",
    "        \n",
    "        return num1 <= num2\n",
    "    \n",
    "    def __float__(self):\n",
    "        return self.numerator / self.denominator\n",
    "        \n",
    "    def __repr__(self):\n",
    "        return f\"Fraction({self.numerator}, {self.denominator})\""
   ]
  },
  {
   "cell_type": "code",
   "execution_count": 305,
   "id": "282ea32e",
   "metadata": {},
   "outputs": [
    {
     "ename": "ValueError",
     "evalue": "Denominator can't be zero!",
     "output_type": "error",
     "traceback": [
      "\u001b[0;31m---------------------------------------------------------------------------\u001b[0m",
      "\u001b[0;31mValueError\u001b[0m                                Traceback (most recent call last)",
      "Input \u001b[0;32mIn [305]\u001b[0m, in \u001b[0;36m<cell line: 1>\u001b[0;34m()\u001b[0m\n\u001b[0;32m----> 1\u001b[0m k \u001b[38;5;241m=\u001b[39m \u001b[43mFraction\u001b[49m\u001b[43m(\u001b[49m\u001b[38;5;241;43m1\u001b[39;49m\u001b[43m,\u001b[49m\u001b[43m \u001b[49m\u001b[38;5;241;43m0\u001b[39;49m\u001b[43m)\u001b[49m\n",
      "Input \u001b[0;32mIn [303]\u001b[0m, in \u001b[0;36mFraction.__init__\u001b[0;34m(self, numerator, denominator)\u001b[0m\n\u001b[1;32m      8\u001b[0m \u001b[38;5;28;01mdef\u001b[39;00m \u001b[38;5;21m__init__\u001b[39m(\u001b[38;5;28mself\u001b[39m, numerator: \u001b[38;5;28mint\u001b[39m, denominator: \u001b[38;5;28mint\u001b[39m):\n\u001b[1;32m      9\u001b[0m     \u001b[38;5;28mself\u001b[39m\u001b[38;5;241m.\u001b[39mnumerator \u001b[38;5;241m=\u001b[39m numerator             \n\u001b[0;32m---> 10\u001b[0m     \u001b[38;5;28mself\u001b[39m\u001b[38;5;241m.\u001b[39mdenominator \u001b[38;5;241m=\u001b[39m denominator\n",
      "Input \u001b[0;32mIn [303]\u001b[0m, in \u001b[0;36mFraction.denominator\u001b[0;34m(self, denominator)\u001b[0m\n\u001b[1;32m     16\u001b[0m \u001b[38;5;129m@denominator\u001b[39m\u001b[38;5;241m.\u001b[39msetter\n\u001b[1;32m     17\u001b[0m \u001b[38;5;28;01mdef\u001b[39;00m \u001b[38;5;21mdenominator\u001b[39m(\u001b[38;5;28mself\u001b[39m, denominator):\n\u001b[1;32m     18\u001b[0m     \u001b[38;5;28;01mif\u001b[39;00m denominator \u001b[38;5;241m==\u001b[39m \u001b[38;5;241m0\u001b[39m:\n\u001b[0;32m---> 19\u001b[0m         \u001b[38;5;28;01mraise\u001b[39;00m \u001b[38;5;167;01mValueError\u001b[39;00m(\u001b[38;5;124m\"\u001b[39m\u001b[38;5;124mDenominator can\u001b[39m\u001b[38;5;124m'\u001b[39m\u001b[38;5;124mt be zero!\u001b[39m\u001b[38;5;124m\"\u001b[39m)\n\u001b[1;32m     21\u001b[0m     \u001b[38;5;28mself\u001b[39m\u001b[38;5;241m.\u001b[39m_denominator \u001b[38;5;241m=\u001b[39m denominator\n",
      "\u001b[0;31mValueError\u001b[0m: Denominator can't be zero!"
     ]
    }
   ],
   "source": [
    "k = Fraction(1, 0)"
   ]
  },
  {
   "cell_type": "code",
   "execution_count": 279,
   "id": "1161ae5c",
   "metadata": {},
   "outputs": [
    {
     "data": {
      "text/plain": [
       "True"
      ]
     },
     "execution_count": 279,
     "metadata": {},
     "output_type": "execute_result"
    }
   ],
   "source": [
    "Fraction(4, 7) <= Fraction(5, 6)"
   ]
  },
  {
   "cell_type": "code",
   "execution_count": 280,
   "id": "ce1f89d1",
   "metadata": {},
   "outputs": [
    {
     "data": {
      "text/plain": [
       "0.75"
      ]
     },
     "execution_count": 280,
     "metadata": {},
     "output_type": "execute_result"
    }
   ],
   "source": [
    "float(Fraction(3, 4))"
   ]
  },
  {
   "cell_type": "code",
   "execution_count": 244,
   "id": "7545f57c",
   "metadata": {},
   "outputs": [
    {
     "data": {
      "text/plain": [
       "42"
      ]
     },
     "execution_count": 244,
     "metadata": {},
     "output_type": "execute_result"
    }
   ],
   "source": [
    "Fraction.LCM(7, 6)"
   ]
  },
  {
   "cell_type": "code",
   "execution_count": 247,
   "id": "734ae136",
   "metadata": {},
   "outputs": [
    {
     "data": {
      "text/plain": [
       "(24, 35.0)"
      ]
     },
     "execution_count": 247,
     "metadata": {},
     "output_type": "execute_result"
    }
   ],
   "source": [
    "4*6, 5*(42/6)"
   ]
  },
  {
   "cell_type": "code",
   "execution_count": 256,
   "id": "9cd71491",
   "metadata": {},
   "outputs": [
    {
     "data": {
      "text/plain": [
       "True"
      ]
     },
     "execution_count": 256,
     "metadata": {},
     "output_type": "execute_result"
    }
   ],
   "source": [
    "x = Fraction(1, 2)\n",
    "y = Fraction(1, 4)\n",
    "x + y == Fraction(3, 4)"
   ]
  },
  {
   "cell_type": "code",
   "execution_count": 258,
   "id": "c93094c0",
   "metadata": {},
   "outputs": [
    {
     "data": {
      "text/plain": [
       "True"
      ]
     },
     "execution_count": 258,
     "metadata": {},
     "output_type": "execute_result"
    }
   ],
   "source": [
    "x > y"
   ]
  },
  {
   "cell_type": "code",
   "execution_count": 237,
   "id": "986f3702",
   "metadata": {},
   "outputs": [
    {
     "data": {
      "text/plain": [
       "Fraction(1, 4)"
      ]
     },
     "execution_count": 237,
     "metadata": {},
     "output_type": "execute_result"
    }
   ],
   "source": [
    "x - y"
   ]
  },
  {
   "cell_type": "code",
   "execution_count": 238,
   "id": "ab92c691",
   "metadata": {},
   "outputs": [
    {
     "data": {
      "text/plain": [
       "Fraction(1, 8)"
      ]
     },
     "execution_count": 238,
     "metadata": {},
     "output_type": "execute_result"
    }
   ],
   "source": [
    "x * y"
   ]
  },
  {
   "cell_type": "code",
   "execution_count": 239,
   "id": "1c8a5012",
   "metadata": {},
   "outputs": [
    {
     "data": {
      "text/plain": [
       "Fraction(4, 2)"
      ]
     },
     "execution_count": 239,
     "metadata": {},
     "output_type": "execute_result"
    }
   ],
   "source": [
    "x / y"
   ]
  },
  {
   "cell_type": "code",
   "execution_count": 242,
   "id": "de086477",
   "metadata": {},
   "outputs": [
    {
     "data": {
      "text/plain": [
       "True"
      ]
     },
     "execution_count": 242,
     "metadata": {},
     "output_type": "execute_result"
    }
   ],
   "source": [
    "Fraction(1, 2) == Fraction(4, 8)"
   ]
  }
 ],
 "metadata": {
  "kernelspec": {
   "display_name": "Python 3 (ipykernel)",
   "language": "python",
   "name": "python3"
  },
  "language_info": {
   "codemirror_mode": {
    "name": "ipython",
    "version": 3
   },
   "file_extension": ".py",
   "mimetype": "text/x-python",
   "name": "python",
   "nbconvert_exporter": "python",
   "pygments_lexer": "ipython3",
   "version": "3.9.12"
  }
 },
 "nbformat": 4,
 "nbformat_minor": 5
}
