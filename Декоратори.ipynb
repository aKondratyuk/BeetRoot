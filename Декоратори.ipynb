{
 "cells": [
  {
   "cell_type": "code",
   "execution_count": 1,
   "id": "3a938899",
   "metadata": {},
   "outputs": [
    {
     "name": "stdout",
     "output_type": "stream",
     "text": [
      "Hello\n"
     ]
    }
   ],
   "source": [
    "def hello():\n",
    "    print(\"Hello\")\n",
    "    \n",
    "# Function as object\n",
    "message = hello\n",
    "\n",
    "# call new function\n",
    "message()"
   ]
  },
  {
   "cell_type": "code",
   "execution_count": 2,
   "id": "91fc8331",
   "metadata": {},
   "outputs": [
    {
     "name": "stdout",
     "output_type": "stream",
     "text": [
      "Hello, Andrii!\n"
     ]
    }
   ],
   "source": [
    "# function_as_object <---- це те що ми можемо викликати, бо функція передається як об'єкт\n",
    "def hello(function_as_object):\n",
    "    def inner():\n",
    "        print(\"Hello, \", end=\"\")\n",
    "        function_as_object()\n",
    "    return inner\n",
    "\n",
    "def name():\n",
    "    print(\"John\")\n",
    "    \n",
    "def first_name():\n",
    "    print(\"Andrii!\")\n",
    "\n",
    "# Приклад фукнції як об'єкта\n",
    "obj = hello(first_name)\n",
    "obj() # <--- це вже як декоратор (прототип)"
   ]
  },
  {
   "cell_type": "code",
   "execution_count": 4,
   "id": "3340bfdd",
   "metadata": {},
   "outputs": [
    {
     "name": "stdout",
     "output_type": "stream",
     "text": [
      "Current user is: Andrii\n"
     ]
    }
   ],
   "source": [
    "def who():\n",
    "    return \"Andrii\"\n",
    "\n",
    "def display(func):\n",
    "    def inner():\n",
    "        current_user = func()\n",
    "        print(f\"Current user is: {current_user}\")\n",
    "    return inner\n",
    "\n",
    "if __name__ == \"__main__\":\n",
    "    myobj = display(who)\n",
    "    myobj()"
   ]
  },
  {
   "cell_type": "code",
   "execution_count": 10,
   "id": "79887bac",
   "metadata": {},
   "outputs": [
    {
     "name": "stdout",
     "output_type": "stream",
     "text": [
      "Hello, Andrii!\n"
     ]
    }
   ],
   "source": [
    "@hello\n",
    "def name():\n",
    "    print(\"Andrii!\")\n",
    "    \n",
    "name()"
   ]
  },
  {
   "cell_type": "code",
   "execution_count": 13,
   "id": "534fcf0f",
   "metadata": {},
   "outputs": [
    {
     "name": "stdout",
     "output_type": "stream",
     "text": [
      "8\n"
     ]
    }
   ],
   "source": [
    "def sum_ab(a, b):\n",
    "    summed = a + b\n",
    "    print(summed)\n",
    "\n",
    "sum_ab(5, 3)"
   ]
  },
  {
   "cell_type": "code",
   "execution_count": 12,
   "id": "d4d98d11",
   "metadata": {},
   "outputs": [],
   "source": [
    "def pretty_sum_ab(func):\n",
    "    def inner(a, b):\n",
    "        print(str(a) + \" + \" + str(b) + \" = \", end=\"\")\n",
    "        return func(a, b)\n",
    "    \n",
    "    return inner"
   ]
  },
  {
   "cell_type": "code",
   "execution_count": 14,
   "id": "46b21427",
   "metadata": {},
   "outputs": [
    {
     "name": "stdout",
     "output_type": "stream",
     "text": [
      "5 + 3 = 8\n"
     ]
    }
   ],
   "source": [
    "@pretty_sum_ab\n",
    "def sum_ab(a, b):\n",
    "    summed = a + b\n",
    "    print(summed)\n",
    "\n",
    "sum_ab(5, 3)"
   ]
  },
  {
   "cell_type": "code",
   "execution_count": 15,
   "id": "f4a5085c",
   "metadata": {},
   "outputs": [],
   "source": [
    "import time"
   ]
  },
  {
   "cell_type": "code",
   "execution_count": 37,
   "id": "c89902f3",
   "metadata": {},
   "outputs": [],
   "source": [
    "def measure_time(func):\n",
    "    \n",
    "    def wrapper(*args, **kwargs):\n",
    "        start_time = time.time()\n",
    "        res = func(*args, **kwargs)\n",
    "        finish_time = time.time()\n",
    "        delta = round(finish_time - start_time, 3)\n",
    "        print(\"Function took \" + str(delta) + \" seconds to run.\")\n",
    "        return res\n",
    "    \n",
    "    return wrapper"
   ]
  },
  {
   "cell_type": "code",
   "execution_count": 70,
   "id": "6e8465b3",
   "metadata": {},
   "outputs": [],
   "source": [
    "def measure_time(func):\n",
    "    \n",
    "    def wrapper(*args):\n",
    "        deltas = []\n",
    "        for i in range(10):\n",
    "            start_time = time.time()\n",
    "            res = func(*args)\n",
    "            finish_time = time.time()\n",
    "            delta = round(finish_time - start_time, 3)\n",
    "            deltas.append(delta)\n",
    "            \n",
    "        avg_delta = sum(deltas) / len(deltas)\n",
    "        print(\"Function took in avgerage \" + str(avg_delta) + \" seconds to run.\")\n",
    "        return res\n",
    "    \n",
    "    return wrapper"
   ]
  },
  {
   "cell_type": "code",
   "execution_count": 38,
   "id": "448d4a01",
   "metadata": {},
   "outputs": [
    {
     "name": "stdout",
     "output_type": "stream",
     "text": [
      "Function took 2.002 seconds to run.\n"
     ]
    }
   ],
   "source": [
    "@measure_time\n",
    "def wait2sec():\n",
    "    time.sleep(2)\n",
    "    \n",
    "wait2sec()"
   ]
  },
  {
   "cell_type": "code",
   "execution_count": 72,
   "id": "700a4e98",
   "metadata": {},
   "outputs": [
    {
     "name": "stdout",
     "output_type": "stream",
     "text": [
      "Function took in avgerage 0.6574 seconds to run.\n",
      "Function took in avgerage 0.5737 seconds to run.\n",
      "Function took in avgerage 0.6071 seconds to run.\n"
     ]
    }
   ],
   "source": [
    "numbers = range(1000000)\n",
    "\n",
    "@measure_time\n",
    "def cubic_for(numbers):\n",
    "    res = []\n",
    "    for num in numbers:\n",
    "        res.append(num**3)\n",
    "    return res\n",
    "\n",
    "res = cubic_for(numbers)\n",
    "\n",
    "@measure_time\n",
    "def cubic_list_comprehension(numbers):\n",
    "    return [num**3 for num in numbers]\n",
    "\n",
    "res = cubic_list_comprehension(numbers)\n",
    "\n",
    "@measure_time\n",
    "def cubic_map(numbers):\n",
    "    return list(map(lambda x: x**3, numbers))\n",
    "\n",
    "res = cubic_map(numbers)"
   ]
  },
  {
   "cell_type": "code",
   "execution_count": 63,
   "id": "2fc8bef8",
   "metadata": {},
   "outputs": [
    {
     "data": {
      "text/plain": [
       "10000000"
      ]
     },
     "execution_count": 63,
     "metadata": {},
     "output_type": "execute_result"
    }
   ],
   "source": []
  },
  {
   "cell_type": "code",
   "execution_count": 40,
   "id": "84577254",
   "metadata": {},
   "outputs": [
    {
     "name": "stdout",
     "output_type": "stream",
     "text": [
      "3\n"
     ]
    }
   ],
   "source": [
    "def abc():\n",
    "    x = 1\n",
    "    y = 2\n",
    "    k = 3\n",
    "    \n",
    "    print(x + y + k)\n",
    "\n",
    "print(abc.__code__.co_nlocals)"
   ]
  },
  {
   "cell_type": "code",
   "execution_count": 118,
   "id": "acdb5f47",
   "metadata": {},
   "outputs": [
    {
     "name": "stdout",
     "output_type": "stream",
     "text": [
      "There is  3 local variables in fucntion.\n",
      "6\n"
     ]
    }
   ],
   "source": [
    "def nlocals(func):\n",
    "    def wrapper(*args):\n",
    "        res = func(*args)\n",
    "        print(\"There is \", func.__code__.co_nlocals, \"local variables in fucntion.\")\n",
    "        return res\n",
    "    return wrapper\n",
    "\n",
    "@nlocals\n",
    "def abc():\n",
    "    x = 1\n",
    "    y = 2\n",
    "    k = 3\n",
    "    \n",
    "    return x + y + k\n",
    "    \n",
    "result = abc()\n",
    "print(result)"
   ]
  },
  {
   "cell_type": "code",
   "execution_count": 137,
   "id": "05c8153f",
   "metadata": {},
   "outputs": [],
   "source": [
    "USERS = {\"Andrii\": {\"id\": 1084244, \"nickname\": \"phenix\", \"access\": \"level_2\"}, \n",
    "         \"Olesya\": {\"id\": 1024242, \"nickname\": \"superstar\", \"access\": \"level_5\"}}\n",
    "\n",
    "def access_level(func):\n",
    "    \n",
    "    def wrapper(user):\n",
    "        _, access_level = USERS[user][\"access\"].split(\"_\")\n",
    "        if int(access_level) >= 5:\n",
    "            print(\"Hello, Illuminati\")\n",
    "            res = func(user)\n",
    "            return res\n",
    "        else:\n",
    "            print(\"You don't have enought access level\")\n",
    "    \n",
    "    return wrapper\n",
    "\n",
    "\n",
    "# def get_secret_information(user: str):\n",
    "#     if USERS.get(user):\n",
    "#         _, access_level = USERS[user][\"access\"].split(\"_\")\n",
    "#         if int(access_level) >= 5:\n",
    "#             return \"putin will die on 10.10.2022\"\n",
    "#         else:\n",
    "#             return \"You don't have enought access level\"\n",
    "\n",
    "@access_level\n",
    "def get_secret_information(user: str):\n",
    "    return \"putin will die on 10.10.2022\""
   ]
  },
  {
   "cell_type": "code",
   "execution_count": 138,
   "id": "8668f5a7",
   "metadata": {},
   "outputs": [
    {
     "name": "stdout",
     "output_type": "stream",
     "text": [
      "Hello, Illuminati\n"
     ]
    },
    {
     "data": {
      "text/plain": [
       "'putin will die on 10.10.2022'"
      ]
     },
     "execution_count": 138,
     "metadata": {},
     "output_type": "execute_result"
    }
   ],
   "source": [
    "get_secret_information(\"Olesya\")"
   ]
  },
  {
   "cell_type": "code",
   "execution_count": 139,
   "id": "0db59cc7",
   "metadata": {},
   "outputs": [],
   "source": [
    "def sum_x_y(x, y):\n",
    "    return x + y"
   ]
  },
  {
   "cell_type": "code",
   "execution_count": 142,
   "id": "124a6217",
   "metadata": {},
   "outputs": [
    {
     "data": {
      "text/plain": [
       "'sum_x_y'"
      ]
     },
     "execution_count": 142,
     "metadata": {},
     "output_type": "execute_result"
    }
   ],
   "source": [
    "sum_x_y.__name__ # <--- OKAY"
   ]
  },
  {
   "cell_type": "code",
   "execution_count": 143,
   "id": "9c10a45b",
   "metadata": {},
   "outputs": [
    {
     "data": {
      "text/plain": [
       "'wrapper'"
      ]
     },
     "execution_count": 143,
     "metadata": {},
     "output_type": "execute_result"
    }
   ],
   "source": [
    "get_secret_information.__name__ # <---- NOT OKAY"
   ]
  },
  {
   "cell_type": "code",
   "execution_count": 144,
   "id": "cede3262",
   "metadata": {},
   "outputs": [],
   "source": [
    "import functools\n",
    "\n",
    "def access_level(func):\n",
    "    \n",
    "    @functools.wraps(func)\n",
    "    def wrapper(user):\n",
    "        _, access_level = USERS[user][\"access\"].split(\"_\")\n",
    "        if int(access_level) >= 5:\n",
    "            print(\"Hello, Illuminati\")\n",
    "            res = func(user)\n",
    "            return res\n",
    "        else:\n",
    "            print(\"You don't have enought access level\")\n",
    "    \n",
    "    return wrapper"
   ]
  },
  {
   "cell_type": "code",
   "execution_count": 146,
   "id": "a6ad4b7f",
   "metadata": {},
   "outputs": [],
   "source": [
    "@access_level\n",
    "def get_secret_information(user: str):\n",
    "    return \"putin will die on 10.10.2022\""
   ]
  },
  {
   "cell_type": "code",
   "execution_count": 147,
   "id": "6552a2ca",
   "metadata": {},
   "outputs": [
    {
     "data": {
      "text/plain": [
       "'get_secret_information'"
      ]
     },
     "execution_count": 147,
     "metadata": {},
     "output_type": "execute_result"
    }
   ],
   "source": [
    "get_secret_information.__name__ # <---- OKAY"
   ]
  },
  {
   "cell_type": "code",
   "execution_count": 158,
   "id": "57b3dc08",
   "metadata": {},
   "outputs": [],
   "source": [
    "def debug(func):\n",
    "    \"\"\"Print the function signature and return value\"\"\"\n",
    "    @functools.wraps(func)\n",
    "    def wrapper_debug(*args, **kwargs):\n",
    "        args_repr = [repr(arg) for arg in args]\n",
    "        kwargs_repr = [f\"{key} = {value}\" for key, value in kwargs.items()]\n",
    "        signature = \", \".join(args_repr + kwargs_repr)\n",
    "        print(f\"Calling {func.__name__}({signature})\")\n",
    "        value = func(*args, **kwargs)\n",
    "        print(f\"{func.__name__} returned {value}\")\n",
    "        return value\n",
    "    \n",
    "    return wrapper_debug"
   ]
  },
  {
   "cell_type": "code",
   "execution_count": 162,
   "id": "93921e28",
   "metadata": {},
   "outputs": [
    {
     "name": "stdout",
     "output_type": "stream",
     "text": [
      "Calling wrapper(10, 5)\n",
      "Function took in avgerage 0.0 seconds to run.\n",
      "wrapper returned 15\n"
     ]
    },
    {
     "data": {
      "text/plain": [
       "15"
      ]
     },
     "execution_count": 162,
     "metadata": {},
     "output_type": "execute_result"
    }
   ],
   "source": [
    "@debug\n",
    "def sum_x_y(x, y):\n",
    "    return x + y\n",
    "\n",
    "sum_x_y(10, 5)\n",
    "\n",
    "@measure_time\n",
    "@debug\n",
    "def sum_x_y(x, y):\n",
    "    return x + y\n",
    "\n",
    "sum_x_y(10, 5)"
   ]
  },
  {
   "cell_type": "code",
   "execution_count": null,
   "id": "4e019ba2",
   "metadata": {},
   "outputs": [],
   "source": [
    "# func(user=\"Andrii\", age=24)\n",
    "# kwargs = {\"user\": \"Andrii\", \"age\": 24}\n",
    "# key, value in kwargs.items()\n",
    "\n",
    "# kwargs_repr = [(\"user\", \"Andrii\"), (\"age\", 24)]"
   ]
  },
  {
   "cell_type": "code",
   "execution_count": 172,
   "id": "5e1a3f99",
   "metadata": {},
   "outputs": [],
   "source": [
    "import time\n",
    "import signal\n",
    "\n",
    "\n",
    "class TimeoutException(Exception):\n",
    "    pass\n",
    "\n",
    "\n",
    "def break_after(seconds=5):\n",
    "    def timeout_handler(signum, frame):\n",
    "        raise TimeoutException\n",
    "    \n",
    "    def function(func):\n",
    "        def wrapper(*args, **kwargs):\n",
    "            signal.signal(signal.SIGALRM, timeout_handler)\n",
    "            signal.alarm(seconds)\n",
    "            try:\n",
    "                res = func(*args, **kwargs)\n",
    "                signal.alarm(0) # <--- Обнуляємо лічильник для подальших функцій\n",
    "                return res\n",
    "            except TimeoutException:\n",
    "                print(f\"{func.__name__} was executing more than {seconds}.\")\n",
    "            \n",
    "        return wrapper\n",
    "    return function"
   ]
  },
  {
   "cell_type": "code",
   "execution_count": 173,
   "id": "03c57909",
   "metadata": {},
   "outputs": [
    {
     "name": "stdout",
     "output_type": "stream",
     "text": [
      "wait_n_sec was executing more than 5.\n"
     ]
    }
   ],
   "source": [
    "@break_after(5)\n",
    "def wait_n_sec(seconds):\n",
    "    time.sleep(seconds)\n",
    "    \n",
    "wait_n_sec(6)"
   ]
  },
  {
   "cell_type": "code",
   "execution_count": 181,
   "id": "0a3d0b74",
   "metadata": {},
   "outputs": [],
   "source": [
    "def greeting(name):\n",
    "    def function(func):\n",
    "        def wrapper(*args, **kwargs):\n",
    "            print(f\"Hello, {name}\")\n",
    "            res = func(*args, **kwargs)\n",
    "            return res\n",
    "        return wrapper\n",
    "    return function\n",
    "            \n",
    "@greeting(\"Andrii\")\n",
    "def home():\n",
    "    print(\"Welcome to the home! ^_^\")\n",
    "    \n",
    "# 1. Декоратор спершу приймає аргументи які йому надали\n",
    "# 2. Декоратор приймає функцію яку буде обгортати\n",
    "# 3. Декоратор приймає аргументи функціїї, яку передали\n",
    "\n",
    "def first_name():\n",
    "    print(\"Andrew\")\n",
    "\n",
    "def hello(name):\n",
    "    def function(func):\n",
    "        def inner():\n",
    "            print(f\"Hello, {name} and \", end=\"\")\n",
    "            func()\n",
    "        return inner\n",
    "    return function\n",
    "\n",
    "obj = hello(\"John\")\n",
    "# obj = hello(\"Andrii\")(first_name)\n",
    "new_obj = obj(first_name)\n",
    "new_obj()"
   ]
  },
  {
   "cell_type": "code",
   "execution_count": 182,
   "id": "028cebbf",
   "metadata": {},
   "outputs": [
    {
     "name": "stdout",
     "output_type": "stream",
     "text": [
      "Hello, Andrii\n",
      "Welcome to the home! ^_^\n"
     ]
    }
   ],
   "source": [
    "home()"
   ]
  },
  {
   "cell_type": "code",
   "execution_count": 199,
   "id": "d7ee8755",
   "metadata": {},
   "outputs": [
    {
     "name": "stdout",
     "output_type": "stream",
     "text": [
      "СЛАВА УКРАЇНІ!\n"
     ]
    }
   ],
   "source": [
    "# PRACTICE\n",
    "\n",
    "def uppercase(func):\n",
    "    def wrapper(*args, **kwargs):\n",
    "        result = func(*args, **kwargs)\n",
    "        return result.upper()\n",
    "  \n",
    "    return wrapper\n",
    "\n",
    "@uppercase\n",
    "def ukraine_greeting():\n",
    "    return \"Слава Україні!\"\n",
    "\n",
    "print(ukraine_greeting())"
   ]
  },
  {
   "cell_type": "code",
   "execution_count": 205,
   "id": "db01926b",
   "metadata": {},
   "outputs": [
    {
     "name": "stdout",
     "output_type": "stream",
     "text": [
      "<b>Слава Україні!</b>\n"
     ]
    }
   ],
   "source": [
    "# <b>Hello</b> ----> Bold Text\n",
    "def make_bold(func):\n",
    "    def wrapper():\n",
    "        result = \"<b>\" + func() + \"</b>\"\n",
    "        return result\n",
    "    return wrapper\n",
    "\n",
    "@make_bold\n",
    "def ukraine_greeting():\n",
    "    return \"Слава Україні!\"\n",
    "\n",
    "# Слава Україні!  --->  <b>Слава Україні!</b>\n",
    "print(ukraine_greeting())"
   ]
  },
  {
   "cell_type": "code",
   "execution_count": 210,
   "id": "41da798e",
   "metadata": {},
   "outputs": [
    {
     "name": "stdout",
     "output_type": "stream",
     "text": [
      "слава україні!\n",
      "СЛАВА УКРАЇНІ!\n",
      "I don't know this bold method\n",
      "Слава Україні!\n"
     ]
    }
   ],
   "source": [
    "def transform_text(method):\n",
    "    def function(func):\n",
    "        @functools.wraps(func)\n",
    "        def wrapper():\n",
    "            res = func()\n",
    "            if method == \"uppercase\":\n",
    "                return res.upper()\n",
    "            elif method == \"lowercase\":\n",
    "                return res.lower()\n",
    "            else:\n",
    "                print(f\"I don't know this {method} method\")\n",
    "                return res\n",
    "        \n",
    "        return wrapper\n",
    "\n",
    "    return function\n",
    "\n",
    "\n",
    "@transform_text(\"lowercase\")\n",
    "def ukraine_greeting():\t\n",
    "    return \"Слава Україні!\"\n",
    "# Слава Україні!  --->  слава україні!\n",
    "print(ukraine_greeting())\n",
    "\n",
    "@transform_text(\"uppercase\")\n",
    "def ukraine_greeting():\t\n",
    "    return \"Слава Україні!\"\n",
    "# Слава Україні!  --->  СЛАВА УКРАЇНІ!\n",
    "print(ukraine_greeting())\n",
    "\n",
    "@transform_text(\"bold\")\n",
    "def ukraine_greeting():\t\n",
    "    return \"Слава Україні!\"\n",
    "# Слава Україні!  --->  СЛАВА УКРАЇНІ!\n",
    "print(ukraine_greeting())"
   ]
  }
 ],
 "metadata": {
  "kernelspec": {
   "display_name": "Python 3 (ipykernel)",
   "language": "python",
   "name": "python3"
  },
  "language_info": {
   "codemirror_mode": {
    "name": "ipython",
    "version": 3
   },
   "file_extension": ".py",
   "mimetype": "text/x-python",
   "name": "python",
   "nbconvert_exporter": "python",
   "pygments_lexer": "ipython3",
   "version": "3.9.12"
  }
 },
 "nbformat": 4,
 "nbformat_minor": 5
}
